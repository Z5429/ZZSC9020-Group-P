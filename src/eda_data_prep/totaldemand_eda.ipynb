{
 "cells": [
  {
   "cell_type": "markdown",
   "metadata": {},
   "source": [
    "## EDA of totaldemand dataset\n",
    "#### Modified: 2024-04-01"
   ]
  },
  {
   "cell_type": "markdown",
   "metadata": {},
   "source": [
    "#### Import libraries"
   ]
  },
  {
   "cell_type": "code",
   "execution_count": 1,
   "metadata": {},
   "outputs": [],
   "source": [
    "import pandas as pd\n",
    "from ydata_profiling import ProfileReport  # One-stop-shop for initial profile of a dataset\n",
    "\n",
    "import matplotlib\n",
    "matplotlib.use('Agg')\n",
    "import matplotlib.pyplot as plt\n",
    "import numpy as np\n",
    "import seaborn as sns"
   ]
  },
  {
   "cell_type": "markdown",
   "metadata": {},
   "source": [
    "#### Set variables (*filepath, input file name, etc.*)"
   ]
  },
  {
   "cell_type": "code",
   "execution_count": 8,
   "metadata": {},
   "outputs": [],
   "source": [
    "fpath = \"..\\\\..\\\\data\\\\all_raw_files\"\n",
    "fname_nsw_tdemand = \"totaldemand_nsw.csv\"\n",
    "fname_qld_tdemand = \"totaldemand_qld.csv\"\n",
    "fname_vic_tdemand = \"totaldemand_vic.csv\"\n",
    "fname_sa_tdemand = \"totaldemand_sa.csv\""
   ]
  },
  {
   "cell_type": "markdown",
   "metadata": {},
   "source": [
    "#### Function for reading data"
   ]
  },
  {
   "cell_type": "code",
   "execution_count": 4,
   "metadata": {},
   "outputs": [],
   "source": [
    "def read_data(datafile):\n",
    "    df_data = pd.read_csv(datafile, sep = ',')\n",
    "    #df_data.columns=[]\n",
    "    return df_data"
   ]
  },
  {
   "cell_type": "markdown",
   "metadata": {},
   "source": [
    "#### Function for initial data analysis and exploration"
   ]
  },
  {
   "cell_type": "code",
   "execution_count": null,
   "metadata": {},
   "outputs": [],
   "source": [
    "def initial_analysis(data_df):\n",
    "    # Get a quick overview of the dataset to compare some attributes to the supplied metadata\n",
    "    print('Dataset overview:\\n-----------------')\n",
    "    data_df.info()\n",
    "\n",
    "    # Get basic statistical details about the dataset\n",
    "    print('\\n')\n",
    "    print('Dataset summary statistics:\\n---------------------------')\n",
    "    print(data_df.describe())\n",
    "\n",
    "    # Ascertain missing values\n",
    "    print('\\n')\n",
    "    print('Missing values table:\\n---------------------')\n",
    "    null_values = data_df.isnull().sum()\n",
    "    percentage_null_values = (null_values/len(data_df))*100\n",
    "    print(pd.concat([null_values, percentage_null_values], axis=1, keys = ['Missing Count', 'Percent Missing']))\n",
    "\n",
    "    ### Determine distribution of each feature\n",
    "    # 1. distribution of 'sex'\n",
    "\n",
    "    # Set figure file name\n",
    "    figure_file_name = '1_distribution_sex.png'\n",
    "    sns.set()\n",
    "    plt.figure(figsize=(5,5))\n",
    "    sns.countplot(x=data_df.sex)\n",
    "    plt.savefig(figure_dir + figure_file_name)\n",
    "\n",
    "    # 2. distribution of target attribute 'rings'\n",
    "    # Set figure file name\n",
    "    figure_file_name = '2_distribution_rings.png'\n",
    "    plt.clf()\n",
    "    rows = 1\n",
    "    cols = 2\n",
    "    i = 0\n",
    "    plt.figure(figsize=(cols * 5, rows * 5))\n",
    "    i += 1\n",
    "    plt.subplot(rows, cols, i)\n",
    "    plt.xticks(range(0, 31, 4))\n",
    "    plt.xlim(0, 30)\n",
    "    sns.histplot(data=data_df, x=\"rings\", kde=True)\n",
    "    i += 1  \n",
    "    plt.subplot(rows, cols, i)\n",
    "    plt.xticks(range(0, 31, 4))\n",
    "    plt.xlim(0, 30)\n",
    "    sns.boxplot(data=data_df, x=\"rings\", y=\"sex\")\n",
    "    plt.savefig(figure_dir + figure_file_name)\n",
    "\n",
    "    # 3. distribution of 'size' attributes: 'length', 'diameter', 'height'\n",
    "    # Set figure file name\n",
    "    figure_file_name = '3_distribution_size.png'\n",
    "    plt.clf()\n",
    "    rows = 2\n",
    "    cols = 3\n",
    "    i = 0\n",
    "    plt.figure(figsize=(cols * 5, rows * 5))\n",
    "    colours = sns.color_palette()\n",
    "    i += 1\n",
    "    plt.subplot(rows, cols, i)\n",
    "    sns.histplot(data=data_df, x=\"length\", kde=True, color=colours[i % cols])\n",
    "    i += 1  \n",
    "    plt.subplot(rows, cols, i)\n",
    "    sns.histplot(data=data_df, x=\"diameter\", kde=True, color=colours[i % cols])\n",
    "    i += 1  \n",
    "    plt.subplot(rows, cols, i)\n",
    "    sns.histplot(data=data_df, x=\"height\", kde=True, color=colours[i % cols])\n",
    "    i += 1  \n",
    "    plt.subplot(rows, cols, i)\n",
    "    sns.boxplot(data=data_df, x=\"length\", y=\"sex\", color=colours[i % cols])\n",
    "    i += 1  \n",
    "    plt.subplot(rows, cols, i)\n",
    "    sns.boxplot(data=data_df, x=\"diameter\", y=\"sex\", color=colours[i % cols])\n",
    "    i += 1  \n",
    "    plt.subplot(rows, cols, i)\n",
    "    sns.boxplot(data=data_df, x=\"height\", y=\"sex\", color=colours[i % cols])\n",
    "    plt.savefig(figure_dir + figure_file_name)\n",
    "\n",
    "    # 4. distribution of 'weight' attributes: 'whole_w', 'shucked_w', 'viscera_w', 'shell_w'\n",
    "    # Set figure file name\n",
    "    figure_file_name = '4_distribution_weight.png'\n",
    "    plt.clf()\n",
    "    rows = 2\n",
    "    cols = 4\n",
    "    i = 0\n",
    "    plt.figure(figsize=(cols * 5, rows * 5))\n",
    "    colours = sns.color_palette()\n",
    "    i += 1\n",
    "    plt.subplot(rows, cols, i)\n",
    "    sns.histplot(data=data_df, x=\"whole_w\", kde=True, color=colours[i % cols])\n",
    "    i += 1  \n",
    "    plt.subplot(rows, cols, i)\n",
    "    sns.histplot(data=data_df, x=\"shucked_w\", kde=True, color=colours[i % cols])\n",
    "    i += 1  \n",
    "    plt.subplot(rows, cols, i)\n",
    "    sns.histplot(data=data_df, x=\"viscera_w\", kde=True, color=colours[i % cols])\n",
    "    i += 1  \n",
    "    plt.subplot(rows, cols, i)\n",
    "    sns.histplot(data=data_df, x=\"shell_w\", kde=True, color=colours[i % cols])\n",
    "    i += 1  \n",
    "    plt.subplot(rows, cols, i)\n",
    "    sns.boxplot(data=data_df, x=\"whole_w\", y=\"sex\",color=colours[i % cols])\n",
    "    i += 1  \n",
    "    plt.subplot(rows, cols, i)\n",
    "    sns.boxplot(data=data_df, x=\"shucked_w\", y=\"sex\", color=colours[i % cols])\n",
    "    i += 1  \n",
    "    plt.subplot(rows, cols, i)\n",
    "    sns.boxplot(data=data_df, x=\"viscera_w\", y=\"sex\", color=colours[i % cols])\n",
    "    i += 1  \n",
    "    plt.subplot(rows, cols, i)\n",
    "    sns.boxplot(data=data_df, x=\"shell_w\", y=\"sex\", color=colours[i % cols])\n",
    "    plt.savefig(figure_dir + figure_file_name)\n",
    "\n",
    "    ## Visualise the correlation matrix for numeric attributes\n",
    "    # Set figure file name\n",
    "    figure_file_name = '5_corr_map_heatmap.png'\n",
    "    plt.clf()\n",
    "    # Remove categorical feature before creating correlation matrix\n",
    "    data_numeric_df = data_df.drop(['sex'], axis=1)\n",
    "\n",
    "    sns.heatmap(data_numeric_df.corr(), cmap=\"GnBu\", annot=True)\n",
    "    plt.savefig(figure_dir + figure_file_name)"
   ]
  },
  {
   "cell_type": "markdown",
   "metadata": {},
   "source": [
    "### Analysis"
   ]
  },
  {
   "cell_type": "code",
   "execution_count": 10,
   "metadata": {},
   "outputs": [],
   "source": [
    "# Read file\n",
    "df_nsw_tdemand = read_data(f'{fpath}\\{fname_nsw_tdemand}')\n",
    "df_qld_tdemand = read_data(f'{fpath}\\{fname_qld_tdemand}')\n",
    "df_vic_tdemand = read_data(f'{fpath}\\{fname_vic_tdemand}')\n",
    "df_sa_tdemand = read_data(f'{fpath}\\{fname_sa_tdemand}')"
   ]
  },
  {
   "cell_type": "markdown",
   "metadata": {},
   "source": [
    "#### Generate Data Profile Report (*using ydata_profiler*)"
   ]
  },
  {
   "cell_type": "code",
   "execution_count": 11,
   "metadata": {},
   "outputs": [],
   "source": [
    "profile_nsw_tdemand = ProfileReport(df_nsw_tdemand, title=\"Total Demand NSW Data Profile\")\n",
    "profile_qld_tdemand = ProfileReport(df_qld_tdemand, title=\"Total Demand QLD Data Profile\")\n",
    "profile_vic_tdemand = ProfileReport(df_vic_tdemand, title=\"Total Demand VIC Data Profile\")\n",
    "profile_sa_tdemand = ProfileReport(df_sa_tdemand, title=\"Total Demand SA Data Profile\")"
   ]
  },
  {
   "cell_type": "markdown",
   "metadata": {},
   "source": [
    "#### Output Data Profile Report to Widgets"
   ]
  },
  {
   "cell_type": "code",
   "execution_count": 7,
   "metadata": {},
   "outputs": [
    {
     "data": {
      "application/vnd.jupyter.widget-view+json": {
       "model_id": "23880d33d4764e718b77839772705501",
       "version_major": 2,
       "version_minor": 0
      },
      "text/plain": [
       "Summarize dataset:   0%|          | 0/5 [00:00<?, ?it/s]"
      ]
     },
     "metadata": {},
     "output_type": "display_data"
    },
    {
     "data": {
      "application/vnd.jupyter.widget-view+json": {
       "model_id": "6e37f217a98f44b39e079d4c673a11e5",
       "version_major": 2,
       "version_minor": 0
      },
      "text/plain": [
       "Generate report structure:   0%|          | 0/1 [00:00<?, ?it/s]"
      ]
     },
     "metadata": {},
     "output_type": "display_data"
    },
    {
     "data": {
      "application/vnd.jupyter.widget-view+json": {
       "model_id": "88ba2e092b1d498d939fd6bbf10540ba",
       "version_major": 2,
       "version_minor": 0
      },
      "text/plain": [
       "Render widgets:   0%|          | 0/1 [00:00<?, ?it/s]"
      ]
     },
     "metadata": {},
     "output_type": "display_data"
    },
    {
     "data": {
      "application/vnd.jupyter.widget-view+json": {
       "model_id": "16a5ffbe2833400191c3da735b05097a",
       "version_major": 2,
       "version_minor": 0
      },
      "text/plain": [
       "VBox(children=(Tab(children=(Tab(children=(GridBox(children=(VBox(children=(GridspecLayout(children=(HTML(valu…"
      ]
     },
     "metadata": {},
     "output_type": "display_data"
    }
   ],
   "source": [
    "profile_nsw_tdemand.to_widgets()"
   ]
  },
  {
   "cell_type": "code",
   "execution_count": 12,
   "metadata": {},
   "outputs": [
    {
     "data": {
      "application/vnd.jupyter.widget-view+json": {
       "model_id": "64ad366e4dcc43dea88409c3f7edd33d",
       "version_major": 2,
       "version_minor": 0
      },
      "text/plain": [
       "Summarize dataset:   0%|          | 0/5 [00:00<?, ?it/s]"
      ]
     },
     "metadata": {},
     "output_type": "display_data"
    },
    {
     "data": {
      "application/vnd.jupyter.widget-view+json": {
       "model_id": "a18cf80c1f6c44ca92c974870e8c444b",
       "version_major": 2,
       "version_minor": 0
      },
      "text/plain": [
       "Generate report structure:   0%|          | 0/1 [00:00<?, ?it/s]"
      ]
     },
     "metadata": {},
     "output_type": "display_data"
    },
    {
     "data": {
      "application/vnd.jupyter.widget-view+json": {
       "model_id": "a2fb3e44b47c44449e04e75e42b1a48e",
       "version_major": 2,
       "version_minor": 0
      },
      "text/plain": [
       "Render widgets:   0%|          | 0/1 [00:00<?, ?it/s]"
      ]
     },
     "metadata": {},
     "output_type": "display_data"
    },
    {
     "data": {
      "application/vnd.jupyter.widget-view+json": {
       "model_id": "1f5fca89685246c1ae8fd04c9d092276",
       "version_major": 2,
       "version_minor": 0
      },
      "text/plain": [
       "VBox(children=(Tab(children=(Tab(children=(GridBox(children=(VBox(children=(GridspecLayout(children=(HTML(valu…"
      ]
     },
     "metadata": {},
     "output_type": "display_data"
    }
   ],
   "source": [
    "profile_qld_tdemand.to_widgets()"
   ]
  },
  {
   "cell_type": "code",
   "execution_count": 13,
   "metadata": {},
   "outputs": [
    {
     "data": {
      "application/vnd.jupyter.widget-view+json": {
       "model_id": "98e3e25f9db748c4bad21015781dd1e4",
       "version_major": 2,
       "version_minor": 0
      },
      "text/plain": [
       "Summarize dataset:   0%|          | 0/5 [00:00<?, ?it/s]"
      ]
     },
     "metadata": {},
     "output_type": "display_data"
    },
    {
     "data": {
      "application/vnd.jupyter.widget-view+json": {
       "model_id": "fe4113dde66b4dd1a04ebe0dc9532179",
       "version_major": 2,
       "version_minor": 0
      },
      "text/plain": [
       "Generate report structure:   0%|          | 0/1 [00:00<?, ?it/s]"
      ]
     },
     "metadata": {},
     "output_type": "display_data"
    },
    {
     "data": {
      "application/vnd.jupyter.widget-view+json": {
       "model_id": "3ff805d940a44935b5377a21a96c84b7",
       "version_major": 2,
       "version_minor": 0
      },
      "text/plain": [
       "Render widgets:   0%|          | 0/1 [00:00<?, ?it/s]"
      ]
     },
     "metadata": {},
     "output_type": "display_data"
    },
    {
     "data": {
      "application/vnd.jupyter.widget-view+json": {
       "model_id": "b43ca66689844f62bcfa12205213aafa",
       "version_major": 2,
       "version_minor": 0
      },
      "text/plain": [
       "VBox(children=(Tab(children=(Tab(children=(GridBox(children=(VBox(children=(GridspecLayout(children=(HTML(valu…"
      ]
     },
     "metadata": {},
     "output_type": "display_data"
    }
   ],
   "source": [
    "profile_vic_tdemand.to_widgets()"
   ]
  },
  {
   "cell_type": "code",
   "execution_count": 14,
   "metadata": {},
   "outputs": [
    {
     "data": {
      "application/vnd.jupyter.widget-view+json": {
       "model_id": "f1a3bb26b4964b60a42bc79e3741f292",
       "version_major": 2,
       "version_minor": 0
      },
      "text/plain": [
       "Summarize dataset:   0%|          | 0/5 [00:00<?, ?it/s]"
      ]
     },
     "metadata": {},
     "output_type": "display_data"
    },
    {
     "data": {
      "application/vnd.jupyter.widget-view+json": {
       "model_id": "03ccf077fd874c8087b4e6b856957e5e",
       "version_major": 2,
       "version_minor": 0
      },
      "text/plain": [
       "Generate report structure:   0%|          | 0/1 [00:00<?, ?it/s]"
      ]
     },
     "metadata": {},
     "output_type": "display_data"
    },
    {
     "data": {
      "application/vnd.jupyter.widget-view+json": {
       "model_id": "d28d38dc1bce40cd937e69e516aee739",
       "version_major": 2,
       "version_minor": 0
      },
      "text/plain": [
       "Render widgets:   0%|          | 0/1 [00:00<?, ?it/s]"
      ]
     },
     "metadata": {},
     "output_type": "display_data"
    },
    {
     "data": {
      "application/vnd.jupyter.widget-view+json": {
       "model_id": "696d476e1f16489d8a97669bf96d81b6",
       "version_major": 2,
       "version_minor": 0
      },
      "text/plain": [
       "VBox(children=(Tab(children=(Tab(children=(GridBox(children=(VBox(children=(GridspecLayout(children=(HTML(valu…"
      ]
     },
     "metadata": {},
     "output_type": "display_data"
    }
   ],
   "source": [
    "profile_sa_tdemand.to_widgets()"
   ]
  },
  {
   "cell_type": "code",
   "execution_count": 17,
   "metadata": {},
   "outputs": [
    {
     "data": {
      "text/plain": [
       "DATETIME        object\n",
       "TOTALDEMAND    float64\n",
       "REGIONID        object\n",
       "dtype: object"
      ]
     },
     "execution_count": 17,
     "metadata": {},
     "output_type": "execute_result"
    }
   ],
   "source": [
    "df_nsw_tdemand[]"
   ]
  },
  {
   "cell_type": "code",
   "execution_count": 21,
   "metadata": {},
   "outputs": [],
   "source": [
    "df_nsw_tdemand['DATETIME'] = pd.to_datetime(df_nsw_tdemand['DATETIME'],format='%d/%m/%Y %H:%M')"
   ]
  },
  {
   "cell_type": "code",
   "execution_count": 28,
   "metadata": {},
   "outputs": [],
   "source": [
    "df = df_nsw_tdemand.loc[(df_nsw_tdemand['DATETIME'] < pd.to_datetime('2022-01-01 00:00:00')) & (df_nsw_tdemand['DATETIME'] >= pd.to_datetime('2021-01-01 00:00:00'))].sort_values('DATETIME', ascending=True)"
   ]
  },
  {
   "cell_type": "code",
   "execution_count": 33,
   "metadata": {},
   "outputs": [],
   "source": [
    "plt.figure(figsize=(10, 6))\n",
    "plt.plot(df['DATETIME'], df['TOTALDEMAND'], marker='o', linestyle='-', color='b')\n",
    "plt.xlabel('DateTime')\n",
    "plt.ylabel('TotalDemand NSW')\n",
    "plt.title('Time Series Plot')\n",
    "plt.savefig('total_demand_nsw.png')"
   ]
  }
 ],
 "metadata": {
  "kernelspec": {
   "display_name": "Python 3",
   "language": "python",
   "name": "python3"
  },
  "language_info": {
   "codemirror_mode": {
    "name": "ipython",
    "version": 3
   },
   "file_extension": ".py",
   "mimetype": "text/x-python",
   "name": "python",
   "nbconvert_exporter": "python",
   "pygments_lexer": "ipython3",
   "version": "3.10.11"
  }
 },
 "nbformat": 4,
 "nbformat_minor": 2
}
