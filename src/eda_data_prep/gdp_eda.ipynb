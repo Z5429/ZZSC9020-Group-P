{
 "cells": [
  {
   "cell_type": "code",
   "execution_count": 1,
   "metadata": {},
   "outputs": [],
   "source": [
    "#import zipfile # In case we wish to read the compressed file\n",
    "import pandas as pd\n",
    "from ydata_profiling import ProfileReport  # One-stop-shop for initial profile of a dataset"
   ]
  },
  {
   "cell_type": "code",
   "execution_count": 19,
   "metadata": {},
   "outputs": [],
   "source": [
    "fpath = \"..\\\\..\\\\data\\\\all_raw_files\"\n",
    "fname_aus_gsp = \"GDP_Annual_Gross_State_Product_All_States.xlsx\""
   ]
  },
  {
   "cell_type": "code",
   "execution_count": 25,
   "metadata": {},
   "outputs": [],
   "source": [
    "df_aus_gsp = pd.read_excel(f'{fpath}\\{fname_aus_gsp}', sheet_name=\"Data1\", skiprows=[1,2,3,4,5,6,7,8,9])"
   ]
  },
  {
   "cell_type": "code",
   "execution_count": 27,
   "metadata": {},
   "outputs": [
    {
     "data": {
      "text/plain": [
       "['Unnamed: 0',\n",
       " 'New South Wales ;  Gross state product: Chain volume measures ;',\n",
       " 'Victoria ;  Gross state product: Chain volume measures ;',\n",
       " 'Queensland ;  Gross state product: Chain volume measures ;',\n",
       " 'South Australia ;  Gross state product: Chain volume measures ;',\n",
       " 'Western Australia ;  Gross state product: Chain volume measures ;',\n",
       " 'Tasmania ;  Gross state product: Chain volume measures ;',\n",
       " 'Northern Territory ;  Gross state product: Chain volume measures ;',\n",
       " 'Australian Capital Territory ;  Gross state product: Chain volume measures ;',\n",
       " 'Australia ;  Gross domestic product: Chain volume measures ;',\n",
       " 'New South Wales ;  Gross state product: Chain volume measures - Percentage changes ;',\n",
       " 'Victoria ;  Gross state product: Chain volume measures - Percentage changes ;',\n",
       " 'Queensland ;  Gross state product: Chain volume measures - Percentage changes ;',\n",
       " 'South Australia ;  Gross state product: Chain volume measures - Percentage changes ;',\n",
       " 'Western Australia ;  Gross state product: Chain volume measures - Percentage changes ;',\n",
       " 'Tasmania ;  Gross state product: Chain volume measures - Percentage changes ;',\n",
       " 'Northern Territory ;  Gross state product: Chain volume measures - Percentage changes ;',\n",
       " 'Australian Capital Territory ;  Gross state product: Chain volume measures - Percentage changes ;',\n",
       " 'Australia ;  Gross domestic product: Chain volume measures - Percentage changes ;',\n",
       " 'New South Wales ;  Gross state product per capita: Chain volume measures ;',\n",
       " 'Victoria ;  Gross state product per capita: Chain volume measures ;',\n",
       " 'Queensland ;  Gross state product per capita: Chain volume measures ;',\n",
       " 'South Australia ;  Gross state product per capita: Chain volume measures ;',\n",
       " 'Western Australia ;  Gross state product per capita: Chain volume measures ;',\n",
       " 'Tasmania ;  Gross state product per capita: Chain volume measures ;',\n",
       " 'Northern Territory ;  Gross state product per capita: Chain volume measures ;',\n",
       " 'Australian Capital Territory ;  Gross state product per capita: Chain volume measures ;',\n",
       " 'Australia ;  GDP per capita: Chain volume measures ;',\n",
       " 'New South Wales ;  Gross state product per capita: Chain volume measures - Percentage changes ;',\n",
       " 'Victoria ;  Gross state product per capita: Chain volume measures - Percentage changes ;',\n",
       " 'Queensland ;  Gross state product per capita: Chain volume measures - Percentage changes ;',\n",
       " 'South Australia ;  Gross state product per capita: Chain volume measures - Percentage changes ;',\n",
       " 'Western Australia ;  Gross state product per capita: Chain volume measures - Percentage changes ;',\n",
       " 'Tasmania ;  Gross state product per capita: Chain volume measures - Percentage changes ;',\n",
       " 'Northern Territory ;  Gross state product per capita: Chain volume measures - Percentage changes ;',\n",
       " 'Australian Capital Territory ;  Gross state product per capita: Chain volume measures - Percentage changes ;',\n",
       " 'Australia ;  GDP per capita: Chain volume measures - Percentage changes ;',\n",
       " 'New South Wales ;  Real gross state income: Chain volume measures ;',\n",
       " 'Victoria ;  Real gross state income: Chain volume measures ;',\n",
       " 'Queensland ;  Real gross state income: Chain volume measures ;',\n",
       " 'South Australia ;  Real gross state income: Chain volume measures ;',\n",
       " 'Western Australia ;  Real gross state income: Chain volume measures ;',\n",
       " 'Tasmania ;  Real gross state income: Chain volume measures ;',\n",
       " 'Northern Territory ;  Real gross state income: Chain volume measures ;',\n",
       " 'Australian Capital Territory ;  Real gross state income: Chain volume measures ;',\n",
       " 'Australia ;  Real gross domestic income: Chain volume measures ;',\n",
       " 'New South Wales ;  Real gross state income: Chain volume measures - Percentage changes ;',\n",
       " 'Victoria ;  Real gross state income: Chain volume measures - Percentage changes ;',\n",
       " 'Queensland ;  Real gross state income: Chain volume measures - Percentage changes ;',\n",
       " 'South Australia ;  Real gross state income: Chain volume measures - Percentage changes ;',\n",
       " 'Western Australia ;  Real gross state income: Chain volume measures - Percentage changes ;',\n",
       " 'Tasmania ;  Real gross state income: Chain volume measures - Percentage changes ;',\n",
       " 'Northern Territory ;  Real gross state income: Chain volume measures - Percentage changes ;',\n",
       " 'Australian Capital Territory ;  Real gross state income: Chain volume measures - Percentage changes ;',\n",
       " 'Australia ;  Real gross domestic income: Chain volume measures - Percentage changes ;',\n",
       " 'New South Wales ;  Real gross state income per capita: Chain volume measures ;',\n",
       " 'Victoria ;  Real gross state income per capita: Chain volume measures ;',\n",
       " 'Queensland ;  Real gross state income per capita: Chain volume measures ;',\n",
       " 'South Australia ;  Real gross state income per capita: Chain volume measures ;',\n",
       " 'Western Australia ;  Real gross state income per capita: Chain volume measures ;',\n",
       " 'Tasmania ;  Real gross state income per capita: Chain volume measures ;',\n",
       " 'Northern Territory ;  Real gross state income per capita: Chain volume measures ;',\n",
       " 'Australian Capital Territory ;  Real gross state income per capita: Chain volume measures ;',\n",
       " 'Australia ;  Real gross domestic income per capita: Chain volume measures ;',\n",
       " 'New South Wales ;  Real gross state income per capita: Chain volume measures - Percentage changes ;',\n",
       " 'Victoria ;  Real gross state income per capita: Chain volume measures - Percentage changes ;',\n",
       " 'Queensland ;  Real gross state income per capita: Chain volume measures - Percentage changes ;',\n",
       " 'South Australia ;  Real gross state income per capita: Chain volume measures - Percentage changes ;',\n",
       " 'Western Australia ;  Real gross state income per capita: Chain volume measures - Percentage changes ;',\n",
       " 'Tasmania ;  Real gross state income per capita: Chain volume measures - Percentage changes ;',\n",
       " 'Northern Territory ;  Real gross state income per capita: Chain volume measures - Percentage changes ;',\n",
       " 'Australian Capital Territory ;  Real gross state income per capita: Chain volume measures - Percentage changes ;',\n",
       " 'Australia ;  Real gross domestic income per capita: Chain volume measures - Percentage changes ;',\n",
       " 'New South Wales ;  Gross state product: Current prices ;',\n",
       " 'Victoria ;  Gross state product: Current prices ;',\n",
       " 'Queensland ;  Gross state product: Current prices ;',\n",
       " 'South Australia ;  Gross state product: Current prices ;',\n",
       " 'Western Australia ;  Gross state product: Current prices ;',\n",
       " 'Tasmania ;  Gross state product: Current prices ;',\n",
       " 'Northern Territory ;  Gross state product: Current prices ;',\n",
       " 'Australian Capital Territory ;  Gross state product: Current prices ;',\n",
       " 'Australia ;  Gross domestic product: Current prices ;',\n",
       " 'New South Wales ;  Gross state product: Current prices - Percentage Changes ;',\n",
       " 'Victoria ;  Gross state product: Current prices - Percentage Changes ;',\n",
       " 'Queensland ;  Gross state product: Current prices - Percentage Changes ;',\n",
       " 'South Australia ;  Gross state product: Current prices - Percentage Changes ;',\n",
       " 'Western Australia ;  Gross state product: Current prices - Percentage Changes ;',\n",
       " 'Tasmania ;  Gross state product: Current prices - Percentage Changes ;',\n",
       " 'Northern Territory ;  Gross state product: Current prices - Percentage Changes ;',\n",
       " 'Australian Capital Territory ;  Gross state product: Current prices - Percentage Changes ;',\n",
       " 'Australia ;  Gross domestic product: Current prices - Percentage Changes ;',\n",
       " 'New South Wales ;  Gross state product: Ratio ;',\n",
       " 'Victoria ;  Gross state product: Ratio ;',\n",
       " 'Queensland ;  Gross state product: Ratio ;',\n",
       " 'South Australia ;  Gross state product: Ratio ;',\n",
       " 'Western Australia ;  Gross state product: Ratio ;',\n",
       " 'Tasmania ;  Gross state product: Ratio ;',\n",
       " 'Northern Territory ;  Gross state product: Ratio ;',\n",
       " 'Australian Capital Territory ;  Gross state product: Ratio ;',\n",
       " 'Australia ;  Gross domestic product: Ratio ;',\n",
       " 'New South Wales ;  Gross state product per capita: Current prices ;',\n",
       " 'Victoria ;  Gross state product per capita: Current prices ;',\n",
       " 'Queensland ;  Gross state product per capita: Current prices ;',\n",
       " 'South Australia ;  Gross state product per capita: Current prices ;',\n",
       " 'Western Australia ;  Gross state product per capita: Current prices ;',\n",
       " 'Tasmania ;  Gross state product per capita: Current prices ;',\n",
       " 'Northern Territory ;  Gross state product per capita: Current prices ;',\n",
       " 'Australian Capital Territory ;  Gross state product per capita: Current prices ;',\n",
       " 'Australia ;  GDP per capita: Current prices ;',\n",
       " 'New South Wales ;  Gross state product per capita: Current prices - Percentage Changes ;',\n",
       " 'Victoria ;  Gross state product per capita: Current prices - Percentage Changes ;',\n",
       " 'Queensland ;  Gross state product per capita: Current prices - Percentage Changes ;',\n",
       " 'South Australia ;  Gross state product per capita: Current prices - Percentage Changes ;',\n",
       " 'Western Australia ;  Gross state product per capita: Current prices - Percentage Changes ;',\n",
       " 'Tasmania ;  Gross state product per capita: Current prices - Percentage Changes ;',\n",
       " 'Northern Territory ;  Gross state product per capita: Current prices - Percentage Changes ;',\n",
       " 'Australian Capital Territory ;  Gross state product per capita: Current prices - Percentage Changes ;',\n",
       " 'Australia ;  GDP per capita: Current prices - Percentage Changes ;',\n",
       " 'New South Wales ;  Gross state product per capita: Ratio ;',\n",
       " 'Victoria ;  Gross state product per capita: Ratio ;',\n",
       " 'Queensland ;  Gross state product per capita: Ratio ;',\n",
       " 'South Australia ;  Gross state product per capita: Ratio ;',\n",
       " 'Western Australia ;  Gross state product per capita: Ratio ;',\n",
       " 'Tasmania ;  Gross state product per capita: Ratio ;',\n",
       " 'Northern Territory ;  Gross state product per capita: Ratio ;',\n",
       " 'Australian Capital Territory ;  Gross state product per capita: Ratio ;',\n",
       " 'Australia ;  GDP per capita: Ratio ;']"
      ]
     },
     "execution_count": 27,
     "metadata": {},
     "output_type": "execute_result"
    }
   ],
   "source": [
    "list(df_aus_gsp.columns)"
   ]
  },
  {
   "cell_type": "code",
   "execution_count": 28,
   "metadata": {},
   "outputs": [
    {
     "data": {
      "text/plain": [
       "127"
      ]
     },
     "execution_count": 28,
     "metadata": {},
     "output_type": "execute_result"
    }
   ],
   "source": [
    "len(list(df_aus_gsp.columns))"
   ]
  },
  {
   "cell_type": "code",
   "execution_count": 29,
   "metadata": {},
   "outputs": [
    {
     "data": {
      "application/vnd.jupyter.widget-view+json": {
       "model_id": "246ae4cfb53d47a2acdedc7948e63916",
       "version_major": 2,
       "version_minor": 0
      },
      "text/plain": [
       "Summarize dataset:   0%|          | 0/5 [00:00<?, ?it/s]"
      ]
     },
     "metadata": {},
     "output_type": "display_data"
    },
    {
     "name": "stderr",
     "output_type": "stream",
     "text": [
      "C:\\Users\\JohnD'Souza\\AppData\\Local\\Packages\\PythonSoftwareFoundation.Python.3.10_qbz5n2kfra8p0\\LocalCache\\local-packages\\Python310\\site-packages\\ydata_profiling\\model\\pandas\\duplicates_pandas.py:37: PerformanceWarning: DataFrame is highly fragmented.  This is usually the result of calling `frame.insert` many times, which has poor performance.  Consider joining all columns at once using pd.concat(axis=1) instead. To get a de-fragmented frame, use `newframe = frame.copy()`\n",
      "  df[duplicated_rows]\n",
      "C:\\Users\\JohnD'Souza\\AppData\\Local\\Packages\\PythonSoftwareFoundation.Python.3.10_qbz5n2kfra8p0\\LocalCache\\local-packages\\Python310\\site-packages\\ydata_profiling\\model\\pandas\\duplicates_pandas.py:37: PerformanceWarning: DataFrame is highly fragmented.  This is usually the result of calling `frame.insert` many times, which has poor performance.  Consider joining all columns at once using pd.concat(axis=1) instead. To get a de-fragmented frame, use `newframe = frame.copy()`\n",
      "  df[duplicated_rows]\n",
      "C:\\Users\\JohnD'Souza\\AppData\\Local\\Packages\\PythonSoftwareFoundation.Python.3.10_qbz5n2kfra8p0\\LocalCache\\local-packages\\Python310\\site-packages\\ydata_profiling\\model\\pandas\\duplicates_pandas.py:37: PerformanceWarning: DataFrame is highly fragmented.  This is usually the result of calling `frame.insert` many times, which has poor performance.  Consider joining all columns at once using pd.concat(axis=1) instead. To get a de-fragmented frame, use `newframe = frame.copy()`\n",
      "  df[duplicated_rows]\n",
      "C:\\Users\\JohnD'Souza\\AppData\\Local\\Packages\\PythonSoftwareFoundation.Python.3.10_qbz5n2kfra8p0\\LocalCache\\local-packages\\Python310\\site-packages\\ydata_profiling\\model\\pandas\\duplicates_pandas.py:37: PerformanceWarning: DataFrame is highly fragmented.  This is usually the result of calling `frame.insert` many times, which has poor performance.  Consider joining all columns at once using pd.concat(axis=1) instead. To get a de-fragmented frame, use `newframe = frame.copy()`\n",
      "  df[duplicated_rows]\n",
      "C:\\Users\\JohnD'Souza\\AppData\\Local\\Packages\\PythonSoftwareFoundation.Python.3.10_qbz5n2kfra8p0\\LocalCache\\local-packages\\Python310\\site-packages\\ydata_profiling\\model\\pandas\\duplicates_pandas.py:37: PerformanceWarning: DataFrame is highly fragmented.  This is usually the result of calling `frame.insert` many times, which has poor performance.  Consider joining all columns at once using pd.concat(axis=1) instead. To get a de-fragmented frame, use `newframe = frame.copy()`\n",
      "  df[duplicated_rows]\n",
      "C:\\Users\\JohnD'Souza\\AppData\\Local\\Packages\\PythonSoftwareFoundation.Python.3.10_qbz5n2kfra8p0\\LocalCache\\local-packages\\Python310\\site-packages\\ydata_profiling\\model\\pandas\\duplicates_pandas.py:37: PerformanceWarning: DataFrame is highly fragmented.  This is usually the result of calling `frame.insert` many times, which has poor performance.  Consider joining all columns at once using pd.concat(axis=1) instead. To get a de-fragmented frame, use `newframe = frame.copy()`\n",
      "  df[duplicated_rows]\n",
      "C:\\Users\\JohnD'Souza\\AppData\\Local\\Packages\\PythonSoftwareFoundation.Python.3.10_qbz5n2kfra8p0\\LocalCache\\local-packages\\Python310\\site-packages\\ydata_profiling\\model\\pandas\\duplicates_pandas.py:37: PerformanceWarning: DataFrame is highly fragmented.  This is usually the result of calling `frame.insert` many times, which has poor performance.  Consider joining all columns at once using pd.concat(axis=1) instead. To get a de-fragmented frame, use `newframe = frame.copy()`\n",
      "  df[duplicated_rows]\n",
      "C:\\Users\\JohnD'Souza\\AppData\\Local\\Packages\\PythonSoftwareFoundation.Python.3.10_qbz5n2kfra8p0\\LocalCache\\local-packages\\Python310\\site-packages\\ydata_profiling\\model\\pandas\\duplicates_pandas.py:37: PerformanceWarning: DataFrame is highly fragmented.  This is usually the result of calling `frame.insert` many times, which has poor performance.  Consider joining all columns at once using pd.concat(axis=1) instead. To get a de-fragmented frame, use `newframe = frame.copy()`\n",
      "  df[duplicated_rows]\n",
      "C:\\Users\\JohnD'Souza\\AppData\\Local\\Packages\\PythonSoftwareFoundation.Python.3.10_qbz5n2kfra8p0\\LocalCache\\local-packages\\Python310\\site-packages\\ydata_profiling\\model\\pandas\\duplicates_pandas.py:37: PerformanceWarning: DataFrame is highly fragmented.  This is usually the result of calling `frame.insert` many times, which has poor performance.  Consider joining all columns at once using pd.concat(axis=1) instead. To get a de-fragmented frame, use `newframe = frame.copy()`\n",
      "  df[duplicated_rows]\n",
      "C:\\Users\\JohnD'Souza\\AppData\\Local\\Packages\\PythonSoftwareFoundation.Python.3.10_qbz5n2kfra8p0\\LocalCache\\local-packages\\Python310\\site-packages\\ydata_profiling\\model\\pandas\\duplicates_pandas.py:37: PerformanceWarning: DataFrame is highly fragmented.  This is usually the result of calling `frame.insert` many times, which has poor performance.  Consider joining all columns at once using pd.concat(axis=1) instead. To get a de-fragmented frame, use `newframe = frame.copy()`\n",
      "  df[duplicated_rows]\n",
      "C:\\Users\\JohnD'Souza\\AppData\\Local\\Packages\\PythonSoftwareFoundation.Python.3.10_qbz5n2kfra8p0\\LocalCache\\local-packages\\Python310\\site-packages\\ydata_profiling\\model\\pandas\\duplicates_pandas.py:37: PerformanceWarning: DataFrame is highly fragmented.  This is usually the result of calling `frame.insert` many times, which has poor performance.  Consider joining all columns at once using pd.concat(axis=1) instead. To get a de-fragmented frame, use `newframe = frame.copy()`\n",
      "  df[duplicated_rows]\n",
      "C:\\Users\\JohnD'Souza\\AppData\\Local\\Packages\\PythonSoftwareFoundation.Python.3.10_qbz5n2kfra8p0\\LocalCache\\local-packages\\Python310\\site-packages\\ydata_profiling\\model\\pandas\\duplicates_pandas.py:37: PerformanceWarning: DataFrame is highly fragmented.  This is usually the result of calling `frame.insert` many times, which has poor performance.  Consider joining all columns at once using pd.concat(axis=1) instead. To get a de-fragmented frame, use `newframe = frame.copy()`\n",
      "  df[duplicated_rows]\n",
      "C:\\Users\\JohnD'Souza\\AppData\\Local\\Packages\\PythonSoftwareFoundation.Python.3.10_qbz5n2kfra8p0\\LocalCache\\local-packages\\Python310\\site-packages\\ydata_profiling\\model\\pandas\\duplicates_pandas.py:37: PerformanceWarning: DataFrame is highly fragmented.  This is usually the result of calling `frame.insert` many times, which has poor performance.  Consider joining all columns at once using pd.concat(axis=1) instead. To get a de-fragmented frame, use `newframe = frame.copy()`\n",
      "  df[duplicated_rows]\n",
      "C:\\Users\\JohnD'Souza\\AppData\\Local\\Packages\\PythonSoftwareFoundation.Python.3.10_qbz5n2kfra8p0\\LocalCache\\local-packages\\Python310\\site-packages\\ydata_profiling\\model\\pandas\\duplicates_pandas.py:37: PerformanceWarning: DataFrame is highly fragmented.  This is usually the result of calling `frame.insert` many times, which has poor performance.  Consider joining all columns at once using pd.concat(axis=1) instead. To get a de-fragmented frame, use `newframe = frame.copy()`\n",
      "  df[duplicated_rows]\n",
      "C:\\Users\\JohnD'Souza\\AppData\\Local\\Packages\\PythonSoftwareFoundation.Python.3.10_qbz5n2kfra8p0\\LocalCache\\local-packages\\Python310\\site-packages\\ydata_profiling\\model\\pandas\\duplicates_pandas.py:37: PerformanceWarning: DataFrame is highly fragmented.  This is usually the result of calling `frame.insert` many times, which has poor performance.  Consider joining all columns at once using pd.concat(axis=1) instead. To get a de-fragmented frame, use `newframe = frame.copy()`\n",
      "  df[duplicated_rows]\n",
      "C:\\Users\\JohnD'Souza\\AppData\\Local\\Packages\\PythonSoftwareFoundation.Python.3.10_qbz5n2kfra8p0\\LocalCache\\local-packages\\Python310\\site-packages\\ydata_profiling\\model\\pandas\\duplicates_pandas.py:37: PerformanceWarning: DataFrame is highly fragmented.  This is usually the result of calling `frame.insert` many times, which has poor performance.  Consider joining all columns at once using pd.concat(axis=1) instead. To get a de-fragmented frame, use `newframe = frame.copy()`\n",
      "  df[duplicated_rows]\n",
      "C:\\Users\\JohnD'Souza\\AppData\\Local\\Packages\\PythonSoftwareFoundation.Python.3.10_qbz5n2kfra8p0\\LocalCache\\local-packages\\Python310\\site-packages\\ydata_profiling\\model\\pandas\\duplicates_pandas.py:37: PerformanceWarning: DataFrame is highly fragmented.  This is usually the result of calling `frame.insert` many times, which has poor performance.  Consider joining all columns at once using pd.concat(axis=1) instead. To get a de-fragmented frame, use `newframe = frame.copy()`\n",
      "  df[duplicated_rows]\n",
      "C:\\Users\\JohnD'Souza\\AppData\\Local\\Packages\\PythonSoftwareFoundation.Python.3.10_qbz5n2kfra8p0\\LocalCache\\local-packages\\Python310\\site-packages\\ydata_profiling\\model\\pandas\\duplicates_pandas.py:37: PerformanceWarning: DataFrame is highly fragmented.  This is usually the result of calling `frame.insert` many times, which has poor performance.  Consider joining all columns at once using pd.concat(axis=1) instead. To get a de-fragmented frame, use `newframe = frame.copy()`\n",
      "  df[duplicated_rows]\n",
      "C:\\Users\\JohnD'Souza\\AppData\\Local\\Packages\\PythonSoftwareFoundation.Python.3.10_qbz5n2kfra8p0\\LocalCache\\local-packages\\Python310\\site-packages\\ydata_profiling\\model\\pandas\\duplicates_pandas.py:37: PerformanceWarning: DataFrame is highly fragmented.  This is usually the result of calling `frame.insert` many times, which has poor performance.  Consider joining all columns at once using pd.concat(axis=1) instead. To get a de-fragmented frame, use `newframe = frame.copy()`\n",
      "  df[duplicated_rows]\n",
      "C:\\Users\\JohnD'Souza\\AppData\\Local\\Packages\\PythonSoftwareFoundation.Python.3.10_qbz5n2kfra8p0\\LocalCache\\local-packages\\Python310\\site-packages\\ydata_profiling\\model\\pandas\\duplicates_pandas.py:37: PerformanceWarning: DataFrame is highly fragmented.  This is usually the result of calling `frame.insert` many times, which has poor performance.  Consider joining all columns at once using pd.concat(axis=1) instead. To get a de-fragmented frame, use `newframe = frame.copy()`\n",
      "  df[duplicated_rows]\n",
      "C:\\Users\\JohnD'Souza\\AppData\\Local\\Packages\\PythonSoftwareFoundation.Python.3.10_qbz5n2kfra8p0\\LocalCache\\local-packages\\Python310\\site-packages\\ydata_profiling\\model\\pandas\\duplicates_pandas.py:37: PerformanceWarning: DataFrame is highly fragmented.  This is usually the result of calling `frame.insert` many times, which has poor performance.  Consider joining all columns at once using pd.concat(axis=1) instead. To get a de-fragmented frame, use `newframe = frame.copy()`\n",
      "  df[duplicated_rows]\n",
      "C:\\Users\\JohnD'Souza\\AppData\\Local\\Packages\\PythonSoftwareFoundation.Python.3.10_qbz5n2kfra8p0\\LocalCache\\local-packages\\Python310\\site-packages\\ydata_profiling\\model\\pandas\\duplicates_pandas.py:37: PerformanceWarning: DataFrame is highly fragmented.  This is usually the result of calling `frame.insert` many times, which has poor performance.  Consider joining all columns at once using pd.concat(axis=1) instead. To get a de-fragmented frame, use `newframe = frame.copy()`\n",
      "  df[duplicated_rows]\n",
      "C:\\Users\\JohnD'Souza\\AppData\\Local\\Packages\\PythonSoftwareFoundation.Python.3.10_qbz5n2kfra8p0\\LocalCache\\local-packages\\Python310\\site-packages\\ydata_profiling\\model\\pandas\\duplicates_pandas.py:37: PerformanceWarning: DataFrame is highly fragmented.  This is usually the result of calling `frame.insert` many times, which has poor performance.  Consider joining all columns at once using pd.concat(axis=1) instead. To get a de-fragmented frame, use `newframe = frame.copy()`\n",
      "  df[duplicated_rows]\n",
      "C:\\Users\\JohnD'Souza\\AppData\\Local\\Packages\\PythonSoftwareFoundation.Python.3.10_qbz5n2kfra8p0\\LocalCache\\local-packages\\Python310\\site-packages\\ydata_profiling\\model\\pandas\\duplicates_pandas.py:37: PerformanceWarning: DataFrame is highly fragmented.  This is usually the result of calling `frame.insert` many times, which has poor performance.  Consider joining all columns at once using pd.concat(axis=1) instead. To get a de-fragmented frame, use `newframe = frame.copy()`\n",
      "  df[duplicated_rows]\n",
      "C:\\Users\\JohnD'Souza\\AppData\\Local\\Packages\\PythonSoftwareFoundation.Python.3.10_qbz5n2kfra8p0\\LocalCache\\local-packages\\Python310\\site-packages\\ydata_profiling\\model\\pandas\\duplicates_pandas.py:37: PerformanceWarning: DataFrame is highly fragmented.  This is usually the result of calling `frame.insert` many times, which has poor performance.  Consider joining all columns at once using pd.concat(axis=1) instead. To get a de-fragmented frame, use `newframe = frame.copy()`\n",
      "  df[duplicated_rows]\n",
      "C:\\Users\\JohnD'Souza\\AppData\\Local\\Packages\\PythonSoftwareFoundation.Python.3.10_qbz5n2kfra8p0\\LocalCache\\local-packages\\Python310\\site-packages\\ydata_profiling\\model\\pandas\\duplicates_pandas.py:37: PerformanceWarning: DataFrame is highly fragmented.  This is usually the result of calling `frame.insert` many times, which has poor performance.  Consider joining all columns at once using pd.concat(axis=1) instead. To get a de-fragmented frame, use `newframe = frame.copy()`\n",
      "  df[duplicated_rows]\n",
      "C:\\Users\\JohnD'Souza\\AppData\\Local\\Packages\\PythonSoftwareFoundation.Python.3.10_qbz5n2kfra8p0\\LocalCache\\local-packages\\Python310\\site-packages\\ydata_profiling\\model\\pandas\\duplicates_pandas.py:37: PerformanceWarning: DataFrame is highly fragmented.  This is usually the result of calling `frame.insert` many times, which has poor performance.  Consider joining all columns at once using pd.concat(axis=1) instead. To get a de-fragmented frame, use `newframe = frame.copy()`\n",
      "  df[duplicated_rows]\n",
      "C:\\Users\\JohnD'Souza\\AppData\\Local\\Packages\\PythonSoftwareFoundation.Python.3.10_qbz5n2kfra8p0\\LocalCache\\local-packages\\Python310\\site-packages\\ydata_profiling\\model\\pandas\\duplicates_pandas.py:37: PerformanceWarning: DataFrame is highly fragmented.  This is usually the result of calling `frame.insert` many times, which has poor performance.  Consider joining all columns at once using pd.concat(axis=1) instead. To get a de-fragmented frame, use `newframe = frame.copy()`\n",
      "  df[duplicated_rows]\n"
     ]
    },
    {
     "data": {
      "application/vnd.jupyter.widget-view+json": {
       "model_id": "bfd26a32a7b842c58599e83f21f85f6f",
       "version_major": 2,
       "version_minor": 0
      },
      "text/plain": [
       "Generate report structure:   0%|          | 0/1 [00:00<?, ?it/s]"
      ]
     },
     "metadata": {},
     "output_type": "display_data"
    },
    {
     "data": {
      "application/vnd.jupyter.widget-view+json": {
       "model_id": "042577f698534af29abc97d5b6114a6a",
       "version_major": 2,
       "version_minor": 0
      },
      "text/plain": [
       "Render HTML:   0%|          | 0/1 [00:00<?, ?it/s]"
      ]
     },
     "metadata": {},
     "output_type": "display_data"
    },
    {
     "data": {
      "application/vnd.jupyter.widget-view+json": {
       "model_id": "88d8944bad7644848a00fdd1ba990d34",
       "version_major": 2,
       "version_minor": 0
      },
      "text/plain": [
       "Export report to file:   0%|          | 0/1 [00:00<?, ?it/s]"
      ]
     },
     "metadata": {},
     "output_type": "display_data"
    }
   ],
   "source": [
    "profile_aus_gsp = ProfileReport(df_aus_gsp, title=\"GSP Data Profile\")\n",
    "profile_aus_gsp.to_file(\"aus_gsp_profile.html\")"
   ]
  },
  {
   "cell_type": "code",
   "execution_count": 30,
   "metadata": {},
   "outputs": [
    {
     "data": {
      "application/vnd.jupyter.widget-view+json": {
       "model_id": "b0cc23231eb14b4483eb84fd7eabd24e",
       "version_major": 2,
       "version_minor": 0
      },
      "text/plain": [
       "Render widgets:   0%|          | 0/1 [00:00<?, ?it/s]"
      ]
     },
     "metadata": {},
     "output_type": "display_data"
    }
   ],
   "source": [
    "profile_aus_gsp.to_widgets()"
   ]
  },
  {
   "cell_type": "code",
   "execution_count": null,
   "metadata": {},
   "outputs": [],
   "source": [
    "df_vic2017.to_csv('forecastdemand_vic_2017.csv')\n",
    "df_vic2018.to_csv('forecastdemand_vic_2018.csv')\n",
    "df_vic2019.to_csv('forecastdemand_vic_2019.csv')\n",
    "df_vic2020.to_csv('forecastdemand_vic_2020.csv')\n",
    "df_vic2021.to_csv('forecastdemand_vic_2021.csv')"
   ]
  }
 ],
 "metadata": {
  "kernelspec": {
   "display_name": "Python 3",
   "language": "python",
   "name": "python3"
  },
  "language_info": {
   "codemirror_mode": {
    "name": "ipython",
    "version": 3
   },
   "file_extension": ".py",
   "mimetype": "text/x-python",
   "name": "python",
   "nbconvert_exporter": "python",
   "pygments_lexer": "ipython3",
   "version": "3.10.11"
  }
 },
 "nbformat": 4,
 "nbformat_minor": 2
}
