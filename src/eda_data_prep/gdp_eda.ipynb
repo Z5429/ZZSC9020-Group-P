{
 "cells": [
  {
   "cell_type": "markdown",
   "metadata": {},
   "source": [
    "## EDA and extraction of Gross State Product data from ABS Excel File\n",
    "### Modified: 2024-03-31"
   ]
  },
  {
   "cell_type": "markdown",
   "metadata": {},
   "source": [
    "#### Import libraries"
   ]
  },
  {
   "cell_type": "code",
   "execution_count": 1,
   "metadata": {},
   "outputs": [],
   "source": [
    "#import zipfile # In case we wish to read the compressed file\n",
    "import pandas as pd\n",
    "from ydata_profiling import ProfileReport  # One-stop-shop for initial profile of a dataset"
   ]
  },
  {
   "cell_type": "markdown",
   "metadata": {},
   "source": [
    "#### Set variables: *filepath, input filename, abbreviated column names*"
   ]
  },
  {
   "cell_type": "code",
   "execution_count": 6,
   "metadata": {},
   "outputs": [],
   "source": [
    "fpath = \"..\\\\..\\\\data\\\\all_raw_files\"\n",
    "fname_aus_gsp = \"GDP_Annual_Gross_State_Product_All_States.xlsx\"\n",
    "colnames = ['date', 'nsw_cvm', 'vic_cvm', 'qld_cvm', 'sa_cvm', 'wa_cvm', 'tas_cvm', 'nt_cvm', 'act_cvm', 'aus_cvm']"
   ]
  },
  {
   "cell_type": "markdown",
   "metadata": {},
   "source": [
    "#### Read Excel File (*install openpyxl*)"
   ]
  },
  {
   "cell_type": "code",
   "execution_count": 13,
   "metadata": {},
   "outputs": [],
   "source": [
    "# 1 - Only read in columns A to J containing 'GSP Chain Volumne Measures' (out of 127 columns)\n",
    "# 2 - Rename these columns as specified in the colnames list\n",
    "# 3 - Only read in Row 11 to 44.\n",
    "df_aus_gsp = pd.read_excel(f'{fpath}\\{fname_aus_gsp}', sheet_name=\"Data1\", skiprows=9, usecols=\"A:J\", names=colnames)"
   ]
  },
  {
   "cell_type": "markdown",
   "metadata": {},
   "source": [
    "#### Check the dataframe"
   ]
  },
  {
   "cell_type": "code",
   "execution_count": 30,
   "metadata": {},
   "outputs": [
    {
     "name": "stdout",
     "output_type": "stream",
     "text": [
      "check PASSED\n"
     ]
    }
   ],
   "source": [
    "# Check if there are 34 rows and that the column names match the list of names set above\n",
    "\n",
    "if (len(df_aus_gsp.index) == 34) & (list(df_aus_gsp) == colnames):\n",
    "    print(\"check PASSED\")\n",
    "else:\n",
    "    print(\"check FAILED\")\n"
   ]
  },
  {
   "cell_type": "markdown",
   "metadata": {},
   "source": [
    "#### Generate Data Profile Report (*using ydata_profiler*)"
   ]
  },
  {
   "cell_type": "code",
   "execution_count": 31,
   "metadata": {},
   "outputs": [],
   "source": [
    "profile_aus_gsp = ProfileReport(df_aus_gsp, title=\"GSP Data Profile\")\n",
    "#profile_aus_gsp.to_file(\"aus_gsp_profile.html\")"
   ]
  },
  {
   "cell_type": "markdown",
   "metadata": {},
   "source": [
    "#### Output Data Profile Report to Widgets"
   ]
  },
  {
   "cell_type": "code",
   "execution_count": 32,
   "metadata": {},
   "outputs": [
    {
     "data": {
      "application/vnd.jupyter.widget-view+json": {
       "model_id": "0ff4e03c35c4476fb7f32a190e142425",
       "version_major": 2,
       "version_minor": 0
      },
      "text/plain": [
       "Summarize dataset:   0%|          | 0/5 [00:00<?, ?it/s]"
      ]
     },
     "metadata": {},
     "output_type": "display_data"
    },
    {
     "data": {
      "application/vnd.jupyter.widget-view+json": {
       "model_id": "6cb786b26d56448896650a91be6d7701",
       "version_major": 2,
       "version_minor": 0
      },
      "text/plain": [
       "Generate report structure:   0%|          | 0/1 [00:00<?, ?it/s]"
      ]
     },
     "metadata": {},
     "output_type": "display_data"
    },
    {
     "data": {
      "application/vnd.jupyter.widget-view+json": {
       "model_id": "b641e9bfa4f2492cbdd3c4eb875bec63",
       "version_major": 2,
       "version_minor": 0
      },
      "text/plain": [
       "Render widgets:   0%|          | 0/1 [00:00<?, ?it/s]"
      ]
     },
     "metadata": {},
     "output_type": "display_data"
    },
    {
     "data": {
      "application/vnd.jupyter.widget-view+json": {
       "model_id": "e661950f4a2743f99bd452e2f659ae84",
       "version_major": 2,
       "version_minor": 0
      },
      "text/plain": [
       "VBox(children=(Tab(children=(Tab(children=(GridBox(children=(VBox(children=(GridspecLayout(children=(HTML(valu…"
      ]
     },
     "metadata": {},
     "output_type": "display_data"
    }
   ],
   "source": [
    "profile_aus_gsp.to_widgets()"
   ]
  },
  {
   "cell_type": "markdown",
   "metadata": {},
   "source": [
    "#### Write extracted dataframe to CSV file"
   ]
  },
  {
   "cell_type": "code",
   "execution_count": 33,
   "metadata": {},
   "outputs": [],
   "source": [
    "fname_output = 'aus_gsp_all_states.csv'\n",
    "df_aus_gsp.to_csv(f'{fpath}\\{fname_output}')"
   ]
  },
  {
   "cell_type": "markdown",
   "metadata": {},
   "source": [
    "** THE END **"
   ]
  }
 ],
 "metadata": {
  "kernelspec": {
   "display_name": "Python 3",
   "language": "python",
   "name": "python3"
  },
  "language_info": {
   "codemirror_mode": {
    "name": "ipython",
    "version": 3
   },
   "file_extension": ".py",
   "mimetype": "text/x-python",
   "name": "python",
   "nbconvert_exporter": "python",
   "pygments_lexer": "ipython3",
   "version": "3.10.11"
  }
 },
 "nbformat": 4,
 "nbformat_minor": 2
}
