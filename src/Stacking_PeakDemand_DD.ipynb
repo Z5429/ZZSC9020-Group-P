{
 "cells": [
  {
   "cell_type": "code",
   "execution_count": 1,
   "id": "38e4584f-fce4-4c96-b9c9-4bb31124245c",
   "metadata": {},
   "outputs": [],
   "source": [
    "import pandas as pd\n",
    "import numpy as np\n",
    "import matplotlib.pyplot as plt\n",
    "import seaborn as sns\n",
    "from seaborn import swarmplot\n",
    "from pathlib import Path\n",
    "import datetime\n",
    "from ydata_profiling import ProfileReport\n",
    "color_pal = sns.color_palette()\n",
    "plt.style.use('fivethirtyeight')\n",
    "\n",
    "#ARIMA\n",
    "from statsmodels.tsa.arima_model import ARIMA\n",
    "from statsmodels.tsa.api import ExponentialSmoothing, SimpleExpSmoothing, Holt\n",
    "from statsmodels.tools.eval_measures import rmse\n",
    "\n",
    "from sklearn.metrics import mean_squared_error\n",
    "from sklearn.linear_model import LinearRegression\n",
    "from sklearn import linear_model\n",
    "from sklearn.svm import SVR\n",
    "from sklearn.pipeline import make_pipeline\n",
    "from sklearn.preprocessing import StandardScaler\n",
    "\n",
    "import pmdarima as pm\n",
    "#from fbprophet import Prophet\n",
    "\n",
    "import xgboost as xgb\n",
    "\n",
    "\n",
    "from pandas import to_datetime\n",
    "from pmdarima.model_selection import train_test_split\n",
    "from numpy import *\n",
    "\n",
    "from sklearn import datasets, linear_model\n",
    "from sklearn.datasets import load_wine\n",
    "from sklearn.metrics import mean_squared_error, r2_score\n",
    "from sklearn.metrics import accuracy_score\n",
    "from sklearn.metrics import confusion_matrix\n",
    "from sklearn.preprocessing import Normalizer\n",
    "from sklearn.preprocessing import MinMaxScaler\n",
    "from sklearn.model_selection import cross_val_score\n",
    "from sklearn.model_selection import RepeatedKFold\n",
    "from sklearn.linear_model import LinearRegression\n",
    "from sklearn.neighbors import KNeighborsRegressor\n",
    "from sklearn.tree import DecisionTreeRegressor\n",
    "from sklearn.svm import SVR\n",
    "from sklearn.ensemble import StackingRegressor\n",
    "from sklearn.ensemble import GradientBoostingRegressor\n",
    "from sklearn.ensemble import RandomForestRegressor\n",
    "\n",
    "from sklearn.model_selection import train_test_split\n",
    "from sklearn.model_selection import cross_validate\n",
    "from sklearn.feature_selection import RFE\n",
    "from sklearn import metrics\n",
    "from sklearn.metrics import roc_auc_score\n",
    "from scipy.stats import pearsonr\n",
    "\n",
    "%matplotlib inline\n",
    "\n",
    "import random\n",
    "from numpy import * \n",
    "from sklearn.metrics import roc_curve, auc\n",
    "\n",
    "import itertools\n",
    "import warnings\n",
    "import time\n",
    "\n",
    "from sklearn.pipeline import make_pipeline\n",
    "from sklearn.linear_model import Ridge, Lasso, ElasticNet\n",
    "from sklearn.ensemble import GradientBoostingRegressor\n",
    "from sklearn.ensemble import RandomForestRegressor\n",
    "\n",
    "from sklearn.model_selection import GridSearchCV\n",
    "from sklearn.exceptions import NotFittedError\n",
    "from sklearn.metrics import r2_score,mean_absolute_error\n",
    "\n",
    "\n",
    "warnings.filterwarnings('ignore', category=UserWarning, module='openpyxl')"
   ]
  },
  {
   "cell_type": "code",
   "execution_count": 2,
   "id": "085dcdeb-fbcc-47ee-87a3-54c350c4b01d",
   "metadata": {},
   "outputs": [],
   "source": [
    "def load_demand_full_data():\n",
    "    return pd.read_csv(Path(\"C:/Users/User/Documents/UNSW_Data Science 7446/ZZSC9020 Data Science Capstone Project/Data/model_data_v4.csv\"))"
   ]
  },
  {
   "cell_type": "code",
   "execution_count": 3,
   "id": "4380449d-2825-44cc-84f8-ec1b2e2414d4",
   "metadata": {},
   "outputs": [],
   "source": [
    "# get a stacking ensemble of models\n",
    "def get_stacking():\n",
    " # define the base models\n",
    " level0 = list()\n",
    " level0.append(('knn', KNeighborsRegressor()))\n",
    " level0.append(('cart', DecisionTreeRegressor()))\n",
    " level0.append(('rf', RandomForestRegressor()))\n",
    " level0.append(('gb', GradientBoostingRegressor()))\n",
    " level0.append(('svm', SVR()))\n",
    " # define meta learner model\n",
    " level1 = LinearRegression()\n",
    " # define the stacking ensemble\n",
    " model = StackingRegressor(estimators=level0, final_estimator=level1, cv=5)\n",
    " return model"
   ]
  },
  {
   "cell_type": "code",
   "execution_count": 4,
   "id": "a6037ddb-3dd1-46a6-ac95-a84e22d8a1bc",
   "metadata": {},
   "outputs": [],
   "source": [
    "dem_data = load_demand_full_data()"
   ]
  },
  {
   "cell_type": "code",
   "execution_count": 5,
   "id": "3b61a9ce-d0a5-4a4a-8b34-cc948a84fd6c",
   "metadata": {},
   "outputs": [],
   "source": [
    "# get a list of models to evaluate\n",
    "def get_models():\n",
    " models = dict()\n",
    " models['knn'] = KNeighborsRegressor()\n",
    " models['cart'] = DecisionTreeRegressor()\n",
    " models['rf'] = RandomForestRegressor()\n",
    " models['gb'] = GradientBoostingRegressor()\n",
    " models['svm'] = SVR()\n",
    " models['stacking'] = get_stacking()\n",
    " return models"
   ]
  },
  {
   "cell_type": "code",
   "execution_count": 6,
   "id": "77b6b482-aed4-4990-aebb-2691936f01ac",
   "metadata": {},
   "outputs": [],
   "source": [
    "\n",
    "# evaluate a given model using cross-validation\n",
    "def evaluate_model(model, X_train, y_train):\n",
    " cv = RepeatedKFold(n_splits=10, n_repeats=3, random_state=1)\n",
    " scores = cross_val_score(model, X_train, y_train, scoring='neg_mean_absolute_error', cv=cv, n_jobs=-1, error_score='raise')\n",
    " return scores"
   ]
  },
  {
   "cell_type": "code",
   "execution_count": 7,
   "id": "0ed14daf-d79e-42eb-8b31-067a9622cf76",
   "metadata": {},
   "outputs": [
    {
     "data": {
      "text/html": [
       "<div>\n",
       "<style scoped>\n",
       "    .dataframe tbody tr th:only-of-type {\n",
       "        vertical-align: middle;\n",
       "    }\n",
       "\n",
       "    .dataframe tbody tr th {\n",
       "        vertical-align: top;\n",
       "    }\n",
       "\n",
       "    .dataframe thead th {\n",
       "        text-align: right;\n",
       "    }\n",
       "</style>\n",
       "<table border=\"1\" class=\"dataframe\">\n",
       "  <thead>\n",
       "    <tr style=\"text-align: right;\">\n",
       "      <th></th>\n",
       "      <th>year</th>\n",
       "      <th>month</th>\n",
       "      <th>date</th>\n",
       "      <th>temp_mean</th>\n",
       "      <th>temp_min</th>\n",
       "      <th>temp_max</th>\n",
       "      <th>temp_avg_daily_min</th>\n",
       "      <th>temp_avg_daily_max</th>\n",
       "      <th>degree_days</th>\n",
       "      <th>demand_mean</th>\n",
       "      <th>demand_max</th>\n",
       "      <th>demand_avg_daily_max</th>\n",
       "      <th>total_consumption</th>\n",
       "      <th>pv_capacity</th>\n",
       "      <th>population</th>\n",
       "      <th>gsp</th>\n",
       "    </tr>\n",
       "  </thead>\n",
       "  <tbody>\n",
       "    <tr>\n",
       "      <th>0</th>\n",
       "      <td>2010</td>\n",
       "      <td>1</td>\n",
       "      <td>2010-01-01</td>\n",
       "      <td>20.868008</td>\n",
       "      <td>1.6</td>\n",
       "      <td>41.1</td>\n",
       "      <td>16.380645</td>\n",
       "      <td>25.858065</td>\n",
       "      <td>144.511358</td>\n",
       "      <td>8941.450389</td>\n",
       "      <td>13765.04</td>\n",
       "      <td>10613.530000</td>\n",
       "      <td>6554083.135</td>\n",
       "      <td>28278.392</td>\n",
       "      <td>7110454</td>\n",
       "      <td>44504.25</td>\n",
       "    </tr>\n",
       "    <tr>\n",
       "      <th>1</th>\n",
       "      <td>2010</td>\n",
       "      <td>2</td>\n",
       "      <td>2010-02-01</td>\n",
       "      <td>20.218907</td>\n",
       "      <td>3.2</td>\n",
       "      <td>35.4</td>\n",
       "      <td>16.146429</td>\n",
       "      <td>24.682143</td>\n",
       "      <td>124.982743</td>\n",
       "      <td>8855.467677</td>\n",
       "      <td>13377.27</td>\n",
       "      <td>10380.667857</td>\n",
       "      <td>5831325.465</td>\n",
       "      <td>32153.986</td>\n",
       "      <td>7119405</td>\n",
       "      <td>44504.25</td>\n",
       "    </tr>\n",
       "    <tr>\n",
       "      <th>2</th>\n",
       "      <td>2010</td>\n",
       "      <td>3</td>\n",
       "      <td>2010-03-01</td>\n",
       "      <td>19.828286</td>\n",
       "      <td>6.3</td>\n",
       "      <td>34.7</td>\n",
       "      <td>15.496774</td>\n",
       "      <td>24.725806</td>\n",
       "      <td>106.809763</td>\n",
       "      <td>8698.725127</td>\n",
       "      <td>11991.47</td>\n",
       "      <td>10132.978710</td>\n",
       "      <td>6319623.805</td>\n",
       "      <td>38195.588</td>\n",
       "      <td>7128356</td>\n",
       "      <td>44504.25</td>\n",
       "    </tr>\n",
       "    <tr>\n",
       "      <th>3</th>\n",
       "      <td>2010</td>\n",
       "      <td>4</td>\n",
       "      <td>2010-04-01</td>\n",
       "      <td>17.593856</td>\n",
       "      <td>6.5</td>\n",
       "      <td>29.9</td>\n",
       "      <td>12.780000</td>\n",
       "      <td>23.063333</td>\n",
       "      <td>68.136038</td>\n",
       "      <td>8452.863411</td>\n",
       "      <td>11436.13</td>\n",
       "      <td>9804.072333</td>\n",
       "      <td>5984627.295</td>\n",
       "      <td>45142.723</td>\n",
       "      <td>7133668</td>\n",
       "      <td>44504.25</td>\n",
       "    </tr>\n",
       "    <tr>\n",
       "      <th>4</th>\n",
       "      <td>2010</td>\n",
       "      <td>5</td>\n",
       "      <td>2010-05-01</td>\n",
       "      <td>15.323485</td>\n",
       "      <td>3.1</td>\n",
       "      <td>28.4</td>\n",
       "      <td>11.187097</td>\n",
       "      <td>19.596774</td>\n",
       "      <td>123.937772</td>\n",
       "      <td>8897.770510</td>\n",
       "      <td>12386.49</td>\n",
       "      <td>10558.023548</td>\n",
       "      <td>6459781.390</td>\n",
       "      <td>54370.332</td>\n",
       "      <td>7138980</td>\n",
       "      <td>44504.25</td>\n",
       "    </tr>\n",
       "  </tbody>\n",
       "</table>\n",
       "</div>"
      ],
      "text/plain": [
       "   year  month        date  temp_mean  temp_min  temp_max  temp_avg_daily_min  \\\n",
       "0  2010      1  2010-01-01  20.868008       1.6      41.1           16.380645   \n",
       "1  2010      2  2010-02-01  20.218907       3.2      35.4           16.146429   \n",
       "2  2010      3  2010-03-01  19.828286       6.3      34.7           15.496774   \n",
       "3  2010      4  2010-04-01  17.593856       6.5      29.9           12.780000   \n",
       "4  2010      5  2010-05-01  15.323485       3.1      28.4           11.187097   \n",
       "\n",
       "   temp_avg_daily_max  degree_days  demand_mean  demand_max  \\\n",
       "0           25.858065   144.511358  8941.450389    13765.04   \n",
       "1           24.682143   124.982743  8855.467677    13377.27   \n",
       "2           24.725806   106.809763  8698.725127    11991.47   \n",
       "3           23.063333    68.136038  8452.863411    11436.13   \n",
       "4           19.596774   123.937772  8897.770510    12386.49   \n",
       "\n",
       "   demand_avg_daily_max  total_consumption  pv_capacity  population       gsp  \n",
       "0          10613.530000        6554083.135    28278.392     7110454  44504.25  \n",
       "1          10380.667857        5831325.465    32153.986     7119405  44504.25  \n",
       "2          10132.978710        6319623.805    38195.588     7128356  44504.25  \n",
       "3           9804.072333        5984627.295    45142.723     7133668  44504.25  \n",
       "4          10558.023548        6459781.390    54370.332     7138980  44504.25  "
      ]
     },
     "execution_count": 7,
     "metadata": {},
     "output_type": "execute_result"
    }
   ],
   "source": [
    "dem_data.head()"
   ]
  },
  {
   "cell_type": "code",
   "execution_count": 8,
   "id": "45b8d305-1627-4219-8fdd-797fd11b668c",
   "metadata": {},
   "outputs": [],
   "source": [
    "peakDemand_w_DD = dem_data.drop([ 'year', 'month', 'date','temp_mean', 'temp_min', 'temp_max', 'demand_mean','demand_max', 'total_consumption', 'gsp','temp_avg_daily_max','temp_avg_daily_min'], axis=1)"
   ]
  },
  {
   "cell_type": "code",
   "execution_count": 9,
   "id": "c370e74e-3867-45ab-90d0-ba7cf5b156d2",
   "metadata": {},
   "outputs": [
    {
     "data": {
      "text/html": [
       "<div>\n",
       "<style scoped>\n",
       "    .dataframe tbody tr th:only-of-type {\n",
       "        vertical-align: middle;\n",
       "    }\n",
       "\n",
       "    .dataframe tbody tr th {\n",
       "        vertical-align: top;\n",
       "    }\n",
       "\n",
       "    .dataframe thead th {\n",
       "        text-align: right;\n",
       "    }\n",
       "</style>\n",
       "<table border=\"1\" class=\"dataframe\">\n",
       "  <thead>\n",
       "    <tr style=\"text-align: right;\">\n",
       "      <th></th>\n",
       "      <th>degree_days</th>\n",
       "      <th>demand_avg_daily_max</th>\n",
       "      <th>pv_capacity</th>\n",
       "      <th>population</th>\n",
       "    </tr>\n",
       "  </thead>\n",
       "  <tbody>\n",
       "    <tr>\n",
       "      <th>0</th>\n",
       "      <td>144.511358</td>\n",
       "      <td>10613.530000</td>\n",
       "      <td>28278.392</td>\n",
       "      <td>7110454</td>\n",
       "    </tr>\n",
       "    <tr>\n",
       "      <th>1</th>\n",
       "      <td>124.982743</td>\n",
       "      <td>10380.667857</td>\n",
       "      <td>32153.986</td>\n",
       "      <td>7119405</td>\n",
       "    </tr>\n",
       "    <tr>\n",
       "      <th>2</th>\n",
       "      <td>106.809763</td>\n",
       "      <td>10132.978710</td>\n",
       "      <td>38195.588</td>\n",
       "      <td>7128356</td>\n",
       "    </tr>\n",
       "    <tr>\n",
       "      <th>3</th>\n",
       "      <td>68.136038</td>\n",
       "      <td>9804.072333</td>\n",
       "      <td>45142.723</td>\n",
       "      <td>7133668</td>\n",
       "    </tr>\n",
       "    <tr>\n",
       "      <th>4</th>\n",
       "      <td>123.937772</td>\n",
       "      <td>10558.023548</td>\n",
       "      <td>54370.332</td>\n",
       "      <td>7138980</td>\n",
       "    </tr>\n",
       "  </tbody>\n",
       "</table>\n",
       "</div>"
      ],
      "text/plain": [
       "   degree_days  demand_avg_daily_max  pv_capacity  population\n",
       "0   144.511358          10613.530000    28278.392     7110454\n",
       "1   124.982743          10380.667857    32153.986     7119405\n",
       "2   106.809763          10132.978710    38195.588     7128356\n",
       "3    68.136038           9804.072333    45142.723     7133668\n",
       "4   123.937772          10558.023548    54370.332     7138980"
      ]
     },
     "execution_count": 9,
     "metadata": {},
     "output_type": "execute_result"
    }
   ],
   "source": [
    "peakDemand_w_DD.head()"
   ]
  },
  {
   "cell_type": "code",
   "execution_count": 10,
   "id": "fcb9e783-c6cb-4219-8ec5-f69dc213506e",
   "metadata": {},
   "outputs": [],
   "source": [
    "peakDemand_w_DD.to_csv(Path(\"C:/Users/User/Documents/UNSW_Data Science 7446/ZZSC9020 Data Science Capstone Project/Data/peakDemand_W_DD.txt\"),  sep=',', index=False, header=None)"
   ]
  },
  {
   "cell_type": "code",
   "execution_count": 11,
   "id": "38cf58a9-343b-4474-b48d-53559f884788",
   "metadata": {},
   "outputs": [],
   "source": [
    "\n",
    "# min_max = MinMaxScaler()\n",
    "\n",
    "# peakDemand_w_DD_min_max = min_max.fit_transform(peakDemand_w_DD)"
   ]
  },
  {
   "cell_type": "code",
   "execution_count": 12,
   "id": "7d51bde9-53fc-407c-8596-5b2382680fcc",
   "metadata": {},
   "outputs": [],
   "source": [
    "# scaled_df_peakDemand_w_DD_min_max = pd.DataFrame(peakDemand_w_DD_min_max, columns=['degree_days', 'demand_avg_daily_max',\n",
    "#        'pv_capacity', 'population'])"
   ]
  },
  {
   "cell_type": "markdown",
   "id": "c8084a65-3df9-40cd-b70e-cf9127d8c287",
   "metadata": {},
   "source": [
    "### Stacking for Regression - Peak Demand (DD) with Normalisation"
   ]
  },
  {
   "cell_type": "code",
   "execution_count": 13,
   "id": "b4e8f876-fd5d-448d-be1d-3b645823f3c7",
   "metadata": {},
   "outputs": [],
   "source": [
    "X = peakDemand_w_DD.iloc[:,[0,2,3]].values\n",
    "transformer = MinMaxScaler().fit(X)  # fit does nothing.\n",
    "X = transformer.transform(X)\n",
    "y = peakDemand_w_DD.iloc[:, 1].values"
   ]
  },
  {
   "cell_type": "code",
   "execution_count": 14,
   "id": "695a7686-5bcf-475f-9ba4-229e14947136",
   "metadata": {},
   "outputs": [],
   "source": [
    "X_train, X_test, y_train, y_test = train_test_split(X, y, test_size = 0.4)"
   ]
  },
  {
   "cell_type": "code",
   "execution_count": 15,
   "id": "a1d387bd-48e6-41ac-b397-e93719a48f46",
   "metadata": {},
   "outputs": [],
   "source": [
    "# get the models to evaluate\n",
    "models = get_models()"
   ]
  },
  {
   "cell_type": "code",
   "execution_count": 16,
   "id": "798d234c-e7a3-4937-900f-a2055f0cc636",
   "metadata": {},
   "outputs": [
    {
     "name": "stdout",
     "output_type": "stream",
     "text": [
      ">knn -259.881 (62.230)\n",
      ">cart -260.399 (72.752)\n",
      ">rf -215.501 (53.101)\n",
      ">gb -213.921 (56.249)\n",
      ">svm -520.249 (98.275)\n",
      ">stacking -222.012 (58.538)\n"
     ]
    }
   ],
   "source": [
    "# evaluate the models and store results\n",
    "results, names = list(), list()\n",
    "for name, model in models.items():\n",
    " scores = evaluate_model(model, X_train, y_train)\n",
    " results.append(scores)\n",
    " names.append(name)\n",
    " print('>%s %.3f (%.3f)' % (name, mean(scores), std(scores)))"
   ]
  },
  {
   "cell_type": "code",
   "execution_count": 17,
   "id": "2417965e-e6fb-414f-888a-710bea4c5359",
   "metadata": {},
   "outputs": [
    {
     "data": {
      "image/png": "[encoded data removed]",
      "text/plain": [
       "<Figure size 640x480 with 1 Axes>"
      ]
     },
     "metadata": {},
     "output_type": "display_data"
    }
   ],
   "source": [
    "# plot model performance for comparison\n",
    "plt.boxplot(results, labels=names, showmeans=True)\n",
    "plt.show()"
   ]
  },
  {
   "cell_type": "code",
   "execution_count": 18,
   "id": "8659f1ca-be9f-4072-8335-e630882f02fa",
   "metadata": {},
   "outputs": [
    {
     "data": {
      "image/png": "[encoded data removed]",
      "text/plain": [
       "<Figure size 640x480 with 1 Axes>"
      ]
     },
     "metadata": {},
     "output_type": "display_data"
    },
    {
     "data": {
      "image/png": "[encoded data removed]",
      "text/plain": [
       "<Figure size 640x480 with 1 Axes>"
      ]
     },
     "metadata": {},
     "output_type": "display_data"
    },
    {
     "name": "stdout",
     "output_type": "stream",
     "text": [
      "RMSE: 266.8563947438248\n",
      "R-Squared: 0.8345034335992862\n"
     ]
    }
   ],
   "source": [
    "# define the base models\n",
    "level0 = list()\n",
    "level0.append(('knn', KNeighborsRegressor()))\n",
    "level0.append(('cart', DecisionTreeRegressor()))\n",
    "level0.append(('rf', RandomForestRegressor()))\n",
    "level0.append(('gb', GradientBoostingRegressor()))\n",
    "level0.append(('svm', SVR()))\n",
    "# define meta learner model\n",
    "level1 = LinearRegression()\n",
    "# define the stacking ensemble\n",
    "model = StackingRegressor(estimators=level0, final_estimator=level1, cv=5)\n",
    "# fit the model on all available data\n",
    "model.fit(X_train, y_train)\n",
    "# make a prediction for one example\n",
    "yhat = model.predict(X_test)\n",
    "rmse = np.sqrt(mean_squared_error(y_test, yhat))\n",
    "rsquared = r2_score(y_test, yhat)\n",
    "residuals = yhat - y_test\n",
    "plt.plot(residuals, linewidth=1)\n",
    "plt.savefig('scikit_linear.png')\n",
    "plt.show()\n",
    "sns.regplot(x=y_test,y=yhat,ci=None,color ='orange');\n",
    "plt.xlabel('Actual');\n",
    "plt.ylabel('Predicted');\n",
    "plt.savefig('regression_plot_2 features.png')\n",
    "plt.show()\n",
    "print('RMSE:', rmse)\n",
    "print('R-Squared:', rsquared)\n"
   ]
  },
  {
   "cell_type": "code",
   "execution_count": 34,
   "id": "deb79d3b-c8d9-402e-ae0a-e27250809f92",
   "metadata": {},
   "outputs": [],
   "source": [
    "def Grid_Search_CV_RFR(X_train, y_train):\n",
    "    from sklearn.model_selection import GridSearchCV\n",
    "    from sklearn.model_selection import ShuffleSplit\n",
    "    from sklearn.ensemble import RandomForestRegressor\n",
    "\n",
    "    estimator = RandomForestRegressor()\n",
    "    param_grid = { \n",
    "            \"n_estimators\"      : [10,20,30],\n",
    "            \"max_features\"      : [\"auto\", \"sqrt\", \"log2\"],\n",
    "            \"min_samples_split\" : [2,4,8],\n",
    "            \"bootstrap\": [True, False],\n",
    "            }\n",
    "\n",
    "    grid = GridSearchCV(estimator, param_grid, n_jobs=-1, cv=5)\n",
    "\n",
    "    grid.fit(X_train, y_train)\n",
    "\n",
    "    return grid.best_score_ , grid.best_params_\n",
    "\n",
    "def RFR(X_train, X_test, y_train, y_test, best_params):\n",
    "    from sklearn.ensemble import RandomForestRegressor\n",
    "    estimator = RandomForestRegressor(n_jobs=-1).set_params(**best_params)\n",
    "    estimator.fit(X_train,y_train)\n",
    "    y_predict = estimator.predict(X_test)\n",
    "    print (\"RMSE score:\",np.sqrt(mean_squared_error(y_test,y_predict)))\n",
    "    return y_test,y_predict\n",
    "\n",
    "def splitter_v2(tab,y_indicator):\n",
    "    from sklearn.model_selection import train_test_split\n",
    "    # Asignamos X e y, eliminando la columna y en X\n",
    "    X = correlacion(tab,y_indicator)\n",
    "    y = tab[:,y_indicator]\n",
    "    # Separamos Train y Test respectivamente para X e y\n",
    "    X_train, X_test, y_train, y_test = train_test_split(X, y, test_size=0.4)\n",
    "    return X_train, X_test, y_train, y_test"
   ]
  },
  {
   "cell_type": "code",
   "execution_count": 35,
   "id": "889fa67b-f0ca-40f0-bc49-8469b89911f3",
   "metadata": {},
   "outputs": [
    {
     "name": "stdout",
     "output_type": "stream",
     "text": [
      "Loop:  0\n",
      "--------------\n"
     ]
    },
    {
     "name": "stderr",
     "output_type": "stream",
     "text": [
      "C:\\Users\\User\\anaconda3\\Lib\\site-packages\\sklearn\\ensemble\\_forest.py:413: FutureWarning: `max_features='auto'` has been deprecated in 1.1 and will be removed in 1.3. To keep the past behaviour, explicitly set `max_features=1.0` or remove this parameter as it is also the default value for RandomForestRegressors and ExtraTreesRegressors.\n",
      "  warn(\n",
      "C:\\Users\\User\\anaconda3\\Lib\\site-packages\\sklearn\\ensemble\\_forest.py:413: FutureWarning: `max_features='auto'` has been deprecated in 1.1 and will be removed in 1.3. To keep the past behaviour, explicitly set `max_features=1.0` or remove this parameter as it is also the default value for RandomForestRegressors and ExtraTreesRegressors.\n",
      "  warn(\n"
     ]
    },
    {
     "name": "stdout",
     "output_type": "stream",
     "text": [
      "RMSE score: 286.97415079422126\n",
      "Best Score: 0.8118758054305545\n",
      "Best params: {'bootstrap': True, 'max_features': 'auto', 'min_samples_split': 8, 'n_estimators': 20}\n",
      "Loop:  1\n",
      "--------------\n"
     ]
    },
    {
     "name": "stderr",
     "output_type": "stream",
     "text": [
      "C:\\Users\\User\\anaconda3\\Lib\\site-packages\\sklearn\\ensemble\\_forest.py:413: FutureWarning: `max_features='auto'` has been deprecated in 1.1 and will be removed in 1.3. To keep the past behaviour, explicitly set `max_features=1.0` or remove this parameter as it is also the default value for RandomForestRegressors and ExtraTreesRegressors.\n",
      "  warn(\n",
      "C:\\Users\\User\\anaconda3\\Lib\\site-packages\\sklearn\\ensemble\\_forest.py:413: FutureWarning: `max_features='auto'` has been deprecated in 1.1 and will be removed in 1.3. To keep the past behaviour, explicitly set `max_features=1.0` or remove this parameter as it is also the default value for RandomForestRegressors and ExtraTreesRegressors.\n",
      "  warn(\n"
     ]
    },
    {
     "name": "stdout",
     "output_type": "stream",
     "text": [
      "RMSE score: 272.94950425982154\n",
      "Best Score: 0.8054256369555622\n",
      "Best params: {'bootstrap': True, 'max_features': 'auto', 'min_samples_split': 8, 'n_estimators': 30}\n",
      "Loop:  2\n",
      "--------------\n"
     ]
    },
    {
     "name": "stderr",
     "output_type": "stream",
     "text": [
      "C:\\Users\\User\\anaconda3\\Lib\\site-packages\\sklearn\\ensemble\\_forest.py:413: FutureWarning: `max_features='auto'` has been deprecated in 1.1 and will be removed in 1.3. To keep the past behaviour, explicitly set `max_features=1.0` or remove this parameter as it is also the default value for RandomForestRegressors and ExtraTreesRegressors.\n",
      "  warn(\n",
      "C:\\Users\\User\\anaconda3\\Lib\\site-packages\\sklearn\\ensemble\\_forest.py:413: FutureWarning: `max_features='auto'` has been deprecated in 1.1 and will be removed in 1.3. To keep the past behaviour, explicitly set `max_features=1.0` or remove this parameter as it is also the default value for RandomForestRegressors and ExtraTreesRegressors.\n",
      "  warn(\n"
     ]
    },
    {
     "name": "stdout",
     "output_type": "stream",
     "text": [
      "RMSE score: 264.9241148731804\n",
      "Best Score: 0.8019475755136062\n",
      "Best params: {'bootstrap': True, 'max_features': 'auto', 'min_samples_split': 8, 'n_estimators': 20}\n",
      "Loop:  3\n",
      "--------------\n"
     ]
    },
    {
     "name": "stderr",
     "output_type": "stream",
     "text": [
      "C:\\Users\\User\\anaconda3\\Lib\\site-packages\\sklearn\\ensemble\\_forest.py:413: FutureWarning: `max_features='auto'` has been deprecated in 1.1 and will be removed in 1.3. To keep the past behaviour, explicitly set `max_features=1.0` or remove this parameter as it is also the default value for RandomForestRegressors and ExtraTreesRegressors.\n",
      "  warn(\n",
      "C:\\Users\\User\\anaconda3\\Lib\\site-packages\\sklearn\\ensemble\\_forest.py:413: FutureWarning: `max_features='auto'` has been deprecated in 1.1 and will be removed in 1.3. To keep the past behaviour, explicitly set `max_features=1.0` or remove this parameter as it is also the default value for RandomForestRegressors and ExtraTreesRegressors.\n",
      "  warn(\n"
     ]
    },
    {
     "name": "stdout",
     "output_type": "stream",
     "text": [
      "RMSE score: 280.76984508143266\n",
      "Best Score: 0.8118112760468467\n",
      "Best params: {'bootstrap': True, 'max_features': 'auto', 'min_samples_split': 2, 'n_estimators': 20}\n",
      "Loop:  4\n",
      "--------------\n",
      "RMSE score: 274.89463915962597\n",
      "Best Score: 0.8169617641598229\n",
      "Best params: {'bootstrap': True, 'max_features': 'auto', 'min_samples_split': 8, 'n_estimators': 10}\n"
     ]
    },
    {
     "name": "stderr",
     "output_type": "stream",
     "text": [
      "C:\\Users\\User\\anaconda3\\Lib\\site-packages\\sklearn\\ensemble\\_forest.py:413: FutureWarning: `max_features='auto'` has been deprecated in 1.1 and will be removed in 1.3. To keep the past behaviour, explicitly set `max_features=1.0` or remove this parameter as it is also the default value for RandomForestRegressors and ExtraTreesRegressors.\n",
      "  warn(\n",
      "C:\\Users\\User\\anaconda3\\Lib\\site-packages\\sklearn\\ensemble\\_forest.py:413: FutureWarning: `max_features='auto'` has been deprecated in 1.1 and will be removed in 1.3. To keep the past behaviour, explicitly set `max_features=1.0` or remove this parameter as it is also the default value for RandomForestRegressors and ExtraTreesRegressors.\n",
      "  warn(\n"
     ]
    }
   ],
   "source": [
    "for i in range(5):\n",
    "    print (\"Loop: \" , i)\n",
    "    print (\"--------------\")\n",
    "    #X_train, X_test, y_train, y_test = splitter_v2(tab,1)\n",
    "    best_score, best_params = Grid_Search_CV_RFR(X_train, y_train)\n",
    "    y_test , y_predict = RFR(X_train, X_test, y_train, y_test, best_params)\n",
    "    print (\"Best Score:\" ,best_score)\n",
    "    print (\"Best params:\",best_params)"
   ]
  },
  {
   "cell_type": "code",
   "execution_count": null,
   "id": "3a5fd590-7d27-4ffa-b07e-a8f5e484d1e5",
   "metadata": {},
   "outputs": [],
   "source": []
  },
  {
   "cell_type": "code",
   "execution_count": null,
   "id": "25a620b3-c7d0-46f3-8ff6-82f71bf21bac",
   "metadata": {},
   "outputs": [],
   "source": []
  },
  {
   "cell_type": "code",
   "execution_count": null,
   "id": "3e2f2f2d-2dac-4741-ba4f-0ad259c04c9e",
   "metadata": {},
   "outputs": [],
   "source": []
  },
  {
   "cell_type": "code",
   "execution_count": null,
   "id": "7fca211a-529f-44bc-bb59-76aaac77659b",
   "metadata": {},
   "outputs": [],
   "source": []
  }
 ],
 "metadata": {
  "kernelspec": {
   "display_name": "Python 3 (ipykernel)",
   "language": "python",
   "name": "python3"
  },
  "language_info": {
   "codemirror_mode": {
    "name": "ipython",
    "version": 3
   },
   "file_extension": ".py",
   "mimetype": "text/x-python",
   "name": "python",
   "nbconvert_exporter": "python",
   "pygments_lexer": "ipython3",
   "version": "3.11.7"
  }
 },
 "nbformat": 4,
 "nbformat_minor": 5
}
