{
 "cells": [
  {
   "cell_type": "code",
   "execution_count": 65,
   "id": "9f2d3816-7232-406f-a2b3-aae6736b4ef6",
   "metadata": {},
   "outputs": [],
   "source": [
    "import pandas as pd\n",
    "import numpy as np\n",
    "import matplotlib.pyplot as plt\n",
    "import seaborn as sns\n",
    "from seaborn import swarmplot\n",
    "from pathlib import Path\n",
    "import datetime\n",
    "from ydata_profiling import ProfileReport\n",
    "color_pal = sns.color_palette()\n",
    "plt.style.use('fivethirtyeight')\n",
    "\n",
    "#ARIMA\n",
    "from statsmodels.tsa.arima_model import ARIMA\n",
    "from statsmodels.tsa.api import ExponentialSmoothing, SimpleExpSmoothing, Holt\n",
    "from statsmodels.tools.eval_measures import rmse\n",
    "\n",
    "from sklearn.metrics import mean_squared_error\n",
    "from sklearn.linear_model import LinearRegression\n",
    "from sklearn import linear_model\n",
    "from sklearn.svm import SVR\n",
    "from sklearn.pipeline import make_pipeline\n",
    "from sklearn.preprocessing import StandardScaler\n",
    "\n",
    "import pmdarima as pm\n",
    "#from fbprophet import Prophet\n",
    "\n",
    "import xgboost as xgb\n",
    "\n",
    "\n",
    "from pandas import to_datetime\n",
    "from pmdarima.model_selection import train_test_split\n",
    "from numpy import *\n",
    "\n",
    "from sklearn import datasets, linear_model\n",
    "from sklearn.datasets import load_wine\n",
    "from sklearn.metrics import mean_squared_error, r2_score\n",
    "from sklearn.metrics import accuracy_score\n",
    "from sklearn.metrics import confusion_matrix\n",
    "from sklearn.preprocessing import Normalizer\n",
    "from sklearn.preprocessing import MinMaxScaler\n",
    "\n",
    "from sklearn.model_selection import train_test_split\n",
    "from sklearn.model_selection import cross_validate\n",
    "from sklearn.feature_selection import RFE\n",
    "from sklearn import metrics\n",
    "from sklearn.metrics import roc_auc_score\n",
    "from scipy.stats import pearsonr\n",
    "\n",
    "%matplotlib inline\n",
    "\n",
    "import random\n",
    "from numpy import * \n",
    "from sklearn.metrics import roc_curve, auc\n",
    "\n",
    "import itertools\n",
    "import warnings\n",
    "import time\n",
    "\n",
    "\n",
    "warnings.filterwarnings('ignore', category=UserWarning, module='openpyxl')"
   ]
  },
  {
   "cell_type": "code",
   "execution_count": 66,
   "id": "f5f343b3-f89a-4ac1-839c-cf995df31b37",
   "metadata": {},
   "outputs": [],
   "source": [
    "def load_demand_full_data():\n",
    "    return pd.read_csv(Path(\"C:/Users/User/Documents/UNSW_Data Science 7446/ZZSC9020 Data Science Capstone Project/Data/model_data.csv\"))"
   ]
  },
  {
   "cell_type": "code",
   "execution_count": 67,
   "id": "5767b2f9-a613-4d73-8309-625b7d45a90e",
   "metadata": {},
   "outputs": [],
   "source": [
    "# def timer(f):\n",
    "#     start = time.time()\n",
    "#     res = f()\n",
    "#     end = time.time()\n",
    "#     print(\"fitting: {}\".format(end -start))\n",
    "#     return res"
   ]
  },
  {
   "cell_type": "code",
   "execution_count": 68,
   "id": "37405af4-805a-4fd8-a803-5bef729c45ac",
   "metadata": {},
   "outputs": [],
   "source": [
    "# def build_model_for_data(data, target):\n",
    "#     X_train, X_test, y_train, y_test = train_test_split(data, target, random_state=1, test_size=0.4)\n",
    "#     pipeline = make_pipeline(LinearRegression())\n",
    "#     model = timer(lambda:pipeline.fit(X_train, y_train))\n",
    "#     return(X_test, y_test, model)"
   ]
  },
  {
   "cell_type": "code",
   "execution_count": 69,
   "id": "b8772181-b6b1-4b5c-9715-c5ca1fa4a511",
   "metadata": {},
   "outputs": [],
   "source": [
    "demand_full = load_demand_full_data()"
   ]
  },
  {
   "cell_type": "code",
   "execution_count": 70,
   "id": "6aca49c8-adaa-4afa-b08d-c9803a287ebe",
   "metadata": {},
   "outputs": [
    {
     "data": {
      "text/html": [
       "<div>\n",
       "<style scoped>\n",
       "    .dataframe tbody tr th:only-of-type {\n",
       "        vertical-align: middle;\n",
       "    }\n",
       "\n",
       "    .dataframe tbody tr th {\n",
       "        vertical-align: top;\n",
       "    }\n",
       "\n",
       "    .dataframe thead th {\n",
       "        text-align: right;\n",
       "    }\n",
       "</style>\n",
       "<table border=\"1\" class=\"dataframe\">\n",
       "  <thead>\n",
       "    <tr style=\"text-align: right;\">\n",
       "      <th></th>\n",
       "      <th>Unnamed: 0</th>\n",
       "      <th>Year</th>\n",
       "      <th>Month</th>\n",
       "      <th>temp_mean</th>\n",
       "      <th>temp_min</th>\n",
       "      <th>temp_max</th>\n",
       "      <th>demand_mean</th>\n",
       "      <th>total_consumption</th>\n",
       "      <th>demand_max</th>\n",
       "      <th>demand_mean_max</th>\n",
       "      <th>pv_capacity</th>\n",
       "      <th>population</th>\n",
       "      <th>gsp</th>\n",
       "    </tr>\n",
       "  </thead>\n",
       "  <tbody>\n",
       "    <tr>\n",
       "      <th>0</th>\n",
       "      <td>0</td>\n",
       "      <td>2010</td>\n",
       "      <td>1</td>\n",
       "      <td>20.868008</td>\n",
       "      <td>1.6</td>\n",
       "      <td>41.1</td>\n",
       "      <td>8941.450389</td>\n",
       "      <td>6554083.135</td>\n",
       "      <td>13765.04</td>\n",
       "      <td>10613.530000</td>\n",
       "      <td>28278.392</td>\n",
       "      <td>7110454</td>\n",
       "      <td>44504.25</td>\n",
       "    </tr>\n",
       "    <tr>\n",
       "      <th>1</th>\n",
       "      <td>1</td>\n",
       "      <td>2010</td>\n",
       "      <td>2</td>\n",
       "      <td>20.218907</td>\n",
       "      <td>3.2</td>\n",
       "      <td>35.4</td>\n",
       "      <td>8855.467677</td>\n",
       "      <td>5831325.465</td>\n",
       "      <td>13377.27</td>\n",
       "      <td>10380.667857</td>\n",
       "      <td>32153.986</td>\n",
       "      <td>7119405</td>\n",
       "      <td>44504.25</td>\n",
       "    </tr>\n",
       "    <tr>\n",
       "      <th>2</th>\n",
       "      <td>2</td>\n",
       "      <td>2010</td>\n",
       "      <td>3</td>\n",
       "      <td>19.828286</td>\n",
       "      <td>6.3</td>\n",
       "      <td>34.7</td>\n",
       "      <td>8698.725127</td>\n",
       "      <td>6319623.805</td>\n",
       "      <td>11991.47</td>\n",
       "      <td>10132.978710</td>\n",
       "      <td>38195.588</td>\n",
       "      <td>7128356</td>\n",
       "      <td>44504.25</td>\n",
       "    </tr>\n",
       "    <tr>\n",
       "      <th>3</th>\n",
       "      <td>3</td>\n",
       "      <td>2010</td>\n",
       "      <td>4</td>\n",
       "      <td>17.593856</td>\n",
       "      <td>6.5</td>\n",
       "      <td>29.9</td>\n",
       "      <td>8452.863411</td>\n",
       "      <td>5984627.295</td>\n",
       "      <td>11436.13</td>\n",
       "      <td>9804.072333</td>\n",
       "      <td>45142.723</td>\n",
       "      <td>7133668</td>\n",
       "      <td>44504.25</td>\n",
       "    </tr>\n",
       "    <tr>\n",
       "      <th>4</th>\n",
       "      <td>4</td>\n",
       "      <td>2010</td>\n",
       "      <td>5</td>\n",
       "      <td>15.323485</td>\n",
       "      <td>3.1</td>\n",
       "      <td>28.4</td>\n",
       "      <td>8897.770510</td>\n",
       "      <td>6459781.390</td>\n",
       "      <td>12386.49</td>\n",
       "      <td>10558.023548</td>\n",
       "      <td>54370.332</td>\n",
       "      <td>7138980</td>\n",
       "      <td>44504.25</td>\n",
       "    </tr>\n",
       "  </tbody>\n",
       "</table>\n",
       "</div>"
      ],
      "text/plain": [
       "   Unnamed: 0  Year  Month  temp_mean  temp_min  temp_max  demand_mean  \\\n",
       "0           0  2010      1  20.868008       1.6      41.1  8941.450389   \n",
       "1           1  2010      2  20.218907       3.2      35.4  8855.467677   \n",
       "2           2  2010      3  19.828286       6.3      34.7  8698.725127   \n",
       "3           3  2010      4  17.593856       6.5      29.9  8452.863411   \n",
       "4           4  2010      5  15.323485       3.1      28.4  8897.770510   \n",
       "\n",
       "   total_consumption  demand_max  demand_mean_max  pv_capacity  population  \\\n",
       "0        6554083.135    13765.04     10613.530000    28278.392     7110454   \n",
       "1        5831325.465    13377.27     10380.667857    32153.986     7119405   \n",
       "2        6319623.805    11991.47     10132.978710    38195.588     7128356   \n",
       "3        5984627.295    11436.13      9804.072333    45142.723     7133668   \n",
       "4        6459781.390    12386.49     10558.023548    54370.332     7138980   \n",
       "\n",
       "        gsp  \n",
       "0  44504.25  \n",
       "1  44504.25  \n",
       "2  44504.25  \n",
       "3  44504.25  \n",
       "4  44504.25  "
      ]
     },
     "execution_count": 70,
     "metadata": {},
     "output_type": "execute_result"
    }
   ],
   "source": [
    "demand_full.head()"
   ]
  },
  {
   "cell_type": "code",
   "execution_count": 71,
   "id": "787aa6b0-0a01-42cd-8161-4d096c0e5c5e",
   "metadata": {},
   "outputs": [],
   "source": [
    "demand = demand_full.drop(['Unnamed: 0', 'Year', 'Month', 'temp_min', 'temp_max', 'demand_max'], axis=1)"
   ]
  },
  {
   "cell_type": "code",
   "execution_count": 72,
   "id": "07bfd2fe-ec0e-4217-8045-9a95054a7d46",
   "metadata": {},
   "outputs": [
    {
     "data": {
      "text/html": [
       "<div>\n",
       "<style scoped>\n",
       "    .dataframe tbody tr th:only-of-type {\n",
       "        vertical-align: middle;\n",
       "    }\n",
       "\n",
       "    .dataframe tbody tr th {\n",
       "        vertical-align: top;\n",
       "    }\n",
       "\n",
       "    .dataframe thead th {\n",
       "        text-align: right;\n",
       "    }\n",
       "</style>\n",
       "<table border=\"1\" class=\"dataframe\">\n",
       "  <thead>\n",
       "    <tr style=\"text-align: right;\">\n",
       "      <th></th>\n",
       "      <th>temp_mean</th>\n",
       "      <th>demand_mean</th>\n",
       "      <th>total_consumption</th>\n",
       "      <th>demand_mean_max</th>\n",
       "      <th>pv_capacity</th>\n",
       "      <th>population</th>\n",
       "      <th>gsp</th>\n",
       "    </tr>\n",
       "  </thead>\n",
       "  <tbody>\n",
       "    <tr>\n",
       "      <th>0</th>\n",
       "      <td>20.868008</td>\n",
       "      <td>8941.450389</td>\n",
       "      <td>6554083.135</td>\n",
       "      <td>10613.530000</td>\n",
       "      <td>28278.392</td>\n",
       "      <td>7110454</td>\n",
       "      <td>44504.25</td>\n",
       "    </tr>\n",
       "    <tr>\n",
       "      <th>1</th>\n",
       "      <td>20.218907</td>\n",
       "      <td>8855.467677</td>\n",
       "      <td>5831325.465</td>\n",
       "      <td>10380.667857</td>\n",
       "      <td>32153.986</td>\n",
       "      <td>7119405</td>\n",
       "      <td>44504.25</td>\n",
       "    </tr>\n",
       "    <tr>\n",
       "      <th>2</th>\n",
       "      <td>19.828286</td>\n",
       "      <td>8698.725127</td>\n",
       "      <td>6319623.805</td>\n",
       "      <td>10132.978710</td>\n",
       "      <td>38195.588</td>\n",
       "      <td>7128356</td>\n",
       "      <td>44504.25</td>\n",
       "    </tr>\n",
       "    <tr>\n",
       "      <th>3</th>\n",
       "      <td>17.593856</td>\n",
       "      <td>8452.863411</td>\n",
       "      <td>5984627.295</td>\n",
       "      <td>9804.072333</td>\n",
       "      <td>45142.723</td>\n",
       "      <td>7133668</td>\n",
       "      <td>44504.25</td>\n",
       "    </tr>\n",
       "    <tr>\n",
       "      <th>4</th>\n",
       "      <td>15.323485</td>\n",
       "      <td>8897.770510</td>\n",
       "      <td>6459781.390</td>\n",
       "      <td>10558.023548</td>\n",
       "      <td>54370.332</td>\n",
       "      <td>7138980</td>\n",
       "      <td>44504.25</td>\n",
       "    </tr>\n",
       "  </tbody>\n",
       "</table>\n",
       "</div>"
      ],
      "text/plain": [
       "   temp_mean  demand_mean  total_consumption  demand_mean_max  pv_capacity  \\\n",
       "0  20.868008  8941.450389        6554083.135     10613.530000    28278.392   \n",
       "1  20.218907  8855.467677        5831325.465     10380.667857    32153.986   \n",
       "2  19.828286  8698.725127        6319623.805     10132.978710    38195.588   \n",
       "3  17.593856  8452.863411        5984627.295      9804.072333    45142.723   \n",
       "4  15.323485  8897.770510        6459781.390     10558.023548    54370.332   \n",
       "\n",
       "   population       gsp  \n",
       "0     7110454  44504.25  \n",
       "1     7119405  44504.25  \n",
       "2     7128356  44504.25  \n",
       "3     7133668  44504.25  \n",
       "4     7138980  44504.25  "
      ]
     },
     "execution_count": 72,
     "metadata": {},
     "output_type": "execute_result"
    }
   ],
   "source": [
    "demand.head()"
   ]
  },
  {
   "cell_type": "code",
   "execution_count": 73,
   "id": "ed6b5efe-ff74-4f41-90ae-57f6ba3d331e",
   "metadata": {},
   "outputs": [],
   "source": [
    "Meandemand = demand.drop(['total_consumption','demand_mean_max', 'gsp'], axis=1)"
   ]
  },
  {
   "cell_type": "code",
   "execution_count": 74,
   "id": "f1c8930c-8b86-4fcc-a7bc-aaa86db224de",
   "metadata": {},
   "outputs": [
    {
     "data": {
      "text/html": [
       "<div>\n",
       "<style scoped>\n",
       "    .dataframe tbody tr th:only-of-type {\n",
       "        vertical-align: middle;\n",
       "    }\n",
       "\n",
       "    .dataframe tbody tr th {\n",
       "        vertical-align: top;\n",
       "    }\n",
       "\n",
       "    .dataframe thead th {\n",
       "        text-align: right;\n",
       "    }\n",
       "</style>\n",
       "<table border=\"1\" class=\"dataframe\">\n",
       "  <thead>\n",
       "    <tr style=\"text-align: right;\">\n",
       "      <th></th>\n",
       "      <th>temp_mean</th>\n",
       "      <th>demand_mean</th>\n",
       "      <th>pv_capacity</th>\n",
       "      <th>population</th>\n",
       "    </tr>\n",
       "  </thead>\n",
       "  <tbody>\n",
       "    <tr>\n",
       "      <th>0</th>\n",
       "      <td>20.868008</td>\n",
       "      <td>8941.450389</td>\n",
       "      <td>28278.392</td>\n",
       "      <td>7110454</td>\n",
       "    </tr>\n",
       "    <tr>\n",
       "      <th>1</th>\n",
       "      <td>20.218907</td>\n",
       "      <td>8855.467677</td>\n",
       "      <td>32153.986</td>\n",
       "      <td>7119405</td>\n",
       "    </tr>\n",
       "    <tr>\n",
       "      <th>2</th>\n",
       "      <td>19.828286</td>\n",
       "      <td>8698.725127</td>\n",
       "      <td>38195.588</td>\n",
       "      <td>7128356</td>\n",
       "    </tr>\n",
       "    <tr>\n",
       "      <th>3</th>\n",
       "      <td>17.593856</td>\n",
       "      <td>8452.863411</td>\n",
       "      <td>45142.723</td>\n",
       "      <td>7133668</td>\n",
       "    </tr>\n",
       "    <tr>\n",
       "      <th>4</th>\n",
       "      <td>15.323485</td>\n",
       "      <td>8897.770510</td>\n",
       "      <td>54370.332</td>\n",
       "      <td>7138980</td>\n",
       "    </tr>\n",
       "  </tbody>\n",
       "</table>\n",
       "</div>"
      ],
      "text/plain": [
       "   temp_mean  demand_mean  pv_capacity  population\n",
       "0  20.868008  8941.450389    28278.392     7110454\n",
       "1  20.218907  8855.467677    32153.986     7119405\n",
       "2  19.828286  8698.725127    38195.588     7128356\n",
       "3  17.593856  8452.863411    45142.723     7133668\n",
       "4  15.323485  8897.770510    54370.332     7138980"
      ]
     },
     "execution_count": 74,
     "metadata": {},
     "output_type": "execute_result"
    }
   ],
   "source": [
    "Meandemand.head()"
   ]
  },
  {
   "cell_type": "code",
   "execution_count": 75,
   "id": "6d35ee6b-0f9a-4802-9ceb-956b79ec9298",
   "metadata": {},
   "outputs": [],
   "source": [
    "MeanMaxdemand = demand.drop(['total_consumption','demand_mean', 'gsp'], axis=1)"
   ]
  },
  {
   "cell_type": "code",
   "execution_count": 76,
   "id": "4a42e7b7-942a-4672-ab4a-0ca8e4b0d9eb",
   "metadata": {},
   "outputs": [
    {
     "data": {
      "text/html": [
       "<div>\n",
       "<style scoped>\n",
       "    .dataframe tbody tr th:only-of-type {\n",
       "        vertical-align: middle;\n",
       "    }\n",
       "\n",
       "    .dataframe tbody tr th {\n",
       "        vertical-align: top;\n",
       "    }\n",
       "\n",
       "    .dataframe thead th {\n",
       "        text-align: right;\n",
       "    }\n",
       "</style>\n",
       "<table border=\"1\" class=\"dataframe\">\n",
       "  <thead>\n",
       "    <tr style=\"text-align: right;\">\n",
       "      <th></th>\n",
       "      <th>temp_mean</th>\n",
       "      <th>demand_mean_max</th>\n",
       "      <th>pv_capacity</th>\n",
       "      <th>population</th>\n",
       "    </tr>\n",
       "  </thead>\n",
       "  <tbody>\n",
       "    <tr>\n",
       "      <th>0</th>\n",
       "      <td>20.868008</td>\n",
       "      <td>10613.530000</td>\n",
       "      <td>28278.392</td>\n",
       "      <td>7110454</td>\n",
       "    </tr>\n",
       "    <tr>\n",
       "      <th>1</th>\n",
       "      <td>20.218907</td>\n",
       "      <td>10380.667857</td>\n",
       "      <td>32153.986</td>\n",
       "      <td>7119405</td>\n",
       "    </tr>\n",
       "    <tr>\n",
       "      <th>2</th>\n",
       "      <td>19.828286</td>\n",
       "      <td>10132.978710</td>\n",
       "      <td>38195.588</td>\n",
       "      <td>7128356</td>\n",
       "    </tr>\n",
       "    <tr>\n",
       "      <th>3</th>\n",
       "      <td>17.593856</td>\n",
       "      <td>9804.072333</td>\n",
       "      <td>45142.723</td>\n",
       "      <td>7133668</td>\n",
       "    </tr>\n",
       "    <tr>\n",
       "      <th>4</th>\n",
       "      <td>15.323485</td>\n",
       "      <td>10558.023548</td>\n",
       "      <td>54370.332</td>\n",
       "      <td>7138980</td>\n",
       "    </tr>\n",
       "  </tbody>\n",
       "</table>\n",
       "</div>"
      ],
      "text/plain": [
       "   temp_mean  demand_mean_max  pv_capacity  population\n",
       "0  20.868008     10613.530000    28278.392     7110454\n",
       "1  20.218907     10380.667857    32153.986     7119405\n",
       "2  19.828286     10132.978710    38195.588     7128356\n",
       "3  17.593856      9804.072333    45142.723     7133668\n",
       "4  15.323485     10558.023548    54370.332     7138980"
      ]
     },
     "execution_count": 76,
     "metadata": {},
     "output_type": "execute_result"
    }
   ],
   "source": [
    "MeanMaxdemand.head()"
   ]
  },
  {
   "cell_type": "code",
   "execution_count": 77,
   "id": "4cd03663-0f90-429a-9cae-8bbb17cc90f0",
   "metadata": {},
   "outputs": [
    {
     "data": {
      "text/plain": [
       "Index(['temp_mean', 'demand_mean', 'total_consumption', 'demand_mean_max',\n",
       "       'pv_capacity', 'population', 'gsp'],\n",
       "      dtype='object')"
      ]
     },
     "execution_count": 77,
     "metadata": {},
     "output_type": "execute_result"
    }
   ],
   "source": [
    "demand.columns"
   ]
  },
  {
   "cell_type": "code",
   "execution_count": 78,
   "id": "534b88e8-4a2b-44e2-b1a4-05b1aba2d79d",
   "metadata": {},
   "outputs": [
    {
     "name": "stdout",
     "output_type": "stream",
     "text": [
      "                   temp_mean  demand_mean  total_consumption  demand_mean_max  \\\n",
      "temp_mean           1.000000    -0.372918          -0.453163        -0.430865   \n",
      "demand_mean        -0.372918     1.000000           0.587890         0.950456   \n",
      "total_consumption  -0.453163     0.587890           1.000000         0.540935   \n",
      "demand_mean_max    -0.430865     0.950456           0.540935         1.000000   \n",
      "pv_capacity         0.316728    -0.627870          -0.745976        -0.445191   \n",
      "population          0.212053    -0.632958          -0.468298        -0.429565   \n",
      "gsp                 0.192176    -0.607672          -0.491817        -0.404854   \n",
      "\n",
      "                   pv_capacity  population       gsp  \n",
      "temp_mean             0.316728    0.212053  0.192176  \n",
      "demand_mean          -0.627870   -0.632958 -0.607672  \n",
      "total_consumption    -0.745976   -0.468298 -0.491817  \n",
      "demand_mean_max      -0.445191   -0.429565 -0.404854  \n",
      "pv_capacity           1.000000    0.882998  0.894704  \n",
      "population            0.882998    1.000000  0.994020  \n",
      "gsp                   0.894704    0.994020  1.000000  \n"
     ]
    },
    {
     "name": "stderr",
     "output_type": "stream",
     "text": [
      "C:\\Users\\User\\anaconda3\\Lib\\site-packages\\seaborn\\matrix.py:260: FutureWarning: Format strings passed to MaskedConstant are ignored, but in future may error or produce different behavior\n",
      "  annotation = (\"{:\" + self.fmt + \"}\").format(val)\n"
     ]
    },
    {
     "data": {
      "image/png": "[encoded data removed]",
      "text/plain": [
       "<Figure size 1200x1000 with 2 Axes>"
      ]
     },
     "metadata": {},
     "output_type": "display_data"
    }
   ],
   "source": [
    "\n",
    "corr = demand.corr()\n",
    "print(corr)\n",
    "# Set up the matplotlib plot configuration\n",
    "f, ax = plt.subplots(figsize=(12, 10))\n",
    "\n",
    "# Generate a mask for upper triangle.\n",
    "mask = np.triu(np.ones_like(corr, dtype=bool))\n",
    "\n",
    "# Configure a custom diverging colormap\n",
    "cmap = sns.diverging_palette(230, 20, as_cmap=True)\n",
    "\n",
    "# Draw the heatmap\n",
    "sns.heatmap(corr, annot=True, mask=mask)\n",
    "plt.savefig('corr_heat_map.png')"
   ]
  },
  {
   "cell_type": "code",
   "execution_count": 79,
   "id": "f5ae33ec-b8f6-4f4c-8330-cb7e475990d9",
   "metadata": {},
   "outputs": [
    {
     "data": {
      "text/plain": [
       "demand_mean          1.000000\n",
       "demand_mean_max      0.950456\n",
       "total_consumption    0.587890\n",
       "temp_mean           -0.372918\n",
       "gsp                 -0.607672\n",
       "pv_capacity         -0.627870\n",
       "population          -0.632958\n",
       "Name: demand_mean, dtype: float64"
      ]
     },
     "execution_count": 79,
     "metadata": {},
     "output_type": "execute_result"
    }
   ],
   "source": [
    "corr_matrix = demand.corr()\n",
    "corr_matrix[\"demand_mean\"].sort_values(ascending=False)"
   ]
  },
  {
   "cell_type": "code",
   "execution_count": 80,
   "id": "b3911d4f-5bb8-4668-9968-12bb95490996",
   "metadata": {},
   "outputs": [
    {
     "data": {
      "image/png": "[encoded data removed]",
      "text/plain": [
       "<Figure size 2450x700 with 5 Axes>"
      ]
     },
     "metadata": {},
     "output_type": "display_data"
    }
   ],
   "source": [
    "sns.pairplot(demand, x_vars=['temp_mean','pv_capacity','population','gsp', 'demand_mean_max'], y_vars='demand_mean', height=7, aspect=0.7);"
   ]
  },
  {
   "cell_type": "code",
   "execution_count": null,
   "id": "e67066ac-cd63-4fae-a74e-2129e77fa3da",
   "metadata": {},
   "outputs": [],
   "source": []
  },
  {
   "cell_type": "markdown",
   "id": "e61b83e4-5f7b-4033-8f6c-5629c5630cd0",
   "metadata": {},
   "source": [
    "###Linear Regression without data split"
   ]
  },
  {
   "cell_type": "code",
   "execution_count": 81,
   "id": "58da8539-cc4c-4e6f-8149-6f43d70931f7",
   "metadata": {},
   "outputs": [],
   "source": [
    "# x = demand[['temp_mean','pv_capacity','population','gsp']]\n",
    "# y = demand.demand_mean\n",
    "\n",
    "# linmod1 = LinearRegression()\n",
    "# linmod1.fit(x,y)\n",
    "\n",
    "# print(linmod1.intercept_)\n",
    "# print(linmod1.coef_)\n",
    "# list(zip(['temp_mean','pv_capacity','population','gsp'], linmod1.coef_))"
   ]
  },
  {
   "cell_type": "markdown",
   "id": "fe92ea03-124a-4ec8-8caf-4142625e19ac",
   "metadata": {},
   "source": [
    "##Calculating Model Accuracy"
   ]
  },
  {
   "cell_type": "code",
   "execution_count": 82,
   "id": "8543e94e-977f-4ea9-99e3-a4138cfd17f1",
   "metadata": {},
   "outputs": [],
   "source": [
    "# linmod1_pred = linmod1.predict((x[['temp_mean','pv_capacity','population','gsp']]))\n",
    "\n",
    "# print(\"RMSE:\", np.sqrt(mean_squared_error(y, linmod1_pred)))\n",
    "# print(\"R^2:\", r2_score(y, linmod1_pred)*100)                               \n",
    "                               "
   ]
  },
  {
   "cell_type": "markdown",
   "id": "ec839b78-043f-4492-b768-e4fd92e57c19",
   "metadata": {},
   "source": [
    "## Linear Regression with demand_mean without Normalisation (Variables - Temp_mean, PV Capacity, Population & GSP)"
   ]
  },
  {
   "cell_type": "code",
   "execution_count": 83,
   "id": "3b7573dd-7fd2-45b0-8d7c-7362e3d21bb8",
   "metadata": {},
   "outputs": [
    {
     "name": "stdout",
     "output_type": "stream",
     "text": [
      "23280.31000404054\n",
      "[-2.40136635e+01 -1.33543001e-04 -3.63206031e-03  2.58608013e-01]\n"
     ]
    },
    {
     "data": {
      "text/plain": [
       "[('temp_mean', -24.01366348110313),\n",
       " ('pv_capacity', -0.00013354300112430035),\n",
       " ('population', -0.0036320603110369006),\n",
       " ('gsp', 0.25860801328003474)]"
      ]
     },
     "execution_count": 83,
     "metadata": {},
     "output_type": "execute_result"
    }
   ],
   "source": [
    "x = demand[['temp_mean','pv_capacity','population','gsp']]\n",
    "y = demand.demand_mean\n",
    "\n",
    "x_train, x_test, y_train,y_test = train_test_split(x,y, random_state = 1, test_size=0.4)\n",
    "\n",
    "linmod2 = LinearRegression()\n",
    "linmod2.fit(x_train,y_train)\n",
    "\n",
    "print(linmod2.intercept_)\n",
    "print(linmod2.coef_)\n",
    "list(zip(['temp_mean','pv_capacity','population','gsp'], linmod2.coef_))"
   ]
  },
  {
   "cell_type": "markdown",
   "id": "021841f4-3f68-4fef-b557-12d8af2cfdc5",
   "metadata": {},
   "source": [
    "## Calculating Model Accuracy"
   ]
  },
  {
   "cell_type": "code",
   "execution_count": 84,
   "id": "89d0e754-9a87-473a-b56c-26b9dc49484a",
   "metadata": {},
   "outputs": [
    {
     "name": "stdout",
     "output_type": "stream",
     "text": [
      "RMSE: 341.53991703594585\n",
      "R^2: 50.2183520366635\n"
     ]
    }
   ],
   "source": [
    "linmod2_pred = linmod2.predict((x[['temp_mean','pv_capacity','population','gsp']]))\n",
    "\n",
    "print(\"RMSE:\", np.sqrt(mean_squared_error(y, linmod2_pred)))\n",
    "print(\"R^2:\", r2_score(y, linmod2_pred)*100)       "
   ]
  },
  {
   "cell_type": "markdown",
   "id": "2323bf87-31f2-4aee-baf5-2da54f146880",
   "metadata": {},
   "source": [
    "## Linear Regression with demand_mean without Normalisation (Variables - Temp_mean, PV Capacity, Population )"
   ]
  },
  {
   "cell_type": "code",
   "execution_count": 85,
   "id": "64b6b26f-b695-4e1a-8da0-84e3b2b7e75c",
   "metadata": {},
   "outputs": [
    {
     "name": "stdout",
     "output_type": "stream",
     "text": [
      "14007.455186076342\n",
      "[-3.78013764e+01 -3.17394512e-05 -6.84890227e-04]\n"
     ]
    },
    {
     "data": {
      "text/plain": [
       "[('temp_mean', -37.80137644111146),\n",
       " ('pv_capacity', -3.173945122772616e-05),\n",
       " ('population', -0.0006848902265829513)]"
      ]
     },
     "execution_count": 85,
     "metadata": {},
     "output_type": "execute_result"
    }
   ],
   "source": [
    "x = demand[['temp_mean','pv_capacity','population']]\n",
    "y = demand.demand_mean\n",
    "\n",
    "x_train, x_test, y_train,y_test = train_test_split(x,y, random_state = 1, test_size=0.4)\n",
    "\n",
    "linmod2 = LinearRegression()\n",
    "linmod2.fit(x_train,y_train)\n",
    "\n",
    "print(linmod2.intercept_)\n",
    "print(linmod2.coef_)\n",
    "list(zip(['temp_mean','pv_capacity','population'], linmod2.coef_))"
   ]
  },
  {
   "cell_type": "code",
   "execution_count": 86,
   "id": "2f267e9c-9ad5-4a5a-9c86-eea01e6713b4",
   "metadata": {},
   "outputs": [
    {
     "name": "stdout",
     "output_type": "stream",
     "text": [
      "RMSE: 356.27742877450027\n",
      "R^2: 45.8294866882883\n"
     ]
    }
   ],
   "source": [
    "linmod2_pred = linmod2.predict((x[['temp_mean','pv_capacity','population']]))\n",
    "\n",
    "print(\"RMSE:\", np.sqrt(mean_squared_error(y, linmod2_pred)))\n",
    "print(\"R^2:\", r2_score(y, linmod2_pred)*100)  "
   ]
  },
  {
   "cell_type": "markdown",
   "id": "70fdc8e2-150a-4421-b6cb-66e036c03cfb",
   "metadata": {},
   "source": [
    "## Linear Regression with demand_mean without Normalisation (Variables - Temp_mean, PV Capacity,  GSP)"
   ]
  },
  {
   "cell_type": "code",
   "execution_count": 87,
   "id": "3e1e2be4-9dda-42dc-bd71-687a18c8ba41",
   "metadata": {},
   "outputs": [
    {
     "name": "stdout",
     "output_type": "stream",
     "text": [
      "10917.292388991304\n",
      "[-3.59471019e+01 -7.14427210e-05 -4.19035054e-02]\n"
     ]
    },
    {
     "data": {
      "text/plain": [
       "[('temp_mean', -35.94710194947951),\n",
       " ('pv_capacity', -7.144272101803637e-05),\n",
       " ('gsp', -0.04190350537057264)]"
      ]
     },
     "execution_count": 87,
     "metadata": {},
     "output_type": "execute_result"
    }
   ],
   "source": [
    "x = demand[['temp_mean','pv_capacity','gsp']]\n",
    "y = demand.demand_mean\n",
    "\n",
    "x_train, x_test, y_train,y_test = train_test_split(x,y, random_state = 1, test_size=0.4)\n",
    "\n",
    "linmod2 = LinearRegression()\n",
    "linmod2.fit(x_train,y_train)\n",
    "\n",
    "print(linmod2.intercept_)\n",
    "print(linmod2.coef_)\n",
    "list(zip(['temp_mean','pv_capacity','gsp'], linmod2.coef_))"
   ]
  },
  {
   "cell_type": "code",
   "execution_count": 88,
   "id": "cb19f06d-9d65-4f7d-aca9-c50f00031d58",
   "metadata": {},
   "outputs": [
    {
     "name": "stdout",
     "output_type": "stream",
     "text": [
      "RMSE: 362.4951952268117\n",
      "R^2: 43.92221630402804\n"
     ]
    }
   ],
   "source": [
    "linmod2_pred = linmod2.predict((x[['temp_mean','pv_capacity','gsp']]))\n",
    "\n",
    "print(\"RMSE:\", np.sqrt(mean_squared_error(y, linmod2_pred)))\n",
    "print(\"R^2:\", r2_score(y, linmod2_pred)*100)  "
   ]
  },
  {
   "cell_type": "markdown",
   "id": "a23cd57e-cf8d-4c6e-abf9-d779efa06640",
   "metadata": {},
   "source": [
    " ## Linear Regression for demand_mean_max without  Normalisation  (Variables - Temp_mean, PV Capacity, Population & GSP)    "
   ]
  },
  {
   "cell_type": "code",
   "execution_count": 89,
   "id": "59854e80-ab31-4847-b5f0-e59f782634d4",
   "metadata": {},
   "outputs": [
    {
     "name": "stdout",
     "output_type": "stream",
     "text": [
      "25930.737752614157\n",
      "[-6.46005871e+01 -8.73805355e-05 -3.87412225e-03  2.84878148e-01]\n"
     ]
    },
    {
     "data": {
      "text/plain": [
       "[('temp_mean', -64.60058710115922),\n",
       " ('pv_capacity', -8.738053554857382e-05),\n",
       " ('population', -0.0038741222520478516),\n",
       " ('gsp', 0.2848781476906133)]"
      ]
     },
     "execution_count": 89,
     "metadata": {},
     "output_type": "execute_result"
    }
   ],
   "source": [
    "x = demand[['temp_mean','pv_capacity','population','gsp']]\n",
    "y = demand.demand_mean_max\n",
    "\n",
    "x_train, x_test, y_train,y_test = train_test_split(x,y, random_state = 1, test_size=0.4)\n",
    "\n",
    "linmod2 = LinearRegression()\n",
    "linmod2.fit(x_train,y_train)\n",
    "\n",
    "print(linmod2.intercept_)\n",
    "print(linmod2.coef_)\n",
    "list(zip(['temp_mean','pv_capacity','population','gsp'], linmod2.coef_))"
   ]
  },
  {
   "cell_type": "markdown",
   "id": "37050c15-bfe7-40e1-a941-c0fdaf44ed0f",
   "metadata": {},
   "source": [
    "# Model Accuracy"
   ]
  },
  {
   "cell_type": "code",
   "execution_count": 90,
   "id": "2ca6b0a1-2b30-4834-b761-70410dd65d55",
   "metadata": {},
   "outputs": [
    {
     "name": "stdout",
     "output_type": "stream",
     "text": [
      "RMSE: 524.2419502075609\n",
      "R^2: 32.57665180397517\n"
     ]
    }
   ],
   "source": [
    "linmod2_pred = linmod2.predict((x[['temp_mean','pv_capacity','population','gsp']]))\n",
    "\n",
    "print(\"RMSE:\", np.sqrt(mean_squared_error(y, linmod2_pred)))\n",
    "print(\"R^2:\", r2_score(y, linmod2_pred)*100)  "
   ]
  },
  {
   "cell_type": "markdown",
   "id": "9a29a283-0a4d-4c90-ac91-322f15bbd286",
   "metadata": {},
   "source": [
    "## Data Normalisation using Min_Max Scaler"
   ]
  },
  {
   "cell_type": "code",
   "execution_count": 91,
   "id": "87c0e368-c588-4bc9-8a87-1e98df92a07a",
   "metadata": {},
   "outputs": [],
   "source": [
    "\n",
    "min_max = MinMaxScaler()\n",
    "\n",
    "demand_min_max = min_max.fit_transform(Meandemand)\n",
    "demandMeanMax_min_max = min_max.fit_transform(MeanMaxdemand)\n"
   ]
  },
  {
   "cell_type": "code",
   "execution_count": 92,
   "id": "8b404ffd-90b1-48b5-9f79-6402593b8aaf",
   "metadata": {},
   "outputs": [
    {
     "name": "stdout",
     "output_type": "stream",
     "text": [
      "MinMaxScaler()\n"
     ]
    }
   ],
   "source": [
    "print(min_max.fit(demand))"
   ]
  },
  {
   "cell_type": "code",
   "execution_count": 93,
   "id": "90196955-e5fd-427c-941a-a249f0c0d573",
   "metadata": {},
   "outputs": [
    {
     "name": "stdout",
     "output_type": "stream",
     "text": [
      "[2.36854167e+01 9.31332739e+03 6.92911558e+06 1.11660557e+04\n",
      " 4.29145977e+06 8.11200100e+06 5.73910833e+04]\n"
     ]
    }
   ],
   "source": [
    "print(min_max.data_max_)"
   ]
  },
  {
   "cell_type": "code",
   "execution_count": 94,
   "id": "f2285e43-1f7c-419e-b0cc-9d444ccd14ff",
   "metadata": {},
   "outputs": [
    {
     "name": "stdout",
     "output_type": "stream",
     "text": [
      "[[7.39297559e-01 8.49323038e-01 9.41731264e-01 ... 0.00000000e+00\n",
      "  0.00000000e+00 0.00000000e+00]\n",
      " [6.79234430e-01 8.14484600e-01 8.29436510e-01 ... 9.09084943e-04\n",
      "  8.93717419e-03 0.00000000e+00]\n",
      " [6.43089275e-01 7.50975723e-01 9.05303352e-01 ... 2.32624304e-03\n",
      "  1.78743484e-02 0.00000000e+00]\n",
      " ...\n",
      " [7.59350696e-01 1.47703089e-01 4.07794439e-03 ... 9.57987541e-01\n",
      "  9.80771746e-01 1.00000000e+00]\n",
      " [8.54967829e-01 3.25848134e-01 8.99636279e-03 ... 9.76902815e-01\n",
      "  9.85005197e-01 1.00000000e+00]\n",
      " [1.00000000e+00 4.62447670e-01 1.27677485e-02 ... 1.00000000e+00\n",
      "  9.89238648e-01 1.00000000e+00]]\n"
     ]
    }
   ],
   "source": [
    "print(min_max.transform(demand))"
   ]
  },
  {
   "cell_type": "code",
   "execution_count": 95,
   "id": "0b7d63ec-bb08-48fd-a705-69d284731103",
   "metadata": {},
   "outputs": [
    {
     "name": "stdout",
     "output_type": "stream",
     "text": [
      "[[7.39297559e-01 8.49323038e-01 9.41731264e-01 ... 0.00000000e+00\n",
      "  0.00000000e+00 0.00000000e+00]\n",
      " [6.79234430e-01 8.14484600e-01 8.29436510e-01 ... 9.09084943e-04\n",
      "  8.93717419e-03 0.00000000e+00]\n",
      " [6.43089275e-01 7.50975723e-01 9.05303352e-01 ... 2.32624304e-03\n",
      "  1.78743484e-02 0.00000000e+00]\n",
      " ...\n",
      " [7.59350696e-01 1.47703089e-01 4.07794439e-03 ... 9.57987541e-01\n",
      "  9.80771746e-01 1.00000000e+00]\n",
      " [8.54967829e-01 3.25848134e-01 8.99636279e-03 ... 9.76902815e-01\n",
      "  9.85005197e-01 1.00000000e+00]\n",
      " [1.00000000e+00 4.62447670e-01 1.27677485e-02 ... 1.00000000e+00\n",
      "  9.89238648e-01 1.00000000e+00]]\n"
     ]
    }
   ],
   "source": [
    "print(min_max.fit_transform(demand))"
   ]
  },
  {
   "cell_type": "code",
   "execution_count": 96,
   "id": "d0ed16a4-27c4-44eb-9006-145057912d86",
   "metadata": {},
   "outputs": [],
   "source": [
    "scaled_df = pd.DataFrame(demand_min_max, columns=['temp_mean', 'demand_mean', \n",
    "       'pv_capacity', 'population'])"
   ]
  },
  {
   "cell_type": "code",
   "execution_count": 97,
   "id": "a0f73d24-4a7d-4c23-95f2-099b57fe446a",
   "metadata": {},
   "outputs": [],
   "source": [
    "scaled_df_MaxDemand = pd.DataFrame(demandMeanMax_min_max, columns=['temp_mean', 'demand_mean_max', \n",
    "       'pv_capacity', 'population'])"
   ]
  },
  {
   "cell_type": "code",
   "execution_count": 98,
   "id": "cd855cf3-462e-4d5e-92d8-7f1bf88bec25",
   "metadata": {},
   "outputs": [
    {
     "data": {
      "text/html": [
       "<div>\n",
       "<style scoped>\n",
       "    .dataframe tbody tr th:only-of-type {\n",
       "        vertical-align: middle;\n",
       "    }\n",
       "\n",
       "    .dataframe tbody tr th {\n",
       "        vertical-align: top;\n",
       "    }\n",
       "\n",
       "    .dataframe thead th {\n",
       "        text-align: right;\n",
       "    }\n",
       "</style>\n",
       "<table border=\"1\" class=\"dataframe\">\n",
       "  <thead>\n",
       "    <tr style=\"text-align: right;\">\n",
       "      <th></th>\n",
       "      <th>temp_mean</th>\n",
       "      <th>demand_mean_max</th>\n",
       "      <th>pv_capacity</th>\n",
       "      <th>population</th>\n",
       "    </tr>\n",
       "  </thead>\n",
       "  <tbody>\n",
       "    <tr>\n",
       "      <th>0</th>\n",
       "      <td>0.739298</td>\n",
       "      <td>0.825820</td>\n",
       "      <td>0.000000</td>\n",
       "      <td>0.000000</td>\n",
       "    </tr>\n",
       "    <tr>\n",
       "      <th>1</th>\n",
       "      <td>0.679234</td>\n",
       "      <td>0.752412</td>\n",
       "      <td>0.000909</td>\n",
       "      <td>0.008937</td>\n",
       "    </tr>\n",
       "    <tr>\n",
       "      <th>2</th>\n",
       "      <td>0.643089</td>\n",
       "      <td>0.674330</td>\n",
       "      <td>0.002326</td>\n",
       "      <td>0.017874</td>\n",
       "    </tr>\n",
       "    <tr>\n",
       "      <th>3</th>\n",
       "      <td>0.436331</td>\n",
       "      <td>0.570644</td>\n",
       "      <td>0.003956</td>\n",
       "      <td>0.023178</td>\n",
       "    </tr>\n",
       "    <tr>\n",
       "      <th>4</th>\n",
       "      <td>0.226248</td>\n",
       "      <td>0.808322</td>\n",
       "      <td>0.006120</td>\n",
       "      <td>0.028482</td>\n",
       "    </tr>\n",
       "  </tbody>\n",
       "</table>\n",
       "</div>"
      ],
      "text/plain": [
       "   temp_mean  demand_mean_max  pv_capacity  population\n",
       "0   0.739298         0.825820     0.000000    0.000000\n",
       "1   0.679234         0.752412     0.000909    0.008937\n",
       "2   0.643089         0.674330     0.002326    0.017874\n",
       "3   0.436331         0.570644     0.003956    0.023178\n",
       "4   0.226248         0.808322     0.006120    0.028482"
      ]
     },
     "execution_count": 98,
     "metadata": {},
     "output_type": "execute_result"
    }
   ],
   "source": [
    "scaled_df_MaxDemand.head()"
   ]
  },
  {
   "cell_type": "code",
   "execution_count": 99,
   "id": "860ccf0d-01ec-4929-884b-f6ecb1331e5a",
   "metadata": {
    "scrolled": true
   },
   "outputs": [
    {
     "data": {
      "text/html": [
       "<div>\n",
       "<style scoped>\n",
       "    .dataframe tbody tr th:only-of-type {\n",
       "        vertical-align: middle;\n",
       "    }\n",
       "\n",
       "    .dataframe tbody tr th {\n",
       "        vertical-align: top;\n",
       "    }\n",
       "\n",
       "    .dataframe thead th {\n",
       "        text-align: right;\n",
       "    }\n",
       "</style>\n",
       "<table border=\"1\" class=\"dataframe\">\n",
       "  <thead>\n",
       "    <tr style=\"text-align: right;\">\n",
       "      <th></th>\n",
       "      <th>temp_mean</th>\n",
       "      <th>demand_mean</th>\n",
       "      <th>pv_capacity</th>\n",
       "      <th>population</th>\n",
       "    </tr>\n",
       "  </thead>\n",
       "  <tbody>\n",
       "    <tr>\n",
       "      <th>0</th>\n",
       "      <td>0.739298</td>\n",
       "      <td>0.849323</td>\n",
       "      <td>0.000000</td>\n",
       "      <td>0.000000</td>\n",
       "    </tr>\n",
       "    <tr>\n",
       "      <th>1</th>\n",
       "      <td>0.679234</td>\n",
       "      <td>0.814485</td>\n",
       "      <td>0.000909</td>\n",
       "      <td>0.008937</td>\n",
       "    </tr>\n",
       "    <tr>\n",
       "      <th>2</th>\n",
       "      <td>0.643089</td>\n",
       "      <td>0.750976</td>\n",
       "      <td>0.002326</td>\n",
       "      <td>0.017874</td>\n",
       "    </tr>\n",
       "    <tr>\n",
       "      <th>3</th>\n",
       "      <td>0.436331</td>\n",
       "      <td>0.651358</td>\n",
       "      <td>0.003956</td>\n",
       "      <td>0.023178</td>\n",
       "    </tr>\n",
       "    <tr>\n",
       "      <th>4</th>\n",
       "      <td>0.226248</td>\n",
       "      <td>0.831625</td>\n",
       "      <td>0.006120</td>\n",
       "      <td>0.028482</td>\n",
       "    </tr>\n",
       "  </tbody>\n",
       "</table>\n",
       "</div>"
      ],
      "text/plain": [
       "   temp_mean  demand_mean  pv_capacity  population\n",
       "0   0.739298     0.849323     0.000000    0.000000\n",
       "1   0.679234     0.814485     0.000909    0.008937\n",
       "2   0.643089     0.750976     0.002326    0.017874\n",
       "3   0.436331     0.651358     0.003956    0.023178\n",
       "4   0.226248     0.831625     0.006120    0.028482"
      ]
     },
     "execution_count": 99,
     "metadata": {},
     "output_type": "execute_result"
    }
   ],
   "source": [
    "scaled_df.head()"
   ]
  },
  {
   "cell_type": "markdown",
   "id": "4568038b-0a22-4841-91aa-9ef4467c8d3c",
   "metadata": {},
   "source": [
    "## Model Fitting after normalisation - Linear Regression Model for Mean Demand with features mean temperature, pv capacity, population"
   ]
  },
  {
   "cell_type": "code",
   "execution_count": 100,
   "id": "77f0bff1-9e38-4824-992b-cc350f3f8253",
   "metadata": {},
   "outputs": [
    {
     "name": "stdout",
     "output_type": "stream",
     "text": [
      "0.7311745101699492\n",
      "[-0.16552358 -0.05482527 -0.27793282]\n"
     ]
    },
    {
     "data": {
      "text/plain": [
       "[('temp_mean', -0.1655235776803792),\n",
       " ('pv_capacity', -0.054825266989888946),\n",
       " ('population', -0.27793282054883944)]"
      ]
     },
     "execution_count": 100,
     "metadata": {},
     "output_type": "execute_result"
    }
   ],
   "source": [
    "x_mm = scaled_df[['temp_mean','pv_capacity','population']]\n",
    "y_mm = scaled_df.demand_mean\n",
    "\n",
    "x_trainM, x_testM, y_trainM,y_testM = train_test_split(x_mm,y_mm, random_state = 1, test_size=0.4)\n",
    "\n",
    "linmod_minMax = LinearRegression()\n",
    "linmod_minMax.fit(x_trainM,y_trainM)\n",
    "\n",
    "print(linmod_minMax.intercept_)\n",
    "print(linmod_minMax.coef_)\n",
    "list(zip(['temp_mean','pv_capacity', 'population'], linmod_minMax.coef_))"
   ]
  },
  {
   "cell_type": "markdown",
   "id": "5c33ff88-65dd-4ad0-81e7-64c60e963f17",
   "metadata": {},
   "source": [
    "#### Model Accuracy"
   ]
  },
  {
   "cell_type": "code",
   "execution_count": 101,
   "id": "370a75ff-2c34-4234-b7e7-99e6fd459f98",
   "metadata": {},
   "outputs": [
    {
     "name": "stdout",
     "output_type": "stream",
     "text": [
      "RMSE: 0.14435633284014787\n",
      "R^2: 45.82948668828829\n"
     ]
    }
   ],
   "source": [
    "linmod_minMax_pred = linmod_minMax.predict((x_mm[['temp_mean','pv_capacity','population']]))\n",
    "\n",
    "print(\"RMSE:\", np.sqrt(mean_squared_error(y_mm, linmod_minMax_pred)))\n",
    "print(\"R^2:\", r2_score(y_mm, linmod_minMax_pred)*100)  "
   ]
  },
  {
   "cell_type": "markdown",
   "id": "60a8c353-9328-4a32-994d-bed4bb984a10",
   "metadata": {},
   "source": [
    "## Model Fitting after normalisation - Linear Regression Model for Demand_Mean_Max with features population, mean temperature, pv capacity"
   ]
  },
  {
   "cell_type": "code",
   "execution_count": 102,
   "id": "a1ae31d9-f50b-4855-86cc-6b998bfff221",
   "metadata": {},
   "outputs": [
    {
     "name": "stdout",
     "output_type": "stream",
     "text": [
      "0.703892081339165\n",
      "[-0.27182705  0.03328197 -0.19814322]\n"
     ]
    },
    {
     "data": {
      "text/plain": [
       "[('temp_mean', -0.2718270541710003),\n",
       " ('pv_capacity', 0.0332819688970395),\n",
       " ('population', -0.19814321893618994)]"
      ]
     },
     "execution_count": 102,
     "metadata": {},
     "output_type": "execute_result"
    }
   ],
   "source": [
    "x_ = scaled_df_MaxDemand[['temp_mean','pv_capacity','population']]\n",
    "y_ = scaled_df_MaxDemand.demand_mean_max\n",
    "\n",
    "x_trainMx, x_testMx, y_trainMx,y_testMx = train_test_split(x_,y_, random_state = 1, test_size=0.4)\n",
    "\n",
    "linmod_minMax2 = LinearRegression()\n",
    "linmod_minMax2.fit(x_trainMx,y_trainMx)\n",
    "\n",
    "print(linmod_minMax2.intercept_)\n",
    "print(linmod_minMax2.coef_)\n",
    "list(zip(['temp_mean','pv_capacity', 'population'], linmod_minMax2.coef_))"
   ]
  },
  {
   "cell_type": "markdown",
   "id": "88f2a031-abcd-4250-a3f6-af32a90cdd5b",
   "metadata": {},
   "source": [
    "#### Model Accuracy"
   ]
  },
  {
   "cell_type": "code",
   "execution_count": 103,
   "id": "1a04c2c9-f37d-49ed-95ce-044904522701",
   "metadata": {},
   "outputs": [
    {
     "name": "stdout",
     "output_type": "stream",
     "text": [
      "RMSE: 0.16924774342493887\n",
      "R^2: 29.28663068856796\n"
     ]
    }
   ],
   "source": [
    "linmod_minMax_pred2 = linmod_minMax2.predict((x_[['temp_mean','pv_capacity', 'population']]))\n",
    "\n",
    "print(\"RMSE:\", np.sqrt(mean_squared_error(y_, linmod_minMax_pred2)))\n",
    "print(\"R^2:\", r2_score(y_, linmod_minMax_pred2)*100)  "
   ]
  },
  {
   "cell_type": "code",
   "execution_count": null,
   "id": "eb9f6bb8-f5a3-4e9e-b050-73aaf407f38d",
   "metadata": {},
   "outputs": [],
   "source": []
  },
  {
   "cell_type": "code",
   "execution_count": null,
   "id": "a59ebae7-edff-4b24-8846-23841b4dc262",
   "metadata": {},
   "outputs": [],
   "source": []
  },
  {
   "cell_type": "code",
   "execution_count": null,
   "id": "6af1aada-3b5a-43a1-a660-8838a8a08015",
   "metadata": {},
   "outputs": [],
   "source": [
    "\n"
   ]
  },
  {
   "cell_type": "code",
   "execution_count": null,
   "id": "d3f53d29-925b-4332-8e4e-9b02964b807c",
   "metadata": {},
   "outputs": [],
   "source": []
  },
  {
   "cell_type": "code",
   "execution_count": null,
   "id": "1055b737-40b7-4200-b5e2-10504ba2568c",
   "metadata": {},
   "outputs": [],
   "source": []
  },
  {
   "cell_type": "code",
   "execution_count": null,
   "id": "434bcdf8-65b2-407d-8a9d-0f8282de1abd",
   "metadata": {},
   "outputs": [],
   "source": []
  },
  {
   "cell_type": "code",
   "execution_count": null,
   "id": "3debd06e-1781-4c8c-998b-82cc88554d98",
   "metadata": {},
   "outputs": [],
   "source": []
  }
 ],
 "metadata": {
  "kernelspec": {
   "display_name": "Python 3 (ipykernel)",
   "language": "python",
   "name": "python3"
  },
  "language_info": {
   "codemirror_mode": {
    "name": "ipython",
    "version": 3
   },
   "file_extension": ".py",
   "mimetype": "text/x-python",
   "name": "python",
   "nbconvert_exporter": "python",
   "pygments_lexer": "ipython3",
   "version": "3.11.7"
  }
 },
 "nbformat": 4,
 "nbformat_minor": 5
}
