{
 "cells": [
  {
   "cell_type": "code",
   "execution_count": 1,
   "id": "a1d550fc",
   "metadata": {},
   "outputs": [
    {
     "name": "stdout",
     "output_type": "stream",
     "text": [
      "3.9.7 (default, Sep 16 2021, 16:59:28) [MSC v.1916 64 bit (AMD64)]\n"
     ]
    }
   ],
   "source": [
    "import sys\n",
    "print(sys.version)"
   ]
  },
  {
   "cell_type": "code",
   "execution_count": 1,
   "id": "9f250448",
   "metadata": {},
   "outputs": [],
   "source": [
    "#conda install -c conda-forge ydata-profiling"
   ]
  },
  {
   "cell_type": "code",
   "execution_count": 87,
   "id": "4297c457",
   "metadata": {},
   "outputs": [],
   "source": [
    "#pip install --user pmdarima"
   ]
  },
  {
   "cell_type": "code",
   "execution_count": 119,
   "id": "5cdc1b11",
   "metadata": {},
   "outputs": [
    {
     "name": "stdout",
     "output_type": "stream",
     "text": [
      "Collecting package metadata (current_repodata.json): ...working... done\n",
      "Solving environment: ...working... done\n",
      "\n",
      "## Package Plan ##\n",
      "\n",
      "  environment location: C:\\Users\\User\\anaconda3\n",
      "\n",
      "  added / updated specs:\n",
      "    - libpython\n",
      "    - m2w64-toolchain\n",
      "\n",
      "\n",
      "The following packages will be downloaded:\n",
      "\n",
      "    package                    |            build\n",
      "Note: you may need to restart the kernel to use updated packages.\n",
      "    ---------------------------|-----------------\n",
      "    libpython-2.1              |   py39haa95532_0         262 KB\n",
      "    m2w64-binutils-2.25.1      |                5        44.3 MB  msys2\n",
      "\n",
      "    m2w64-bzip2-1.0.6          |                6         100 KB  msys2\n",
      "    m2w64-crt-git-5.0.0.4636.2595836|                2         3.4 MB  msys2\n",
      "    m2w64-gcc-5.3.0            |                6        41.1 MB  msys2\n",
      "    m2w64-gcc-ada-5.3.0        |                6        33.5 MB  msys2\n",
      "    m2w64-gcc-fortran-5.3.0    |                6        10.3 MB  msys2\n",
      "    m2w64-gcc-objc-5.3.0       |                6        15.1 MB  msys2\n",
      "    m2w64-headers-git-5.0.0.4636.c0ad18a|                2         5.6 MB  msys2\n",
      "    m2w64-isl-0.16.1           |                2         655 KB  msys2\n",
      "    m2w64-libiconv-1.14        |                6         1.5 MB  msys2\n",
      "    m2w64-libmangle-git-5.0.0.4509.2e5a9a2|                2          21 KB  msys2\n",
      "    m2w64-make-4.1.2351.a80a8b8|                2         116 KB  msys2\n",
      "    m2w64-mpc-1.0.3            |                3          70 KB  msys2\n",
      "    m2w64-mpfr-3.1.4           |                4         293 KB  msys2\n",
      "    m2w64-pkg-config-0.29.1    |                2         469 KB  msys2\n",
      "    m2w64-toolchain-5.3.0      |                7           2 KB  msys2\n",
      "    m2w64-tools-git-5.0.0.4592.90b8472|                2         314 KB  msys2\n",
      "    m2w64-windows-default-manifest-6.4|                3           3 KB  msys2\n",
      "    m2w64-winpthreads-git-5.0.0.4634.697f757|                2          45 KB  msys2\n",
      "    m2w64-zlib-1.2.8           |               10         197 KB  msys2\n",
      "    ------------------------------------------------------------\n",
      "                                           Total:       157.3 MB\n",
      "\n",
      "The following NEW packages will be INSTALLED:\n",
      "\n",
      "  libpython          pkgs/main/win-64::libpython-2.1-py39haa95532_0\n",
      "  m2w64-binutils     msys2/win-64::m2w64-binutils-2.25.1-5\n",
      "  m2w64-bzip2        msys2/win-64::m2w64-bzip2-1.0.6-6\n",
      "  m2w64-crt-git      msys2/win-64::m2w64-crt-git-5.0.0.4636.2595836-2\n",
      "  m2w64-gcc          msys2/win-64::m2w64-gcc-5.3.0-6\n",
      "  m2w64-gcc-ada      msys2/win-64::m2w64-gcc-ada-5.3.0-6\n",
      "  m2w64-gcc-fortran  msys2/win-64::m2w64-gcc-fortran-5.3.0-6\n",
      "  m2w64-gcc-objc     msys2/win-64::m2w64-gcc-objc-5.3.0-6\n",
      "  m2w64-headers-git  msys2/win-64::m2w64-headers-git-5.0.0.4636.c0ad18a-2\n",
      "  m2w64-isl          msys2/win-64::m2w64-isl-0.16.1-2\n",
      "  m2w64-libiconv     msys2/win-64::m2w64-libiconv-1.14-6\n",
      "  m2w64-libmangle-g~ msys2/win-64::m2w64-libmangle-git-5.0.0.4509.2e5a9a2-2\n",
      "  m2w64-make         msys2/win-64::m2w64-make-4.1.2351.a80a8b8-2\n",
      "  m2w64-mpc          msys2/win-64::m2w64-mpc-1.0.3-3\n",
      "  m2w64-mpfr         msys2/win-64::m2w64-mpfr-3.1.4-4\n",
      "  m2w64-pkg-config   msys2/win-64::m2w64-pkg-config-0.29.1-2\n",
      "  m2w64-toolchain    msys2/win-64::m2w64-toolchain-5.3.0-7\n",
      "  m2w64-tools-git    msys2/win-64::m2w64-tools-git-5.0.0.4592.90b8472-2\n",
      "  m2w64-windows-def~ msys2/win-64::m2w64-windows-default-manifest-6.4-3\n",
      "  m2w64-winpthreads~ msys2/win-64::m2w64-winpthreads-git-5.0.0.4634.697f757-2\n",
      "  m2w64-zlib         msys2/win-64::m2w64-zlib-1.2.8-10\n",
      "\n",
      "\n",
      "\n",
      "Downloading and Extracting Packages\n",
      "\n",
      "m2w64-gcc-objc-5.3.0 | 15.1 MB   |            |   0% \n",
      "m2w64-gcc-objc-5.3.0 | 15.1 MB   | ########## | 100% \n",
      "m2w64-gcc-objc-5.3.0 | 15.1 MB   | ########## | 100% \n",
      "\n",
      "m2w64-libmangle-git- | 21 KB     |            |   0% \n",
      "m2w64-libmangle-git- | 21 KB     | ########## | 100% \n",
      "m2w64-libmangle-git- | 21 KB     | ########## | 100% \n",
      "\n",
      "m2w64-toolchain-5.3. | 2 KB      |            |   0% \n",
      "m2w64-toolchain-5.3. | 2 KB      | ########## | 100% \n",
      "m2w64-toolchain-5.3. | 2 KB      | ########## | 100% \n",
      "\n",
      "m2w64-mpc-1.0.3      | 70 KB     |            |   0% \n",
      "m2w64-mpc-1.0.3      | 70 KB     | ########## | 100% \n",
      "m2w64-mpc-1.0.3      | 70 KB     | ########## | 100% \n",
      "\n",
      "m2w64-bzip2-1.0.6    | 100 KB    |            |   0% \n",
      "m2w64-bzip2-1.0.6    | 100 KB    | ########## | 100% \n",
      "m2w64-bzip2-1.0.6    | 100 KB    | ########## | 100% \n",
      "\n",
      "m2w64-binutils-2.25. | 44.3 MB   |            |   0% \n",
      "m2w64-binutils-2.25. | 44.3 MB   | ########## | 100% \n",
      "m2w64-binutils-2.25. | 44.3 MB   | ########## | 100% \n",
      "\n",
      "m2w64-pkg-config-0.2 | 469 KB    |            |   0% \n",
      "m2w64-pkg-config-0.2 | 469 KB    | ########## | 100% \n",
      "m2w64-pkg-config-0.2 | 469 KB    | ########## | 100% \n",
      "\n",
      "m2w64-winpthreads-gi | 45 KB     |            |   0% \n",
      "m2w64-winpthreads-gi | 45 KB     | ########## | 100% \n",
      "m2w64-winpthreads-gi | 45 KB     | ########## | 100% \n",
      "\n",
      "m2w64-isl-0.16.1     | 655 KB    |            |   0% \n",
      "m2w64-isl-0.16.1     | 655 KB    | ########## | 100% \n",
      "m2w64-isl-0.16.1     | 655 KB    | ########## | 100% \n",
      "\n",
      "m2w64-windows-defaul | 3 KB      |            |   0% \n",
      "m2w64-windows-defaul | 3 KB      | ########## | 100% \n",
      "m2w64-windows-defaul | 3 KB      | ########## | 100% \n",
      "\n",
      "m2w64-crt-git-5.0.0. | 3.4 MB    |            |   0% \n",
      "m2w64-crt-git-5.0.0. | 3.4 MB    | ########## | 100% \n",
      "m2w64-crt-git-5.0.0. | 3.4 MB    | ########## | 100% \n",
      "\n",
      "m2w64-libiconv-1.14  | 1.5 MB    |            |   0% \n",
      "m2w64-libiconv-1.14  | 1.5 MB    | ########## | 100% \n",
      "m2w64-libiconv-1.14  | 1.5 MB    | ########## | 100% \n",
      "\n",
      "m2w64-gcc-5.3.0      | 41.1 MB   |            |   0% \n",
      "m2w64-gcc-5.3.0      | 41.1 MB   | ########## | 100% \n",
      "m2w64-gcc-5.3.0      | 41.1 MB   | ########## | 100% \n",
      "\n",
      "m2w64-headers-git-5. | 5.6 MB    |            |   0% \n",
      "m2w64-headers-git-5. | 5.6 MB    | ########## | 100% \n",
      "m2w64-headers-git-5. | 5.6 MB    | ########## | 100% \n",
      "\n",
      "m2w64-make-4.1.2351. | 116 KB    |            |   0% \n",
      "m2w64-make-4.1.2351. | 116 KB    | ########## | 100% \n",
      "m2w64-make-4.1.2351. | 116 KB    | ########## | 100% \n",
      "\n",
      "libpython-2.1        | 262 KB    |            |   0% \n",
      "libpython-2.1        | 262 KB    | 6          |   6% \n",
      "libpython-2.1        | 262 KB    | ########## | 100% \n",
      "libpython-2.1        | 262 KB    | ########## | 100% \n",
      "\n",
      "m2w64-zlib-1.2.8     | 197 KB    |            |   0% \n",
      "m2w64-zlib-1.2.8     | 197 KB    | ########## | 100% \n",
      "m2w64-zlib-1.2.8     | 197 KB    | ########## | 100% \n",
      "\n",
      "m2w64-gcc-fortran-5. | 10.3 MB   |            |   0% \n",
      "m2w64-gcc-fortran-5. | 10.3 MB   | ########## | 100% \n",
      "m2w64-gcc-fortran-5. | 10.3 MB   | ########## | 100% \n",
      "\n",
      "m2w64-gcc-ada-5.3.0  | 33.5 MB   |            |   0% \n",
      "m2w64-gcc-ada-5.3.0  | 33.5 MB   | ########## | 100% \n",
      "m2w64-gcc-ada-5.3.0  | 33.5 MB   | ########## | 100% \n",
      "\n",
      "m2w64-tools-git-5.0. | 314 KB    |            |   0% \n",
      "m2w64-tools-git-5.0. | 314 KB    | ########## | 100% \n",
      "m2w64-tools-git-5.0. | 314 KB    | ########## | 100% \n",
      "\n",
      "m2w64-mpfr-3.1.4     | 293 KB    |            |   0% \n",
      "m2w64-mpfr-3.1.4     | 293 KB    | ########## | 100% \n",
      "m2w64-mpfr-3.1.4     | 293 KB    | ########## | 100% \n",
      "Preparing transaction: ...working... done\n",
      "Verifying transaction: ...working... done\n",
      "Executing transaction: ...working... done\n",
      "Retrieving notices: ...working... done\n"
     ]
    }
   ],
   "source": [
    "#conda install libpython m2w64-toolchain -c msys2"
   ]
  },
  {
   "cell_type": "code",
   "execution_count": 120,
   "id": "77a26ca4",
   "metadata": {},
   "outputs": [
    {
     "name": "stdout",
     "output_type": "stream",
     "text": [
      "Collecting package metadata (current_repodata.json): ...working... done\n",
      "Note: you may need to restart the kernel to use updated packages.\n"
     ]
    },
    {
     "name": "stderr",
     "output_type": "stream",
     "text": [
      "\n",
      "Building graph of deps:   0%|          | 0/5 [00:00<?, ?it/s]\n",
      "Examining python=3.9:   0%|          | 0/5 [00:00<?, ?it/s]  \n",
      "Examining @/win-64::__cuda==12.2=0:  20%|##        | 1/5 [00:01<00:05,  1.28s/it]\n",
      "Examining @/win-64::__cuda==12.2=0:  40%|####      | 2/5 [00:01<00:01,  1.56it/s]\n",
      "Examining @/win-64::__win==0=0:  40%|####      | 2/5 [00:01<00:01,  1.56it/s]    \n",
      "Examining fbprophet:  60%|######    | 3/5 [00:01<00:01,  1.56it/s]           \n",
      "Examining @/win-64::__archspec==1=x86_64:  80%|########  | 4/5 [00:07<00:00,  1.56it/s]\n",
      "Examining @/win-64::__archspec==1=x86_64: 100%|##########| 5/5 [00:07<00:00,  1.58s/it]\n",
      "                                                                                       \n",
      "\n",
      "Determining conflicts:   0%|          | 0/5 [00:00<?, ?it/s]\n",
      "Examining conflict for python fbprophet:   0%|          | 0/5 [00:00<?, ?it/s]\n",
      "                                                                              \n"
     ]
    },
    {
     "name": "stdout",
     "output_type": "stream",
     "text": [
      "\n",
      "Solving environment: ...working... failed with initial frozen solve. Retrying with flexible solve.\n",
      "Solving environment: ...working... failed with repodata from current_repodata.json, will retry with next repodata source.\n",
      "Collecting package metadata (repodata.json): ...working... done\n",
      "Solving environment: ...working... failed with initial frozen solve. Retrying with flexible solve.\n",
      "Solving environment: ...working... \n",
      "Found conflicts! Looking for incompatible packages.\n",
      "This can take several minutes.  Press CTRL-C to abort.\n",
      "failed\n"
     ]
    },
    {
     "name": "stderr",
     "output_type": "stream",
     "text": [
      "\n",
      "UnsatisfiableError: The following specifications were found\n",
      "to be incompatible with the existing python installation in your environment:\n",
      "\n",
      "Specifications:\n",
      "\n",
      "  - fbprophet -> python[version='2.7.*|3.5.*|3.6.*|>=2.7,<2.8.0a0|>=3.5,<3.6.0a0|>=3.6,<3.7.0a0|>=3.8,<3.9.0a0|>=3.7,<3.8.0a0']\n",
      "\n",
      "Your python: python=3.9\n",
      "\n",
      "If python is on the left-most side of the chain, that's the version you've asked for.\n",
      "When python appears to the right, that indicates that the thing on the left is somehow\n",
      "not available for the python version you are constrained to. Note that conda will not\n",
      "change your python version to a different minor version unless you explicitly specify\n",
      "that.\n",
      "\n",
      "\n",
      "\n"
     ]
    }
   ],
   "source": [
    "#conda install -c conda-forge fbprophet"
   ]
  },
  {
   "cell_type": "code",
   "execution_count": 2,
   "id": "ca831358",
   "metadata": {},
   "outputs": [
    {
     "name": "stdout",
     "output_type": "stream",
     "text": [
      "Collecting fbprophetNote: you may need to restart the kernel to use updated packages.\n"
     ]
    },
    {
     "name": "stderr",
     "output_type": "stream",
     "text": [
      "  ERROR: Command errored out with exit status 1:\n",
      "   command: 'C:\\Users\\User\\anaconda3\\python.exe' -u -c 'import io, os, sys, setuptools, tokenize; sys.argv[0] = '\"'\"'C:\\\\Users\\\\User\\\\AppData\\\\Local\\\\Temp\\\\pip-install-ulsn3g7b\\\\fbprophet_c530848a059a451f9a5651a9a2d6b29c\\\\setup.py'\"'\"'; __file__='\"'\"'C:\\\\Users\\\\User\\\\AppData\\\\Local\\\\Temp\\\\pip-install-ulsn3g7b\\\\fbprophet_c530848a059a451f9a5651a9a2d6b29c\\\\setup.py'\"'\"';f = getattr(tokenize, '\"'\"'open'\"'\"', open)(__file__) if os.path.exists(__file__) else io.StringIO('\"'\"'from setuptools import setup; setup()'\"'\"');code = f.read().replace('\"'\"'\\r\\n'\"'\"', '\"'\"'\\n'\"'\"');f.close();exec(compile(code, __file__, '\"'\"'exec'\"'\"'))' bdist_wheel -d 'C:\\Users\\User\\AppData\\Local\\Temp\\pip-wheel-_a4ty0w4'\n"
     ]
    },
    {
     "name": "stdout",
     "output_type": "stream",
     "text": [
      "\n",
      "  Using cached fbprophet-0.7.1.tar.gz (64 kB)\n",
      "Requirement already satisfied: Cython>=0.22 in c:\\users\\user\\anaconda3\\lib\\site-packages (from fbprophet) (0.29.24)\n",
      "Collecting cmdstanpy==0.9.5\n",
      "  Using cached cmdstanpy-0.9.5-py3-none-any.whl (37 kB)\n",
      "Collecting pystan>=2.14\n",
      "  Using cached pystan-3.9.0-py3-none-any.whl (13 kB)\n",
      "Requirement already satisfied: numpy>=1.15.4 in c:\\users\\user\\anaconda3\\lib\\site-packages (from fbprophet) (1.22.4)\n",
      "Requirement already satisfied: pandas>=1.0.4 in c:\\users\\user\\anaconda3\\lib\\site-packages (from fbprophet) (1.3.4)\n",
      "Requirement already satisfied: matplotlib>=2.0.0 in c:\\users\\user\\anaconda3\\lib\\site-packages (from fbprophet) (3.4.3)\n",
      "Collecting LunarCalendar>=0.0.9\n",
      "  Using cached LunarCalendar-0.0.9-py2.py3-none-any.whl (18 kB)\n",
      "Collecting convertdate>=2.1.2\n",
      "  Using cached convertdate-2.4.0-py3-none-any.whl (47 kB)\n",
      "Collecting holidays>=0.10.2\n",
      "  Using cached holidays-0.46-py3-none-any.whl (1.0 MB)\n",
      "Requirement already satisfied: setuptools-git>=1.2 in c:\\users\\user\\appdata\\roaming\\python\\python39\\site-packages (from fbprophet) (1.2)\n",
      "Requirement already satisfied: python-dateutil>=2.8.0 in c:\\users\\user\\anaconda3\\lib\\site-packages (from fbprophet) (2.8.2)\n",
      "Requirement already satisfied: tqdm>=4.36.1 in c:\\users\\user\\anaconda3\\lib\\site-packages (from fbprophet) (4.62.3)\n",
      "Requirement already satisfied: pymeeus<=1,>=0.3.13 in c:\\users\\user\\appdata\\roaming\\python\\python39\\site-packages (from convertdate>=2.1.2->fbprophet) (0.5.12)\n",
      "Requirement already satisfied: pytz in c:\\users\\user\\anaconda3\\lib\\site-packages (from LunarCalendar>=0.0.9->fbprophet) (2021.3)\n",
      "Requirement already satisfied: ephem>=3.7.5.3 in c:\\users\\user\\appdata\\roaming\\python\\python39\\site-packages (from LunarCalendar>=0.0.9->fbprophet) (4.1.5)\n",
      "Requirement already satisfied: kiwisolver>=1.0.1 in c:\\users\\user\\anaconda3\\lib\\site-packages (from matplotlib>=2.0.0->fbprophet) (1.3.1)\n",
      "Requirement already satisfied: cycler>=0.10 in c:\\users\\user\\anaconda3\\lib\\site-packages (from matplotlib>=2.0.0->fbprophet) (0.10.0)\n",
      "Requirement already satisfied: pillow>=6.2.0 in c:\\users\\user\\anaconda3\\lib\\site-packages (from matplotlib>=2.0.0->fbprophet) (10.2.0)\n",
      "Requirement already satisfied: pyparsing>=2.2.1 in c:\\users\\user\\anaconda3\\lib\\site-packages (from matplotlib>=2.0.0->fbprophet) (3.0.4)\n",
      "Requirement already satisfied: six in c:\\users\\user\\anaconda3\\lib\\site-packages (from cycler>=0.10->matplotlib>=2.0.0->fbprophet) (1.16.0)\n",
      "Collecting clikit<0.7,>=0.6\n",
      "  Using cached clikit-0.6.2-py2.py3-none-any.whl (91 kB)\n",
      "Collecting aiohttp<4.0,>=3.6\n",
      "  Using cached aiohttp-3.9.3-cp39-cp39-win_amd64.whl (366 kB)\n",
      "Collecting pysimdjson<6.0.0,>=5.0.2\n",
      "  Using cached pysimdjson-5.0.2-cp39-cp39-win_amd64.whl (156 kB)\n",
      "Requirement already satisfied: setuptools in c:\\users\\user\\anaconda3\\lib\\site-packages (from pystan>=2.14->fbprophet) (58.0.4)\n",
      "Collecting pystan>=2.14\n",
      "  Using cached pystan-3.8.0-py3-none-any.whl (13 kB)\n",
      "  Using cached pystan-3.7.0-py3-none-any.whl (13 kB)\n",
      "  Using cached pystan-3.6.0-py3-none-any.whl (13 kB)\n",
      "  Using cached pystan-3.5.0-py3-none-any.whl (13 kB)\n",
      "  Using cached pystan-3.4.0-py3-none-any.whl (13 kB)\n",
      "  Using cached pystan-3.3.0-py3-none-any.whl (13 kB)\n",
      "Collecting pysimdjson<4.0,>=3.2\n",
      "  Using cached pysimdjson-3.2.0-cp39-cp39-win_amd64.whl (157 kB)\n",
      "Collecting pystan>=2.14\n",
      "  Using cached pystan-3.2.0-py3-none-any.whl (13 kB)\n",
      "  Using cached pystan-3.1.1-py3-none-any.whl (13 kB)\n",
      "  Using cached pystan-3.1.0-py3-none-any.whl (13 kB)\n",
      "  Using cached pystan-3.0.2-py3-none-any.whl (13 kB)\n",
      "  Using cached pystan-3.0.1-py3-none-any.whl (12 kB)\n",
      "  Using cached pystan-3.0.0-py3-none-any.whl (12 kB)\n",
      "  Using cached pystan-2.19.1.1.tar.gz (16.2 MB)\n",
      "Requirement already satisfied: colorama in c:\\users\\user\\anaconda3\\lib\\site-packages (from tqdm>=4.36.1->fbprophet) (0.4.4)\n",
      "Building wheels for collected packages: fbprophet, pystan\n",
      "  Building wheel for fbprophet (setup.py): started\n",
      "  Building wheel for fbprophet (setup.py): finished with status 'error'\n",
      "  Running setup.py clean for fbprophet\n",
      "  Building wheel for pystan (setup.py): started\n",
      "  Building wheel for pystan (setup.py): still running...\n",
      "  Building wheel for pystan (setup.py): still running...\n",
      "  Building wheel for pystan (setup.py): still running...\n",
      "  Building wheel for pystan (setup.py): still running...\n",
      "  Building wheel for pystan (setup.py): finished with status 'done'\n",
      "  Created wheel for pystan: filename=pystan-2.19.1.1-cp39-cp39-win_amd64.whl size=53891573 sha256=9bc9234222e1685abb4e7ac2a59b8300c370ba7f54a58d2fe89bb7fb4a051132\n",
      "  Stored in directory: c:\\users\\user\\appdata\\local\\pip\\cache\\wheels\\b8\\36\\bf\\7ec7e363f796373cea3eb9ea94e83f5bbbb586d2edbf7e3417\n",
      "Successfully built pystan\n",
      "Failed to build fbprophet\n",
      "Installing collected packages: pystan, LunarCalendar, holidays, convertdate, cmdstanpy, fbprophet\n",
      "    Running setup.py install for fbprophet: started\n",
      "    Running setup.py install for fbprophet: finished with status 'error'\n"
     ]
    },
    {
     "name": "stderr",
     "output_type": "stream",
     "text": [
      "       cwd: C:\\Users\\User\\AppData\\Local\\Temp\\pip-install-ulsn3g7b\\fbprophet_c530848a059a451f9a5651a9a2d6b29c\\\n",
      "  Complete output (44 lines):\n",
      "  running bdist_wheel\n",
      "  running build\n",
      "  running build_py\n",
      "  creating build\n",
      "  creating build\\lib\n",
      "  creating build\\lib\\fbprophet\n",
      "  creating build\\lib\\fbprophet\\stan_model\n",
      "  Traceback (most recent call last):\n",
      "    File \"<string>\", line 1, in <module>\n",
      "    File \"C:\\Users\\User\\AppData\\Local\\Temp\\pip-install-ulsn3g7b\\fbprophet_c530848a059a451f9a5651a9a2d6b29c\\setup.py\", line 122, in <module>\n",
      "      setup(\n",
      "    File \"C:\\Users\\User\\anaconda3\\lib\\site-packages\\setuptools\\__init__.py\", line 153, in setup\n",
      "      return distutils.core.setup(**attrs)\n",
      "    File \"C:\\Users\\User\\anaconda3\\lib\\distutils\\core.py\", line 148, in setup\n",
      "      dist.run_commands()\n",
      "    File \"C:\\Users\\User\\anaconda3\\lib\\distutils\\dist.py\", line 966, in run_commands\n",
      "      self.run_command(cmd)\n",
      "    File \"C:\\Users\\User\\anaconda3\\lib\\distutils\\dist.py\", line 985, in run_command\n",
      "      cmd_obj.run()\n",
      "    File \"C:\\Users\\User\\anaconda3\\lib\\site-packages\\wheel\\bdist_wheel.py\", line 299, in run\n",
      "      self.run_command('build')\n",
      "    File \"C:\\Users\\User\\anaconda3\\lib\\distutils\\cmd.py\", line 313, in run_command\n",
      "      self.distribution.run_command(command)\n",
      "    File \"C:\\Users\\User\\anaconda3\\lib\\distutils\\dist.py\", line 985, in run_command\n",
      "      cmd_obj.run()\n",
      "    File \"C:\\Users\\User\\anaconda3\\lib\\distutils\\command\\build.py\", line 135, in run\n",
      "      self.run_command(cmd_name)\n",
      "    File \"C:\\Users\\User\\anaconda3\\lib\\distutils\\cmd.py\", line 313, in run_command\n",
      "      self.distribution.run_command(command)\n",
      "    File \"C:\\Users\\User\\anaconda3\\lib\\distutils\\dist.py\", line 985, in run_command\n",
      "      cmd_obj.run()\n",
      "    File \"C:\\Users\\User\\AppData\\Local\\Temp\\pip-install-ulsn3g7b\\fbprophet_c530848a059a451f9a5651a9a2d6b29c\\setup.py\", line 48, in run\n",
      "      build_models(target_dir)\n",
      "    File \"C:\\Users\\User\\AppData\\Local\\Temp\\pip-install-ulsn3g7b\\fbprophet_c530848a059a451f9a5651a9a2d6b29c\\setup.py\", line 36, in build_models\n",
      "      from fbprophet.models import StanBackendEnum\n",
      "    File \"C:\\Users\\User\\AppData\\Local\\Temp\\pip-install-ulsn3g7b\\fbprophet_c530848a059a451f9a5651a9a2d6b29c\\fbprophet\\__init__.py\", line 8, in <module>\n",
      "      from fbprophet.forecaster import Prophet\n",
      "    File \"C:\\Users\\User\\AppData\\Local\\Temp\\pip-install-ulsn3g7b\\fbprophet_c530848a059a451f9a5651a9a2d6b29c\\fbprophet\\forecaster.py\", line 17, in <module>\n",
      "      from fbprophet.make_holidays import get_holiday_names, make_holidays_df\n",
      "    File \"C:\\Users\\User\\AppData\\Local\\Temp\\pip-install-ulsn3g7b\\fbprophet_c530848a059a451f9a5651a9a2d6b29c\\fbprophet\\make_holidays.py\", line 14, in <module>\n",
      "      import fbprophet.hdays as hdays_part2\n",
      "    File \"C:\\Users\\User\\AppData\\Local\\Temp\\pip-install-ulsn3g7b\\fbprophet_c530848a059a451f9a5651a9a2d6b29c\\fbprophet\\hdays.py\", line 13, in <module>\n",
      "      from convertdate.islamic import from_gregorian, to_gregorian\n",
      "  ModuleNotFoundError: No module named 'convertdate'\n",
      "  ----------------------------------------\n",
      "  ERROR: Failed building wheel for fbprophet\n",
      "  WARNING: The script lunar-find.exe is installed in 'C:\\Users\\User\\AppData\\Roaming\\Python\\Python39\\Scripts' which is not on PATH.\n",
      "  Consider adding this directory to PATH or, if you prefer to suppress this warning, use --no-warn-script-location.\n",
      "  WARNING: The script censusgeocode.exe is installed in 'C:\\Users\\User\\AppData\\Roaming\\Python\\Python39\\Scripts' which is not on PATH.\n",
      "  Consider adding this directory to PATH or, if you prefer to suppress this warning, use --no-warn-script-location.\n",
      "  WARNING: The scripts install_cmdstan.exe and install_cxx_toolchain.exe are installed in 'C:\\Users\\User\\AppData\\Roaming\\Python\\Python39\\Scripts' which is not on PATH.\n",
      "  Consider adding this directory to PATH or, if you prefer to suppress this warning, use --no-warn-script-location.\n",
      "    ERROR: Command errored out with exit status 1:\n",
      "     command: 'C:\\Users\\User\\anaconda3\\python.exe' -u -c 'import io, os, sys, setuptools, tokenize; sys.argv[0] = '\"'\"'C:\\\\Users\\\\User\\\\AppData\\\\Local\\\\Temp\\\\pip-install-ulsn3g7b\\\\fbprophet_c530848a059a451f9a5651a9a2d6b29c\\\\setup.py'\"'\"'; __file__='\"'\"'C:\\\\Users\\\\User\\\\AppData\\\\Local\\\\Temp\\\\pip-install-ulsn3g7b\\\\fbprophet_c530848a059a451f9a5651a9a2d6b29c\\\\setup.py'\"'\"';f = getattr(tokenize, '\"'\"'open'\"'\"', open)(__file__) if os.path.exists(__file__) else io.StringIO('\"'\"'from setuptools import setup; setup()'\"'\"');code = f.read().replace('\"'\"'\\r\\n'\"'\"', '\"'\"'\\n'\"'\"');f.close();exec(compile(code, __file__, '\"'\"'exec'\"'\"'))' install --record 'C:\\Users\\User\\AppData\\Local\\Temp\\pip-record-sggpo_4c\\install-record.txt' --single-version-externally-managed --user --prefix= --compile --install-headers 'C:\\Users\\User\\AppData\\Roaming\\Python\\Python39\\Include\\fbprophet'\n",
      "         cwd: C:\\Users\\User\\AppData\\Local\\Temp\\pip-install-ulsn3g7b\\fbprophet_c530848a059a451f9a5651a9a2d6b29c\\\n",
      "    Complete output (48 lines):\n",
      "    running install\n",
      "    running build\n",
      "    running build_py\n",
      "    creating build\n",
      "    creating build\\lib\n",
      "    creating build\\lib\\fbprophet\n",
      "    creating build\\lib\\fbprophet\\stan_model\n",
      "    Traceback (most recent call last):\n",
      "      File \"<string>\", line 1, in <module>\n",
      "      File \"C:\\Users\\User\\AppData\\Local\\Temp\\pip-install-ulsn3g7b\\fbprophet_c530848a059a451f9a5651a9a2d6b29c\\setup.py\", line 122, in <module>\n",
      "        setup(\n",
      "      File \"C:\\Users\\User\\anaconda3\\lib\\site-packages\\setuptools\\__init__.py\", line 153, in setup\n",
      "        return distutils.core.setup(**attrs)\n",
      "      File \"C:\\Users\\User\\anaconda3\\lib\\distutils\\core.py\", line 148, in setup\n",
      "        dist.run_commands()\n",
      "      File \"C:\\Users\\User\\anaconda3\\lib\\distutils\\dist.py\", line 966, in run_commands\n",
      "        self.run_command(cmd)\n",
      "      File \"C:\\Users\\User\\anaconda3\\lib\\distutils\\dist.py\", line 985, in run_command\n",
      "        cmd_obj.run()\n",
      "      File \"C:\\Users\\User\\anaconda3\\lib\\site-packages\\setuptools\\command\\install.py\", line 61, in run\n",
      "        return orig.install.run(self)\n",
      "      File \"C:\\Users\\User\\anaconda3\\lib\\distutils\\command\\install.py\", line 546, in run\n",
      "        self.run_command('build')\n",
      "      File \"C:\\Users\\User\\anaconda3\\lib\\distutils\\cmd.py\", line 313, in run_command\n",
      "        self.distribution.run_command(command)\n",
      "      File \"C:\\Users\\User\\anaconda3\\lib\\distutils\\dist.py\", line 985, in run_command\n",
      "        cmd_obj.run()\n",
      "      File \"C:\\Users\\User\\anaconda3\\lib\\distutils\\command\\build.py\", line 135, in run\n",
      "        self.run_command(cmd_name)\n",
      "      File \"C:\\Users\\User\\anaconda3\\lib\\distutils\\cmd.py\", line 313, in run_command\n",
      "        self.distribution.run_command(command)\n",
      "      File \"C:\\Users\\User\\anaconda3\\lib\\distutils\\dist.py\", line 985, in run_command\n",
      "        cmd_obj.run()\n",
      "      File \"C:\\Users\\User\\AppData\\Local\\Temp\\pip-install-ulsn3g7b\\fbprophet_c530848a059a451f9a5651a9a2d6b29c\\setup.py\", line 48, in run\n",
      "        build_models(target_dir)\n",
      "      File \"C:\\Users\\User\\AppData\\Local\\Temp\\pip-install-ulsn3g7b\\fbprophet_c530848a059a451f9a5651a9a2d6b29c\\setup.py\", line 36, in build_models\n",
      "        from fbprophet.models import StanBackendEnum\n",
      "      File \"C:\\Users\\User\\AppData\\Local\\Temp\\pip-install-ulsn3g7b\\fbprophet_c530848a059a451f9a5651a9a2d6b29c\\fbprophet\\__init__.py\", line 8, in <module>\n",
      "        from fbprophet.forecaster import Prophet\n",
      "      File \"C:\\Users\\User\\AppData\\Local\\Temp\\pip-install-ulsn3g7b\\fbprophet_c530848a059a451f9a5651a9a2d6b29c\\fbprophet\\forecaster.py\", line 17, in <module>\n",
      "        from fbprophet.make_holidays import get_holiday_names, make_holidays_df\n",
      "      File \"C:\\Users\\User\\AppData\\Local\\Temp\\pip-install-ulsn3g7b\\fbprophet_c530848a059a451f9a5651a9a2d6b29c\\fbprophet\\make_holidays.py\", line 14, in <module>\n",
      "        import fbprophet.hdays as hdays_part2\n",
      "      File \"C:\\Users\\User\\AppData\\Local\\Temp\\pip-install-ulsn3g7b\\fbprophet_c530848a059a451f9a5651a9a2d6b29c\\fbprophet\\hdays.py\", line 924, in <module>\n",
      "        class TU(Turkey):\n",
      "      File \"C:\\Users\\User\\AppData\\Roaming\\Python\\Python39\\site-packages\\holidays\\registry.py\", line 187, in __init__\n",
      "        raise TypeError(\n",
      "    TypeError: This is a python-holidays entity loader class. For entity inheritance purposes please import a class you want to derive from directly: e.g., `from holidays.countries import Entity` or `from holidays.financial import Entity`.\n",
      "    ----------------------------------------\n",
      "ERROR: Command errored out with exit status 1: 'C:\\Users\\User\\anaconda3\\python.exe' -u -c 'import io, os, sys, setuptools, tokenize; sys.argv[0] = '\"'\"'C:\\\\Users\\\\User\\\\AppData\\\\Local\\\\Temp\\\\pip-install-ulsn3g7b\\\\fbprophet_c530848a059a451f9a5651a9a2d6b29c\\\\setup.py'\"'\"'; __file__='\"'\"'C:\\\\Users\\\\User\\\\AppData\\\\Local\\\\Temp\\\\pip-install-ulsn3g7b\\\\fbprophet_c530848a059a451f9a5651a9a2d6b29c\\\\setup.py'\"'\"';f = getattr(tokenize, '\"'\"'open'\"'\"', open)(__file__) if os.path.exists(__file__) else io.StringIO('\"'\"'from setuptools import setup; setup()'\"'\"');code = f.read().replace('\"'\"'\\r\\n'\"'\"', '\"'\"'\\n'\"'\"');f.close();exec(compile(code, __file__, '\"'\"'exec'\"'\"'))' install --record 'C:\\Users\\User\\AppData\\Local\\Temp\\pip-record-sggpo_4c\\install-record.txt' --single-version-externally-managed --user --prefix= --compile --install-headers 'C:\\Users\\User\\AppData\\Roaming\\Python\\Python39\\Include\\fbprophet' Check the logs for full command output.\n"
     ]
    }
   ],
   "source": [
    "#pip install --user fbprophet"
   ]
  },
  {
   "cell_type": "code",
   "execution_count": null,
   "id": "eaefdeaa",
   "metadata": {},
   "outputs": [],
   "source": [
    "\n"
   ]
  },
  {
   "cell_type": "code",
   "execution_count": 1,
   "id": "c7fbfc10",
   "metadata": {},
   "outputs": [
    {
     "ename": "ModuleNotFoundError",
     "evalue": "No module named 'fbprophet'",
     "output_type": "error",
     "traceback": [
      "\u001b[1;31m---------------------------------------------------------------------------\u001b[0m",
      "\u001b[1;31mModuleNotFoundError\u001b[0m                       Traceback (most recent call last)",
      "\u001b[1;32m~\\AppData\\Local\\Temp/ipykernel_18068/3126813862.py\u001b[0m in \u001b[0;36m<module>\u001b[1;34m\u001b[0m\n\u001b[0;32m     16\u001b[0m \u001b[1;33m\u001b[0m\u001b[0m\n\u001b[0;32m     17\u001b[0m \u001b[1;32mimport\u001b[0m \u001b[0mpmdarima\u001b[0m \u001b[1;32mas\u001b[0m \u001b[0mpm\u001b[0m\u001b[1;33m\u001b[0m\u001b[1;33m\u001b[0m\u001b[0m\n\u001b[1;32m---> 18\u001b[1;33m \u001b[1;32mfrom\u001b[0m \u001b[0mfbprophet\u001b[0m \u001b[1;32mimport\u001b[0m \u001b[0mProphet\u001b[0m\u001b[1;33m\u001b[0m\u001b[1;33m\u001b[0m\u001b[0m\n\u001b[0m\u001b[0;32m     19\u001b[0m \u001b[1;33m\u001b[0m\u001b[0m\n\u001b[0;32m     20\u001b[0m \u001b[1;32mfrom\u001b[0m \u001b[0mpandas\u001b[0m \u001b[1;32mimport\u001b[0m \u001b[0mto_datetime\u001b[0m\u001b[1;33m\u001b[0m\u001b[1;33m\u001b[0m\u001b[0m\n",
      "\u001b[1;31mModuleNotFoundError\u001b[0m: No module named 'fbprophet'"
     ]
    }
   ],
   "source": [
    "import pandas as pd\n",
    "import numpy as np\n",
    "import matplotlib.pyplot as plt\n",
    "import seaborn as sns\n",
    "from pathlib import Path\n",
    "import datetime\n",
    "from ydata_profiling import ProfileReport\n",
    "\n",
    "#ARIMA\n",
    "from statsmodels.tsa.arima_model import ARIMA\n",
    "from statsmodels.tsa.api import ExponentialSmoothing, SimpleExpSmoothing, Holt\n",
    "\n",
    "from sklearn.metrics import mean_squared_error\n",
    "from sklearn.linear_model import LinearRegression\n",
    "from sklearn import linear_model\n",
    "\n",
    "import pmdarima as pm\n",
    "from fbprophet import Prophet\n",
    "\n",
    "from pandas import to_datetime\n",
    "from pmdarima.model_selection import train_test_split\n",
    "\n",
    "import itertools\n",
    "import warnings\n",
    "\n",
    "\n"
   ]
  },
  {
   "cell_type": "code",
   "execution_count": 5,
   "id": "d5527665",
   "metadata": {},
   "outputs": [],
   "source": [
    "def load_demand_data():\n",
    "    return pd.read_csv(Path(\"C:/Users/User/Documents/UNSW_Data Science 7446/ZZSC9020 Data Science Capstone Project/Data/Total Demand/totaldemand_nsw.csv\"))"
   ]
  },
  {
   "cell_type": "code",
   "execution_count": 6,
   "id": "8ff53111",
   "metadata": {},
   "outputs": [],
   "source": [
    "totalDemand = load_demand_data()\n"
   ]
  },
  {
   "cell_type": "code",
   "execution_count": 7,
   "id": "ab7addea",
   "metadata": {},
   "outputs": [
    {
     "data": {
      "text/html": [
       "<div>\n",
       "<style scoped>\n",
       "    .dataframe tbody tr th:only-of-type {\n",
       "        vertical-align: middle;\n",
       "    }\n",
       "\n",
       "    .dataframe tbody tr th {\n",
       "        vertical-align: top;\n",
       "    }\n",
       "\n",
       "    .dataframe thead th {\n",
       "        text-align: right;\n",
       "    }\n",
       "</style>\n",
       "<table border=\"1\" class=\"dataframe\">\n",
       "  <thead>\n",
       "    <tr style=\"text-align: right;\">\n",
       "      <th></th>\n",
       "      <th>DATETIME</th>\n",
       "      <th>TOTALDEMAND</th>\n",
       "      <th>REGIONID</th>\n",
       "    </tr>\n",
       "  </thead>\n",
       "  <tbody>\n",
       "    <tr>\n",
       "      <th>0</th>\n",
       "      <td>1/1/2010 0:00</td>\n",
       "      <td>8038.00</td>\n",
       "      <td>NSW1</td>\n",
       "    </tr>\n",
       "    <tr>\n",
       "      <th>1</th>\n",
       "      <td>1/1/2010 0:30</td>\n",
       "      <td>7809.31</td>\n",
       "      <td>NSW1</td>\n",
       "    </tr>\n",
       "    <tr>\n",
       "      <th>2</th>\n",
       "      <td>1/1/2010 1:00</td>\n",
       "      <td>7483.69</td>\n",
       "      <td>NSW1</td>\n",
       "    </tr>\n",
       "    <tr>\n",
       "      <th>3</th>\n",
       "      <td>1/1/2010 1:30</td>\n",
       "      <td>7117.23</td>\n",
       "      <td>NSW1</td>\n",
       "    </tr>\n",
       "    <tr>\n",
       "      <th>4</th>\n",
       "      <td>1/1/2010 2:00</td>\n",
       "      <td>6812.03</td>\n",
       "      <td>NSW1</td>\n",
       "    </tr>\n",
       "  </tbody>\n",
       "</table>\n",
       "</div>"
      ],
      "text/plain": [
       "        DATETIME  TOTALDEMAND REGIONID\n",
       "0  1/1/2010 0:00      8038.00     NSW1\n",
       "1  1/1/2010 0:30      7809.31     NSW1\n",
       "2  1/1/2010 1:00      7483.69     NSW1\n",
       "3  1/1/2010 1:30      7117.23     NSW1\n",
       "4  1/1/2010 2:00      6812.03     NSW1"
      ]
     },
     "execution_count": 7,
     "metadata": {},
     "output_type": "execute_result"
    }
   ],
   "source": [
    "totalDemand.head()"
   ]
  },
  {
   "cell_type": "code",
   "execution_count": 8,
   "id": "e3adb2a6",
   "metadata": {},
   "outputs": [
    {
     "data": {
      "text/html": [
       "<div>\n",
       "<style scoped>\n",
       "    .dataframe tbody tr th:only-of-type {\n",
       "        vertical-align: middle;\n",
       "    }\n",
       "\n",
       "    .dataframe tbody tr th {\n",
       "        vertical-align: top;\n",
       "    }\n",
       "\n",
       "    .dataframe thead th {\n",
       "        text-align: right;\n",
       "    }\n",
       "</style>\n",
       "<table border=\"1\" class=\"dataframe\">\n",
       "  <thead>\n",
       "    <tr style=\"text-align: right;\">\n",
       "      <th></th>\n",
       "      <th>TOTALDEMAND</th>\n",
       "    </tr>\n",
       "  </thead>\n",
       "  <tbody>\n",
       "    <tr>\n",
       "      <th>count</th>\n",
       "      <td>196513.000000</td>\n",
       "    </tr>\n",
       "    <tr>\n",
       "      <th>mean</th>\n",
       "      <td>8113.145859</td>\n",
       "    </tr>\n",
       "    <tr>\n",
       "      <th>std</th>\n",
       "      <td>1299.532774</td>\n",
       "    </tr>\n",
       "    <tr>\n",
       "      <th>min</th>\n",
       "      <td>5074.630000</td>\n",
       "    </tr>\n",
       "    <tr>\n",
       "      <th>25%</th>\n",
       "      <td>7150.070000</td>\n",
       "    </tr>\n",
       "    <tr>\n",
       "      <th>50%</th>\n",
       "      <td>8053.230000</td>\n",
       "    </tr>\n",
       "    <tr>\n",
       "      <th>75%</th>\n",
       "      <td>8958.550000</td>\n",
       "    </tr>\n",
       "    <tr>\n",
       "      <th>max</th>\n",
       "      <td>14579.860000</td>\n",
       "    </tr>\n",
       "  </tbody>\n",
       "</table>\n",
       "</div>"
      ],
      "text/plain": [
       "         TOTALDEMAND\n",
       "count  196513.000000\n",
       "mean     8113.145859\n",
       "std      1299.532774\n",
       "min      5074.630000\n",
       "25%      7150.070000\n",
       "50%      8053.230000\n",
       "75%      8958.550000\n",
       "max     14579.860000"
      ]
     },
     "execution_count": 8,
     "metadata": {},
     "output_type": "execute_result"
    }
   ],
   "source": [
    "totalDemand.describe()\n"
   ]
  },
  {
   "cell_type": "code",
   "execution_count": 9,
   "id": "d0edee19",
   "metadata": {},
   "outputs": [
    {
     "data": {
      "text/plain": [
       "(196513, 3)"
      ]
     },
     "execution_count": 9,
     "metadata": {},
     "output_type": "execute_result"
    }
   ],
   "source": [
    "totalDemand.shape"
   ]
  },
  {
   "cell_type": "code",
   "execution_count": 10,
   "id": "69c85de2",
   "metadata": {},
   "outputs": [],
   "source": [
    "def load_temperature_data():\n",
    "    return pd.read_csv(Path(\"C:/Users/User/Documents/UNSW_Data Science 7446/ZZSC9020 Data Science Capstone Project/Data/Temperature/temperature_nsw.csv\"))"
   ]
  },
  {
   "cell_type": "code",
   "execution_count": 11,
   "id": "e3847887",
   "metadata": {},
   "outputs": [],
   "source": [
    "temperature = load_temperature_data()"
   ]
  },
  {
   "cell_type": "code",
   "execution_count": 12,
   "id": "2d509d9a",
   "metadata": {},
   "outputs": [
    {
     "data": {
      "text/html": [
       "<div>\n",
       "<style scoped>\n",
       "    .dataframe tbody tr th:only-of-type {\n",
       "        vertical-align: middle;\n",
       "    }\n",
       "\n",
       "    .dataframe tbody tr th {\n",
       "        vertical-align: top;\n",
       "    }\n",
       "\n",
       "    .dataframe thead th {\n",
       "        text-align: right;\n",
       "    }\n",
       "</style>\n",
       "<table border=\"1\" class=\"dataframe\">\n",
       "  <thead>\n",
       "    <tr style=\"text-align: right;\">\n",
       "      <th></th>\n",
       "      <th>LOCATION</th>\n",
       "      <th>DATETIME</th>\n",
       "      <th>TEMPERATURE</th>\n",
       "    </tr>\n",
       "  </thead>\n",
       "  <tbody>\n",
       "    <tr>\n",
       "      <th>0</th>\n",
       "      <td>Bankstown</td>\n",
       "      <td>1/1/2010 0:00</td>\n",
       "      <td>23.1</td>\n",
       "    </tr>\n",
       "    <tr>\n",
       "      <th>1</th>\n",
       "      <td>Bankstown</td>\n",
       "      <td>1/1/2010 0:01</td>\n",
       "      <td>23.1</td>\n",
       "    </tr>\n",
       "    <tr>\n",
       "      <th>2</th>\n",
       "      <td>Bankstown</td>\n",
       "      <td>1/1/2010 0:30</td>\n",
       "      <td>22.9</td>\n",
       "    </tr>\n",
       "    <tr>\n",
       "      <th>3</th>\n",
       "      <td>Bankstown</td>\n",
       "      <td>1/1/2010 0:50</td>\n",
       "      <td>22.7</td>\n",
       "    </tr>\n",
       "    <tr>\n",
       "      <th>4</th>\n",
       "      <td>Bankstown</td>\n",
       "      <td>1/1/2010 1:00</td>\n",
       "      <td>22.6</td>\n",
       "    </tr>\n",
       "  </tbody>\n",
       "</table>\n",
       "</div>"
      ],
      "text/plain": [
       "    LOCATION       DATETIME  TEMPERATURE\n",
       "0  Bankstown  1/1/2010 0:00         23.1\n",
       "1  Bankstown  1/1/2010 0:01         23.1\n",
       "2  Bankstown  1/1/2010 0:30         22.9\n",
       "3  Bankstown  1/1/2010 0:50         22.7\n",
       "4  Bankstown  1/1/2010 1:00         22.6"
      ]
     },
     "execution_count": 12,
     "metadata": {},
     "output_type": "execute_result"
    }
   ],
   "source": [
    "temperature.head()"
   ]
  },
  {
   "cell_type": "code",
   "execution_count": 13,
   "id": "ff9f1b9c",
   "metadata": {},
   "outputs": [
    {
     "data": {
      "text/html": [
       "<div>\n",
       "<style scoped>\n",
       "    .dataframe tbody tr th:only-of-type {\n",
       "        vertical-align: middle;\n",
       "    }\n",
       "\n",
       "    .dataframe tbody tr th {\n",
       "        vertical-align: top;\n",
       "    }\n",
       "\n",
       "    .dataframe thead th {\n",
       "        text-align: right;\n",
       "    }\n",
       "</style>\n",
       "<table border=\"1\" class=\"dataframe\">\n",
       "  <thead>\n",
       "    <tr style=\"text-align: right;\">\n",
       "      <th></th>\n",
       "      <th>TEMPERATURE</th>\n",
       "    </tr>\n",
       "  </thead>\n",
       "  <tbody>\n",
       "    <tr>\n",
       "      <th>count</th>\n",
       "      <td>220326.000000</td>\n",
       "    </tr>\n",
       "    <tr>\n",
       "      <th>mean</th>\n",
       "      <td>17.418827</td>\n",
       "    </tr>\n",
       "    <tr>\n",
       "      <th>std</th>\n",
       "      <td>5.849763</td>\n",
       "    </tr>\n",
       "    <tr>\n",
       "      <th>min</th>\n",
       "      <td>-1.300000</td>\n",
       "    </tr>\n",
       "    <tr>\n",
       "      <th>25%</th>\n",
       "      <td>13.400000</td>\n",
       "    </tr>\n",
       "    <tr>\n",
       "      <th>50%</th>\n",
       "      <td>17.700000</td>\n",
       "    </tr>\n",
       "    <tr>\n",
       "      <th>75%</th>\n",
       "      <td>21.300000</td>\n",
       "    </tr>\n",
       "    <tr>\n",
       "      <th>max</th>\n",
       "      <td>44.700000</td>\n",
       "    </tr>\n",
       "  </tbody>\n",
       "</table>\n",
       "</div>"
      ],
      "text/plain": [
       "         TEMPERATURE\n",
       "count  220326.000000\n",
       "mean       17.418827\n",
       "std         5.849763\n",
       "min        -1.300000\n",
       "25%        13.400000\n",
       "50%        17.700000\n",
       "75%        21.300000\n",
       "max        44.700000"
      ]
     },
     "execution_count": 13,
     "metadata": {},
     "output_type": "execute_result"
    }
   ],
   "source": [
    "temperature.describe()\n"
   ]
  },
  {
   "cell_type": "code",
   "execution_count": 14,
   "id": "6ee28757",
   "metadata": {},
   "outputs": [
    {
     "data": {
      "text/plain": [
       "(220326, 3)"
      ]
     },
     "execution_count": 14,
     "metadata": {},
     "output_type": "execute_result"
    }
   ],
   "source": [
    "temperature.shape"
   ]
  },
  {
   "cell_type": "code",
   "execution_count": 15,
   "id": "0b8acc84",
   "metadata": {},
   "outputs": [],
   "source": [
    "dem_temp = pd.merge(temperature, totalDemand, on = 'DATETIME', how='outer')"
   ]
  },
  {
   "cell_type": "code",
   "execution_count": 16,
   "id": "a9f965d0",
   "metadata": {},
   "outputs": [
    {
     "data": {
      "text/html": [
       "<div>\n",
       "<style scoped>\n",
       "    .dataframe tbody tr th:only-of-type {\n",
       "        vertical-align: middle;\n",
       "    }\n",
       "\n",
       "    .dataframe tbody tr th {\n",
       "        vertical-align: top;\n",
       "    }\n",
       "\n",
       "    .dataframe thead th {\n",
       "        text-align: right;\n",
       "    }\n",
       "</style>\n",
       "<table border=\"1\" class=\"dataframe\">\n",
       "  <thead>\n",
       "    <tr style=\"text-align: right;\">\n",
       "      <th></th>\n",
       "      <th>LOCATION</th>\n",
       "      <th>DATETIME</th>\n",
       "      <th>TEMPERATURE</th>\n",
       "      <th>TOTALDEMAND</th>\n",
       "      <th>REGIONID</th>\n",
       "    </tr>\n",
       "  </thead>\n",
       "  <tbody>\n",
       "    <tr>\n",
       "      <th>0</th>\n",
       "      <td>Bankstown</td>\n",
       "      <td>1/1/2010 0:00</td>\n",
       "      <td>23.1</td>\n",
       "      <td>8038.00</td>\n",
       "      <td>NSW1</td>\n",
       "    </tr>\n",
       "    <tr>\n",
       "      <th>1</th>\n",
       "      <td>Bankstown</td>\n",
       "      <td>1/1/2010 0:01</td>\n",
       "      <td>23.1</td>\n",
       "      <td>NaN</td>\n",
       "      <td>NaN</td>\n",
       "    </tr>\n",
       "    <tr>\n",
       "      <th>2</th>\n",
       "      <td>Bankstown</td>\n",
       "      <td>1/1/2010 0:30</td>\n",
       "      <td>22.9</td>\n",
       "      <td>7809.31</td>\n",
       "      <td>NSW1</td>\n",
       "    </tr>\n",
       "    <tr>\n",
       "      <th>3</th>\n",
       "      <td>Bankstown</td>\n",
       "      <td>1/1/2010 0:50</td>\n",
       "      <td>22.7</td>\n",
       "      <td>NaN</td>\n",
       "      <td>NaN</td>\n",
       "    </tr>\n",
       "    <tr>\n",
       "      <th>4</th>\n",
       "      <td>Bankstown</td>\n",
       "      <td>1/1/2010 1:00</td>\n",
       "      <td>22.6</td>\n",
       "      <td>7483.69</td>\n",
       "      <td>NSW1</td>\n",
       "    </tr>\n",
       "  </tbody>\n",
       "</table>\n",
       "</div>"
      ],
      "text/plain": [
       "    LOCATION       DATETIME  TEMPERATURE  TOTALDEMAND REGIONID\n",
       "0  Bankstown  1/1/2010 0:00         23.1      8038.00     NSW1\n",
       "1  Bankstown  1/1/2010 0:01         23.1          NaN      NaN\n",
       "2  Bankstown  1/1/2010 0:30         22.9      7809.31     NSW1\n",
       "3  Bankstown  1/1/2010 0:50         22.7          NaN      NaN\n",
       "4  Bankstown  1/1/2010 1:00         22.6      7483.69     NSW1"
      ]
     },
     "execution_count": 16,
     "metadata": {},
     "output_type": "execute_result"
    }
   ],
   "source": [
    "dem_temp.head()"
   ]
  },
  {
   "cell_type": "code",
   "execution_count": 17,
   "id": "9528f955",
   "metadata": {},
   "outputs": [
    {
     "data": {
      "text/html": [
       "<div>\n",
       "<style scoped>\n",
       "    .dataframe tbody tr th:only-of-type {\n",
       "        vertical-align: middle;\n",
       "    }\n",
       "\n",
       "    .dataframe tbody tr th {\n",
       "        vertical-align: top;\n",
       "    }\n",
       "\n",
       "    .dataframe thead th {\n",
       "        text-align: right;\n",
       "    }\n",
       "</style>\n",
       "<table border=\"1\" class=\"dataframe\">\n",
       "  <thead>\n",
       "    <tr style=\"text-align: right;\">\n",
       "      <th></th>\n",
       "      <th>TEMPERATURE</th>\n",
       "      <th>TOTALDEMAND</th>\n",
       "    </tr>\n",
       "  </thead>\n",
       "  <tbody>\n",
       "    <tr>\n",
       "      <th>count</th>\n",
       "      <td>220326.000000</td>\n",
       "      <td>196526.000000</td>\n",
       "    </tr>\n",
       "    <tr>\n",
       "      <th>mean</th>\n",
       "      <td>17.418827</td>\n",
       "      <td>8113.119994</td>\n",
       "    </tr>\n",
       "    <tr>\n",
       "      <th>std</th>\n",
       "      <td>5.849763</td>\n",
       "      <td>1299.510032</td>\n",
       "    </tr>\n",
       "    <tr>\n",
       "      <th>min</th>\n",
       "      <td>-1.300000</td>\n",
       "      <td>5074.630000</td>\n",
       "    </tr>\n",
       "    <tr>\n",
       "      <th>25%</th>\n",
       "      <td>13.400000</td>\n",
       "      <td>7150.060000</td>\n",
       "    </tr>\n",
       "    <tr>\n",
       "      <th>50%</th>\n",
       "      <td>17.700000</td>\n",
       "      <td>8053.215000</td>\n",
       "    </tr>\n",
       "    <tr>\n",
       "      <th>75%</th>\n",
       "      <td>21.300000</td>\n",
       "      <td>8958.550000</td>\n",
       "    </tr>\n",
       "    <tr>\n",
       "      <th>max</th>\n",
       "      <td>44.700000</td>\n",
       "      <td>14579.860000</td>\n",
       "    </tr>\n",
       "  </tbody>\n",
       "</table>\n",
       "</div>"
      ],
      "text/plain": [
       "         TEMPERATURE    TOTALDEMAND\n",
       "count  220326.000000  196526.000000\n",
       "mean       17.418827    8113.119994\n",
       "std         5.849763    1299.510032\n",
       "min        -1.300000    5074.630000\n",
       "25%        13.400000    7150.060000\n",
       "50%        17.700000    8053.215000\n",
       "75%        21.300000    8958.550000\n",
       "max        44.700000   14579.860000"
      ]
     },
     "execution_count": 17,
     "metadata": {},
     "output_type": "execute_result"
    }
   ],
   "source": [
    "dem_temp.describe()"
   ]
  },
  {
   "cell_type": "code",
   "execution_count": 18,
   "id": "1ab78cbc",
   "metadata": {},
   "outputs": [],
   "source": [
    "dem_temp_inner = pd.merge(temperature, totalDemand, on = 'DATETIME')"
   ]
  },
  {
   "cell_type": "code",
   "execution_count": 19,
   "id": "3b479282",
   "metadata": {},
   "outputs": [
    {
     "data": {
      "text/html": [
       "<div>\n",
       "<style scoped>\n",
       "    .dataframe tbody tr th:only-of-type {\n",
       "        vertical-align: middle;\n",
       "    }\n",
       "\n",
       "    .dataframe tbody tr th {\n",
       "        vertical-align: top;\n",
       "    }\n",
       "\n",
       "    .dataframe thead th {\n",
       "        text-align: right;\n",
       "    }\n",
       "</style>\n",
       "<table border=\"1\" class=\"dataframe\">\n",
       "  <thead>\n",
       "    <tr style=\"text-align: right;\">\n",
       "      <th></th>\n",
       "      <th>TEMPERATURE</th>\n",
       "      <th>TOTALDEMAND</th>\n",
       "    </tr>\n",
       "  </thead>\n",
       "  <tbody>\n",
       "    <tr>\n",
       "      <th>count</th>\n",
       "      <td>195947.000000</td>\n",
       "      <td>195947.000000</td>\n",
       "    </tr>\n",
       "    <tr>\n",
       "      <th>mean</th>\n",
       "      <td>17.530995</td>\n",
       "      <td>8111.924589</td>\n",
       "    </tr>\n",
       "    <tr>\n",
       "      <th>std</th>\n",
       "      <td>5.884212</td>\n",
       "      <td>1299.171401</td>\n",
       "    </tr>\n",
       "    <tr>\n",
       "      <th>min</th>\n",
       "      <td>-1.300000</td>\n",
       "      <td>5074.630000</td>\n",
       "    </tr>\n",
       "    <tr>\n",
       "      <th>25%</th>\n",
       "      <td>13.500000</td>\n",
       "      <td>7149.430000</td>\n",
       "    </tr>\n",
       "    <tr>\n",
       "      <th>50%</th>\n",
       "      <td>17.900000</td>\n",
       "      <td>8052.180000</td>\n",
       "    </tr>\n",
       "    <tr>\n",
       "      <th>75%</th>\n",
       "      <td>21.500000</td>\n",
       "      <td>8956.985000</td>\n",
       "    </tr>\n",
       "    <tr>\n",
       "      <th>max</th>\n",
       "      <td>44.700000</td>\n",
       "      <td>14579.860000</td>\n",
       "    </tr>\n",
       "  </tbody>\n",
       "</table>\n",
       "</div>"
      ],
      "text/plain": [
       "         TEMPERATURE    TOTALDEMAND\n",
       "count  195947.000000  195947.000000\n",
       "mean       17.530995    8111.924589\n",
       "std         5.884212    1299.171401\n",
       "min        -1.300000    5074.630000\n",
       "25%        13.500000    7149.430000\n",
       "50%        17.900000    8052.180000\n",
       "75%        21.500000    8956.985000\n",
       "max        44.700000   14579.860000"
      ]
     },
     "execution_count": 19,
     "metadata": {},
     "output_type": "execute_result"
    }
   ],
   "source": [
    "dem_temp_inner.describe()"
   ]
  },
  {
   "cell_type": "code",
   "execution_count": 20,
   "id": "63fdb67a",
   "metadata": {},
   "outputs": [
    {
     "data": {
      "text/html": [
       "<div>\n",
       "<style scoped>\n",
       "    .dataframe tbody tr th:only-of-type {\n",
       "        vertical-align: middle;\n",
       "    }\n",
       "\n",
       "    .dataframe tbody tr th {\n",
       "        vertical-align: top;\n",
       "    }\n",
       "\n",
       "    .dataframe thead th {\n",
       "        text-align: right;\n",
       "    }\n",
       "</style>\n",
       "<table border=\"1\" class=\"dataframe\">\n",
       "  <thead>\n",
       "    <tr style=\"text-align: right;\">\n",
       "      <th></th>\n",
       "      <th>LOCATION</th>\n",
       "      <th>DATETIME</th>\n",
       "      <th>TEMPERATURE</th>\n",
       "      <th>TOTALDEMAND</th>\n",
       "      <th>REGIONID</th>\n",
       "    </tr>\n",
       "  </thead>\n",
       "  <tbody>\n",
       "    <tr>\n",
       "      <th>0</th>\n",
       "      <td>Bankstown</td>\n",
       "      <td>1/1/2010 0:00</td>\n",
       "      <td>23.1</td>\n",
       "      <td>8038.00</td>\n",
       "      <td>NSW1</td>\n",
       "    </tr>\n",
       "    <tr>\n",
       "      <th>1</th>\n",
       "      <td>Bankstown</td>\n",
       "      <td>1/1/2010 0:30</td>\n",
       "      <td>22.9</td>\n",
       "      <td>7809.31</td>\n",
       "      <td>NSW1</td>\n",
       "    </tr>\n",
       "    <tr>\n",
       "      <th>2</th>\n",
       "      <td>Bankstown</td>\n",
       "      <td>1/1/2010 1:00</td>\n",
       "      <td>22.6</td>\n",
       "      <td>7483.69</td>\n",
       "      <td>NSW1</td>\n",
       "    </tr>\n",
       "    <tr>\n",
       "      <th>3</th>\n",
       "      <td>Bankstown</td>\n",
       "      <td>1/1/2010 1:30</td>\n",
       "      <td>22.5</td>\n",
       "      <td>7117.23</td>\n",
       "      <td>NSW1</td>\n",
       "    </tr>\n",
       "    <tr>\n",
       "      <th>4</th>\n",
       "      <td>Bankstown</td>\n",
       "      <td>1/1/2010 2:00</td>\n",
       "      <td>22.5</td>\n",
       "      <td>6812.03</td>\n",
       "      <td>NSW1</td>\n",
       "    </tr>\n",
       "  </tbody>\n",
       "</table>\n",
       "</div>"
      ],
      "text/plain": [
       "    LOCATION       DATETIME  TEMPERATURE  TOTALDEMAND REGIONID\n",
       "0  Bankstown  1/1/2010 0:00         23.1      8038.00     NSW1\n",
       "1  Bankstown  1/1/2010 0:30         22.9      7809.31     NSW1\n",
       "2  Bankstown  1/1/2010 1:00         22.6      7483.69     NSW1\n",
       "3  Bankstown  1/1/2010 1:30         22.5      7117.23     NSW1\n",
       "4  Bankstown  1/1/2010 2:00         22.5      6812.03     NSW1"
      ]
     },
     "execution_count": 20,
     "metadata": {},
     "output_type": "execute_result"
    }
   ],
   "source": [
    "dem_temp_inner.head()"
   ]
  },
  {
   "cell_type": "code",
   "execution_count": 21,
   "id": "44cbfc0c",
   "metadata": {},
   "outputs": [
    {
     "data": {
      "image/png": "[encoded data removed]",
      "text/plain": [
       "<Figure size 1440x1080 with 2 Axes>"
      ]
     },
     "metadata": {
      "needs_background": "light"
     },
     "output_type": "display_data"
    }
   ],
   "source": [
    "dem_temp_inner.hist(bins=50, figsize=(20, 15))\n",
    "plt.show()\n"
   ]
  },
  {
   "cell_type": "code",
   "execution_count": 22,
   "id": "a9727098",
   "metadata": {},
   "outputs": [
    {
     "data": {
      "image/png": "[encoded data removed]",
      "text/plain": [
       "<Figure size 432x288 with 1 Axes>"
      ]
     },
     "metadata": {
      "needs_background": "light"
     },
     "output_type": "display_data"
    }
   ],
   "source": [
    "#sns.color_palette(\"Set2\")\n",
    "sns.scatterplot(data=dem_temp_inner, x=\"TEMPERATURE\", y=\"TOTALDEMAND\",  palette=\"pastel\")\n",
    "#sns.color_palette(\"Set2\")\n",
    "plt.show()"
   ]
  },
  {
   "cell_type": "code",
   "execution_count": 23,
   "id": "9db8ff23",
   "metadata": {},
   "outputs": [],
   "source": [
    "def load_forecast_data():\n",
    "    return pd.read_csv(Path(\"C:/Users/User/Documents/UNSW_Data Science 7446/ZZSC9020 Data Science Capstone Project/Data/Forecast Demand/forecastdemand_sa.csv\"))"
   ]
  },
  {
   "cell_type": "code",
   "execution_count": 24,
   "id": "d59d4f03",
   "metadata": {},
   "outputs": [],
   "source": [
    "forecastDemand = load_forecast_data()"
   ]
  },
  {
   "cell_type": "code",
   "execution_count": 25,
   "id": "ab0c4f0d",
   "metadata": {},
   "outputs": [
    {
     "data": {
      "text/plain": [
       "(4095592, 6)"
      ]
     },
     "execution_count": 25,
     "metadata": {},
     "output_type": "execute_result"
    }
   ],
   "source": [
    "forecastDemand.shape"
   ]
  },
  {
   "cell_type": "code",
   "execution_count": 26,
   "id": "d3ba6feb",
   "metadata": {},
   "outputs": [
    {
     "data": {
      "text/html": [
       "<div>\n",
       "<style scoped>\n",
       "    .dataframe tbody tr th:only-of-type {\n",
       "        vertical-align: middle;\n",
       "    }\n",
       "\n",
       "    .dataframe tbody tr th {\n",
       "        vertical-align: top;\n",
       "    }\n",
       "\n",
       "    .dataframe thead th {\n",
       "        text-align: right;\n",
       "    }\n",
       "</style>\n",
       "<table border=\"1\" class=\"dataframe\">\n",
       "  <thead>\n",
       "    <tr style=\"text-align: right;\">\n",
       "      <th></th>\n",
       "      <th>PREDISPATCHSEQNO</th>\n",
       "      <th>REGIONID</th>\n",
       "      <th>PERIODID</th>\n",
       "      <th>FORECASTDEMAND</th>\n",
       "      <th>LASTCHANGED</th>\n",
       "      <th>DATETIME</th>\n",
       "    </tr>\n",
       "  </thead>\n",
       "  <tbody>\n",
       "    <tr>\n",
       "      <th>0</th>\n",
       "      <td>2016123018</td>\n",
       "      <td>SA1</td>\n",
       "      <td>71</td>\n",
       "      <td>1394.41</td>\n",
       "      <td>2016-12-30 12:31:25</td>\n",
       "      <td>2017-01-01 00:00:00</td>\n",
       "    </tr>\n",
       "    <tr>\n",
       "      <th>1</th>\n",
       "      <td>2016123018</td>\n",
       "      <td>SA1</td>\n",
       "      <td>72</td>\n",
       "      <td>1285.07</td>\n",
       "      <td>2016-12-30 12:31:25</td>\n",
       "      <td>2017-01-01 00:30:00</td>\n",
       "    </tr>\n",
       "    <tr>\n",
       "      <th>2</th>\n",
       "      <td>2016123018</td>\n",
       "      <td>SA1</td>\n",
       "      <td>73</td>\n",
       "      <td>1221.70</td>\n",
       "      <td>2016-12-30 12:31:25</td>\n",
       "      <td>2017-01-01 01:00:00</td>\n",
       "    </tr>\n",
       "    <tr>\n",
       "      <th>3</th>\n",
       "      <td>2016123018</td>\n",
       "      <td>SA1</td>\n",
       "      <td>74</td>\n",
       "      <td>1141.86</td>\n",
       "      <td>2016-12-30 12:31:25</td>\n",
       "      <td>2017-01-01 01:30:00</td>\n",
       "    </tr>\n",
       "    <tr>\n",
       "      <th>4</th>\n",
       "      <td>2016123018</td>\n",
       "      <td>SA1</td>\n",
       "      <td>75</td>\n",
       "      <td>1087.78</td>\n",
       "      <td>2016-12-30 12:31:25</td>\n",
       "      <td>2017-01-01 02:00:00</td>\n",
       "    </tr>\n",
       "  </tbody>\n",
       "</table>\n",
       "</div>"
      ],
      "text/plain": [
       "   PREDISPATCHSEQNO REGIONID  PERIODID  FORECASTDEMAND          LASTCHANGED  \\\n",
       "0        2016123018      SA1        71         1394.41  2016-12-30 12:31:25   \n",
       "1        2016123018      SA1        72         1285.07  2016-12-30 12:31:25   \n",
       "2        2016123018      SA1        73         1221.70  2016-12-30 12:31:25   \n",
       "3        2016123018      SA1        74         1141.86  2016-12-30 12:31:25   \n",
       "4        2016123018      SA1        75         1087.78  2016-12-30 12:31:25   \n",
       "\n",
       "              DATETIME  \n",
       "0  2017-01-01 00:00:00  \n",
       "1  2017-01-01 00:30:00  \n",
       "2  2017-01-01 01:00:00  \n",
       "3  2017-01-01 01:30:00  \n",
       "4  2017-01-01 02:00:00  "
      ]
     },
     "execution_count": 26,
     "metadata": {},
     "output_type": "execute_result"
    }
   ],
   "source": [
    "forecastDemand.head()"
   ]
  },
  {
   "cell_type": "code",
   "execution_count": 27,
   "id": "1e650d42",
   "metadata": {},
   "outputs": [],
   "source": [
    "forecastDemand = forecastDemand[forecastDemand['REGIONID'] == 'SA1']"
   ]
  },
  {
   "cell_type": "code",
   "execution_count": 28,
   "id": "28aa97f3",
   "metadata": {},
   "outputs": [
    {
     "data": {
      "text/plain": [
       "(4095592, 6)"
      ]
     },
     "execution_count": 28,
     "metadata": {},
     "output_type": "execute_result"
    }
   ],
   "source": [
    "forecastDemand.shape"
   ]
  },
  {
   "cell_type": "code",
   "execution_count": 29,
   "id": "9a32422a",
   "metadata": {},
   "outputs": [
    {
     "data": {
      "text/html": [
       "<div>\n",
       "<style scoped>\n",
       "    .dataframe tbody tr th:only-of-type {\n",
       "        vertical-align: middle;\n",
       "    }\n",
       "\n",
       "    .dataframe tbody tr th {\n",
       "        vertical-align: top;\n",
       "    }\n",
       "\n",
       "    .dataframe thead th {\n",
       "        text-align: right;\n",
       "    }\n",
       "</style>\n",
       "<table border=\"1\" class=\"dataframe\">\n",
       "  <thead>\n",
       "    <tr style=\"text-align: right;\">\n",
       "      <th></th>\n",
       "      <th>PREDISPATCHSEQNO</th>\n",
       "      <th>REGIONID</th>\n",
       "      <th>PERIODID</th>\n",
       "      <th>FORECASTDEMAND</th>\n",
       "      <th>LASTCHANGED</th>\n",
       "      <th>DATETIME</th>\n",
       "    </tr>\n",
       "  </thead>\n",
       "  <tbody>\n",
       "    <tr>\n",
       "      <th>0</th>\n",
       "      <td>2016123018</td>\n",
       "      <td>SA1</td>\n",
       "      <td>71</td>\n",
       "      <td>1394.41</td>\n",
       "      <td>2016-12-30 12:31:25</td>\n",
       "      <td>2017-01-01 00:00:00</td>\n",
       "    </tr>\n",
       "    <tr>\n",
       "      <th>1</th>\n",
       "      <td>2016123018</td>\n",
       "      <td>SA1</td>\n",
       "      <td>72</td>\n",
       "      <td>1285.07</td>\n",
       "      <td>2016-12-30 12:31:25</td>\n",
       "      <td>2017-01-01 00:30:00</td>\n",
       "    </tr>\n",
       "    <tr>\n",
       "      <th>2</th>\n",
       "      <td>2016123018</td>\n",
       "      <td>SA1</td>\n",
       "      <td>73</td>\n",
       "      <td>1221.70</td>\n",
       "      <td>2016-12-30 12:31:25</td>\n",
       "      <td>2017-01-01 01:00:00</td>\n",
       "    </tr>\n",
       "    <tr>\n",
       "      <th>3</th>\n",
       "      <td>2016123018</td>\n",
       "      <td>SA1</td>\n",
       "      <td>74</td>\n",
       "      <td>1141.86</td>\n",
       "      <td>2016-12-30 12:31:25</td>\n",
       "      <td>2017-01-01 01:30:00</td>\n",
       "    </tr>\n",
       "    <tr>\n",
       "      <th>4</th>\n",
       "      <td>2016123018</td>\n",
       "      <td>SA1</td>\n",
       "      <td>75</td>\n",
       "      <td>1087.78</td>\n",
       "      <td>2016-12-30 12:31:25</td>\n",
       "      <td>2017-01-01 02:00:00</td>\n",
       "    </tr>\n",
       "  </tbody>\n",
       "</table>\n",
       "</div>"
      ],
      "text/plain": [
       "   PREDISPATCHSEQNO REGIONID  PERIODID  FORECASTDEMAND          LASTCHANGED  \\\n",
       "0        2016123018      SA1        71         1394.41  2016-12-30 12:31:25   \n",
       "1        2016123018      SA1        72         1285.07  2016-12-30 12:31:25   \n",
       "2        2016123018      SA1        73         1221.70  2016-12-30 12:31:25   \n",
       "3        2016123018      SA1        74         1141.86  2016-12-30 12:31:25   \n",
       "4        2016123018      SA1        75         1087.78  2016-12-30 12:31:25   \n",
       "\n",
       "              DATETIME  \n",
       "0  2017-01-01 00:00:00  \n",
       "1  2017-01-01 00:30:00  \n",
       "2  2017-01-01 01:00:00  \n",
       "3  2017-01-01 01:30:00  \n",
       "4  2017-01-01 02:00:00  "
      ]
     },
     "execution_count": 29,
     "metadata": {},
     "output_type": "execute_result"
    }
   ],
   "source": [
    "forecastDemand.head()"
   ]
  },
  {
   "cell_type": "code",
   "execution_count": 30,
   "id": "60d8ea3f",
   "metadata": {},
   "outputs": [
    {
     "data": {
      "text/plain": [
       "0          True\n",
       "1          True\n",
       "2          True\n",
       "3          True\n",
       "4          True\n",
       "           ... \n",
       "4095587    True\n",
       "4095588    True\n",
       "4095589    True\n",
       "4095590    True\n",
       "4095591    True\n",
       "Name: REGIONID, Length: 4095592, dtype: bool"
      ]
     },
     "execution_count": 30,
     "metadata": {},
     "output_type": "execute_result"
    }
   ],
   "source": [
    "forecastDemand['REGIONID'] == 'SA1'"
   ]
  },
  {
   "cell_type": "code",
   "execution_count": 31,
   "id": "28118092",
   "metadata": {
    "scrolled": true
   },
   "outputs": [
    {
     "data": {
      "text/plain": [
       "PREDISPATCHSEQNO      int64\n",
       "REGIONID             object\n",
       "PERIODID              int64\n",
       "FORECASTDEMAND      float64\n",
       "LASTCHANGED          object\n",
       "DATETIME             object\n",
       "dtype: object"
      ]
     },
     "execution_count": 31,
     "metadata": {},
     "output_type": "execute_result"
    }
   ],
   "source": [
    "forecastDemand.dtypes"
   ]
  },
  {
   "cell_type": "code",
   "execution_count": 32,
   "id": "79182219",
   "metadata": {},
   "outputs": [
    {
     "data": {
      "text/plain": [
       "0          False\n",
       "1          False\n",
       "2          False\n",
       "3          False\n",
       "4          False\n",
       "           ...  \n",
       "4095587    False\n",
       "4095588    False\n",
       "4095589    False\n",
       "4095590    False\n",
       "4095591    False\n",
       "Name: REGIONID, Length: 4095592, dtype: bool"
      ]
     },
     "execution_count": 32,
     "metadata": {},
     "output_type": "execute_result"
    }
   ],
   "source": [
    "forecastDemand['REGIONID'] == 'NSW1'"
   ]
  },
  {
   "cell_type": "code",
   "execution_count": 33,
   "id": "6460c8ac",
   "metadata": {},
   "outputs": [],
   "source": [
    "dem_temp_inner['DATETIME'] = pd.to_datetime(dem_temp_inner['DATETIME'])"
   ]
  },
  {
   "cell_type": "code",
   "execution_count": 34,
   "id": "63fa46b1",
   "metadata": {},
   "outputs": [
    {
     "data": {
      "text/plain": [
       "LOCATION               object\n",
       "DATETIME       datetime64[ns]\n",
       "TEMPERATURE           float64\n",
       "TOTALDEMAND           float64\n",
       "REGIONID               object\n",
       "dtype: object"
      ]
     },
     "execution_count": 34,
     "metadata": {},
     "output_type": "execute_result"
    }
   ],
   "source": [
    "dem_temp_inner.dtypes\n"
   ]
  },
  {
   "cell_type": "code",
   "execution_count": 115,
   "id": "bc5ba564",
   "metadata": {},
   "outputs": [],
   "source": [
    "dem_temp_inner['day'] = dem_temp_inner['DATETIME'].dt.day\n",
    "dem_temp_inner['month'] = dem_temp_inner['DATETIME'].dt.month\n",
    "dem_temp_inner['year'] = dem_temp_inner['DATETIME'].dt.year\n",
    "dem_temp_inner['hour'] = dem_temp_inner['DATETIME'].dt.hour\n",
    "dem_temp_inner['date'] = dem_temp_inner['DATETIME'].dt.date\n",
    "dem_temp_inner['weekday'] = dem_temp_inner['DATETIME'].dt.weekday\n",
    "dem_temp_inner['month'] = dem_temp_inner['DATETIME'].dt.month\n",
    "dem_temp_inner['day_name'] = dem_temp_inner['DATETIME'].dt.day_name()\n",
    "#dem_temp_inner['date + hour'] = str(dem_temp_inner['DATETIME'].dt.date) + str(dem_temp_inner['DATETIME'].dt.hour)"
   ]
  },
  {
   "cell_type": "code",
   "execution_count": 116,
   "id": "337d4f72",
   "metadata": {},
   "outputs": [
    {
     "data": {
      "text/html": [
       "<div>\n",
       "<style scoped>\n",
       "    .dataframe tbody tr th:only-of-type {\n",
       "        vertical-align: middle;\n",
       "    }\n",
       "\n",
       "    .dataframe tbody tr th {\n",
       "        vertical-align: top;\n",
       "    }\n",
       "\n",
       "    .dataframe thead th {\n",
       "        text-align: right;\n",
       "    }\n",
       "</style>\n",
       "<table border=\"1\" class=\"dataframe\">\n",
       "  <thead>\n",
       "    <tr style=\"text-align: right;\">\n",
       "      <th></th>\n",
       "      <th>LOCATION</th>\n",
       "      <th>DATETIME</th>\n",
       "      <th>TEMPERATURE</th>\n",
       "      <th>TOTALDEMAND</th>\n",
       "      <th>REGIONID</th>\n",
       "      <th>day</th>\n",
       "      <th>month</th>\n",
       "      <th>year</th>\n",
       "      <th>hour</th>\n",
       "      <th>date</th>\n",
       "      <th>weekday</th>\n",
       "      <th>day_name</th>\n",
       "    </tr>\n",
       "  </thead>\n",
       "  <tbody>\n",
       "    <tr>\n",
       "      <th>0</th>\n",
       "      <td>Bankstown</td>\n",
       "      <td>2010-01-01 00:00:00</td>\n",
       "      <td>23.1</td>\n",
       "      <td>8038.00</td>\n",
       "      <td>NSW1</td>\n",
       "      <td>1</td>\n",
       "      <td>1</td>\n",
       "      <td>2010</td>\n",
       "      <td>0</td>\n",
       "      <td>2010-01-01</td>\n",
       "      <td>4</td>\n",
       "      <td>Friday</td>\n",
       "    </tr>\n",
       "    <tr>\n",
       "      <th>1</th>\n",
       "      <td>Bankstown</td>\n",
       "      <td>2010-01-01 00:30:00</td>\n",
       "      <td>22.9</td>\n",
       "      <td>7809.31</td>\n",
       "      <td>NSW1</td>\n",
       "      <td>1</td>\n",
       "      <td>1</td>\n",
       "      <td>2010</td>\n",
       "      <td>0</td>\n",
       "      <td>2010-01-01</td>\n",
       "      <td>4</td>\n",
       "      <td>Friday</td>\n",
       "    </tr>\n",
       "    <tr>\n",
       "      <th>2</th>\n",
       "      <td>Bankstown</td>\n",
       "      <td>2010-01-01 01:00:00</td>\n",
       "      <td>22.6</td>\n",
       "      <td>7483.69</td>\n",
       "      <td>NSW1</td>\n",
       "      <td>1</td>\n",
       "      <td>1</td>\n",
       "      <td>2010</td>\n",
       "      <td>1</td>\n",
       "      <td>2010-01-01</td>\n",
       "      <td>4</td>\n",
       "      <td>Friday</td>\n",
       "    </tr>\n",
       "    <tr>\n",
       "      <th>3</th>\n",
       "      <td>Bankstown</td>\n",
       "      <td>2010-01-01 01:30:00</td>\n",
       "      <td>22.5</td>\n",
       "      <td>7117.23</td>\n",
       "      <td>NSW1</td>\n",
       "      <td>1</td>\n",
       "      <td>1</td>\n",
       "      <td>2010</td>\n",
       "      <td>1</td>\n",
       "      <td>2010-01-01</td>\n",
       "      <td>4</td>\n",
       "      <td>Friday</td>\n",
       "    </tr>\n",
       "    <tr>\n",
       "      <th>4</th>\n",
       "      <td>Bankstown</td>\n",
       "      <td>2010-01-01 02:00:00</td>\n",
       "      <td>22.5</td>\n",
       "      <td>6812.03</td>\n",
       "      <td>NSW1</td>\n",
       "      <td>1</td>\n",
       "      <td>1</td>\n",
       "      <td>2010</td>\n",
       "      <td>2</td>\n",
       "      <td>2010-01-01</td>\n",
       "      <td>4</td>\n",
       "      <td>Friday</td>\n",
       "    </tr>\n",
       "  </tbody>\n",
       "</table>\n",
       "</div>"
      ],
      "text/plain": [
       "    LOCATION            DATETIME  TEMPERATURE  TOTALDEMAND REGIONID  day  \\\n",
       "0  Bankstown 2010-01-01 00:00:00         23.1      8038.00     NSW1    1   \n",
       "1  Bankstown 2010-01-01 00:30:00         22.9      7809.31     NSW1    1   \n",
       "2  Bankstown 2010-01-01 01:00:00         22.6      7483.69     NSW1    1   \n",
       "3  Bankstown 2010-01-01 01:30:00         22.5      7117.23     NSW1    1   \n",
       "4  Bankstown 2010-01-01 02:00:00         22.5      6812.03     NSW1    1   \n",
       "\n",
       "   month  year  hour        date  weekday day_name  \n",
       "0      1  2010     0  2010-01-01        4   Friday  \n",
       "1      1  2010     0  2010-01-01        4   Friday  \n",
       "2      1  2010     1  2010-01-01        4   Friday  \n",
       "3      1  2010     1  2010-01-01        4   Friday  \n",
       "4      1  2010     2  2010-01-01        4   Friday  "
      ]
     },
     "execution_count": 116,
     "metadata": {},
     "output_type": "execute_result"
    }
   ],
   "source": [
    "dem_temp_inner.head()"
   ]
  },
  {
   "cell_type": "code",
   "execution_count": 37,
   "id": "4d5bf319",
   "metadata": {},
   "outputs": [],
   "source": [
    "grouped_hour = dem_temp_inner.groupby('hour')"
   ]
  },
  {
   "cell_type": "code",
   "execution_count": 38,
   "id": "6af01ab0",
   "metadata": {},
   "outputs": [
    {
     "data": {
      "text/html": [
       "<div>\n",
       "<style scoped>\n",
       "    .dataframe tbody tr th:only-of-type {\n",
       "        vertical-align: middle;\n",
       "    }\n",
       "\n",
       "    .dataframe tbody tr th {\n",
       "        vertical-align: top;\n",
       "    }\n",
       "\n",
       "    .dataframe thead th {\n",
       "        text-align: right;\n",
       "    }\n",
       "</style>\n",
       "<table border=\"1\" class=\"dataframe\">\n",
       "  <thead>\n",
       "    <tr style=\"text-align: right;\">\n",
       "      <th></th>\n",
       "      <th>LOCATION</th>\n",
       "      <th>DATETIME</th>\n",
       "      <th>TEMPERATURE</th>\n",
       "      <th>TOTALDEMAND</th>\n",
       "      <th>REGIONID</th>\n",
       "      <th>day</th>\n",
       "      <th>month</th>\n",
       "      <th>year</th>\n",
       "      <th>hour</th>\n",
       "      <th>date</th>\n",
       "      <th>weekday</th>\n",
       "      <th>day_name</th>\n",
       "    </tr>\n",
       "  </thead>\n",
       "  <tbody>\n",
       "    <tr>\n",
       "      <th>0</th>\n",
       "      <td>Bankstown</td>\n",
       "      <td>2010-01-01 00:00:00</td>\n",
       "      <td>23.1</td>\n",
       "      <td>8038.00</td>\n",
       "      <td>NSW1</td>\n",
       "      <td>1</td>\n",
       "      <td>1</td>\n",
       "      <td>2010</td>\n",
       "      <td>0</td>\n",
       "      <td>2010-01-01</td>\n",
       "      <td>4</td>\n",
       "      <td>Friday</td>\n",
       "    </tr>\n",
       "    <tr>\n",
       "      <th>1</th>\n",
       "      <td>Bankstown</td>\n",
       "      <td>2010-01-01 00:30:00</td>\n",
       "      <td>22.9</td>\n",
       "      <td>7809.31</td>\n",
       "      <td>NSW1</td>\n",
       "      <td>1</td>\n",
       "      <td>1</td>\n",
       "      <td>2010</td>\n",
       "      <td>0</td>\n",
       "      <td>2010-01-01</td>\n",
       "      <td>4</td>\n",
       "      <td>Friday</td>\n",
       "    </tr>\n",
       "    <tr>\n",
       "      <th>2</th>\n",
       "      <td>Bankstown</td>\n",
       "      <td>2010-01-01 01:00:00</td>\n",
       "      <td>22.6</td>\n",
       "      <td>7483.69</td>\n",
       "      <td>NSW1</td>\n",
       "      <td>1</td>\n",
       "      <td>1</td>\n",
       "      <td>2010</td>\n",
       "      <td>1</td>\n",
       "      <td>2010-01-01</td>\n",
       "      <td>4</td>\n",
       "      <td>Friday</td>\n",
       "    </tr>\n",
       "    <tr>\n",
       "      <th>3</th>\n",
       "      <td>Bankstown</td>\n",
       "      <td>2010-01-01 01:30:00</td>\n",
       "      <td>22.5</td>\n",
       "      <td>7117.23</td>\n",
       "      <td>NSW1</td>\n",
       "      <td>1</td>\n",
       "      <td>1</td>\n",
       "      <td>2010</td>\n",
       "      <td>1</td>\n",
       "      <td>2010-01-01</td>\n",
       "      <td>4</td>\n",
       "      <td>Friday</td>\n",
       "    </tr>\n",
       "    <tr>\n",
       "      <th>4</th>\n",
       "      <td>Bankstown</td>\n",
       "      <td>2010-01-01 02:00:00</td>\n",
       "      <td>22.5</td>\n",
       "      <td>6812.03</td>\n",
       "      <td>NSW1</td>\n",
       "      <td>1</td>\n",
       "      <td>1</td>\n",
       "      <td>2010</td>\n",
       "      <td>2</td>\n",
       "      <td>2010-01-01</td>\n",
       "      <td>4</td>\n",
       "      <td>Friday</td>\n",
       "    </tr>\n",
       "    <tr>\n",
       "      <th>...</th>\n",
       "      <td>...</td>\n",
       "      <td>...</td>\n",
       "      <td>...</td>\n",
       "      <td>...</td>\n",
       "      <td>...</td>\n",
       "      <td>...</td>\n",
       "      <td>...</td>\n",
       "      <td>...</td>\n",
       "      <td>...</td>\n",
       "      <td>...</td>\n",
       "      <td>...</td>\n",
       "      <td>...</td>\n",
       "    </tr>\n",
       "    <tr>\n",
       "      <th>134</th>\n",
       "      <td>Bankstown</td>\n",
       "      <td>2010-03-01 19:00:00</td>\n",
       "      <td>19.7</td>\n",
       "      <td>7878.88</td>\n",
       "      <td>NSW1</td>\n",
       "      <td>1</td>\n",
       "      <td>3</td>\n",
       "      <td>2010</td>\n",
       "      <td>19</td>\n",
       "      <td>2010-03-01</td>\n",
       "      <td>0</td>\n",
       "      <td>Monday</td>\n",
       "    </tr>\n",
       "    <tr>\n",
       "      <th>136</th>\n",
       "      <td>Bankstown</td>\n",
       "      <td>2010-03-01 20:00:00</td>\n",
       "      <td>19.5</td>\n",
       "      <td>7995.93</td>\n",
       "      <td>NSW1</td>\n",
       "      <td>1</td>\n",
       "      <td>3</td>\n",
       "      <td>2010</td>\n",
       "      <td>20</td>\n",
       "      <td>2010-03-01</td>\n",
       "      <td>0</td>\n",
       "      <td>Monday</td>\n",
       "    </tr>\n",
       "    <tr>\n",
       "      <th>138</th>\n",
       "      <td>Bankstown</td>\n",
       "      <td>2010-03-01 21:00:00</td>\n",
       "      <td>19.0</td>\n",
       "      <td>7642.16</td>\n",
       "      <td>NSW1</td>\n",
       "      <td>1</td>\n",
       "      <td>3</td>\n",
       "      <td>2010</td>\n",
       "      <td>21</td>\n",
       "      <td>2010-03-01</td>\n",
       "      <td>0</td>\n",
       "      <td>Monday</td>\n",
       "    </tr>\n",
       "    <tr>\n",
       "      <th>140</th>\n",
       "      <td>Bankstown</td>\n",
       "      <td>2010-03-01 22:00:00</td>\n",
       "      <td>19.2</td>\n",
       "      <td>7528.43</td>\n",
       "      <td>NSW1</td>\n",
       "      <td>1</td>\n",
       "      <td>3</td>\n",
       "      <td>2010</td>\n",
       "      <td>22</td>\n",
       "      <td>2010-03-01</td>\n",
       "      <td>0</td>\n",
       "      <td>Monday</td>\n",
       "    </tr>\n",
       "    <tr>\n",
       "      <th>142</th>\n",
       "      <td>Bankstown</td>\n",
       "      <td>2010-03-01 23:00:00</td>\n",
       "      <td>18.5</td>\n",
       "      <td>7226.84</td>\n",
       "      <td>NSW1</td>\n",
       "      <td>1</td>\n",
       "      <td>3</td>\n",
       "      <td>2010</td>\n",
       "      <td>23</td>\n",
       "      <td>2010-03-01</td>\n",
       "      <td>0</td>\n",
       "      <td>Monday</td>\n",
       "    </tr>\n",
       "  </tbody>\n",
       "</table>\n",
       "<p>120 rows × 12 columns</p>\n",
       "</div>"
      ],
      "text/plain": [
       "      LOCATION            DATETIME  TEMPERATURE  TOTALDEMAND REGIONID  day  \\\n",
       "0    Bankstown 2010-01-01 00:00:00         23.1      8038.00     NSW1    1   \n",
       "1    Bankstown 2010-01-01 00:30:00         22.9      7809.31     NSW1    1   \n",
       "2    Bankstown 2010-01-01 01:00:00         22.6      7483.69     NSW1    1   \n",
       "3    Bankstown 2010-01-01 01:30:00         22.5      7117.23     NSW1    1   \n",
       "4    Bankstown 2010-01-01 02:00:00         22.5      6812.03     NSW1    1   \n",
       "..         ...                 ...          ...          ...      ...  ...   \n",
       "134  Bankstown 2010-03-01 19:00:00         19.7      7878.88     NSW1    1   \n",
       "136  Bankstown 2010-03-01 20:00:00         19.5      7995.93     NSW1    1   \n",
       "138  Bankstown 2010-03-01 21:00:00         19.0      7642.16     NSW1    1   \n",
       "140  Bankstown 2010-03-01 22:00:00         19.2      7528.43     NSW1    1   \n",
       "142  Bankstown 2010-03-01 23:00:00         18.5      7226.84     NSW1    1   \n",
       "\n",
       "     month  year  hour        date  weekday day_name  \n",
       "0        1  2010     0  2010-01-01        4   Friday  \n",
       "1        1  2010     0  2010-01-01        4   Friday  \n",
       "2        1  2010     1  2010-01-01        4   Friday  \n",
       "3        1  2010     1  2010-01-01        4   Friday  \n",
       "4        1  2010     2  2010-01-01        4   Friday  \n",
       "..     ...   ...   ...         ...      ...      ...  \n",
       "134      3  2010    19  2010-03-01        0   Monday  \n",
       "136      3  2010    20  2010-03-01        0   Monday  \n",
       "138      3  2010    21  2010-03-01        0   Monday  \n",
       "140      3  2010    22  2010-03-01        0   Monday  \n",
       "142      3  2010    23  2010-03-01        0   Monday  \n",
       "\n",
       "[120 rows x 12 columns]"
      ]
     },
     "execution_count": 38,
     "metadata": {},
     "output_type": "execute_result"
    }
   ],
   "source": [
    "grouped_hour.head()"
   ]
  },
  {
   "cell_type": "code",
   "execution_count": 39,
   "id": "74a42957",
   "metadata": {},
   "outputs": [
    {
     "name": "stderr",
     "output_type": "stream",
     "text": [
      "C:\\Users\\User\\AppData\\Local\\Temp/ipykernel_14332/3631973381.py:1: FutureWarning: Indexing with multiple keys (implicitly converted to a tuple of keys) will be deprecated, use a list instead.\n",
      "  dem_temp_inner.groupby([dem_temp_inner[\"DATETIME\"].dt.date])[\"TEMPERATURE\", \"TOTALDEMAND\"].mean()\n"
     ]
    },
    {
     "data": {
      "text/html": [
       "<div>\n",
       "<style scoped>\n",
       "    .dataframe tbody tr th:only-of-type {\n",
       "        vertical-align: middle;\n",
       "    }\n",
       "\n",
       "    .dataframe tbody tr th {\n",
       "        vertical-align: top;\n",
       "    }\n",
       "\n",
       "    .dataframe thead th {\n",
       "        text-align: right;\n",
       "    }\n",
       "</style>\n",
       "<table border=\"1\" class=\"dataframe\">\n",
       "  <thead>\n",
       "    <tr style=\"text-align: right;\">\n",
       "      <th></th>\n",
       "      <th>TEMPERATURE</th>\n",
       "      <th>TOTALDEMAND</th>\n",
       "    </tr>\n",
       "    <tr>\n",
       "      <th>DATETIME</th>\n",
       "      <th></th>\n",
       "      <th></th>\n",
       "    </tr>\n",
       "  </thead>\n",
       "  <tbody>\n",
       "    <tr>\n",
       "      <th>2010-01-01</th>\n",
       "      <td>25.185417</td>\n",
       "      <td>7801.352917</td>\n",
       "    </tr>\n",
       "    <tr>\n",
       "      <th>2010-01-02</th>\n",
       "      <td>24.461702</td>\n",
       "      <td>9557.546383</td>\n",
       "    </tr>\n",
       "    <tr>\n",
       "      <th>2010-01-03</th>\n",
       "      <td>18.737500</td>\n",
       "      <td>8560.798958</td>\n",
       "    </tr>\n",
       "    <tr>\n",
       "      <th>2010-01-04</th>\n",
       "      <td>19.191489</td>\n",
       "      <td>8499.952553</td>\n",
       "    </tr>\n",
       "    <tr>\n",
       "      <th>2010-01-05</th>\n",
       "      <td>15.912821</td>\n",
       "      <td>8025.070256</td>\n",
       "    </tr>\n",
       "    <tr>\n",
       "      <th>...</th>\n",
       "      <td>...</td>\n",
       "      <td>...</td>\n",
       "    </tr>\n",
       "    <tr>\n",
       "      <th>2021-11-02</th>\n",
       "      <td>21.970833</td>\n",
       "      <td>7562.555417</td>\n",
       "    </tr>\n",
       "    <tr>\n",
       "      <th>2021-11-03</th>\n",
       "      <td>22.175000</td>\n",
       "      <td>7841.899792</td>\n",
       "    </tr>\n",
       "    <tr>\n",
       "      <th>2021-12-01</th>\n",
       "      <td>23.850000</td>\n",
       "      <td>8058.727083</td>\n",
       "    </tr>\n",
       "    <tr>\n",
       "      <th>2021-12-02</th>\n",
       "      <td>24.556250</td>\n",
       "      <td>8055.056250</td>\n",
       "    </tr>\n",
       "    <tr>\n",
       "      <th>2021-12-03</th>\n",
       "      <td>22.650000</td>\n",
       "      <td>7846.094375</td>\n",
       "    </tr>\n",
       "  </tbody>\n",
       "</table>\n",
       "<p>4092 rows × 2 columns</p>\n",
       "</div>"
      ],
      "text/plain": [
       "            TEMPERATURE  TOTALDEMAND\n",
       "DATETIME                            \n",
       "2010-01-01    25.185417  7801.352917\n",
       "2010-01-02    24.461702  9557.546383\n",
       "2010-01-03    18.737500  8560.798958\n",
       "2010-01-04    19.191489  8499.952553\n",
       "2010-01-05    15.912821  8025.070256\n",
       "...                 ...          ...\n",
       "2021-11-02    21.970833  7562.555417\n",
       "2021-11-03    22.175000  7841.899792\n",
       "2021-12-01    23.850000  8058.727083\n",
       "2021-12-02    24.556250  8055.056250\n",
       "2021-12-03    22.650000  7846.094375\n",
       "\n",
       "[4092 rows x 2 columns]"
      ]
     },
     "execution_count": 39,
     "metadata": {},
     "output_type": "execute_result"
    }
   ],
   "source": [
    "dem_temp_inner.groupby([dem_temp_inner[\"DATETIME\"].dt.date])[\"TEMPERATURE\", \"TOTALDEMAND\"].mean()\n"
   ]
  },
  {
   "cell_type": "code",
   "execution_count": 40,
   "id": "3961aacd",
   "metadata": {},
   "outputs": [
    {
     "data": {
      "text/plain": [
       "<AxesSubplot:xlabel='DATETIME'>"
      ]
     },
     "execution_count": 40,
     "metadata": {},
     "output_type": "execute_result"
    },
    {
     "data": {
      "image/png": "[encoded data removed]",
      "text/plain": [
       "<Figure size 864x288 with 1 Axes>"
      ]
     },
     "metadata": {
      "needs_background": "light"
     },
     "output_type": "display_data"
    }
   ],
   "source": [
    "fig, axs = plt.subplots(figsize=(12, 4))\n",
    "\n",
    "dem_temp_inner.groupby([dem_temp_inner[\"DATETIME\"].dt.date])[\"TEMPERATURE\"].mean().plot(\n",
    "    kind='line', rot=0, ax=axs\n",
    ")"
   ]
  },
  {
   "cell_type": "code",
   "execution_count": 41,
   "id": "bfa13082",
   "metadata": {},
   "outputs": [
    {
     "data": {
      "text/plain": [
       "<AxesSubplot:xlabel='DATETIME'>"
      ]
     },
     "execution_count": 41,
     "metadata": {},
     "output_type": "execute_result"
    },
    {
     "data": {
      "image/png": "[encoded data removed]",
      "text/plain": [
       "<Figure size 864x288 with 1 Axes>"
      ]
     },
     "metadata": {
      "needs_background": "light"
     },
     "output_type": "display_data"
    }
   ],
   "source": [
    "fig, axs = plt.subplots(figsize=(12, 4))\n",
    "\n",
    "dem_temp_inner.groupby([dem_temp_inner[\"DATETIME\"].dt.date])[\"TOTALDEMAND\"].mean().plot(\n",
    "    kind='line', rot=0, ax=axs\n",
    ")"
   ]
  },
  {
   "cell_type": "code",
   "execution_count": 114,
   "id": "a9e5a647",
   "metadata": {},
   "outputs": [
    {
     "data": {
      "text/plain": [
       "<AxesSubplot:xlabel='DATETIME'>"
      ]
     },
     "execution_count": 114,
     "metadata": {},
     "output_type": "execute_result"
    },
    {
     "data": {
      "image/png": "[encoded data removed]",
      "text/plain": [
       "<Figure size 864x288 with 1 Axes>"
      ]
     },
     "metadata": {
      "needs_background": "light"
     },
     "output_type": "display_data"
    }
   ],
   "source": [
    "fig, axs = plt.subplots(figsize=(12, 4))\n",
    "\n",
    "dem_temp_inner.groupby([dem_temp_inner[\"DATETIME\"].dt.month])[\"TOTALDEMAND\"].mean().plot(\n",
    "    kind='line', rot=0, ax=axs\n",
    ")"
   ]
  },
  {
   "cell_type": "code",
   "execution_count": 42,
   "id": "018c1473",
   "metadata": {},
   "outputs": [
    {
     "name": "stderr",
     "output_type": "stream",
     "text": [
      "C:\\Users\\User\\AppData\\Local\\Temp/ipykernel_14332/1830846331.py:3: FutureWarning: Indexing with multiple keys (implicitly converted to a tuple of keys) will be deprecated, use a list instead.\n",
      "  dem_temp_inner.groupby([dem_temp_inner[\"DATETIME\"].dt.date])[\"TEMPERATURE\", \"TOTALDEMAND\"].mean().plot(\n"
     ]
    },
    {
     "data": {
      "text/plain": [
       "<AxesSubplot:xlabel='DATETIME'>"
      ]
     },
     "execution_count": 42,
     "metadata": {},
     "output_type": "execute_result"
    },
    {
     "data": {
      "image/png": "[encoded data removed]",
      "text/plain": [
       "<Figure size 864x288 with 1 Axes>"
      ]
     },
     "metadata": {
      "needs_background": "light"
     },
     "output_type": "display_data"
    }
   ],
   "source": [
    "fig, axs = plt.subplots(figsize=(12, 4))\n",
    "\n",
    "dem_temp_inner.groupby([dem_temp_inner[\"DATETIME\"].dt.date])[\"TEMPERATURE\", \"TOTALDEMAND\"].mean().plot(\n",
    "    kind='line', rot=0, ax=axs\n",
    ")"
   ]
  },
  {
   "cell_type": "code",
   "execution_count": 43,
   "id": "99eb3f45",
   "metadata": {},
   "outputs": [
    {
     "data": {
      "text/plain": [
       "<AxesSubplot:xlabel='DATETIME'>"
      ]
     },
     "execution_count": 43,
     "metadata": {},
     "output_type": "execute_result"
    },
    {
     "data": {
      "image/png": "[encoded data removed]",
      "text/plain": [
       "<Figure size 864x288 with 1 Axes>"
      ]
     },
     "metadata": {
      "needs_background": "light"
     },
     "output_type": "display_data"
    }
   ],
   "source": [
    "fig, axs = plt.subplots(figsize=(12, 4))\n",
    "\n",
    "dem_temp_inner.groupby([dem_temp_inner[\"DATETIME\"].dt.year])[\"TEMPERATURE\"].mean().plot(\n",
    "    kind='line', rot=0, ax=axs\n",
    ")"
   ]
  },
  {
   "cell_type": "code",
   "execution_count": 44,
   "id": "d4135f19",
   "metadata": {},
   "outputs": [
    {
     "data": {
      "text/plain": [
       "<AxesSubplot:xlabel='DATETIME'>"
      ]
     },
     "execution_count": 44,
     "metadata": {},
     "output_type": "execute_result"
    },
    {
     "data": {
      "image/png": "[encoded data removed]",
      "text/plain": [
       "<Figure size 864x288 with 1 Axes>"
      ]
     },
     "metadata": {
      "needs_background": "light"
     },
     "output_type": "display_data"
    }
   ],
   "source": [
    "fig, axs = plt.subplots(figsize=(12, 4))\n",
    "\n",
    "dem_temp_inner.groupby([dem_temp_inner[\"DATETIME\"].dt.year])[\"TOTALDEMAND\"].mean().plot(\n",
    "    kind='line', rot=0, ax=axs\n",
    ")"
   ]
  },
  {
   "cell_type": "code",
   "execution_count": 45,
   "id": "fe1fe3a9",
   "metadata": {},
   "outputs": [
    {
     "data": {
      "text/plain": [
       "<AxesSubplot:xlabel='DATETIME'>"
      ]
     },
     "execution_count": 45,
     "metadata": {},
     "output_type": "execute_result"
    },
    {
     "data": {
      "image/png": "[encoded data removed]",
      "text/plain": [
       "<Figure size 864x288 with 1 Axes>"
      ]
     },
     "metadata": {
      "needs_background": "light"
     },
     "output_type": "display_data"
    }
   ],
   "source": [
    "fig, axs = plt.subplots(figsize=(12, 4))\n",
    "\n",
    "dem_temp_inner.groupby([dem_temp_inner[\"DATETIME\"].dt.month])[\"TEMPERATURE\"].mean().plot(\n",
    "    kind='line', rot=0, ax=axs\n",
    ")"
   ]
  },
  {
   "cell_type": "code",
   "execution_count": 46,
   "id": "5f319a27",
   "metadata": {},
   "outputs": [
    {
     "data": {
      "text/plain": [
       "<AxesSubplot:xlabel='DATETIME'>"
      ]
     },
     "execution_count": 46,
     "metadata": {},
     "output_type": "execute_result"
    },
    {
     "data": {
      "image/png": "[encoded data removed]",
      "text/plain": [
       "<Figure size 864x288 with 1 Axes>"
      ]
     },
     "metadata": {
      "needs_background": "light"
     },
     "output_type": "display_data"
    }
   ],
   "source": [
    "fig, axs = plt.subplots(figsize=(12, 4))\n",
    "\n",
    "dem_temp_inner.groupby([dem_temp_inner[\"DATETIME\"].dt.month])[\"TOTALDEMAND\"].mean().plot(\n",
    "    kind='line', rot=0, ax=axs\n",
    ")"
   ]
  },
  {
   "cell_type": "code",
   "execution_count": 47,
   "id": "a9d59feb",
   "metadata": {},
   "outputs": [
    {
     "name": "stderr",
     "output_type": "stream",
     "text": [
      "C:\\Users\\User\\AppData\\Local\\Temp/ipykernel_14332/2177233042.py:1: FutureWarning: Indexing with multiple keys (implicitly converted to a tuple of keys) will be deprecated, use a list instead.\n",
      "  dem_temp_inner.groupby([dem_temp_inner[\"DATETIME\"].dt.year])[\"TEMPERATURE\", \"TOTALDEMAND\"].mean()\n"
     ]
    },
    {
     "data": {
      "text/html": [
       "<div>\n",
       "<style scoped>\n",
       "    .dataframe tbody tr th:only-of-type {\n",
       "        vertical-align: middle;\n",
       "    }\n",
       "\n",
       "    .dataframe tbody tr th {\n",
       "        vertical-align: top;\n",
       "    }\n",
       "\n",
       "    .dataframe thead th {\n",
       "        text-align: right;\n",
       "    }\n",
       "</style>\n",
       "<table border=\"1\" class=\"dataframe\">\n",
       "  <thead>\n",
       "    <tr style=\"text-align: right;\">\n",
       "      <th></th>\n",
       "      <th>TEMPERATURE</th>\n",
       "      <th>TOTALDEMAND</th>\n",
       "    </tr>\n",
       "    <tr>\n",
       "      <th>DATETIME</th>\n",
       "      <th></th>\n",
       "      <th></th>\n",
       "    </tr>\n",
       "  </thead>\n",
       "  <tbody>\n",
       "    <tr>\n",
       "      <th>2010</th>\n",
       "      <td>17.350959</td>\n",
       "      <td>8806.634881</td>\n",
       "    </tr>\n",
       "    <tr>\n",
       "      <th>2011</th>\n",
       "      <td>17.137916</td>\n",
       "      <td>8729.258601</td>\n",
       "    </tr>\n",
       "    <tr>\n",
       "      <th>2012</th>\n",
       "      <td>16.767150</td>\n",
       "      <td>8253.115030</td>\n",
       "    </tr>\n",
       "    <tr>\n",
       "      <th>2013</th>\n",
       "      <td>17.518075</td>\n",
       "      <td>7981.460353</td>\n",
       "    </tr>\n",
       "    <tr>\n",
       "      <th>2014</th>\n",
       "      <td>17.524010</td>\n",
       "      <td>7917.697750</td>\n",
       "    </tr>\n",
       "    <tr>\n",
       "      <th>2015</th>\n",
       "      <td>16.960325</td>\n",
       "      <td>7979.624178</td>\n",
       "    </tr>\n",
       "    <tr>\n",
       "      <th>2016</th>\n",
       "      <td>18.044215</td>\n",
       "      <td>7972.542419</td>\n",
       "    </tr>\n",
       "    <tr>\n",
       "      <th>2017</th>\n",
       "      <td>17.844709</td>\n",
       "      <td>8053.839384</td>\n",
       "    </tr>\n",
       "    <tr>\n",
       "      <th>2018</th>\n",
       "      <td>17.585447</td>\n",
       "      <td>8001.012442</td>\n",
       "    </tr>\n",
       "    <tr>\n",
       "      <th>2019</th>\n",
       "      <td>17.794789</td>\n",
       "      <td>7964.534511</td>\n",
       "    </tr>\n",
       "    <tr>\n",
       "      <th>2020</th>\n",
       "      <td>17.454181</td>\n",
       "      <td>7709.863122</td>\n",
       "    </tr>\n",
       "    <tr>\n",
       "      <th>2021</th>\n",
       "      <td>21.669910</td>\n",
       "      <td>7497.118816</td>\n",
       "    </tr>\n",
       "  </tbody>\n",
       "</table>\n",
       "</div>"
      ],
      "text/plain": [
       "          TEMPERATURE  TOTALDEMAND\n",
       "DATETIME                          \n",
       "2010        17.350959  8806.634881\n",
       "2011        17.137916  8729.258601\n",
       "2012        16.767150  8253.115030\n",
       "2013        17.518075  7981.460353\n",
       "2014        17.524010  7917.697750\n",
       "2015        16.960325  7979.624178\n",
       "2016        18.044215  7972.542419\n",
       "2017        17.844709  8053.839384\n",
       "2018        17.585447  8001.012442\n",
       "2019        17.794789  7964.534511\n",
       "2020        17.454181  7709.863122\n",
       "2021        21.669910  7497.118816"
      ]
     },
     "execution_count": 47,
     "metadata": {},
     "output_type": "execute_result"
    }
   ],
   "source": [
    "dem_temp_inner.groupby([dem_temp_inner[\"DATETIME\"].dt.year])[\"TEMPERATURE\", \"TOTALDEMAND\"].mean()"
   ]
  },
  {
   "cell_type": "code",
   "execution_count": 48,
   "id": "7bbf8aa2",
   "metadata": {},
   "outputs": [
    {
     "name": "stderr",
     "output_type": "stream",
     "text": [
      "C:\\Users\\User\\AppData\\Local\\Temp/ipykernel_14332/1716735715.py:1: FutureWarning: Indexing with multiple keys (implicitly converted to a tuple of keys) will be deprecated, use a list instead.\n",
      "  dem_temp_inner.groupby([dem_temp_inner[\"DATETIME\"].dt.year])[\"TEMPERATURE\", \"TOTALDEMAND\"].median()\n"
     ]
    },
    {
     "data": {
      "text/html": [
       "<div>\n",
       "<style scoped>\n",
       "    .dataframe tbody tr th:only-of-type {\n",
       "        vertical-align: middle;\n",
       "    }\n",
       "\n",
       "    .dataframe tbody tr th {\n",
       "        vertical-align: top;\n",
       "    }\n",
       "\n",
       "    .dataframe thead th {\n",
       "        text-align: right;\n",
       "    }\n",
       "</style>\n",
       "<table border=\"1\" class=\"dataframe\">\n",
       "  <thead>\n",
       "    <tr style=\"text-align: right;\">\n",
       "      <th></th>\n",
       "      <th>TEMPERATURE</th>\n",
       "      <th>TOTALDEMAND</th>\n",
       "    </tr>\n",
       "    <tr>\n",
       "      <th>DATETIME</th>\n",
       "      <th></th>\n",
       "      <th></th>\n",
       "    </tr>\n",
       "  </thead>\n",
       "  <tbody>\n",
       "    <tr>\n",
       "      <th>2010</th>\n",
       "      <td>17.4</td>\n",
       "      <td>8924.210</td>\n",
       "    </tr>\n",
       "    <tr>\n",
       "      <th>2011</th>\n",
       "      <td>17.1</td>\n",
       "      <td>8810.075</td>\n",
       "    </tr>\n",
       "    <tr>\n",
       "      <th>2012</th>\n",
       "      <td>17.3</td>\n",
       "      <td>8317.960</td>\n",
       "    </tr>\n",
       "    <tr>\n",
       "      <th>2013</th>\n",
       "      <td>17.7</td>\n",
       "      <td>8044.295</td>\n",
       "    </tr>\n",
       "    <tr>\n",
       "      <th>2014</th>\n",
       "      <td>18.1</td>\n",
       "      <td>7984.690</td>\n",
       "    </tr>\n",
       "    <tr>\n",
       "      <th>2015</th>\n",
       "      <td>17.3</td>\n",
       "      <td>7990.315</td>\n",
       "    </tr>\n",
       "    <tr>\n",
       "      <th>2016</th>\n",
       "      <td>18.3</td>\n",
       "      <td>7933.990</td>\n",
       "    </tr>\n",
       "    <tr>\n",
       "      <th>2017</th>\n",
       "      <td>18.3</td>\n",
       "      <td>7960.675</td>\n",
       "    </tr>\n",
       "    <tr>\n",
       "      <th>2018</th>\n",
       "      <td>18.0</td>\n",
       "      <td>7947.570</td>\n",
       "    </tr>\n",
       "    <tr>\n",
       "      <th>2019</th>\n",
       "      <td>18.2</td>\n",
       "      <td>7814.980</td>\n",
       "    </tr>\n",
       "    <tr>\n",
       "      <th>2020</th>\n",
       "      <td>17.6</td>\n",
       "      <td>7522.500</td>\n",
       "    </tr>\n",
       "    <tr>\n",
       "      <th>2021</th>\n",
       "      <td>21.2</td>\n",
       "      <td>7444.600</td>\n",
       "    </tr>\n",
       "  </tbody>\n",
       "</table>\n",
       "</div>"
      ],
      "text/plain": [
       "          TEMPERATURE  TOTALDEMAND\n",
       "DATETIME                          \n",
       "2010             17.4     8924.210\n",
       "2011             17.1     8810.075\n",
       "2012             17.3     8317.960\n",
       "2013             17.7     8044.295\n",
       "2014             18.1     7984.690\n",
       "2015             17.3     7990.315\n",
       "2016             18.3     7933.990\n",
       "2017             18.3     7960.675\n",
       "2018             18.0     7947.570\n",
       "2019             18.2     7814.980\n",
       "2020             17.6     7522.500\n",
       "2021             21.2     7444.600"
      ]
     },
     "execution_count": 48,
     "metadata": {},
     "output_type": "execute_result"
    }
   ],
   "source": [
    "dem_temp_inner.groupby([dem_temp_inner[\"DATETIME\"].dt.year])[\"TEMPERATURE\", \"TOTALDEMAND\"].median()"
   ]
  },
  {
   "cell_type": "code",
   "execution_count": 49,
   "id": "d55c57a6",
   "metadata": {},
   "outputs": [
    {
     "name": "stderr",
     "output_type": "stream",
     "text": [
      "C:\\Users\\User\\AppData\\Local\\Temp/ipykernel_14332/957029924.py:1: FutureWarning: Indexing with multiple keys (implicitly converted to a tuple of keys) will be deprecated, use a list instead.\n",
      "  dem_temp_inner.groupby([dem_temp_inner[\"DATETIME\"].dt.year])[\"TEMPERATURE\", \"TOTALDEMAND\"].count()\n"
     ]
    },
    {
     "data": {
      "text/html": [
       "<div>\n",
       "<style scoped>\n",
       "    .dataframe tbody tr th:only-of-type {\n",
       "        vertical-align: middle;\n",
       "    }\n",
       "\n",
       "    .dataframe tbody tr th {\n",
       "        vertical-align: top;\n",
       "    }\n",
       "\n",
       "    .dataframe thead th {\n",
       "        text-align: right;\n",
       "    }\n",
       "</style>\n",
       "<table border=\"1\" class=\"dataframe\">\n",
       "  <thead>\n",
       "    <tr style=\"text-align: right;\">\n",
       "      <th></th>\n",
       "      <th>TEMPERATURE</th>\n",
       "      <th>TOTALDEMAND</th>\n",
       "    </tr>\n",
       "    <tr>\n",
       "      <th>DATETIME</th>\n",
       "      <th></th>\n",
       "      <th></th>\n",
       "    </tr>\n",
       "  </thead>\n",
       "  <tbody>\n",
       "    <tr>\n",
       "      <th>2010</th>\n",
       "      <td>17259</td>\n",
       "      <td>17259</td>\n",
       "    </tr>\n",
       "    <tr>\n",
       "      <th>2011</th>\n",
       "      <td>17502</td>\n",
       "      <td>17502</td>\n",
       "    </tr>\n",
       "    <tr>\n",
       "      <th>2012</th>\n",
       "      <td>17534</td>\n",
       "      <td>17534</td>\n",
       "    </tr>\n",
       "    <tr>\n",
       "      <th>2013</th>\n",
       "      <td>17516</td>\n",
       "      <td>17516</td>\n",
       "    </tr>\n",
       "    <tr>\n",
       "      <th>2014</th>\n",
       "      <td>17518</td>\n",
       "      <td>17518</td>\n",
       "    </tr>\n",
       "    <tr>\n",
       "      <th>2015</th>\n",
       "      <td>17520</td>\n",
       "      <td>17520</td>\n",
       "    </tr>\n",
       "    <tr>\n",
       "      <th>2016</th>\n",
       "      <td>17347</td>\n",
       "      <td>17347</td>\n",
       "    </tr>\n",
       "    <tr>\n",
       "      <th>2017</th>\n",
       "      <td>17520</td>\n",
       "      <td>17520</td>\n",
       "    </tr>\n",
       "    <tr>\n",
       "      <th>2018</th>\n",
       "      <td>17495</td>\n",
       "      <td>17495</td>\n",
       "    </tr>\n",
       "    <tr>\n",
       "      <th>2019</th>\n",
       "      <td>17520</td>\n",
       "      <td>17520</td>\n",
       "    </tr>\n",
       "    <tr>\n",
       "      <th>2020</th>\n",
       "      <td>17567</td>\n",
       "      <td>17567</td>\n",
       "    </tr>\n",
       "    <tr>\n",
       "      <th>2021</th>\n",
       "      <td>3649</td>\n",
       "      <td>3649</td>\n",
       "    </tr>\n",
       "  </tbody>\n",
       "</table>\n",
       "</div>"
      ],
      "text/plain": [
       "          TEMPERATURE  TOTALDEMAND\n",
       "DATETIME                          \n",
       "2010            17259        17259\n",
       "2011            17502        17502\n",
       "2012            17534        17534\n",
       "2013            17516        17516\n",
       "2014            17518        17518\n",
       "2015            17520        17520\n",
       "2016            17347        17347\n",
       "2017            17520        17520\n",
       "2018            17495        17495\n",
       "2019            17520        17520\n",
       "2020            17567        17567\n",
       "2021             3649         3649"
      ]
     },
     "execution_count": 49,
     "metadata": {},
     "output_type": "execute_result"
    }
   ],
   "source": [
    "dem_temp_inner.groupby([dem_temp_inner[\"DATETIME\"].dt.year])[\"TEMPERATURE\", \"TOTALDEMAND\"].count()"
   ]
  },
  {
   "cell_type": "code",
   "execution_count": 50,
   "id": "9d1da985",
   "metadata": {},
   "outputs": [
    {
     "name": "stderr",
     "output_type": "stream",
     "text": [
      "C:\\Users\\User\\AppData\\Local\\Temp/ipykernel_14332/3244586078.py:1: FutureWarning: Indexing with multiple keys (implicitly converted to a tuple of keys) will be deprecated, use a list instead.\n",
      "  dem_temp_inner.groupby([dem_temp_inner[\"DATETIME\"].dt.month])[\"TEMPERATURE\", \"TOTALDEMAND\"].count()\n"
     ]
    },
    {
     "data": {
      "text/html": [
       "<div>\n",
       "<style scoped>\n",
       "    .dataframe tbody tr th:only-of-type {\n",
       "        vertical-align: middle;\n",
       "    }\n",
       "\n",
       "    .dataframe tbody tr th {\n",
       "        vertical-align: top;\n",
       "    }\n",
       "\n",
       "    .dataframe thead th {\n",
       "        text-align: right;\n",
       "    }\n",
       "</style>\n",
       "<table border=\"1\" class=\"dataframe\">\n",
       "  <thead>\n",
       "    <tr style=\"text-align: right;\">\n",
       "      <th></th>\n",
       "      <th>TEMPERATURE</th>\n",
       "      <th>TOTALDEMAND</th>\n",
       "    </tr>\n",
       "    <tr>\n",
       "      <th>DATETIME</th>\n",
       "      <th></th>\n",
       "      <th></th>\n",
       "    </tr>\n",
       "  </thead>\n",
       "  <tbody>\n",
       "    <tr>\n",
       "      <th>1</th>\n",
       "      <td>17410</td>\n",
       "      <td>17410</td>\n",
       "    </tr>\n",
       "    <tr>\n",
       "      <th>2</th>\n",
       "      <td>15810</td>\n",
       "      <td>15810</td>\n",
       "    </tr>\n",
       "    <tr>\n",
       "      <th>3</th>\n",
       "      <td>16707</td>\n",
       "      <td>16707</td>\n",
       "    </tr>\n",
       "    <tr>\n",
       "      <th>4</th>\n",
       "      <td>15940</td>\n",
       "      <td>15940</td>\n",
       "    </tr>\n",
       "    <tr>\n",
       "      <th>5</th>\n",
       "      <td>16457</td>\n",
       "      <td>16457</td>\n",
       "    </tr>\n",
       "    <tr>\n",
       "      <th>6</th>\n",
       "      <td>15939</td>\n",
       "      <td>15939</td>\n",
       "    </tr>\n",
       "    <tr>\n",
       "      <th>7</th>\n",
       "      <td>16305</td>\n",
       "      <td>16305</td>\n",
       "    </tr>\n",
       "    <tr>\n",
       "      <th>8</th>\n",
       "      <td>16492</td>\n",
       "      <td>16492</td>\n",
       "    </tr>\n",
       "    <tr>\n",
       "      <th>9</th>\n",
       "      <td>15974</td>\n",
       "      <td>15974</td>\n",
       "    </tr>\n",
       "    <tr>\n",
       "      <th>10</th>\n",
       "      <td>16474</td>\n",
       "      <td>16474</td>\n",
       "    </tr>\n",
       "    <tr>\n",
       "      <th>11</th>\n",
       "      <td>15952</td>\n",
       "      <td>15952</td>\n",
       "    </tr>\n",
       "    <tr>\n",
       "      <th>12</th>\n",
       "      <td>16487</td>\n",
       "      <td>16487</td>\n",
       "    </tr>\n",
       "  </tbody>\n",
       "</table>\n",
       "</div>"
      ],
      "text/plain": [
       "          TEMPERATURE  TOTALDEMAND\n",
       "DATETIME                          \n",
       "1               17410        17410\n",
       "2               15810        15810\n",
       "3               16707        16707\n",
       "4               15940        15940\n",
       "5               16457        16457\n",
       "6               15939        15939\n",
       "7               16305        16305\n",
       "8               16492        16492\n",
       "9               15974        15974\n",
       "10              16474        16474\n",
       "11              15952        15952\n",
       "12              16487        16487"
      ]
     },
     "execution_count": 50,
     "metadata": {},
     "output_type": "execute_result"
    }
   ],
   "source": [
    "dem_temp_inner.groupby([dem_temp_inner[\"DATETIME\"].dt.month])[\"TEMPERATURE\", \"TOTALDEMAND\"].count()"
   ]
  },
  {
   "cell_type": "code",
   "execution_count": 51,
   "id": "a8d8f339",
   "metadata": {},
   "outputs": [
    {
     "name": "stderr",
     "output_type": "stream",
     "text": [
      "C:\\Users\\User\\AppData\\Local\\Temp/ipykernel_14332/642510376.py:1: FutureWarning: Indexing with multiple keys (implicitly converted to a tuple of keys) will be deprecated, use a list instead.\n",
      "  dem_temp_inner.groupby([dem_temp_inner[\"DATETIME\"].dt.day])[\"TEMPERATURE\", \"TOTALDEMAND\"].count()\n"
     ]
    },
    {
     "data": {
      "text/html": [
       "<div>\n",
       "<style scoped>\n",
       "    .dataframe tbody tr th:only-of-type {\n",
       "        vertical-align: middle;\n",
       "    }\n",
       "\n",
       "    .dataframe tbody tr th {\n",
       "        vertical-align: top;\n",
       "    }\n",
       "\n",
       "    .dataframe thead th {\n",
       "        text-align: right;\n",
       "    }\n",
       "</style>\n",
       "<table border=\"1\" class=\"dataframe\">\n",
       "  <thead>\n",
       "    <tr style=\"text-align: right;\">\n",
       "      <th></th>\n",
       "      <th>TEMPERATURE</th>\n",
       "      <th>TOTALDEMAND</th>\n",
       "    </tr>\n",
       "    <tr>\n",
       "      <th>DATETIME</th>\n",
       "      <th></th>\n",
       "      <th></th>\n",
       "    </tr>\n",
       "  </thead>\n",
       "  <tbody>\n",
       "    <tr>\n",
       "      <th>1</th>\n",
       "      <td>6915</td>\n",
       "      <td>6915</td>\n",
       "    </tr>\n",
       "    <tr>\n",
       "      <th>2</th>\n",
       "      <td>6903</td>\n",
       "      <td>6903</td>\n",
       "    </tr>\n",
       "    <tr>\n",
       "      <th>3</th>\n",
       "      <td>6863</td>\n",
       "      <td>6863</td>\n",
       "    </tr>\n",
       "    <tr>\n",
       "      <th>4</th>\n",
       "      <td>6324</td>\n",
       "      <td>6324</td>\n",
       "    </tr>\n",
       "    <tr>\n",
       "      <th>5</th>\n",
       "      <td>6297</td>\n",
       "      <td>6297</td>\n",
       "    </tr>\n",
       "    <tr>\n",
       "      <th>6</th>\n",
       "      <td>6335</td>\n",
       "      <td>6335</td>\n",
       "    </tr>\n",
       "    <tr>\n",
       "      <th>7</th>\n",
       "      <td>6326</td>\n",
       "      <td>6326</td>\n",
       "    </tr>\n",
       "    <tr>\n",
       "      <th>8</th>\n",
       "      <td>6325</td>\n",
       "      <td>6325</td>\n",
       "    </tr>\n",
       "    <tr>\n",
       "      <th>9</th>\n",
       "      <td>6324</td>\n",
       "      <td>6324</td>\n",
       "    </tr>\n",
       "    <tr>\n",
       "      <th>10</th>\n",
       "      <td>6338</td>\n",
       "      <td>6338</td>\n",
       "    </tr>\n",
       "    <tr>\n",
       "      <th>11</th>\n",
       "      <td>6336</td>\n",
       "      <td>6336</td>\n",
       "    </tr>\n",
       "    <tr>\n",
       "      <th>12</th>\n",
       "      <td>6336</td>\n",
       "      <td>6336</td>\n",
       "    </tr>\n",
       "    <tr>\n",
       "      <th>13</th>\n",
       "      <td>6473</td>\n",
       "      <td>6473</td>\n",
       "    </tr>\n",
       "    <tr>\n",
       "      <th>14</th>\n",
       "      <td>6471</td>\n",
       "      <td>6471</td>\n",
       "    </tr>\n",
       "    <tr>\n",
       "      <th>15</th>\n",
       "      <td>6456</td>\n",
       "      <td>6456</td>\n",
       "    </tr>\n",
       "    <tr>\n",
       "      <th>16</th>\n",
       "      <td>6417</td>\n",
       "      <td>6417</td>\n",
       "    </tr>\n",
       "    <tr>\n",
       "      <th>17</th>\n",
       "      <td>6402</td>\n",
       "      <td>6402</td>\n",
       "    </tr>\n",
       "    <tr>\n",
       "      <th>18</th>\n",
       "      <td>6375</td>\n",
       "      <td>6375</td>\n",
       "    </tr>\n",
       "    <tr>\n",
       "      <th>19</th>\n",
       "      <td>6400</td>\n",
       "      <td>6400</td>\n",
       "    </tr>\n",
       "    <tr>\n",
       "      <th>20</th>\n",
       "      <td>6401</td>\n",
       "      <td>6401</td>\n",
       "    </tr>\n",
       "    <tr>\n",
       "      <th>21</th>\n",
       "      <td>6388</td>\n",
       "      <td>6388</td>\n",
       "    </tr>\n",
       "    <tr>\n",
       "      <th>22</th>\n",
       "      <td>6418</td>\n",
       "      <td>6418</td>\n",
       "    </tr>\n",
       "    <tr>\n",
       "      <th>23</th>\n",
       "      <td>6420</td>\n",
       "      <td>6420</td>\n",
       "    </tr>\n",
       "    <tr>\n",
       "      <th>24</th>\n",
       "      <td>6424</td>\n",
       "      <td>6424</td>\n",
       "    </tr>\n",
       "    <tr>\n",
       "      <th>25</th>\n",
       "      <td>6425</td>\n",
       "      <td>6425</td>\n",
       "    </tr>\n",
       "    <tr>\n",
       "      <th>26</th>\n",
       "      <td>6421</td>\n",
       "      <td>6421</td>\n",
       "    </tr>\n",
       "    <tr>\n",
       "      <th>27</th>\n",
       "      <td>6425</td>\n",
       "      <td>6425</td>\n",
       "    </tr>\n",
       "    <tr>\n",
       "      <th>28</th>\n",
       "      <td>6430</td>\n",
       "      <td>6430</td>\n",
       "    </tr>\n",
       "    <tr>\n",
       "      <th>29</th>\n",
       "      <td>5993</td>\n",
       "      <td>5993</td>\n",
       "    </tr>\n",
       "    <tr>\n",
       "      <th>30</th>\n",
       "      <td>5842</td>\n",
       "      <td>5842</td>\n",
       "    </tr>\n",
       "    <tr>\n",
       "      <th>31</th>\n",
       "      <td>3744</td>\n",
       "      <td>3744</td>\n",
       "    </tr>\n",
       "  </tbody>\n",
       "</table>\n",
       "</div>"
      ],
      "text/plain": [
       "          TEMPERATURE  TOTALDEMAND\n",
       "DATETIME                          \n",
       "1                6915         6915\n",
       "2                6903         6903\n",
       "3                6863         6863\n",
       "4                6324         6324\n",
       "5                6297         6297\n",
       "6                6335         6335\n",
       "7                6326         6326\n",
       "8                6325         6325\n",
       "9                6324         6324\n",
       "10               6338         6338\n",
       "11               6336         6336\n",
       "12               6336         6336\n",
       "13               6473         6473\n",
       "14               6471         6471\n",
       "15               6456         6456\n",
       "16               6417         6417\n",
       "17               6402         6402\n",
       "18               6375         6375\n",
       "19               6400         6400\n",
       "20               6401         6401\n",
       "21               6388         6388\n",
       "22               6418         6418\n",
       "23               6420         6420\n",
       "24               6424         6424\n",
       "25               6425         6425\n",
       "26               6421         6421\n",
       "27               6425         6425\n",
       "28               6430         6430\n",
       "29               5993         5993\n",
       "30               5842         5842\n",
       "31               3744         3744"
      ]
     },
     "execution_count": 51,
     "metadata": {},
     "output_type": "execute_result"
    }
   ],
   "source": [
    "dem_temp_inner.groupby([dem_temp_inner[\"DATETIME\"].dt.day])[\"TEMPERATURE\", \"TOTALDEMAND\"].count()"
   ]
  },
  {
   "cell_type": "code",
   "execution_count": 52,
   "id": "bfb5de55",
   "metadata": {},
   "outputs": [
    {
     "name": "stderr",
     "output_type": "stream",
     "text": [
      "C:\\Users\\User\\AppData\\Local\\Temp/ipykernel_14332/1276558396.py:1: FutureWarning: Indexing with multiple keys (implicitly converted to a tuple of keys) will be deprecated, use a list instead.\n",
      "  dem_temp_inner.groupby([dem_temp_inner[\"DATETIME\"].dt.day_name()])[\"TEMPERATURE\", \"TOTALDEMAND\"].count()\n"
     ]
    },
    {
     "data": {
      "text/html": [
       "<div>\n",
       "<style scoped>\n",
       "    .dataframe tbody tr th:only-of-type {\n",
       "        vertical-align: middle;\n",
       "    }\n",
       "\n",
       "    .dataframe tbody tr th {\n",
       "        vertical-align: top;\n",
       "    }\n",
       "\n",
       "    .dataframe thead th {\n",
       "        text-align: right;\n",
       "    }\n",
       "</style>\n",
       "<table border=\"1\" class=\"dataframe\">\n",
       "  <thead>\n",
       "    <tr style=\"text-align: right;\">\n",
       "      <th></th>\n",
       "      <th>TEMPERATURE</th>\n",
       "      <th>TOTALDEMAND</th>\n",
       "    </tr>\n",
       "    <tr>\n",
       "      <th>DATETIME</th>\n",
       "      <th></th>\n",
       "      <th></th>\n",
       "    </tr>\n",
       "  </thead>\n",
       "  <tbody>\n",
       "    <tr>\n",
       "      <th>Friday</th>\n",
       "      <td>28017</td>\n",
       "      <td>28017</td>\n",
       "    </tr>\n",
       "    <tr>\n",
       "      <th>Monday</th>\n",
       "      <td>27900</td>\n",
       "      <td>27900</td>\n",
       "    </tr>\n",
       "    <tr>\n",
       "      <th>Saturday</th>\n",
       "      <td>28025</td>\n",
       "      <td>28025</td>\n",
       "    </tr>\n",
       "    <tr>\n",
       "      <th>Sunday</th>\n",
       "      <td>28007</td>\n",
       "      <td>28007</td>\n",
       "    </tr>\n",
       "    <tr>\n",
       "      <th>Thursday</th>\n",
       "      <td>27959</td>\n",
       "      <td>27959</td>\n",
       "    </tr>\n",
       "    <tr>\n",
       "      <th>Tuesday</th>\n",
       "      <td>27955</td>\n",
       "      <td>27955</td>\n",
       "    </tr>\n",
       "    <tr>\n",
       "      <th>Wednesday</th>\n",
       "      <td>28084</td>\n",
       "      <td>28084</td>\n",
       "    </tr>\n",
       "  </tbody>\n",
       "</table>\n",
       "</div>"
      ],
      "text/plain": [
       "           TEMPERATURE  TOTALDEMAND\n",
       "DATETIME                           \n",
       "Friday           28017        28017\n",
       "Monday           27900        27900\n",
       "Saturday         28025        28025\n",
       "Sunday           28007        28007\n",
       "Thursday         27959        27959\n",
       "Tuesday          27955        27955\n",
       "Wednesday        28084        28084"
      ]
     },
     "execution_count": 52,
     "metadata": {},
     "output_type": "execute_result"
    }
   ],
   "source": [
    "dem_temp_inner.groupby([dem_temp_inner[\"DATETIME\"].dt.day_name()])[\"TEMPERATURE\", \"TOTALDEMAND\"].count()"
   ]
  },
  {
   "cell_type": "code",
   "execution_count": 53,
   "id": "66ef0e7f",
   "metadata": {},
   "outputs": [
    {
     "name": "stderr",
     "output_type": "stream",
     "text": [
      "C:\\Users\\User\\AppData\\Local\\Temp/ipykernel_14332/1715638386.py:1: FutureWarning: Indexing with multiple keys (implicitly converted to a tuple of keys) will be deprecated, use a list instead.\n",
      "  dem_temp_inner.groupby([dem_temp_inner[\"DATETIME\"].dt.day_name()])[\"TEMPERATURE\", \"TOTALDEMAND\"].mean()\n"
     ]
    },
    {
     "data": {
      "text/html": [
       "<div>\n",
       "<style scoped>\n",
       "    .dataframe tbody tr th:only-of-type {\n",
       "        vertical-align: middle;\n",
       "    }\n",
       "\n",
       "    .dataframe tbody tr th {\n",
       "        vertical-align: top;\n",
       "    }\n",
       "\n",
       "    .dataframe thead th {\n",
       "        text-align: right;\n",
       "    }\n",
       "</style>\n",
       "<table border=\"1\" class=\"dataframe\">\n",
       "  <thead>\n",
       "    <tr style=\"text-align: right;\">\n",
       "      <th></th>\n",
       "      <th>TEMPERATURE</th>\n",
       "      <th>TOTALDEMAND</th>\n",
       "    </tr>\n",
       "    <tr>\n",
       "      <th>DATETIME</th>\n",
       "      <th></th>\n",
       "      <th></th>\n",
       "    </tr>\n",
       "  </thead>\n",
       "  <tbody>\n",
       "    <tr>\n",
       "      <th>Friday</th>\n",
       "      <td>17.560042</td>\n",
       "      <td>8210.423389</td>\n",
       "    </tr>\n",
       "    <tr>\n",
       "      <th>Monday</th>\n",
       "      <td>17.361957</td>\n",
       "      <td>8214.550773</td>\n",
       "    </tr>\n",
       "    <tr>\n",
       "      <th>Saturday</th>\n",
       "      <td>17.507001</td>\n",
       "      <td>7843.580903</td>\n",
       "    </tr>\n",
       "    <tr>\n",
       "      <th>Sunday</th>\n",
       "      <td>17.602646</td>\n",
       "      <td>7753.571994</td>\n",
       "    </tr>\n",
       "    <tr>\n",
       "      <th>Thursday</th>\n",
       "      <td>17.660052</td>\n",
       "      <td>8283.164466</td>\n",
       "    </tr>\n",
       "    <tr>\n",
       "      <th>Tuesday</th>\n",
       "      <td>17.436580</td>\n",
       "      <td>8239.441757</td>\n",
       "    </tr>\n",
       "    <tr>\n",
       "      <th>Wednesday</th>\n",
       "      <td>17.587933</td>\n",
       "      <td>8239.447850</td>\n",
       "    </tr>\n",
       "  </tbody>\n",
       "</table>\n",
       "</div>"
      ],
      "text/plain": [
       "           TEMPERATURE  TOTALDEMAND\n",
       "DATETIME                           \n",
       "Friday       17.560042  8210.423389\n",
       "Monday       17.361957  8214.550773\n",
       "Saturday     17.507001  7843.580903\n",
       "Sunday       17.602646  7753.571994\n",
       "Thursday     17.660052  8283.164466\n",
       "Tuesday      17.436580  8239.441757\n",
       "Wednesday    17.587933  8239.447850"
      ]
     },
     "execution_count": 53,
     "metadata": {},
     "output_type": "execute_result"
    }
   ],
   "source": [
    "dem_temp_inner.groupby([dem_temp_inner[\"DATETIME\"].dt.day_name()])[\"TEMPERATURE\", \"TOTALDEMAND\"].mean()"
   ]
  },
  {
   "cell_type": "code",
   "execution_count": 54,
   "id": "b9b0e931",
   "metadata": {},
   "outputs": [
    {
     "data": {
      "text/plain": [
       "<AxesSubplot:xlabel='DATETIME'>"
      ]
     },
     "execution_count": 54,
     "metadata": {},
     "output_type": "execute_result"
    },
    {
     "data": {
      "image/png": "[encoded data removed]",
      "text/plain": [
       "<Figure size 864x288 with 1 Axes>"
      ]
     },
     "metadata": {
      "needs_background": "light"
     },
     "output_type": "display_data"
    }
   ],
   "source": [
    "fig, axs = plt.subplots(figsize=(12, 4))\n",
    "\n",
    "dem_temp_inner.groupby([dem_temp_inner[\"DATETIME\"].dt.day_name()])[\"TOTALDEMAND\"].mean().plot(\n",
    "    kind='line', rot=0, ax=axs\n",
    ")"
   ]
  },
  {
   "cell_type": "code",
   "execution_count": 55,
   "id": "48c905a3",
   "metadata": {},
   "outputs": [
    {
     "data": {
      "text/plain": [
       "<AxesSubplot:xlabel='DATETIME'>"
      ]
     },
     "execution_count": 55,
     "metadata": {},
     "output_type": "execute_result"
    },
    {
     "data": {
      "image/png": "[encoded data removed]",
      "text/plain": [
       "<Figure size 864x288 with 1 Axes>"
      ]
     },
     "metadata": {
      "needs_background": "light"
     },
     "output_type": "display_data"
    }
   ],
   "source": [
    "fig, axs = plt.subplots(figsize=(12, 4))\n",
    "\n",
    "dem_temp_inner.groupby([dem_temp_inner[\"DATETIME\"].dt.day_name()])[\"TEMPERATURE\"].mean().plot(\n",
    "    kind='line', rot=0, ax=axs\n",
    ")"
   ]
  },
  {
   "cell_type": "code",
   "execution_count": 56,
   "id": "3282c568",
   "metadata": {},
   "outputs": [
    {
     "name": "stderr",
     "output_type": "stream",
     "text": [
      "C:\\Users\\User\\AppData\\Local\\Temp/ipykernel_14332/466426145.py:1: FutureWarning: Indexing with multiple keys (implicitly converted to a tuple of keys) will be deprecated, use a list instead.\n",
      "  dem_temp_inner.groupby(['year', 'month'])[\"TEMPERATURE\", \"TOTALDEMAND\"].mean()\n"
     ]
    },
    {
     "data": {
      "text/html": [
       "<div>\n",
       "<style scoped>\n",
       "    .dataframe tbody tr th:only-of-type {\n",
       "        vertical-align: middle;\n",
       "    }\n",
       "\n",
       "    .dataframe tbody tr th {\n",
       "        vertical-align: top;\n",
       "    }\n",
       "\n",
       "    .dataframe thead th {\n",
       "        text-align: right;\n",
       "    }\n",
       "</style>\n",
       "<table border=\"1\" class=\"dataframe\">\n",
       "  <thead>\n",
       "    <tr style=\"text-align: right;\">\n",
       "      <th></th>\n",
       "      <th></th>\n",
       "      <th>TEMPERATURE</th>\n",
       "      <th>TOTALDEMAND</th>\n",
       "    </tr>\n",
       "    <tr>\n",
       "      <th>year</th>\n",
       "      <th>month</th>\n",
       "      <th></th>\n",
       "      <th></th>\n",
       "    </tr>\n",
       "  </thead>\n",
       "  <tbody>\n",
       "    <tr>\n",
       "      <th rowspan=\"5\" valign=\"top\">2010</th>\n",
       "      <th>1</th>\n",
       "      <td>20.868008</td>\n",
       "      <td>8941.450389</td>\n",
       "    </tr>\n",
       "    <tr>\n",
       "      <th>2</th>\n",
       "      <td>20.218907</td>\n",
       "      <td>8855.467677</td>\n",
       "    </tr>\n",
       "    <tr>\n",
       "      <th>3</th>\n",
       "      <td>19.828286</td>\n",
       "      <td>8698.725127</td>\n",
       "    </tr>\n",
       "    <tr>\n",
       "      <th>4</th>\n",
       "      <td>17.593856</td>\n",
       "      <td>8452.863411</td>\n",
       "    </tr>\n",
       "    <tr>\n",
       "      <th>5</th>\n",
       "      <td>15.323485</td>\n",
       "      <td>8897.770510</td>\n",
       "    </tr>\n",
       "    <tr>\n",
       "      <th>...</th>\n",
       "      <th>...</th>\n",
       "      <td>...</td>\n",
       "      <td>...</td>\n",
       "    </tr>\n",
       "    <tr>\n",
       "      <th rowspan=\"5\" valign=\"top\">2021</th>\n",
       "      <th>8</th>\n",
       "      <td>21.104167</td>\n",
       "      <td>7368.353056</td>\n",
       "    </tr>\n",
       "    <tr>\n",
       "      <th>9</th>\n",
       "      <td>20.999306</td>\n",
       "      <td>7229.393819</td>\n",
       "    </tr>\n",
       "    <tr>\n",
       "      <th>10</th>\n",
       "      <td>21.084722</td>\n",
       "      <td>7209.823194</td>\n",
       "    </tr>\n",
       "    <tr>\n",
       "      <th>11</th>\n",
       "      <td>22.118056</td>\n",
       "      <td>7649.492569</td>\n",
       "    </tr>\n",
       "    <tr>\n",
       "      <th>12</th>\n",
       "      <td>23.685417</td>\n",
       "      <td>7986.625903</td>\n",
       "    </tr>\n",
       "  </tbody>\n",
       "</table>\n",
       "<p>144 rows × 2 columns</p>\n",
       "</div>"
      ],
      "text/plain": [
       "            TEMPERATURE  TOTALDEMAND\n",
       "year month                          \n",
       "2010 1        20.868008  8941.450389\n",
       "     2        20.218907  8855.467677\n",
       "     3        19.828286  8698.725127\n",
       "     4        17.593856  8452.863411\n",
       "     5        15.323485  8897.770510\n",
       "...                 ...          ...\n",
       "2021 8        21.104167  7368.353056\n",
       "     9        20.999306  7229.393819\n",
       "     10       21.084722  7209.823194\n",
       "     11       22.118056  7649.492569\n",
       "     12       23.685417  7986.625903\n",
       "\n",
       "[144 rows x 2 columns]"
      ]
     },
     "execution_count": 56,
     "metadata": {},
     "output_type": "execute_result"
    }
   ],
   "source": [
    "dem_temp_inner.groupby(['year', 'month'])[\"TEMPERATURE\", \"TOTALDEMAND\"].mean()"
   ]
  },
  {
   "cell_type": "code",
   "execution_count": 57,
   "id": "105fc894",
   "metadata": {},
   "outputs": [
    {
     "data": {
      "text/plain": [
       "<AxesSubplot:xlabel='year,month'>"
      ]
     },
     "execution_count": 57,
     "metadata": {},
     "output_type": "execute_result"
    },
    {
     "data": {
      "image/png": "[encoded data removed]",
      "text/plain": [
       "<Figure size 864x288 with 1 Axes>"
      ]
     },
     "metadata": {
      "needs_background": "light"
     },
     "output_type": "display_data"
    }
   ],
   "source": [
    "fig, axs = plt.subplots(figsize=(12, 4))\n",
    "\n",
    "dem_temp_inner.groupby(['year', 'month'])[\"TEMPERATURE\"].mean().plot(\n",
    "    kind='line', rot=0, ax=axs\n",
    ")"
   ]
  },
  {
   "cell_type": "code",
   "execution_count": 58,
   "id": "8838df2c",
   "metadata": {},
   "outputs": [
    {
     "name": "stderr",
     "output_type": "stream",
     "text": [
      "C:\\Users\\User\\AppData\\Local\\Temp/ipykernel_14332/2423580948.py:1: FutureWarning: Indexing with multiple keys (implicitly converted to a tuple of keys) will be deprecated, use a list instead.\n",
      "  dem_temp_inner.groupby(['year', 'month'])[\"TEMPERATURE\", \"TOTALDEMAND\"].count()\n"
     ]
    },
    {
     "data": {
      "text/html": [
       "<div>\n",
       "<style scoped>\n",
       "    .dataframe tbody tr th:only-of-type {\n",
       "        vertical-align: middle;\n",
       "    }\n",
       "\n",
       "    .dataframe tbody tr th {\n",
       "        vertical-align: top;\n",
       "    }\n",
       "\n",
       "    .dataframe thead th {\n",
       "        text-align: right;\n",
       "    }\n",
       "</style>\n",
       "<table border=\"1\" class=\"dataframe\">\n",
       "  <thead>\n",
       "    <tr style=\"text-align: right;\">\n",
       "      <th></th>\n",
       "      <th></th>\n",
       "      <th>TEMPERATURE</th>\n",
       "      <th>TOTALDEMAND</th>\n",
       "    </tr>\n",
       "    <tr>\n",
       "      <th>year</th>\n",
       "      <th>month</th>\n",
       "      <th></th>\n",
       "      <th></th>\n",
       "    </tr>\n",
       "  </thead>\n",
       "  <tbody>\n",
       "    <tr>\n",
       "      <th rowspan=\"5\" valign=\"top\">2010</th>\n",
       "      <th>1</th>\n",
       "      <td>1466</td>\n",
       "      <td>1466</td>\n",
       "    </tr>\n",
       "    <tr>\n",
       "      <th>2</th>\n",
       "      <td>1317</td>\n",
       "      <td>1317</td>\n",
       "    </tr>\n",
       "    <tr>\n",
       "      <th>3</th>\n",
       "      <td>1453</td>\n",
       "      <td>1453</td>\n",
       "    </tr>\n",
       "    <tr>\n",
       "      <th>4</th>\n",
       "      <td>1416</td>\n",
       "      <td>1416</td>\n",
       "    </tr>\n",
       "    <tr>\n",
       "      <th>5</th>\n",
       "      <td>1452</td>\n",
       "      <td>1452</td>\n",
       "    </tr>\n",
       "    <tr>\n",
       "      <th>...</th>\n",
       "      <th>...</th>\n",
       "      <td>...</td>\n",
       "      <td>...</td>\n",
       "    </tr>\n",
       "    <tr>\n",
       "      <th rowspan=\"5\" valign=\"top\">2021</th>\n",
       "      <th>8</th>\n",
       "      <td>144</td>\n",
       "      <td>144</td>\n",
       "    </tr>\n",
       "    <tr>\n",
       "      <th>9</th>\n",
       "      <td>144</td>\n",
       "      <td>144</td>\n",
       "    </tr>\n",
       "    <tr>\n",
       "      <th>10</th>\n",
       "      <td>144</td>\n",
       "      <td>144</td>\n",
       "    </tr>\n",
       "    <tr>\n",
       "      <th>11</th>\n",
       "      <td>144</td>\n",
       "      <td>144</td>\n",
       "    </tr>\n",
       "    <tr>\n",
       "      <th>12</th>\n",
       "      <td>144</td>\n",
       "      <td>144</td>\n",
       "    </tr>\n",
       "  </tbody>\n",
       "</table>\n",
       "<p>144 rows × 2 columns</p>\n",
       "</div>"
      ],
      "text/plain": [
       "            TEMPERATURE  TOTALDEMAND\n",
       "year month                          \n",
       "2010 1             1466         1466\n",
       "     2             1317         1317\n",
       "     3             1453         1453\n",
       "     4             1416         1416\n",
       "     5             1452         1452\n",
       "...                 ...          ...\n",
       "2021 8              144          144\n",
       "     9              144          144\n",
       "     10             144          144\n",
       "     11             144          144\n",
       "     12             144          144\n",
       "\n",
       "[144 rows x 2 columns]"
      ]
     },
     "execution_count": 58,
     "metadata": {},
     "output_type": "execute_result"
    }
   ],
   "source": [
    "dem_temp_inner.groupby(['year', 'month'])[\"TEMPERATURE\", \"TOTALDEMAND\"].count()"
   ]
  },
  {
   "cell_type": "code",
   "execution_count": 59,
   "id": "ad85ca9d",
   "metadata": {},
   "outputs": [],
   "source": [
    "profile = ProfileReport(dem_temp_inner, title=\"Pandas Profiling Report\")"
   ]
  },
  {
   "cell_type": "code",
   "execution_count": 60,
   "id": "00e4cf65",
   "metadata": {},
   "outputs": [],
   "source": [
    "#profile"
   ]
  },
  {
   "cell_type": "code",
   "execution_count": 61,
   "id": "552b1ff8",
   "metadata": {},
   "outputs": [
    {
     "name": "stderr",
     "output_type": "stream",
     "text": [
      "C:\\Users\\User\\AppData\\Local\\Temp/ipykernel_14332/384329966.py:1: FutureWarning: Indexing with multiple keys (implicitly converted to a tuple of keys) will be deprecated, use a list instead.\n",
      "  dem_temp_inner.groupby(['year','month'])[\"TEMPERATURE\", \"TOTALDEMAND\"].mean()\n"
     ]
    },
    {
     "data": {
      "text/html": [
       "<div>\n",
       "<style scoped>\n",
       "    .dataframe tbody tr th:only-of-type {\n",
       "        vertical-align: middle;\n",
       "    }\n",
       "\n",
       "    .dataframe tbody tr th {\n",
       "        vertical-align: top;\n",
       "    }\n",
       "\n",
       "    .dataframe thead th {\n",
       "        text-align: right;\n",
       "    }\n",
       "</style>\n",
       "<table border=\"1\" class=\"dataframe\">\n",
       "  <thead>\n",
       "    <tr style=\"text-align: right;\">\n",
       "      <th></th>\n",
       "      <th></th>\n",
       "      <th>TEMPERATURE</th>\n",
       "      <th>TOTALDEMAND</th>\n",
       "    </tr>\n",
       "    <tr>\n",
       "      <th>year</th>\n",
       "      <th>month</th>\n",
       "      <th></th>\n",
       "      <th></th>\n",
       "    </tr>\n",
       "  </thead>\n",
       "  <tbody>\n",
       "    <tr>\n",
       "      <th rowspan=\"5\" valign=\"top\">2010</th>\n",
       "      <th>1</th>\n",
       "      <td>20.868008</td>\n",
       "      <td>8941.450389</td>\n",
       "    </tr>\n",
       "    <tr>\n",
       "      <th>2</th>\n",
       "      <td>20.218907</td>\n",
       "      <td>8855.467677</td>\n",
       "    </tr>\n",
       "    <tr>\n",
       "      <th>3</th>\n",
       "      <td>19.828286</td>\n",
       "      <td>8698.725127</td>\n",
       "    </tr>\n",
       "    <tr>\n",
       "      <th>4</th>\n",
       "      <td>17.593856</td>\n",
       "      <td>8452.863411</td>\n",
       "    </tr>\n",
       "    <tr>\n",
       "      <th>5</th>\n",
       "      <td>15.323485</td>\n",
       "      <td>8897.770510</td>\n",
       "    </tr>\n",
       "    <tr>\n",
       "      <th>...</th>\n",
       "      <th>...</th>\n",
       "      <td>...</td>\n",
       "      <td>...</td>\n",
       "    </tr>\n",
       "    <tr>\n",
       "      <th rowspan=\"5\" valign=\"top\">2021</th>\n",
       "      <th>8</th>\n",
       "      <td>21.104167</td>\n",
       "      <td>7368.353056</td>\n",
       "    </tr>\n",
       "    <tr>\n",
       "      <th>9</th>\n",
       "      <td>20.999306</td>\n",
       "      <td>7229.393819</td>\n",
       "    </tr>\n",
       "    <tr>\n",
       "      <th>10</th>\n",
       "      <td>21.084722</td>\n",
       "      <td>7209.823194</td>\n",
       "    </tr>\n",
       "    <tr>\n",
       "      <th>11</th>\n",
       "      <td>22.118056</td>\n",
       "      <td>7649.492569</td>\n",
       "    </tr>\n",
       "    <tr>\n",
       "      <th>12</th>\n",
       "      <td>23.685417</td>\n",
       "      <td>7986.625903</td>\n",
       "    </tr>\n",
       "  </tbody>\n",
       "</table>\n",
       "<p>144 rows × 2 columns</p>\n",
       "</div>"
      ],
      "text/plain": [
       "            TEMPERATURE  TOTALDEMAND\n",
       "year month                          \n",
       "2010 1        20.868008  8941.450389\n",
       "     2        20.218907  8855.467677\n",
       "     3        19.828286  8698.725127\n",
       "     4        17.593856  8452.863411\n",
       "     5        15.323485  8897.770510\n",
       "...                 ...          ...\n",
       "2021 8        21.104167  7368.353056\n",
       "     9        20.999306  7229.393819\n",
       "     10       21.084722  7209.823194\n",
       "     11       22.118056  7649.492569\n",
       "     12       23.685417  7986.625903\n",
       "\n",
       "[144 rows x 2 columns]"
      ]
     },
     "execution_count": 61,
     "metadata": {},
     "output_type": "execute_result"
    }
   ],
   "source": [
    "dem_temp_inner.groupby(['year','month'])[\"TEMPERATURE\", \"TOTALDEMAND\"].mean()"
   ]
  },
  {
   "cell_type": "code",
   "execution_count": 62,
   "id": "f51e56e7",
   "metadata": {},
   "outputs": [
    {
     "data": {
      "text/plain": [
       "year  month\n",
       "2010  1         1.6\n",
       "      2         3.2\n",
       "      3         6.3\n",
       "      4         6.5\n",
       "      5         3.1\n",
       "               ... \n",
       "2021  8        16.9\n",
       "      9        14.2\n",
       "      10       14.8\n",
       "      11       15.7\n",
       "      12       16.1\n",
       "Name: TEMPERATURE, Length: 144, dtype: float64"
      ]
     },
     "execution_count": 62,
     "metadata": {},
     "output_type": "execute_result"
    }
   ],
   "source": [
    "dem_temp_inner.groupby(['year','month'])[\"TEMPERATURE\"].min()"
   ]
  },
  {
   "cell_type": "code",
   "execution_count": 63,
   "id": "01e3f9f4",
   "metadata": {},
   "outputs": [
    {
     "data": {
      "text/plain": [
       "year  month\n",
       "2010  1        41.1\n",
       "      2        35.4\n",
       "      3        34.7\n",
       "      4        29.9\n",
       "      5        28.4\n",
       "               ... \n",
       "2021  8        30.7\n",
       "      9        27.5\n",
       "      10       26.9\n",
       "      11       27.3\n",
       "      12       33.5\n",
       "Name: TEMPERATURE, Length: 144, dtype: float64"
      ]
     },
     "execution_count": 63,
     "metadata": {},
     "output_type": "execute_result"
    }
   ],
   "source": [
    "dem_temp_inner.groupby(['year','month'])[\"TEMPERATURE\"].max()"
   ]
  },
  {
   "cell_type": "code",
   "execution_count": 64,
   "id": "ec30bd03",
   "metadata": {},
   "outputs": [
    {
     "name": "stderr",
     "output_type": "stream",
     "text": [
      "C:\\Users\\User\\AppData\\Local\\Temp/ipykernel_14332/382141632.py:1: FutureWarning: Indexing with multiple keys (implicitly converted to a tuple of keys) will be deprecated, use a list instead.\n",
      "  temp_dem =dem_temp_inner.groupby(['year', 'month'])[\"TEMPERATURE\", \"TOTALDEMAND\"].mean()\n"
     ]
    }
   ],
   "source": [
    "temp_dem =dem_temp_inner.groupby(['year', 'month'])[\"TEMPERATURE\", \"TOTALDEMAND\"].mean()"
   ]
  },
  {
   "cell_type": "code",
   "execution_count": 65,
   "id": "94c6784e",
   "metadata": {},
   "outputs": [],
   "source": [
    "temp_dem.to_csv('C:/Users/User/Documents/UNSW_Data Science 7446/ZZSC9020 Data Science Capstone Project/Data/temp_dem.csv', index=False)"
   ]
  },
  {
   "cell_type": "code",
   "execution_count": 66,
   "id": "550bf4db",
   "metadata": {},
   "outputs": [],
   "source": [
    "def demand_data():\n",
    "    return pd.read_csv(Path(\"C:/Users/User/Documents/UNSW_Data Science 7446/ZZSC9020 Data Science Capstone Project/Data/model_data.csv\"))"
   ]
  },
  {
   "cell_type": "code",
   "execution_count": 67,
   "id": "33e912a3",
   "metadata": {},
   "outputs": [],
   "source": [
    "demand = demand_data()"
   ]
  },
  {
   "cell_type": "code",
   "execution_count": 68,
   "id": "11ac12a0",
   "metadata": {},
   "outputs": [
    {
     "data": {
      "text/html": [
       "<div>\n",
       "<style scoped>\n",
       "    .dataframe tbody tr th:only-of-type {\n",
       "        vertical-align: middle;\n",
       "    }\n",
       "\n",
       "    .dataframe tbody tr th {\n",
       "        vertical-align: top;\n",
       "    }\n",
       "\n",
       "    .dataframe thead th {\n",
       "        text-align: right;\n",
       "    }\n",
       "</style>\n",
       "<table border=\"1\" class=\"dataframe\">\n",
       "  <thead>\n",
       "    <tr style=\"text-align: right;\">\n",
       "      <th></th>\n",
       "      <th>Unnamed: 0</th>\n",
       "      <th>Year</th>\n",
       "      <th>Month</th>\n",
       "      <th>temp_mean</th>\n",
       "      <th>temp_min</th>\n",
       "      <th>temp_max</th>\n",
       "      <th>demand_mean</th>\n",
       "      <th>demand_sum</th>\n",
       "      <th>Cumulative</th>\n",
       "      <th>Population</th>\n",
       "      <th>GSP</th>\n",
       "    </tr>\n",
       "  </thead>\n",
       "  <tbody>\n",
       "    <tr>\n",
       "      <th>0</th>\n",
       "      <td>0</td>\n",
       "      <td>2010</td>\n",
       "      <td>1</td>\n",
       "      <td>20.868008</td>\n",
       "      <td>1.6</td>\n",
       "      <td>41.1</td>\n",
       "      <td>8941.450389</td>\n",
       "      <td>13108166.27</td>\n",
       "      <td>28278.392</td>\n",
       "      <td>7110454</td>\n",
       "      <td>44504.25</td>\n",
       "    </tr>\n",
       "    <tr>\n",
       "      <th>1</th>\n",
       "      <td>1</td>\n",
       "      <td>2010</td>\n",
       "      <td>2</td>\n",
       "      <td>20.218907</td>\n",
       "      <td>3.2</td>\n",
       "      <td>35.4</td>\n",
       "      <td>8855.467677</td>\n",
       "      <td>11662650.93</td>\n",
       "      <td>32153.986</td>\n",
       "      <td>7119405</td>\n",
       "      <td>44504.25</td>\n",
       "    </tr>\n",
       "    <tr>\n",
       "      <th>2</th>\n",
       "      <td>2</td>\n",
       "      <td>2010</td>\n",
       "      <td>3</td>\n",
       "      <td>19.828286</td>\n",
       "      <td>6.3</td>\n",
       "      <td>34.7</td>\n",
       "      <td>8698.725127</td>\n",
       "      <td>12639247.61</td>\n",
       "      <td>38195.588</td>\n",
       "      <td>7128356</td>\n",
       "      <td>44504.25</td>\n",
       "    </tr>\n",
       "    <tr>\n",
       "      <th>3</th>\n",
       "      <td>3</td>\n",
       "      <td>2010</td>\n",
       "      <td>4</td>\n",
       "      <td>17.593856</td>\n",
       "      <td>6.5</td>\n",
       "      <td>29.9</td>\n",
       "      <td>8452.863411</td>\n",
       "      <td>11969254.59</td>\n",
       "      <td>45142.723</td>\n",
       "      <td>7133668</td>\n",
       "      <td>44504.25</td>\n",
       "    </tr>\n",
       "    <tr>\n",
       "      <th>4</th>\n",
       "      <td>4</td>\n",
       "      <td>2010</td>\n",
       "      <td>5</td>\n",
       "      <td>15.323485</td>\n",
       "      <td>3.1</td>\n",
       "      <td>28.4</td>\n",
       "      <td>8897.770510</td>\n",
       "      <td>12919562.78</td>\n",
       "      <td>54370.332</td>\n",
       "      <td>7138980</td>\n",
       "      <td>44504.25</td>\n",
       "    </tr>\n",
       "  </tbody>\n",
       "</table>\n",
       "</div>"
      ],
      "text/plain": [
       "   Unnamed: 0  Year  Month  temp_mean  temp_min  temp_max  demand_mean  \\\n",
       "0           0  2010      1  20.868008       1.6      41.1  8941.450389   \n",
       "1           1  2010      2  20.218907       3.2      35.4  8855.467677   \n",
       "2           2  2010      3  19.828286       6.3      34.7  8698.725127   \n",
       "3           3  2010      4  17.593856       6.5      29.9  8452.863411   \n",
       "4           4  2010      5  15.323485       3.1      28.4  8897.770510   \n",
       "\n",
       "    demand_sum  Cumulative  Population       GSP  \n",
       "0  13108166.27   28278.392     7110454  44504.25  \n",
       "1  11662650.93   32153.986     7119405  44504.25  \n",
       "2  12639247.61   38195.588     7128356  44504.25  \n",
       "3  11969254.59   45142.723     7133668  44504.25  \n",
       "4  12919562.78   54370.332     7138980  44504.25  "
      ]
     },
     "execution_count": 68,
     "metadata": {},
     "output_type": "execute_result"
    }
   ],
   "source": [
    "demand.head()"
   ]
  },
  {
   "cell_type": "code",
   "execution_count": 69,
   "id": "ae766ac4",
   "metadata": {},
   "outputs": [],
   "source": [
    "profile2 = ProfileReport(demand, title=\"Pandas Profiling Report\")"
   ]
  },
  {
   "cell_type": "code",
   "execution_count": 70,
   "id": "ccda8edb",
   "metadata": {},
   "outputs": [],
   "source": [
    "#profile2"
   ]
  },
  {
   "cell_type": "code",
   "execution_count": 71,
   "id": "0fb69d44",
   "metadata": {},
   "outputs": [
    {
     "data": {
      "text/html": [
       "<div>\n",
       "<style scoped>\n",
       "    .dataframe tbody tr th:only-of-type {\n",
       "        vertical-align: middle;\n",
       "    }\n",
       "\n",
       "    .dataframe tbody tr th {\n",
       "        vertical-align: top;\n",
       "    }\n",
       "\n",
       "    .dataframe thead th {\n",
       "        text-align: right;\n",
       "    }\n",
       "</style>\n",
       "<table border=\"1\" class=\"dataframe\">\n",
       "  <thead>\n",
       "    <tr style=\"text-align: right;\">\n",
       "      <th></th>\n",
       "      <th>Unnamed: 0</th>\n",
       "      <th>Year</th>\n",
       "      <th>Month</th>\n",
       "      <th>temp_mean</th>\n",
       "      <th>temp_min</th>\n",
       "      <th>temp_max</th>\n",
       "      <th>demand_mean</th>\n",
       "      <th>demand_sum</th>\n",
       "      <th>Cumulative</th>\n",
       "      <th>Population</th>\n",
       "      <th>GSP</th>\n",
       "    </tr>\n",
       "  </thead>\n",
       "  <tbody>\n",
       "    <tr>\n",
       "      <th>count</th>\n",
       "      <td>144.000000</td>\n",
       "      <td>144.000000</td>\n",
       "      <td>144.000000</td>\n",
       "      <td>144.000000</td>\n",
       "      <td>144.000000</td>\n",
       "      <td>144.000000</td>\n",
       "      <td>144.000000</td>\n",
       "      <td>1.440000e+02</td>\n",
       "      <td>1.440000e+02</td>\n",
       "      <td>1.440000e+02</td>\n",
       "      <td>144.000000</td>\n",
       "    </tr>\n",
       "    <tr>\n",
       "      <th>mean</th>\n",
       "      <td>71.500000</td>\n",
       "      <td>2015.500000</td>\n",
       "      <td>6.500000</td>\n",
       "      <td>17.802954</td>\n",
       "      <td>4.429167</td>\n",
       "      <td>33.328472</td>\n",
       "      <td>8065.144734</td>\n",
       "      <td>1.103825e+07</td>\n",
       "      <td>1.330761e+06</td>\n",
       "      <td>7.670005e+06</td>\n",
       "      <td>51148.471065</td>\n",
       "    </tr>\n",
       "    <tr>\n",
       "      <th>std</th>\n",
       "      <td>41.713307</td>\n",
       "      <td>3.464102</td>\n",
       "      <td>3.464102</td>\n",
       "      <td>2.744427</td>\n",
       "      <td>3.568057</td>\n",
       "      <td>4.163354</td>\n",
       "      <td>485.758111</td>\n",
       "      <td>2.826700e+06</td>\n",
       "      <td>1.091433e+06</td>\n",
       "      <td>3.358306e+05</td>\n",
       "      <td>4205.163130</td>\n",
       "    </tr>\n",
       "    <tr>\n",
       "      <th>min</th>\n",
       "      <td>0.000000</td>\n",
       "      <td>2010.000000</td>\n",
       "      <td>1.000000</td>\n",
       "      <td>12.878427</td>\n",
       "      <td>-1.300000</td>\n",
       "      <td>25.100000</td>\n",
       "      <td>6845.285833</td>\n",
       "      <td>9.857212e+05</td>\n",
       "      <td>2.827839e+04</td>\n",
       "      <td>7.110454e+06</td>\n",
       "      <td>44504.250000</td>\n",
       "    </tr>\n",
       "    <tr>\n",
       "      <th>25%</th>\n",
       "      <td>35.750000</td>\n",
       "      <td>2012.750000</td>\n",
       "      <td>3.750000</td>\n",
       "      <td>14.975254</td>\n",
       "      <td>2.400000</td>\n",
       "      <td>30.200000</td>\n",
       "      <td>7730.923522</td>\n",
       "      <td>1.107312e+07</td>\n",
       "      <td>5.259538e+05</td>\n",
       "      <td>7.360630e+06</td>\n",
       "      <td>47240.166667</td>\n",
       "    </tr>\n",
       "    <tr>\n",
       "      <th>50%</th>\n",
       "      <td>71.500000</td>\n",
       "      <td>2015.500000</td>\n",
       "      <td>6.500000</td>\n",
       "      <td>18.107905</td>\n",
       "      <td>3.650000</td>\n",
       "      <td>32.650000</td>\n",
       "      <td>8041.223336</td>\n",
       "      <td>1.168722e+07</td>\n",
       "      <td>1.005092e+06</td>\n",
       "      <td>7.677402e+06</td>\n",
       "      <td>50777.750000</td>\n",
       "    </tr>\n",
       "    <tr>\n",
       "      <th>75%</th>\n",
       "      <td>107.250000</td>\n",
       "      <td>2018.250000</td>\n",
       "      <td>9.250000</td>\n",
       "      <td>19.981671</td>\n",
       "      <td>4.925000</td>\n",
       "      <td>35.625000</td>\n",
       "      <td>8375.877240</td>\n",
       "      <td>1.225278e+07</td>\n",
       "      <td>1.862012e+06</td>\n",
       "      <td>8.006016e+06</td>\n",
       "      <td>55235.750000</td>\n",
       "    </tr>\n",
       "    <tr>\n",
       "      <th>max</th>\n",
       "      <td>143.000000</td>\n",
       "      <td>2021.000000</td>\n",
       "      <td>12.000000</td>\n",
       "      <td>23.685417</td>\n",
       "      <td>17.600000</td>\n",
       "      <td>44.700000</td>\n",
       "      <td>9313.327392</td>\n",
       "      <td>1.385823e+07</td>\n",
       "      <td>4.291460e+06</td>\n",
       "      <td>8.112001e+06</td>\n",
       "      <td>57391.083333</td>\n",
       "    </tr>\n",
       "  </tbody>\n",
       "</table>\n",
       "</div>"
      ],
      "text/plain": [
       "       Unnamed: 0         Year       Month   temp_mean    temp_min  \\\n",
       "count  144.000000   144.000000  144.000000  144.000000  144.000000   \n",
       "mean    71.500000  2015.500000    6.500000   17.802954    4.429167   \n",
       "std     41.713307     3.464102    3.464102    2.744427    3.568057   \n",
       "min      0.000000  2010.000000    1.000000   12.878427   -1.300000   \n",
       "25%     35.750000  2012.750000    3.750000   14.975254    2.400000   \n",
       "50%     71.500000  2015.500000    6.500000   18.107905    3.650000   \n",
       "75%    107.250000  2018.250000    9.250000   19.981671    4.925000   \n",
       "max    143.000000  2021.000000   12.000000   23.685417   17.600000   \n",
       "\n",
       "         temp_max  demand_mean    demand_sum    Cumulative    Population  \\\n",
       "count  144.000000   144.000000  1.440000e+02  1.440000e+02  1.440000e+02   \n",
       "mean    33.328472  8065.144734  1.103825e+07  1.330761e+06  7.670005e+06   \n",
       "std      4.163354   485.758111  2.826700e+06  1.091433e+06  3.358306e+05   \n",
       "min     25.100000  6845.285833  9.857212e+05  2.827839e+04  7.110454e+06   \n",
       "25%     30.200000  7730.923522  1.107312e+07  5.259538e+05  7.360630e+06   \n",
       "50%     32.650000  8041.223336  1.168722e+07  1.005092e+06  7.677402e+06   \n",
       "75%     35.625000  8375.877240  1.225278e+07  1.862012e+06  8.006016e+06   \n",
       "max     44.700000  9313.327392  1.385823e+07  4.291460e+06  8.112001e+06   \n",
       "\n",
       "                GSP  \n",
       "count    144.000000  \n",
       "mean   51148.471065  \n",
       "std     4205.163130  \n",
       "min    44504.250000  \n",
       "25%    47240.166667  \n",
       "50%    50777.750000  \n",
       "75%    55235.750000  \n",
       "max    57391.083333  "
      ]
     },
     "execution_count": 71,
     "metadata": {},
     "output_type": "execute_result"
    }
   ],
   "source": [
    "demand.describe()"
   ]
  },
  {
   "cell_type": "code",
   "execution_count": 72,
   "id": "2f6d9a0d",
   "metadata": {},
   "outputs": [],
   "source": [
    "demand_excl_2021 = demand.drop(demand[demand['Year'] == 2021].index)"
   ]
  },
  {
   "cell_type": "code",
   "execution_count": 73,
   "id": "5502c214",
   "metadata": {},
   "outputs": [
    {
     "data": {
      "text/html": [
       "<div>\n",
       "<style scoped>\n",
       "    .dataframe tbody tr th:only-of-type {\n",
       "        vertical-align: middle;\n",
       "    }\n",
       "\n",
       "    .dataframe tbody tr th {\n",
       "        vertical-align: top;\n",
       "    }\n",
       "\n",
       "    .dataframe thead th {\n",
       "        text-align: right;\n",
       "    }\n",
       "</style>\n",
       "<table border=\"1\" class=\"dataframe\">\n",
       "  <thead>\n",
       "    <tr style=\"text-align: right;\">\n",
       "      <th></th>\n",
       "      <th>Unnamed: 0</th>\n",
       "      <th>Year</th>\n",
       "      <th>Month</th>\n",
       "      <th>temp_mean</th>\n",
       "      <th>temp_min</th>\n",
       "      <th>temp_max</th>\n",
       "      <th>demand_mean</th>\n",
       "      <th>demand_sum</th>\n",
       "      <th>Cumulative</th>\n",
       "      <th>Population</th>\n",
       "      <th>GSP</th>\n",
       "    </tr>\n",
       "  </thead>\n",
       "  <tbody>\n",
       "    <tr>\n",
       "      <th>count</th>\n",
       "      <td>132.000000</td>\n",
       "      <td>132.000000</td>\n",
       "      <td>132.000000</td>\n",
       "      <td>132.000000</td>\n",
       "      <td>132.000000</td>\n",
       "      <td>132.000000</td>\n",
       "      <td>132.000000</td>\n",
       "      <td>1.320000e+02</td>\n",
       "      <td>1.320000e+02</td>\n",
       "      <td>1.320000e+02</td>\n",
       "      <td>132.000000</td>\n",
       "    </tr>\n",
       "    <tr>\n",
       "      <th>mean</th>\n",
       "      <td>65.500000</td>\n",
       "      <td>2015.000000</td>\n",
       "      <td>6.500000</td>\n",
       "      <td>17.462527</td>\n",
       "      <td>3.489394</td>\n",
       "      <td>33.696212</td>\n",
       "      <td>8124.400449</td>\n",
       "      <td>1.183447e+07</td>\n",
       "      <td>1.101513e+06</td>\n",
       "      <td>7.631426e+06</td>\n",
       "      <td>50629.499369</td>\n",
       "    </tr>\n",
       "    <tr>\n",
       "      <th>std</th>\n",
       "      <td>38.249183</td>\n",
       "      <td>3.174324</td>\n",
       "      <td>3.465203</td>\n",
       "      <td>2.594532</td>\n",
       "      <td>1.716078</td>\n",
       "      <td>4.021363</td>\n",
       "      <td>454.106576</td>\n",
       "      <td>7.262989e+05</td>\n",
       "      <td>8.113469e+05</td>\n",
       "      <td>3.242163e+05</td>\n",
       "      <td>4001.254789</td>\n",
       "    </tr>\n",
       "    <tr>\n",
       "      <th>min</th>\n",
       "      <td>0.000000</td>\n",
       "      <td>2010.000000</td>\n",
       "      <td>1.000000</td>\n",
       "      <td>12.878427</td>\n",
       "      <td>-1.300000</td>\n",
       "      <td>26.800000</td>\n",
       "      <td>7276.301326</td>\n",
       "      <td>1.047787e+07</td>\n",
       "      <td>2.827839e+04</td>\n",
       "      <td>7.110454e+06</td>\n",
       "      <td>44504.250000</td>\n",
       "    </tr>\n",
       "    <tr>\n",
       "      <th>25%</th>\n",
       "      <td>32.750000</td>\n",
       "      <td>2012.000000</td>\n",
       "      <td>3.750000</td>\n",
       "      <td>14.821539</td>\n",
       "      <td>2.275000</td>\n",
       "      <td>30.650000</td>\n",
       "      <td>7790.556196</td>\n",
       "      <td>1.121840e+07</td>\n",
       "      <td>4.829117e+05</td>\n",
       "      <td>7.334008e+06</td>\n",
       "      <td>47240.166667</td>\n",
       "    </tr>\n",
       "    <tr>\n",
       "      <th>50%</th>\n",
       "      <td>65.500000</td>\n",
       "      <td>2015.000000</td>\n",
       "      <td>6.500000</td>\n",
       "      <td>17.750278</td>\n",
       "      <td>3.450000</td>\n",
       "      <td>32.800000</td>\n",
       "      <td>8068.671193</td>\n",
       "      <td>1.181199e+07</td>\n",
       "      <td>9.218320e+05</td>\n",
       "      <td>7.621027e+06</td>\n",
       "      <td>50777.750000</td>\n",
       "    </tr>\n",
       "    <tr>\n",
       "      <th>75%</th>\n",
       "      <td>98.250000</td>\n",
       "      <td>2018.000000</td>\n",
       "      <td>9.250000</td>\n",
       "      <td>19.787499</td>\n",
       "      <td>4.600000</td>\n",
       "      <td>35.775000</td>\n",
       "      <td>8404.121328</td>\n",
       "      <td>1.229899e+07</td>\n",
       "      <td>1.518034e+06</td>\n",
       "      <td>7.936337e+06</td>\n",
       "      <td>54017.166667</td>\n",
       "    </tr>\n",
       "    <tr>\n",
       "      <th>max</th>\n",
       "      <td>131.000000</td>\n",
       "      <td>2020.000000</td>\n",
       "      <td>12.000000</td>\n",
       "      <td>22.287844</td>\n",
       "      <td>8.800000</td>\n",
       "      <td>44.700000</td>\n",
       "      <td>9313.327392</td>\n",
       "      <td>1.385823e+07</td>\n",
       "      <td>3.340420e+06</td>\n",
       "      <td>8.112001e+06</td>\n",
       "      <td>56682.416667</td>\n",
       "    </tr>\n",
       "  </tbody>\n",
       "</table>\n",
       "</div>"
      ],
      "text/plain": [
       "       Unnamed: 0         Year       Month   temp_mean    temp_min  \\\n",
       "count  132.000000   132.000000  132.000000  132.000000  132.000000   \n",
       "mean    65.500000  2015.000000    6.500000   17.462527    3.489394   \n",
       "std     38.249183     3.174324    3.465203    2.594532    1.716078   \n",
       "min      0.000000  2010.000000    1.000000   12.878427   -1.300000   \n",
       "25%     32.750000  2012.000000    3.750000   14.821539    2.275000   \n",
       "50%     65.500000  2015.000000    6.500000   17.750278    3.450000   \n",
       "75%     98.250000  2018.000000    9.250000   19.787499    4.600000   \n",
       "max    131.000000  2020.000000   12.000000   22.287844    8.800000   \n",
       "\n",
       "         temp_max  demand_mean    demand_sum    Cumulative    Population  \\\n",
       "count  132.000000   132.000000  1.320000e+02  1.320000e+02  1.320000e+02   \n",
       "mean    33.696212  8124.400449  1.183447e+07  1.101513e+06  7.631426e+06   \n",
       "std      4.021363   454.106576  7.262989e+05  8.113469e+05  3.242163e+05   \n",
       "min     26.800000  7276.301326  1.047787e+07  2.827839e+04  7.110454e+06   \n",
       "25%     30.650000  7790.556196  1.121840e+07  4.829117e+05  7.334008e+06   \n",
       "50%     32.800000  8068.671193  1.181199e+07  9.218320e+05  7.621027e+06   \n",
       "75%     35.775000  8404.121328  1.229899e+07  1.518034e+06  7.936337e+06   \n",
       "max     44.700000  9313.327392  1.385823e+07  3.340420e+06  8.112001e+06   \n",
       "\n",
       "                GSP  \n",
       "count    132.000000  \n",
       "mean   50629.499369  \n",
       "std     4001.254789  \n",
       "min    44504.250000  \n",
       "25%    47240.166667  \n",
       "50%    50777.750000  \n",
       "75%    54017.166667  \n",
       "max    56682.416667  "
      ]
     },
     "execution_count": 73,
     "metadata": {},
     "output_type": "execute_result"
    }
   ],
   "source": [
    "demand_excl_2021.describe()"
   ]
  },
  {
   "cell_type": "code",
   "execution_count": 74,
   "id": "98093298",
   "metadata": {},
   "outputs": [
    {
     "data": {
      "text/plain": [
       "Unnamed: 0       int64\n",
       "Year             int64\n",
       "Month            int64\n",
       "temp_mean      float64\n",
       "temp_min       float64\n",
       "temp_max       float64\n",
       "demand_mean    float64\n",
       "demand_sum     float64\n",
       "Cumulative     float64\n",
       "Population       int64\n",
       "GSP            float64\n",
       "dtype: object"
      ]
     },
     "execution_count": 74,
     "metadata": {},
     "output_type": "execute_result"
    }
   ],
   "source": [
    "demand_excl_2021.dtypes\n"
   ]
  },
  {
   "cell_type": "code",
   "execution_count": 75,
   "id": "4984bac1",
   "metadata": {},
   "outputs": [],
   "source": [
    "#demand_excl_2021['Year'] = (demand_excl_2021['Year']).astype(object)"
   ]
  },
  {
   "cell_type": "code",
   "execution_count": 76,
   "id": "3330a529",
   "metadata": {},
   "outputs": [],
   "source": [
    "#demand_excl_2021['Month'] = (demand_excl_2021['Month']).astype(object)"
   ]
  },
  {
   "cell_type": "code",
   "execution_count": 77,
   "id": "ab9fd76b",
   "metadata": {},
   "outputs": [
    {
     "data": {
      "text/plain": [
       "Unnamed: 0       int64\n",
       "Year             int64\n",
       "Month            int64\n",
       "temp_mean      float64\n",
       "temp_min       float64\n",
       "temp_max       float64\n",
       "demand_mean    float64\n",
       "demand_sum     float64\n",
       "Cumulative     float64\n",
       "Population       int64\n",
       "GSP            float64\n",
       "dtype: object"
      ]
     },
     "execution_count": 77,
     "metadata": {},
     "output_type": "execute_result"
    }
   ],
   "source": [
    "demand_excl_2021.dtypes"
   ]
  },
  {
   "cell_type": "code",
   "execution_count": null,
   "id": "abe24683",
   "metadata": {},
   "outputs": [],
   "source": []
  },
  {
   "cell_type": "code",
   "execution_count": 78,
   "id": "8a0321df",
   "metadata": {},
   "outputs": [],
   "source": [
    "demand_excl_2021['datetime'] = demand_excl_2021['Month'].astype(str) + \"-\" + demand_excl_2021['Year'].astype(str)"
   ]
  },
  {
   "cell_type": "code",
   "execution_count": 79,
   "id": "9cb5e82d",
   "metadata": {},
   "outputs": [
    {
     "data": {
      "text/html": [
       "<div>\n",
       "<style scoped>\n",
       "    .dataframe tbody tr th:only-of-type {\n",
       "        vertical-align: middle;\n",
       "    }\n",
       "\n",
       "    .dataframe tbody tr th {\n",
       "        vertical-align: top;\n",
       "    }\n",
       "\n",
       "    .dataframe thead th {\n",
       "        text-align: right;\n",
       "    }\n",
       "</style>\n",
       "<table border=\"1\" class=\"dataframe\">\n",
       "  <thead>\n",
       "    <tr style=\"text-align: right;\">\n",
       "      <th></th>\n",
       "      <th>Unnamed: 0</th>\n",
       "      <th>Year</th>\n",
       "      <th>Month</th>\n",
       "      <th>temp_mean</th>\n",
       "      <th>temp_min</th>\n",
       "      <th>temp_max</th>\n",
       "      <th>demand_mean</th>\n",
       "      <th>demand_sum</th>\n",
       "      <th>Cumulative</th>\n",
       "      <th>Population</th>\n",
       "      <th>GSP</th>\n",
       "      <th>datetime</th>\n",
       "    </tr>\n",
       "  </thead>\n",
       "  <tbody>\n",
       "    <tr>\n",
       "      <th>0</th>\n",
       "      <td>0</td>\n",
       "      <td>2010</td>\n",
       "      <td>1</td>\n",
       "      <td>20.868008</td>\n",
       "      <td>1.6</td>\n",
       "      <td>41.1</td>\n",
       "      <td>8941.450389</td>\n",
       "      <td>13108166.27</td>\n",
       "      <td>28278.392</td>\n",
       "      <td>7110454</td>\n",
       "      <td>44504.25</td>\n",
       "      <td>1-2010</td>\n",
       "    </tr>\n",
       "    <tr>\n",
       "      <th>1</th>\n",
       "      <td>1</td>\n",
       "      <td>2010</td>\n",
       "      <td>2</td>\n",
       "      <td>20.218907</td>\n",
       "      <td>3.2</td>\n",
       "      <td>35.4</td>\n",
       "      <td>8855.467677</td>\n",
       "      <td>11662650.93</td>\n",
       "      <td>32153.986</td>\n",
       "      <td>7119405</td>\n",
       "      <td>44504.25</td>\n",
       "      <td>2-2010</td>\n",
       "    </tr>\n",
       "    <tr>\n",
       "      <th>2</th>\n",
       "      <td>2</td>\n",
       "      <td>2010</td>\n",
       "      <td>3</td>\n",
       "      <td>19.828286</td>\n",
       "      <td>6.3</td>\n",
       "      <td>34.7</td>\n",
       "      <td>8698.725127</td>\n",
       "      <td>12639247.61</td>\n",
       "      <td>38195.588</td>\n",
       "      <td>7128356</td>\n",
       "      <td>44504.25</td>\n",
       "      <td>3-2010</td>\n",
       "    </tr>\n",
       "    <tr>\n",
       "      <th>3</th>\n",
       "      <td>3</td>\n",
       "      <td>2010</td>\n",
       "      <td>4</td>\n",
       "      <td>17.593856</td>\n",
       "      <td>6.5</td>\n",
       "      <td>29.9</td>\n",
       "      <td>8452.863411</td>\n",
       "      <td>11969254.59</td>\n",
       "      <td>45142.723</td>\n",
       "      <td>7133668</td>\n",
       "      <td>44504.25</td>\n",
       "      <td>4-2010</td>\n",
       "    </tr>\n",
       "    <tr>\n",
       "      <th>4</th>\n",
       "      <td>4</td>\n",
       "      <td>2010</td>\n",
       "      <td>5</td>\n",
       "      <td>15.323485</td>\n",
       "      <td>3.1</td>\n",
       "      <td>28.4</td>\n",
       "      <td>8897.770510</td>\n",
       "      <td>12919562.78</td>\n",
       "      <td>54370.332</td>\n",
       "      <td>7138980</td>\n",
       "      <td>44504.25</td>\n",
       "      <td>5-2010</td>\n",
       "    </tr>\n",
       "  </tbody>\n",
       "</table>\n",
       "</div>"
      ],
      "text/plain": [
       "   Unnamed: 0  Year  Month  temp_mean  temp_min  temp_max  demand_mean  \\\n",
       "0           0  2010      1  20.868008       1.6      41.1  8941.450389   \n",
       "1           1  2010      2  20.218907       3.2      35.4  8855.467677   \n",
       "2           2  2010      3  19.828286       6.3      34.7  8698.725127   \n",
       "3           3  2010      4  17.593856       6.5      29.9  8452.863411   \n",
       "4           4  2010      5  15.323485       3.1      28.4  8897.770510   \n",
       "\n",
       "    demand_sum  Cumulative  Population       GSP datetime  \n",
       "0  13108166.27   28278.392     7110454  44504.25   1-2010  \n",
       "1  11662650.93   32153.986     7119405  44504.25   2-2010  \n",
       "2  12639247.61   38195.588     7128356  44504.25   3-2010  \n",
       "3  11969254.59   45142.723     7133668  44504.25   4-2010  \n",
       "4  12919562.78   54370.332     7138980  44504.25   5-2010  "
      ]
     },
     "execution_count": 79,
     "metadata": {},
     "output_type": "execute_result"
    }
   ],
   "source": [
    "demand_excl_2021.head()"
   ]
  },
  {
   "cell_type": "code",
   "execution_count": 80,
   "id": "65d24e15",
   "metadata": {},
   "outputs": [
    {
     "data": {
      "text/plain": [
       "Unnamed: 0       int64\n",
       "Year             int64\n",
       "Month            int64\n",
       "temp_mean      float64\n",
       "temp_min       float64\n",
       "temp_max       float64\n",
       "demand_mean    float64\n",
       "demand_sum     float64\n",
       "Cumulative     float64\n",
       "Population       int64\n",
       "GSP            float64\n",
       "datetime        object\n",
       "dtype: object"
      ]
     },
     "execution_count": 80,
     "metadata": {},
     "output_type": "execute_result"
    }
   ],
   "source": [
    "demand_excl_2021.dtypes"
   ]
  },
  {
   "cell_type": "code",
   "execution_count": 81,
   "id": "f14959ca",
   "metadata": {},
   "outputs": [],
   "source": [
    "demand_excl_2021['datetime'] = pd.to_datetime(demand_excl_2021['datetime'])"
   ]
  },
  {
   "cell_type": "code",
   "execution_count": 82,
   "id": "439d8d5c",
   "metadata": {},
   "outputs": [
    {
     "data": {
      "text/plain": [
       "Unnamed: 0              int64\n",
       "Year                    int64\n",
       "Month                   int64\n",
       "temp_mean             float64\n",
       "temp_min              float64\n",
       "temp_max              float64\n",
       "demand_mean           float64\n",
       "demand_sum            float64\n",
       "Cumulative            float64\n",
       "Population              int64\n",
       "GSP                   float64\n",
       "datetime       datetime64[ns]\n",
       "dtype: object"
      ]
     },
     "execution_count": 82,
     "metadata": {},
     "output_type": "execute_result"
    }
   ],
   "source": [
    "demand_excl_2021.dtypes"
   ]
  },
  {
   "cell_type": "markdown",
   "id": "7c527f8e",
   "metadata": {},
   "source": [
    "# Time Series - Model (ARIMA)"
   ]
  },
  {
   "cell_type": "code",
   "execution_count": 83,
   "id": "642523ed",
   "metadata": {},
   "outputs": [
    {
     "data": {
      "text/plain": [
       "Unnamed: 0     0\n",
       "Year           0\n",
       "Month          0\n",
       "temp_mean      0\n",
       "temp_min       0\n",
       "temp_max       0\n",
       "demand_mean    0\n",
       "demand_sum     0\n",
       "Cumulative     0\n",
       "Population     0\n",
       "GSP            0\n",
       "datetime       0\n",
       "dtype: int64"
      ]
     },
     "execution_count": 83,
     "metadata": {},
     "output_type": "execute_result"
    }
   ],
   "source": [
    "demand_excl_2021.isnull().sum()"
   ]
  },
  {
   "cell_type": "code",
   "execution_count": 84,
   "id": "80e6fc20",
   "metadata": {},
   "outputs": [
    {
     "data": {
      "text/html": [
       "<div>\n",
       "<style scoped>\n",
       "    .dataframe tbody tr th:only-of-type {\n",
       "        vertical-align: middle;\n",
       "    }\n",
       "\n",
       "    .dataframe tbody tr th {\n",
       "        vertical-align: top;\n",
       "    }\n",
       "\n",
       "    .dataframe thead th {\n",
       "        text-align: right;\n",
       "    }\n",
       "</style>\n",
       "<table border=\"1\" class=\"dataframe\">\n",
       "  <thead>\n",
       "    <tr style=\"text-align: right;\">\n",
       "      <th></th>\n",
       "      <th>demand_mean</th>\n",
       "      <th>datetime</th>\n",
       "    </tr>\n",
       "  </thead>\n",
       "  <tbody>\n",
       "    <tr>\n",
       "      <th>0</th>\n",
       "      <td>8941.450389</td>\n",
       "      <td>2010-01-01</td>\n",
       "    </tr>\n",
       "    <tr>\n",
       "      <th>1</th>\n",
       "      <td>8855.467677</td>\n",
       "      <td>2010-02-01</td>\n",
       "    </tr>\n",
       "    <tr>\n",
       "      <th>2</th>\n",
       "      <td>8698.725127</td>\n",
       "      <td>2010-03-01</td>\n",
       "    </tr>\n",
       "    <tr>\n",
       "      <th>3</th>\n",
       "      <td>8452.863411</td>\n",
       "      <td>2010-04-01</td>\n",
       "    </tr>\n",
       "    <tr>\n",
       "      <th>4</th>\n",
       "      <td>8897.770510</td>\n",
       "      <td>2010-05-01</td>\n",
       "    </tr>\n",
       "  </tbody>\n",
       "</table>\n",
       "</div>"
      ],
      "text/plain": [
       "   demand_mean   datetime\n",
       "0  8941.450389 2010-01-01\n",
       "1  8855.467677 2010-02-01\n",
       "2  8698.725127 2010-03-01\n",
       "3  8452.863411 2010-04-01\n",
       "4  8897.770510 2010-05-01"
      ]
     },
     "execution_count": 84,
     "metadata": {},
     "output_type": "execute_result"
    }
   ],
   "source": [
    "demand_time = demand_excl_2021[['demand_mean', 'datetime']]\n",
    "demand_time.head()"
   ]
  },
  {
   "cell_type": "markdown",
   "id": "77e97aec",
   "metadata": {},
   "source": []
  },
  {
   "cell_type": "markdown",
   "id": "1dc515a6",
   "metadata": {},
   "source": [
    "## Running ARIMA (Autoregressive Integrated Moving Average) for NSW"
   ]
  },
  {
   "cell_type": "code",
   "execution_count": 85,
   "id": "18b41a15",
   "metadata": {},
   "outputs": [
    {
     "name": "stdout",
     "output_type": "stream",
     "text": [
      "X_train Shape (120, 2)\n",
      "X_valid Shape (12, 2)\n"
     ]
    }
   ],
   "source": [
    "NSW = demand_time[demand_time['datetime']<'2020-01-01']\n",
    "NSW_V = demand_time[demand_time['datetime']>='2020-01-01']\n",
    "\n",
    "X_train = demand_time[demand_time['datetime']<'2020-01-01']\n",
    "X_valid = demand_time[demand_time['datetime']>='2020-01-01']\n",
    "\n",
    "print('X_train Shape', X_train.shape)\n",
    "print('X_valid Shape', X_valid.shape)"
   ]
  },
  {
   "cell_type": "code",
   "execution_count": 86,
   "id": "a53424bc",
   "metadata": {},
   "outputs": [
    {
     "data": {
      "text/html": [
       "<div>\n",
       "<style scoped>\n",
       "    .dataframe tbody tr th:only-of-type {\n",
       "        vertical-align: middle;\n",
       "    }\n",
       "\n",
       "    .dataframe tbody tr th {\n",
       "        vertical-align: top;\n",
       "    }\n",
       "\n",
       "    .dataframe thead th {\n",
       "        text-align: right;\n",
       "    }\n",
       "</style>\n",
       "<table border=\"1\" class=\"dataframe\">\n",
       "  <thead>\n",
       "    <tr style=\"text-align: right;\">\n",
       "      <th></th>\n",
       "      <th>demand_mean</th>\n",
       "      <th>datetime</th>\n",
       "    </tr>\n",
       "  </thead>\n",
       "  <tbody>\n",
       "    <tr>\n",
       "      <th>0</th>\n",
       "      <td>8941.450389</td>\n",
       "      <td>2010-01-01</td>\n",
       "    </tr>\n",
       "    <tr>\n",
       "      <th>1</th>\n",
       "      <td>8855.467677</td>\n",
       "      <td>2010-02-01</td>\n",
       "    </tr>\n",
       "    <tr>\n",
       "      <th>2</th>\n",
       "      <td>8698.725127</td>\n",
       "      <td>2010-03-01</td>\n",
       "    </tr>\n",
       "    <tr>\n",
       "      <th>3</th>\n",
       "      <td>8452.863411</td>\n",
       "      <td>2010-04-01</td>\n",
       "    </tr>\n",
       "    <tr>\n",
       "      <th>4</th>\n",
       "      <td>8897.770510</td>\n",
       "      <td>2010-05-01</td>\n",
       "    </tr>\n",
       "    <tr>\n",
       "      <th>...</th>\n",
       "      <td>...</td>\n",
       "      <td>...</td>\n",
       "    </tr>\n",
       "    <tr>\n",
       "      <th>115</th>\n",
       "      <td>8197.747802</td>\n",
       "      <td>2019-08-01</td>\n",
       "    </tr>\n",
       "    <tr>\n",
       "      <th>116</th>\n",
       "      <td>7561.560924</td>\n",
       "      <td>2019-09-01</td>\n",
       "    </tr>\n",
       "    <tr>\n",
       "      <th>117</th>\n",
       "      <td>7458.277128</td>\n",
       "      <td>2019-10-01</td>\n",
       "    </tr>\n",
       "    <tr>\n",
       "      <th>118</th>\n",
       "      <td>7715.521125</td>\n",
       "      <td>2019-11-01</td>\n",
       "    </tr>\n",
       "    <tr>\n",
       "      <th>119</th>\n",
       "      <td>7852.768347</td>\n",
       "      <td>2019-12-01</td>\n",
       "    </tr>\n",
       "  </tbody>\n",
       "</table>\n",
       "<p>120 rows × 2 columns</p>\n",
       "</div>"
      ],
      "text/plain": [
       "     demand_mean   datetime\n",
       "0    8941.450389 2010-01-01\n",
       "1    8855.467677 2010-02-01\n",
       "2    8698.725127 2010-03-01\n",
       "3    8452.863411 2010-04-01\n",
       "4    8897.770510 2010-05-01\n",
       "..           ...        ...\n",
       "115  8197.747802 2019-08-01\n",
       "116  7561.560924 2019-09-01\n",
       "117  7458.277128 2019-10-01\n",
       "118  7715.521125 2019-11-01\n",
       "119  7852.768347 2019-12-01\n",
       "\n",
       "[120 rows x 2 columns]"
      ]
     },
     "execution_count": 86,
     "metadata": {},
     "output_type": "execute_result"
    }
   ],
   "source": [
    "NSW"
   ]
  },
  {
   "cell_type": "code",
   "execution_count": 87,
   "id": "9840ee98",
   "metadata": {},
   "outputs": [
    {
     "data": {
      "text/plain": [
       "array(['2010-01-01T00:00:00.000000000', '2010-02-01T00:00:00.000000000',\n",
       "       '2010-03-01T00:00:00.000000000', '2010-04-01T00:00:00.000000000',\n",
       "       '2010-05-01T00:00:00.000000000', '2010-06-01T00:00:00.000000000',\n",
       "       '2010-07-01T00:00:00.000000000', '2010-08-01T00:00:00.000000000',\n",
       "       '2010-09-01T00:00:00.000000000', '2010-10-01T00:00:00.000000000',\n",
       "       '2010-11-01T00:00:00.000000000', '2010-12-01T00:00:00.000000000',\n",
       "       '2011-01-01T00:00:00.000000000', '2011-02-01T00:00:00.000000000',\n",
       "       '2011-03-01T00:00:00.000000000', '2011-04-01T00:00:00.000000000',\n",
       "       '2011-05-01T00:00:00.000000000', '2011-06-01T00:00:00.000000000',\n",
       "       '2011-07-01T00:00:00.000000000', '2011-08-01T00:00:00.000000000',\n",
       "       '2011-09-01T00:00:00.000000000', '2011-10-01T00:00:00.000000000',\n",
       "       '2011-11-01T00:00:00.000000000', '2011-12-01T00:00:00.000000000',\n",
       "       '2012-01-01T00:00:00.000000000', '2012-02-01T00:00:00.000000000',\n",
       "       '2012-03-01T00:00:00.000000000', '2012-04-01T00:00:00.000000000',\n",
       "       '2012-05-01T00:00:00.000000000', '2012-06-01T00:00:00.000000000',\n",
       "       '2012-07-01T00:00:00.000000000', '2012-08-01T00:00:00.000000000',\n",
       "       '2012-09-01T00:00:00.000000000', '2012-10-01T00:00:00.000000000',\n",
       "       '2012-11-01T00:00:00.000000000', '2012-12-01T00:00:00.000000000',\n",
       "       '2013-01-01T00:00:00.000000000', '2013-02-01T00:00:00.000000000',\n",
       "       '2013-03-01T00:00:00.000000000', '2013-04-01T00:00:00.000000000',\n",
       "       '2013-05-01T00:00:00.000000000', '2013-06-01T00:00:00.000000000',\n",
       "       '2013-07-01T00:00:00.000000000', '2013-08-01T00:00:00.000000000',\n",
       "       '2013-09-01T00:00:00.000000000', '2013-10-01T00:00:00.000000000',\n",
       "       '2013-11-01T00:00:00.000000000', '2013-12-01T00:00:00.000000000',\n",
       "       '2014-01-01T00:00:00.000000000', '2014-02-01T00:00:00.000000000',\n",
       "       '2014-03-01T00:00:00.000000000', '2014-04-01T00:00:00.000000000',\n",
       "       '2014-05-01T00:00:00.000000000', '2014-06-01T00:00:00.000000000',\n",
       "       '2014-07-01T00:00:00.000000000', '2014-08-01T00:00:00.000000000',\n",
       "       '2014-09-01T00:00:00.000000000', '2014-10-01T00:00:00.000000000',\n",
       "       '2014-11-01T00:00:00.000000000', '2014-12-01T00:00:00.000000000',\n",
       "       '2015-01-01T00:00:00.000000000', '2015-02-01T00:00:00.000000000',\n",
       "       '2015-03-01T00:00:00.000000000', '2015-04-01T00:00:00.000000000',\n",
       "       '2015-05-01T00:00:00.000000000', '2015-06-01T00:00:00.000000000',\n",
       "       '2015-07-01T00:00:00.000000000', '2015-08-01T00:00:00.000000000',\n",
       "       '2015-09-01T00:00:00.000000000', '2015-10-01T00:00:00.000000000',\n",
       "       '2015-11-01T00:00:00.000000000', '2015-12-01T00:00:00.000000000',\n",
       "       '2016-01-01T00:00:00.000000000', '2016-02-01T00:00:00.000000000',\n",
       "       '2016-03-01T00:00:00.000000000', '2016-04-01T00:00:00.000000000',\n",
       "       '2016-05-01T00:00:00.000000000', '2016-06-01T00:00:00.000000000',\n",
       "       '2016-07-01T00:00:00.000000000', '2016-08-01T00:00:00.000000000',\n",
       "       '2016-09-01T00:00:00.000000000', '2016-10-01T00:00:00.000000000',\n",
       "       '2016-11-01T00:00:00.000000000', '2016-12-01T00:00:00.000000000',\n",
       "       '2017-01-01T00:00:00.000000000', '2017-02-01T00:00:00.000000000',\n",
       "       '2017-03-01T00:00:00.000000000', '2017-04-01T00:00:00.000000000',\n",
       "       '2017-05-01T00:00:00.000000000', '2017-06-01T00:00:00.000000000',\n",
       "       '2017-07-01T00:00:00.000000000', '2017-08-01T00:00:00.000000000',\n",
       "       '2017-09-01T00:00:00.000000000', '2017-10-01T00:00:00.000000000',\n",
       "       '2017-11-01T00:00:00.000000000', '2017-12-01T00:00:00.000000000',\n",
       "       '2018-01-01T00:00:00.000000000', '2018-02-01T00:00:00.000000000',\n",
       "       '2018-03-01T00:00:00.000000000', '2018-04-01T00:00:00.000000000',\n",
       "       '2018-05-01T00:00:00.000000000', '2018-06-01T00:00:00.000000000',\n",
       "       '2018-07-01T00:00:00.000000000', '2018-08-01T00:00:00.000000000',\n",
       "       '2018-09-01T00:00:00.000000000', '2018-10-01T00:00:00.000000000',\n",
       "       '2018-11-01T00:00:00.000000000', '2018-12-01T00:00:00.000000000',\n",
       "       '2019-01-01T00:00:00.000000000', '2019-02-01T00:00:00.000000000',\n",
       "       '2019-03-01T00:00:00.000000000', '2019-04-01T00:00:00.000000000',\n",
       "       '2019-05-01T00:00:00.000000000', '2019-06-01T00:00:00.000000000',\n",
       "       '2019-07-01T00:00:00.000000000', '2019-08-01T00:00:00.000000000',\n",
       "       '2019-09-01T00:00:00.000000000', '2019-10-01T00:00:00.000000000',\n",
       "       '2019-11-01T00:00:00.000000000', '2019-12-01T00:00:00.000000000'],\n",
       "      dtype='datetime64[ns]')"
      ]
     },
     "execution_count": 87,
     "metadata": {},
     "output_type": "execute_result"
    }
   ],
   "source": [
    "X_train['datetime'].unique()"
   ]
  },
  {
   "cell_type": "code",
   "execution_count": 88,
   "id": "8c25fd1d",
   "metadata": {},
   "outputs": [
    {
     "data": {
      "text/plain": [
       "array(['2020-01-01T00:00:00.000000000', '2020-02-01T00:00:00.000000000',\n",
       "       '2020-03-01T00:00:00.000000000', '2020-04-01T00:00:00.000000000',\n",
       "       '2020-05-01T00:00:00.000000000', '2020-06-01T00:00:00.000000000',\n",
       "       '2020-07-01T00:00:00.000000000', '2020-08-01T00:00:00.000000000',\n",
       "       '2020-09-01T00:00:00.000000000', '2020-10-01T00:00:00.000000000',\n",
       "       '2020-11-01T00:00:00.000000000', '2020-12-01T00:00:00.000000000'],\n",
       "      dtype='datetime64[ns]')"
      ]
     },
     "execution_count": 88,
     "metadata": {},
     "output_type": "execute_result"
    }
   ],
   "source": [
    "X_valid['datetime'].unique()"
   ]
  },
  {
   "cell_type": "code",
   "execution_count": 89,
   "id": "39ec6e20",
   "metadata": {},
   "outputs": [
    {
     "data": {
      "text/html": [
       "<div>\n",
       "<style scoped>\n",
       "    .dataframe tbody tr th:only-of-type {\n",
       "        vertical-align: middle;\n",
       "    }\n",
       "\n",
       "    .dataframe tbody tr th {\n",
       "        vertical-align: top;\n",
       "    }\n",
       "\n",
       "    .dataframe thead th {\n",
       "        text-align: right;\n",
       "    }\n",
       "</style>\n",
       "<table border=\"1\" class=\"dataframe\">\n",
       "  <thead>\n",
       "    <tr style=\"text-align: right;\">\n",
       "      <th></th>\n",
       "      <th>demand_mean</th>\n",
       "      <th>datetime</th>\n",
       "    </tr>\n",
       "  </thead>\n",
       "  <tbody>\n",
       "    <tr>\n",
       "      <th>0</th>\n",
       "      <td>8941.450389</td>\n",
       "      <td>2010-01-01</td>\n",
       "    </tr>\n",
       "    <tr>\n",
       "      <th>1</th>\n",
       "      <td>8855.467677</td>\n",
       "      <td>2010-02-01</td>\n",
       "    </tr>\n",
       "    <tr>\n",
       "      <th>2</th>\n",
       "      <td>8698.725127</td>\n",
       "      <td>2010-03-01</td>\n",
       "    </tr>\n",
       "    <tr>\n",
       "      <th>3</th>\n",
       "      <td>8452.863411</td>\n",
       "      <td>2010-04-01</td>\n",
       "    </tr>\n",
       "    <tr>\n",
       "      <th>4</th>\n",
       "      <td>8897.770510</td>\n",
       "      <td>2010-05-01</td>\n",
       "    </tr>\n",
       "    <tr>\n",
       "      <th>...</th>\n",
       "      <td>...</td>\n",
       "      <td>...</td>\n",
       "    </tr>\n",
       "    <tr>\n",
       "      <th>115</th>\n",
       "      <td>8197.747802</td>\n",
       "      <td>2019-08-01</td>\n",
       "    </tr>\n",
       "    <tr>\n",
       "      <th>116</th>\n",
       "      <td>7561.560924</td>\n",
       "      <td>2019-09-01</td>\n",
       "    </tr>\n",
       "    <tr>\n",
       "      <th>117</th>\n",
       "      <td>7458.277128</td>\n",
       "      <td>2019-10-01</td>\n",
       "    </tr>\n",
       "    <tr>\n",
       "      <th>118</th>\n",
       "      <td>7715.521125</td>\n",
       "      <td>2019-11-01</td>\n",
       "    </tr>\n",
       "    <tr>\n",
       "      <th>119</th>\n",
       "      <td>7852.768347</td>\n",
       "      <td>2019-12-01</td>\n",
       "    </tr>\n",
       "  </tbody>\n",
       "</table>\n",
       "<p>120 rows × 2 columns</p>\n",
       "</div>"
      ],
      "text/plain": [
       "     demand_mean   datetime\n",
       "0    8941.450389 2010-01-01\n",
       "1    8855.467677 2010-02-01\n",
       "2    8698.725127 2010-03-01\n",
       "3    8452.863411 2010-04-01\n",
       "4    8897.770510 2010-05-01\n",
       "..           ...        ...\n",
       "115  8197.747802 2019-08-01\n",
       "116  7561.560924 2019-09-01\n",
       "117  7458.277128 2019-10-01\n",
       "118  7715.521125 2019-11-01\n",
       "119  7852.768347 2019-12-01\n",
       "\n",
       "[120 rows x 2 columns]"
      ]
     },
     "execution_count": 89,
     "metadata": {},
     "output_type": "execute_result"
    }
   ],
   "source": [
    "X_train"
   ]
  },
  {
   "cell_type": "code",
   "execution_count": 90,
   "id": "4d6ebc4c",
   "metadata": {},
   "outputs": [],
   "source": [
    "#setting index\n",
    "\n",
    "X_train.set_index('datetime', inplace=True)\n",
    "X_valid.set_index('datetime', inplace=True)\n",
    "\n"
   ]
  },
  {
   "cell_type": "code",
   "execution_count": 91,
   "id": "47eec13a",
   "metadata": {},
   "outputs": [],
   "source": [
    "#X_train_2"
   ]
  },
  {
   "cell_type": "code",
   "execution_count": 92,
   "id": "5aa5faba",
   "metadata": {},
   "outputs": [
    {
     "data": {
      "text/plain": [
       "DatetimeIndex(['2019-12-01', '2020-01-01', '2020-02-01', '2020-03-01',\n",
       "               '2020-04-01', '2020-05-01', '2020-06-01', '2020-07-01',\n",
       "               '2020-08-01', '2020-09-01', '2020-10-01', '2020-11-01',\n",
       "               '2020-12-01'],\n",
       "              dtype='datetime64[ns]', freq='MS')"
      ]
     },
     "execution_count": 92,
     "metadata": {},
     "output_type": "execute_result"
    }
   ],
   "source": [
    "#setting index for 24 months\n",
    "index_13_months = pd.date_range(X_train.index[-1], freq='MS', periods = 13)\n",
    "\n",
    "index_13_months"
   ]
  },
  {
   "cell_type": "code",
   "execution_count": null,
   "id": "89e9bc77",
   "metadata": {},
   "outputs": [],
   "source": []
  },
  {
   "cell_type": "code",
   "execution_count": 93,
   "id": "d1a4a49c",
   "metadata": {
    "scrolled": true
   },
   "outputs": [
    {
     "name": "stdout",
     "output_type": "stream",
     "text": [
      "                               SARIMAX Results                                \n",
      "==============================================================================\n",
      "Dep. Variable:            demand_mean   No. Observations:                  120\n",
      "Model:                 ARIMA(2, 0, 0)   Log Likelihood                -854.372\n",
      "Date:                Sun, 07 Apr 2024   AIC                           1716.744\n",
      "Time:                        14:56:54   BIC                           1727.894\n",
      "Sample:                    01-01-2010   HQIC                          1721.272\n",
      "                         - 12-01-2019                                         \n",
      "Covariance Type:                  opg                                         \n",
      "==============================================================================\n",
      "                 coef    std err          z      P>|z|      [0.025      0.975]\n",
      "------------------------------------------------------------------------------\n",
      "const       8165.9247     81.524    100.166      0.000    8006.141    8325.709\n",
      "ar.L1          0.8652      0.091      9.546      0.000       0.688       1.043\n",
      "ar.L2         -0.1989      0.098     -2.027      0.043      -0.391      -0.007\n",
      "sigma2      8.784e+04   1.14e+04      7.678      0.000    6.54e+04     1.1e+05\n",
      "===================================================================================\n",
      "Ljung-Box (L1) (Q):                   0.01   Jarque-Bera (JB):                 0.07\n",
      "Prob(Q):                              0.92   Prob(JB):                         0.97\n",
      "Heteroskedasticity (H):               1.30   Skew:                            -0.03\n",
      "Prob(H) (two-sided):                  0.42   Kurtosis:                         3.09\n",
      "===================================================================================\n",
      "\n",
      "Warnings:\n",
      "[1] Covariance matrix calculated using the outer product of gradients (complex-step).\n"
     ]
    },
    {
     "name": "stderr",
     "output_type": "stream",
     "text": [
      "C:\\Users\\User\\anaconda3\\lib\\site-packages\\statsmodels\\tsa\\base\\tsa_model.py:471: ValueWarning: No frequency information was provided, so inferred frequency MS will be used.\n",
      "  self._init_dates(dates, freq)\n"
     ]
    }
   ],
   "source": [
    "#Running ARIMA\n",
    "from statsmodels.tsa.arima.model import ARIMA\n",
    "\n",
    "\n",
    "\n",
    "mod_arima = ARIMA(X_train, freq=\"MS\", order = (2,0,0))            \n",
    "mod_arima_fit = mod_arima.fit()\n",
    "print(mod_arima_fit.summary())\n",
    "\n"
   ]
  },
  {
   "cell_type": "code",
   "execution_count": 94,
   "id": "ee810d70",
   "metadata": {},
   "outputs": [
    {
     "data": {
      "text/plain": [
       "2020-01-01    7984.547409\n",
       "2020-02-01    8071.270845\n",
       "2020-03-01    8120.098778\n",
       "2020-04-01    8145.098996\n",
       "2020-05-01    8157.019280\n",
       "2020-06-01    8162.361160\n",
       "2020-07-01    8164.612478\n",
       "2020-08-01    8165.498024\n",
       "2020-09-01    8165.816498\n",
       "2020-10-01    8165.915940\n",
       "2020-11-01    8165.938644\n",
       "2020-12-01    8165.938512\n",
       "Freq: MS, Name: predicted_mean, dtype: float64"
      ]
     },
     "execution_count": 94,
     "metadata": {},
     "output_type": "execute_result"
    }
   ],
   "source": [
    "forecast = mod_arima_fit.forecast(12)\n",
    "forecast "
   ]
  },
  {
   "cell_type": "code",
   "execution_count": 95,
   "id": "95147b55",
   "metadata": {},
   "outputs": [],
   "source": [
    "#ARIMA Predictions\n",
    "forecast = mod_arima_fit.forecast(12)\n",
    "\n",
    "#passing the index\n",
    "forecast = pd.Series(forecast)\n",
    "forecast = forecast.rename(\"Arima\")\n"
   ]
  },
  {
   "cell_type": "code",
   "execution_count": 96,
   "id": "890e7539",
   "metadata": {},
   "outputs": [
    {
     "data": {
      "text/plain": [
       "2020-01-01    7984.547409\n",
       "2020-02-01    8071.270845\n",
       "2020-03-01    8120.098778\n",
       "2020-04-01    8145.098996\n",
       "2020-05-01    8157.019280\n",
       "2020-06-01    8162.361160\n",
       "2020-07-01    8164.612478\n",
       "2020-08-01    8165.498024\n",
       "2020-09-01    8165.816498\n",
       "2020-10-01    8165.915940\n",
       "2020-11-01    8165.938644\n",
       "2020-12-01    8165.938512\n",
       "Freq: MS, Name: Arima, dtype: float64"
      ]
     },
     "execution_count": 96,
     "metadata": {},
     "output_type": "execute_result"
    }
   ],
   "source": [
    "forecast"
   ]
  },
  {
   "cell_type": "code",
   "execution_count": 97,
   "id": "066d7398",
   "metadata": {},
   "outputs": [
    {
     "data": {
      "text/plain": [
       "<AxesSubplot:title={'center':'NSW'}, xlabel='datetime', ylabel='demand_mean'>"
      ]
     },
     "execution_count": 97,
     "metadata": {},
     "output_type": "execute_result"
    },
    {
     "data": {
      "image/png": "[encoded data removed]",
      "text/plain": [
       "<Figure size 1080x360 with 1 Axes>"
      ]
     },
     "metadata": {
      "needs_background": "light"
     },
     "output_type": "display_data"
    }
   ],
   "source": [
    "#Plotting predictions\n",
    "\n",
    "fig, ax = plt.subplots(figsize=(15,5))\n",
    "chart = sns.lineplot(x='datetime', y=\"demand_mean\", data=NSW)\n",
    "chart.set_title('NSW')\n",
    "forecast.plot(ax=ax, color='red', marker=\"o\", legend=True)\n",
    "X_valid.plot(ax=ax, color='blue', marker=\"o\", legend=True)"
   ]
  },
  {
   "cell_type": "code",
   "execution_count": 98,
   "id": "d54f9509",
   "metadata": {},
   "outputs": [
    {
     "name": "stdout",
     "output_type": "stream",
     "text": [
      "The MSE of ARIMA is: 586.0009767841286\n"
     ]
    }
   ],
   "source": [
    "print('The MSE of ARIMA is:', mean_squared_error(X_valid[\"demand_mean\"].values, forecast.values, squared=False))"
   ]
  },
  {
   "cell_type": "code",
   "execution_count": 99,
   "id": "0ef02256",
   "metadata": {},
   "outputs": [
    {
     "data": {
      "text/plain": [
       "array([8250.83574211, 7837.17443966, 7405.22046371, 7276.30132639,\n",
       "       7836.64643145, 8162.39989583, 8362.23353495, 7827.36259409,\n",
       "       7326.90974965, 7340.2894086 , 7584.26811806, 7300.2584207 ])"
      ]
     },
     "execution_count": 99,
     "metadata": {},
     "output_type": "execute_result"
    }
   ],
   "source": [
    "X_valid[\"demand_mean\"].values"
   ]
  },
  {
   "cell_type": "code",
   "execution_count": 100,
   "id": "13f00f6b",
   "metadata": {},
   "outputs": [
    {
     "data": {
      "text/plain": [
       "array([7984.54740869, 8071.27084459, 8120.09877769, 8145.09899608,\n",
       "       8157.01928047, 8162.36116036, 8164.61247764, 8165.49802427,\n",
       "       8165.81649823, 8165.91593996, 8165.93864417, 8165.9385124 ])"
      ]
     },
     "execution_count": 100,
     "metadata": {},
     "output_type": "execute_result"
    }
   ],
   "source": [
    "forecast.values"
   ]
  },
  {
   "cell_type": "code",
   "execution_count": 101,
   "id": "07e7e434",
   "metadata": {},
   "outputs": [
    {
     "data": {
      "text/plain": [
       "2020-01-01    7984.547409\n",
       "2020-02-01    8071.270845\n",
       "2020-03-01    8120.098778\n",
       "2020-04-01    8145.098996\n",
       "2020-05-01    8157.019280\n",
       "2020-06-01    8162.361160\n",
       "2020-07-01    8164.612478\n",
       "2020-08-01    8165.498024\n",
       "2020-09-01    8165.816498\n",
       "2020-10-01    8165.915940\n",
       "2020-11-01    8165.938644\n",
       "2020-12-01    8165.938512\n",
       "Freq: MS, Name: Arima, dtype: float64"
      ]
     },
     "execution_count": 101,
     "metadata": {},
     "output_type": "execute_result"
    }
   ],
   "source": [
    "forecast"
   ]
  },
  {
   "cell_type": "markdown",
   "id": "dd7ff601",
   "metadata": {},
   "source": [
    "### To find Best ARIMA"
   ]
  },
  {
   "cell_type": "code",
   "execution_count": 102,
   "id": "d805c54b",
   "metadata": {},
   "outputs": [
    {
     "name": "stderr",
     "output_type": "stream",
     "text": [
      "C:\\Users\\User\\anaconda3\\lib\\site-packages\\statsmodels\\tsa\\base\\tsa_model.py:471: ValueWarning: No frequency information was provided, so inferred frequency MS will be used.\n",
      "  self._init_dates(dates, freq)\n",
      "C:\\Users\\User\\anaconda3\\lib\\site-packages\\statsmodels\\tsa\\base\\tsa_model.py:471: ValueWarning: No frequency information was provided, so inferred frequency MS will be used.\n",
      "  self._init_dates(dates, freq)\n",
      "C:\\Users\\User\\anaconda3\\lib\\site-packages\\statsmodels\\tsa\\base\\tsa_model.py:471: ValueWarning: No frequency information was provided, so inferred frequency MS will be used.\n",
      "  self._init_dates(dates, freq)\n",
      "C:\\Users\\User\\anaconda3\\lib\\site-packages\\statsmodels\\tsa\\base\\tsa_model.py:471: ValueWarning: No frequency information was provided, so inferred frequency MS will be used.\n",
      "  self._init_dates(dates, freq)\n"
     ]
    },
    {
     "name": "stdout",
     "output_type": "stream",
     "text": [
      "(0, 0, 0) 1804.2773597412727\n",
      "(0, 0, 1) 1740.2859918232207\n",
      "(0, 0, 2) 1717.7036075058786\n",
      "(0, 0, 3) 1715.3711179201541\n",
      "(0, 0, 4) 1717.3710951969547\n",
      "(0, 1, 0) 1717.6357269350192\n",
      "(0, 1, 1) 1719.5320878360374\n",
      "(0, 1, 2) 1692.2485082341752\n"
     ]
    },
    {
     "name": "stderr",
     "output_type": "stream",
     "text": [
      "C:\\Users\\User\\anaconda3\\lib\\site-packages\\statsmodels\\tsa\\base\\tsa_model.py:471: ValueWarning: No frequency information was provided, so inferred frequency MS will be used.\n",
      "  self._init_dates(dates, freq)\n",
      "C:\\Users\\User\\anaconda3\\lib\\site-packages\\statsmodels\\tsa\\base\\tsa_model.py:471: ValueWarning: No frequency information was provided, so inferred frequency MS will be used.\n",
      "  self._init_dates(dates, freq)\n",
      "C:\\Users\\User\\anaconda3\\lib\\site-packages\\statsmodels\\tsa\\base\\tsa_model.py:471: ValueWarning: No frequency information was provided, so inferred frequency MS will be used.\n",
      "  self._init_dates(dates, freq)\n",
      "C:\\Users\\User\\anaconda3\\lib\\site-packages\\statsmodels\\tsa\\base\\tsa_model.py:471: ValueWarning: No frequency information was provided, so inferred frequency MS will be used.\n",
      "  self._init_dates(dates, freq)\n",
      "C:\\Users\\User\\anaconda3\\lib\\site-packages\\statsmodels\\tsa\\base\\tsa_model.py:471: ValueWarning: No frequency information was provided, so inferred frequency MS will be used.\n",
      "  self._init_dates(dates, freq)\n"
     ]
    },
    {
     "name": "stdout",
     "output_type": "stream",
     "text": [
      "(0, 1, 3) 1686.3290829405007\n",
      "(0, 1, 4) 1685.9493599049151\n",
      "(0, 2, 0) 1782.485765940797\n",
      "(0, 2, 1) 1715.4502361147788\n"
     ]
    },
    {
     "name": "stderr",
     "output_type": "stream",
     "text": [
      "C:\\Users\\User\\anaconda3\\lib\\site-packages\\statsmodels\\tsa\\base\\tsa_model.py:471: ValueWarning: No frequency information was provided, so inferred frequency MS will be used.\n",
      "  self._init_dates(dates, freq)\n",
      "C:\\Users\\User\\anaconda3\\lib\\site-packages\\statsmodels\\tsa\\base\\tsa_model.py:471: ValueWarning: No frequency information was provided, so inferred frequency MS will be used.\n",
      "  self._init_dates(dates, freq)\n",
      "C:\\Users\\User\\anaconda3\\lib\\site-packages\\statsmodels\\tsa\\base\\tsa_model.py:471: ValueWarning: No frequency information was provided, so inferred frequency MS will be used.\n",
      "  self._init_dates(dates, freq)\n",
      "C:\\Users\\User\\anaconda3\\lib\\site-packages\\statsmodels\\tsa\\base\\tsa_model.py:471: ValueWarning: No frequency information was provided, so inferred frequency MS will be used.\n",
      "  self._init_dates(dates, freq)\n",
      "C:\\Users\\User\\anaconda3\\lib\\site-packages\\statsmodels\\tsa\\statespace\\sarimax.py:978: UserWarning: Non-invertible starting MA parameters found. Using zeros as starting parameters.\n",
      "  warn('Non-invertible starting MA parameters found.'\n"
     ]
    },
    {
     "name": "stdout",
     "output_type": "stream",
     "text": [
      "(0, 2, 2) 1716.3170876662432\n",
      "(0, 2, 3) 1688.149830997223\n"
     ]
    },
    {
     "name": "stderr",
     "output_type": "stream",
     "text": [
      "C:\\Users\\User\\anaconda3\\lib\\site-packages\\statsmodels\\tsa\\base\\tsa_model.py:471: ValueWarning: No frequency information was provided, so inferred frequency MS will be used.\n",
      "  self._init_dates(dates, freq)\n",
      "C:\\Users\\User\\anaconda3\\lib\\site-packages\\statsmodels\\tsa\\base\\tsa_model.py:471: ValueWarning: No frequency information was provided, so inferred frequency MS will be used.\n",
      "  self._init_dates(dates, freq)\n",
      "C:\\Users\\User\\anaconda3\\lib\\site-packages\\statsmodels\\base\\model.py:604: ConvergenceWarning: Maximum Likelihood optimization failed to converge. Check mle_retvals\n",
      "  warnings.warn(\"Maximum Likelihood optimization failed to \"\n",
      "C:\\Users\\User\\anaconda3\\lib\\site-packages\\statsmodels\\tsa\\base\\tsa_model.py:471: ValueWarning: No frequency information was provided, so inferred frequency MS will be used.\n",
      "  self._init_dates(dates, freq)\n",
      "C:\\Users\\User\\anaconda3\\lib\\site-packages\\statsmodels\\tsa\\base\\tsa_model.py:471: ValueWarning: No frequency information was provided, so inferred frequency MS will be used.\n",
      "  self._init_dates(dates, freq)\n",
      "C:\\Users\\User\\anaconda3\\lib\\site-packages\\statsmodels\\tsa\\base\\tsa_model.py:471: ValueWarning: No frequency information was provided, so inferred frequency MS will be used.\n",
      "  self._init_dates(dates, freq)\n",
      "C:\\Users\\User\\anaconda3\\lib\\site-packages\\statsmodels\\tsa\\base\\tsa_model.py:471: ValueWarning: No frequency information was provided, so inferred frequency MS will be used.\n",
      "  self._init_dates(dates, freq)\n"
     ]
    },
    {
     "name": "stdout",
     "output_type": "stream",
     "text": [
      "(0, 2, 4) 1679.8029934844715\n",
      "(0, 3, 0) 1885.0559825727457\n",
      "(0, 3, 1) 1778.3510147980564\n",
      "(0, 3, 2) 1719.8544584853446\n",
      "(0, 3, 3) 1720.163792803562\n",
      "(0, 3, 4) 1692.457922319923\n",
      "(0, 4, 0) 2005.5349676725962\n",
      "(0, 4, 1) 1875.4975580259093\n"
     ]
    },
    {
     "name": "stderr",
     "output_type": "stream",
     "text": [
      "C:\\Users\\User\\anaconda3\\lib\\site-packages\\statsmodels\\tsa\\base\\tsa_model.py:471: ValueWarning: No frequency information was provided, so inferred frequency MS will be used.\n",
      "  self._init_dates(dates, freq)\n",
      "C:\\Users\\User\\anaconda3\\lib\\site-packages\\statsmodels\\tsa\\base\\tsa_model.py:471: ValueWarning: No frequency information was provided, so inferred frequency MS will be used.\n",
      "  self._init_dates(dates, freq)\n",
      "C:\\Users\\User\\anaconda3\\lib\\site-packages\\statsmodels\\tsa\\base\\tsa_model.py:471: ValueWarning: No frequency information was provided, so inferred frequency MS will be used.\n",
      "  self._init_dates(dates, freq)\n",
      "C:\\Users\\User\\anaconda3\\lib\\site-packages\\statsmodels\\tsa\\base\\tsa_model.py:471: ValueWarning: No frequency information was provided, so inferred frequency MS will be used.\n",
      "  self._init_dates(dates, freq)\n"
     ]
    },
    {
     "name": "stdout",
     "output_type": "stream",
     "text": [
      "(0, 4, 2) 1775.2887862502178\n",
      "(0, 4, 3) 1717.2825175248267\n"
     ]
    },
    {
     "name": "stderr",
     "output_type": "stream",
     "text": [
      "C:\\Users\\User\\anaconda3\\lib\\site-packages\\statsmodels\\tsa\\base\\tsa_model.py:471: ValueWarning: No frequency information was provided, so inferred frequency MS will be used.\n",
      "  self._init_dates(dates, freq)\n",
      "C:\\Users\\User\\anaconda3\\lib\\site-packages\\statsmodels\\tsa\\base\\tsa_model.py:471: ValueWarning: No frequency information was provided, so inferred frequency MS will be used.\n",
      "  self._init_dates(dates, freq)\n"
     ]
    },
    {
     "name": "stdout",
     "output_type": "stream",
     "text": [
      "(0, 4, 4) 1717.8410585148454\n",
      "(1, 0, 0) 1719.4788241473716\n",
      "(1, 0, 1) 1716.8253688287746\n",
      "(1, 0, 2) 1710.0142165040365\n"
     ]
    },
    {
     "name": "stderr",
     "output_type": "stream",
     "text": [
      "C:\\Users\\User\\anaconda3\\lib\\site-packages\\statsmodels\\tsa\\base\\tsa_model.py:471: ValueWarning: No frequency information was provided, so inferred frequency MS will be used.\n",
      "  self._init_dates(dates, freq)\n",
      "C:\\Users\\User\\anaconda3\\lib\\site-packages\\statsmodels\\tsa\\base\\tsa_model.py:471: ValueWarning: No frequency information was provided, so inferred frequency MS will be used.\n",
      "  self._init_dates(dates, freq)\n",
      "C:\\Users\\User\\anaconda3\\lib\\site-packages\\statsmodels\\tsa\\base\\tsa_model.py:471: ValueWarning: No frequency information was provided, so inferred frequency MS will be used.\n",
      "  self._init_dates(dates, freq)\n",
      "C:\\Users\\User\\anaconda3\\lib\\site-packages\\statsmodels\\tsa\\base\\tsa_model.py:471: ValueWarning: No frequency information was provided, so inferred frequency MS will be used.\n",
      "  self._init_dates(dates, freq)\n"
     ]
    },
    {
     "name": "stdout",
     "output_type": "stream",
     "text": [
      "(1, 0, 3) 1705.1587185554185\n",
      "(1, 0, 4) 1704.4446159772165\n"
     ]
    },
    {
     "name": "stderr",
     "output_type": "stream",
     "text": [
      "C:\\Users\\User\\anaconda3\\lib\\site-packages\\statsmodels\\tsa\\base\\tsa_model.py:471: ValueWarning: No frequency information was provided, so inferred frequency MS will be used.\n",
      "  self._init_dates(dates, freq)\n",
      "C:\\Users\\User\\anaconda3\\lib\\site-packages\\statsmodels\\tsa\\base\\tsa_model.py:471: ValueWarning: No frequency information was provided, so inferred frequency MS will be used.\n",
      "  self._init_dates(dates, freq)\n"
     ]
    },
    {
     "name": "stdout",
     "output_type": "stream",
     "text": [
      "(1, 1, 0) 1719.5786899278262\n",
      "(1, 1, 1) 1720.7399628851888\n",
      "(1, 1, 2) 1691.5023021599686\n"
     ]
    },
    {
     "name": "stderr",
     "output_type": "stream",
     "text": [
      "C:\\Users\\User\\anaconda3\\lib\\site-packages\\statsmodels\\tsa\\base\\tsa_model.py:471: ValueWarning: No frequency information was provided, so inferred frequency MS will be used.\n",
      "  self._init_dates(dates, freq)\n",
      "C:\\Users\\User\\anaconda3\\lib\\site-packages\\statsmodels\\tsa\\statespace\\sarimax.py:966: UserWarning: Non-stationary starting autoregressive parameters found. Using zeros as starting parameters.\n",
      "  warn('Non-stationary starting autoregressive parameters'\n",
      "C:\\Users\\User\\anaconda3\\lib\\site-packages\\statsmodels\\tsa\\base\\tsa_model.py:471: ValueWarning: No frequency information was provided, so inferred frequency MS will be used.\n",
      "  self._init_dates(dates, freq)\n",
      "C:\\Users\\User\\anaconda3\\lib\\site-packages\\statsmodels\\tsa\\base\\tsa_model.py:471: ValueWarning: No frequency information was provided, so inferred frequency MS will be used.\n",
      "  self._init_dates(dates, freq)\n"
     ]
    },
    {
     "name": "stdout",
     "output_type": "stream",
     "text": [
      "(1, 1, 3) 1688.0246953753208\n"
     ]
    },
    {
     "name": "stderr",
     "output_type": "stream",
     "text": [
      "C:\\Users\\User\\anaconda3\\lib\\site-packages\\statsmodels\\tsa\\base\\tsa_model.py:471: ValueWarning: No frequency information was provided, so inferred frequency MS will be used.\n",
      "  self._init_dates(dates, freq)\n",
      "C:\\Users\\User\\anaconda3\\lib\\site-packages\\statsmodels\\base\\model.py:604: ConvergenceWarning: Maximum Likelihood optimization failed to converge. Check mle_retvals\n",
      "  warnings.warn(\"Maximum Likelihood optimization failed to \"\n"
     ]
    },
    {
     "name": "stdout",
     "output_type": "stream",
     "text": [
      "(1, 1, 4) 1673.1887969466277\n",
      "(1, 2, 0) 1770.1787819467354\n",
      "(1, 2, 1) 1716.7548959256908\n"
     ]
    },
    {
     "name": "stderr",
     "output_type": "stream",
     "text": [
      "C:\\Users\\User\\anaconda3\\lib\\site-packages\\statsmodels\\tsa\\base\\tsa_model.py:471: ValueWarning: No frequency information was provided, so inferred frequency MS will be used.\n",
      "  self._init_dates(dates, freq)\n",
      "C:\\Users\\User\\anaconda3\\lib\\site-packages\\statsmodels\\tsa\\base\\tsa_model.py:471: ValueWarning: No frequency information was provided, so inferred frequency MS will be used.\n",
      "  self._init_dates(dates, freq)\n",
      "C:\\Users\\User\\anaconda3\\lib\\site-packages\\statsmodels\\tsa\\base\\tsa_model.py:471: ValueWarning: No frequency information was provided, so inferred frequency MS will be used.\n",
      "  self._init_dates(dates, freq)\n"
     ]
    },
    {
     "name": "stdout",
     "output_type": "stream",
     "text": [
      "(1, 2, 2) 1717.8580470207528\n",
      "(1, 2, 3) 1719.0087853827422\n"
     ]
    },
    {
     "name": "stderr",
     "output_type": "stream",
     "text": [
      "C:\\Users\\User\\anaconda3\\lib\\site-packages\\statsmodels\\tsa\\base\\tsa_model.py:471: ValueWarning: No frequency information was provided, so inferred frequency MS will be used.\n",
      "  self._init_dates(dates, freq)\n",
      "C:\\Users\\User\\anaconda3\\lib\\site-packages\\statsmodels\\tsa\\base\\tsa_model.py:471: ValueWarning: No frequency information was provided, so inferred frequency MS will be used.\n",
      "  self._init_dates(dates, freq)\n",
      "C:\\Users\\User\\anaconda3\\lib\\site-packages\\statsmodels\\base\\model.py:604: ConvergenceWarning: Maximum Likelihood optimization failed to converge. Check mle_retvals\n",
      "  warnings.warn(\"Maximum Likelihood optimization failed to \"\n",
      "C:\\Users\\User\\anaconda3\\lib\\site-packages\\statsmodels\\tsa\\base\\tsa_model.py:471: ValueWarning: No frequency information was provided, so inferred frequency MS will be used.\n",
      "  self._init_dates(dates, freq)\n",
      "C:\\Users\\User\\anaconda3\\lib\\site-packages\\statsmodels\\tsa\\base\\tsa_model.py:471: ValueWarning: No frequency information was provided, so inferred frequency MS will be used.\n",
      "  self._init_dates(dates, freq)\n",
      "C:\\Users\\User\\anaconda3\\lib\\site-packages\\statsmodels\\tsa\\base\\tsa_model.py:471: ValueWarning: No frequency information was provided, so inferred frequency MS will be used.\n",
      "  self._init_dates(dates, freq)\n"
     ]
    },
    {
     "name": "stdout",
     "output_type": "stream",
     "text": [
      "(1, 2, 4) 1681.6219706532752\n",
      "(1, 3, 0) 1835.3951858511016\n",
      "(1, 3, 1) 1768.554379368019\n",
      "(1, 3, 2) 1720.8086146739604\n",
      "(1, 3, 3) 1723.1581429788594\n"
     ]
    },
    {
     "name": "stderr",
     "output_type": "stream",
     "text": [
      "C:\\Users\\User\\anaconda3\\lib\\site-packages\\statsmodels\\tsa\\base\\tsa_model.py:471: ValueWarning: No frequency information was provided, so inferred frequency MS will be used.\n",
      "  self._init_dates(dates, freq)\n",
      "C:\\Users\\User\\anaconda3\\lib\\site-packages\\statsmodels\\tsa\\base\\tsa_model.py:471: ValueWarning: No frequency information was provided, so inferred frequency MS will be used.\n",
      "  self._init_dates(dates, freq)\n"
     ]
    },
    {
     "name": "stdout",
     "output_type": "stream",
     "text": [
      "(1, 3, 4) 1690.3504508703618\n",
      "(1, 4, 0) 1914.5474556234265\n",
      "(1, 4, 1) 1824.3509445497982\n",
      "(1, 4, 2) 1764.57480339671\n"
     ]
    },
    {
     "name": "stderr",
     "output_type": "stream",
     "text": [
      "C:\\Users\\User\\anaconda3\\lib\\site-packages\\statsmodels\\tsa\\base\\tsa_model.py:471: ValueWarning: No frequency information was provided, so inferred frequency MS will be used.\n",
      "  self._init_dates(dates, freq)\n",
      "C:\\Users\\User\\anaconda3\\lib\\site-packages\\statsmodels\\tsa\\base\\tsa_model.py:471: ValueWarning: No frequency information was provided, so inferred frequency MS will be used.\n",
      "  self._init_dates(dates, freq)\n",
      "C:\\Users\\User\\anaconda3\\lib\\site-packages\\statsmodels\\tsa\\base\\tsa_model.py:471: ValueWarning: No frequency information was provided, so inferred frequency MS will be used.\n",
      "  self._init_dates(dates, freq)\n",
      "C:\\Users\\User\\anaconda3\\lib\\site-packages\\statsmodels\\tsa\\base\\tsa_model.py:471: ValueWarning: No frequency information was provided, so inferred frequency MS will be used.\n",
      "  self._init_dates(dates, freq)\n"
     ]
    },
    {
     "name": "stdout",
     "output_type": "stream",
     "text": [
      "(1, 4, 3) 1773.378116906081\n",
      "(1, 4, 4) 1721.2879781391246\n"
     ]
    },
    {
     "name": "stderr",
     "output_type": "stream",
     "text": [
      "C:\\Users\\User\\anaconda3\\lib\\site-packages\\statsmodels\\tsa\\base\\tsa_model.py:471: ValueWarning: No frequency information was provided, so inferred frequency MS will be used.\n",
      "  self._init_dates(dates, freq)\n",
      "C:\\Users\\User\\anaconda3\\lib\\site-packages\\statsmodels\\tsa\\base\\tsa_model.py:471: ValueWarning: No frequency information was provided, so inferred frequency MS will be used.\n",
      "  self._init_dates(dates, freq)\n"
     ]
    },
    {
     "name": "stdout",
     "output_type": "stream",
     "text": [
      "(2, 0, 0) 1716.7440422081922\n",
      "(2, 0, 1) 1718.4911982641745\n",
      "(2, 0, 2) 1709.687626196366\n"
     ]
    },
    {
     "name": "stderr",
     "output_type": "stream",
     "text": [
      "C:\\Users\\User\\anaconda3\\lib\\site-packages\\statsmodels\\tsa\\base\\tsa_model.py:471: ValueWarning: No frequency information was provided, so inferred frequency MS will be used.\n",
      "  self._init_dates(dates, freq)\n",
      "C:\\Users\\User\\anaconda3\\lib\\site-packages\\statsmodels\\tsa\\base\\tsa_model.py:471: ValueWarning: No frequency information was provided, so inferred frequency MS will be used.\n",
      "  self._init_dates(dates, freq)\n",
      "C:\\Users\\User\\anaconda3\\lib\\site-packages\\statsmodels\\tsa\\base\\tsa_model.py:471: ValueWarning: No frequency information was provided, so inferred frequency MS will be used.\n",
      "  self._init_dates(dates, freq)\n"
     ]
    },
    {
     "name": "stdout",
     "output_type": "stream",
     "text": [
      "(2, 0, 3) 1706.9382475886127\n"
     ]
    },
    {
     "name": "stderr",
     "output_type": "stream",
     "text": [
      "C:\\Users\\User\\anaconda3\\lib\\site-packages\\statsmodels\\tsa\\base\\tsa_model.py:471: ValueWarning: No frequency information was provided, so inferred frequency MS will be used.\n",
      "  self._init_dates(dates, freq)\n",
      "C:\\Users\\User\\anaconda3\\lib\\site-packages\\statsmodels\\base\\model.py:604: ConvergenceWarning: Maximum Likelihood optimization failed to converge. Check mle_retvals\n",
      "  warnings.warn(\"Maximum Likelihood optimization failed to \"\n",
      "C:\\Users\\User\\anaconda3\\lib\\site-packages\\statsmodels\\tsa\\base\\tsa_model.py:471: ValueWarning: No frequency information was provided, so inferred frequency MS will be used.\n",
      "  self._init_dates(dates, freq)\n",
      "C:\\Users\\User\\anaconda3\\lib\\site-packages\\statsmodels\\tsa\\base\\tsa_model.py:471: ValueWarning: No frequency information was provided, so inferred frequency MS will be used.\n",
      "  self._init_dates(dates, freq)\n",
      "C:\\Users\\User\\anaconda3\\lib\\site-packages\\statsmodels\\tsa\\base\\tsa_model.py:471: ValueWarning: No frequency information was provided, so inferred frequency MS will be used.\n",
      "  self._init_dates(dates, freq)\n"
     ]
    },
    {
     "name": "stdout",
     "output_type": "stream",
     "text": [
      "(2, 0, 4) 1707.5186381708572\n",
      "(2, 1, 0) 1713.4217415100295\n",
      "(2, 1, 1) 1680.868592119606\n",
      "(2, 1, 2) 1676.399347334526\n"
     ]
    },
    {
     "name": "stderr",
     "output_type": "stream",
     "text": [
      "C:\\Users\\User\\anaconda3\\lib\\site-packages\\statsmodels\\tsa\\base\\tsa_model.py:471: ValueWarning: No frequency information was provided, so inferred frequency MS will be used.\n",
      "  self._init_dates(dates, freq)\n"
     ]
    },
    {
     "name": "stdout",
     "output_type": "stream",
     "text": [
      "(2, 1, 3) 1648.1857594255143\n"
     ]
    },
    {
     "name": "stderr",
     "output_type": "stream",
     "text": [
      "C:\\Users\\User\\anaconda3\\lib\\site-packages\\statsmodels\\base\\model.py:604: ConvergenceWarning: Maximum Likelihood optimization failed to converge. Check mle_retvals\n",
      "  warnings.warn(\"Maximum Likelihood optimization failed to \"\n",
      "C:\\Users\\User\\anaconda3\\lib\\site-packages\\statsmodels\\tsa\\base\\tsa_model.py:471: ValueWarning: No frequency information was provided, so inferred frequency MS will be used.\n",
      "  self._init_dates(dates, freq)\n",
      "C:\\Users\\User\\anaconda3\\lib\\site-packages\\statsmodels\\base\\model.py:604: ConvergenceWarning: Maximum Likelihood optimization failed to converge. Check mle_retvals\n",
      "  warnings.warn(\"Maximum Likelihood optimization failed to \"\n",
      "C:\\Users\\User\\anaconda3\\lib\\site-packages\\statsmodels\\tsa\\base\\tsa_model.py:471: ValueWarning: No frequency information was provided, so inferred frequency MS will be used.\n",
      "  self._init_dates(dates, freq)\n",
      "C:\\Users\\User\\anaconda3\\lib\\site-packages\\statsmodels\\tsa\\base\\tsa_model.py:471: ValueWarning: No frequency information was provided, so inferred frequency MS will be used.\n",
      "  self._init_dates(dates, freq)\n",
      "C:\\Users\\User\\anaconda3\\lib\\site-packages\\statsmodels\\tsa\\base\\tsa_model.py:471: ValueWarning: No frequency information was provided, so inferred frequency MS will be used.\n",
      "  self._init_dates(dates, freq)\n"
     ]
    },
    {
     "name": "stdout",
     "output_type": "stream",
     "text": [
      "(2, 1, 4) 1655.9576927892617\n",
      "(2, 2, 0) 1767.7488165180882\n",
      "(2, 2, 1) 1710.876136299852\n",
      "(2, 2, 2) 1719.7185026416148\n"
     ]
    },
    {
     "name": "stderr",
     "output_type": "stream",
     "text": [
      "C:\\Users\\User\\anaconda3\\lib\\site-packages\\statsmodels\\tsa\\base\\tsa_model.py:471: ValueWarning: No frequency information was provided, so inferred frequency MS will be used.\n",
      "  self._init_dates(dates, freq)\n"
     ]
    },
    {
     "name": "stdout",
     "output_type": "stream",
     "text": [
      "(2, 2, 3) 1716.1952057146812\n"
     ]
    },
    {
     "name": "stderr",
     "output_type": "stream",
     "text": [
      "C:\\Users\\User\\anaconda3\\lib\\site-packages\\statsmodels\\base\\model.py:604: ConvergenceWarning: Maximum Likelihood optimization failed to converge. Check mle_retvals\n",
      "  warnings.warn(\"Maximum Likelihood optimization failed to \"\n",
      "C:\\Users\\User\\anaconda3\\lib\\site-packages\\statsmodels\\tsa\\base\\tsa_model.py:471: ValueWarning: No frequency information was provided, so inferred frequency MS will be used.\n",
      "  self._init_dates(dates, freq)\n",
      "C:\\Users\\User\\anaconda3\\lib\\site-packages\\statsmodels\\base\\model.py:604: ConvergenceWarning: Maximum Likelihood optimization failed to converge. Check mle_retvals\n",
      "  warnings.warn(\"Maximum Likelihood optimization failed to \"\n",
      "C:\\Users\\User\\anaconda3\\lib\\site-packages\\statsmodels\\tsa\\base\\tsa_model.py:471: ValueWarning: No frequency information was provided, so inferred frequency MS will be used.\n",
      "  self._init_dates(dates, freq)\n",
      "C:\\Users\\User\\anaconda3\\lib\\site-packages\\statsmodels\\tsa\\base\\tsa_model.py:471: ValueWarning: No frequency information was provided, so inferred frequency MS will be used.\n",
      "  self._init_dates(dates, freq)\n",
      "C:\\Users\\User\\anaconda3\\lib\\site-packages\\statsmodels\\tsa\\base\\tsa_model.py:471: ValueWarning: No frequency information was provided, so inferred frequency MS will be used.\n",
      "  self._init_dates(dates, freq)\n"
     ]
    },
    {
     "name": "stdout",
     "output_type": "stream",
     "text": [
      "(2, 2, 4) 1662.8835349940255\n",
      "(2, 3, 0) 1826.224816405457\n",
      "(2, 3, 1) 1766.5463211627334\n"
     ]
    },
    {
     "name": "stderr",
     "output_type": "stream",
     "text": [
      "C:\\Users\\User\\anaconda3\\lib\\site-packages\\statsmodels\\base\\model.py:604: ConvergenceWarning: Maximum Likelihood optimization failed to converge. Check mle_retvals\n",
      "  warnings.warn(\"Maximum Likelihood optimization failed to \"\n",
      "C:\\Users\\User\\anaconda3\\lib\\site-packages\\statsmodels\\tsa\\base\\tsa_model.py:471: ValueWarning: No frequency information was provided, so inferred frequency MS will be used.\n",
      "  self._init_dates(dates, freq)\n"
     ]
    },
    {
     "name": "stdout",
     "output_type": "stream",
     "text": [
      "(2, 3, 2) 1714.8901778272245\n"
     ]
    },
    {
     "name": "stderr",
     "output_type": "stream",
     "text": [
      "C:\\Users\\User\\anaconda3\\lib\\site-packages\\statsmodels\\base\\model.py:604: ConvergenceWarning: Maximum Likelihood optimization failed to converge. Check mle_retvals\n",
      "  warnings.warn(\"Maximum Likelihood optimization failed to \"\n",
      "C:\\Users\\User\\anaconda3\\lib\\site-packages\\statsmodels\\tsa\\base\\tsa_model.py:471: ValueWarning: No frequency information was provided, so inferred frequency MS will be used.\n",
      "  self._init_dates(dates, freq)\n"
     ]
    },
    {
     "name": "stdout",
     "output_type": "stream",
     "text": [
      "(2, 3, 3) 1771.8953567525855\n"
     ]
    },
    {
     "name": "stderr",
     "output_type": "stream",
     "text": [
      "C:\\Users\\User\\anaconda3\\lib\\site-packages\\statsmodels\\base\\model.py:604: ConvergenceWarning: Maximum Likelihood optimization failed to converge. Check mle_retvals\n",
      "  warnings.warn(\"Maximum Likelihood optimization failed to \"\n",
      "C:\\Users\\User\\anaconda3\\lib\\site-packages\\statsmodels\\tsa\\base\\tsa_model.py:471: ValueWarning: No frequency information was provided, so inferred frequency MS will be used.\n",
      "  self._init_dates(dates, freq)\n",
      "C:\\Users\\User\\anaconda3\\lib\\site-packages\\statsmodels\\tsa\\base\\tsa_model.py:471: ValueWarning: No frequency information was provided, so inferred frequency MS will be used.\n",
      "  self._init_dates(dates, freq)\n",
      "C:\\Users\\User\\anaconda3\\lib\\site-packages\\statsmodels\\tsa\\base\\tsa_model.py:471: ValueWarning: No frequency information was provided, so inferred frequency MS will be used.\n",
      "  self._init_dates(dates, freq)\n"
     ]
    },
    {
     "name": "stdout",
     "output_type": "stream",
     "text": [
      "(2, 3, 4) 1694.370693852011\n",
      "(2, 4, 0) 1885.361532509189\n",
      "(2, 4, 1) 1816.106768577875\n"
     ]
    },
    {
     "name": "stderr",
     "output_type": "stream",
     "text": [
      "C:\\Users\\User\\anaconda3\\lib\\site-packages\\statsmodels\\base\\model.py:604: ConvergenceWarning: Maximum Likelihood optimization failed to converge. Check mle_retvals\n",
      "  warnings.warn(\"Maximum Likelihood optimization failed to \"\n",
      "C:\\Users\\User\\anaconda3\\lib\\site-packages\\statsmodels\\tsa\\base\\tsa_model.py:471: ValueWarning: No frequency information was provided, so inferred frequency MS will be used.\n",
      "  self._init_dates(dates, freq)\n",
      "C:\\Users\\User\\anaconda3\\lib\\site-packages\\statsmodels\\tsa\\base\\tsa_model.py:471: ValueWarning: No frequency information was provided, so inferred frequency MS will be used.\n",
      "  self._init_dates(dates, freq)\n"
     ]
    },
    {
     "name": "stdout",
     "output_type": "stream",
     "text": [
      "(2, 4, 2) 1762.2818170433543\n",
      "(2, 4, 3) 1768.690619517723\n"
     ]
    },
    {
     "name": "stderr",
     "output_type": "stream",
     "text": [
      "C:\\Users\\User\\anaconda3\\lib\\site-packages\\statsmodels\\base\\model.py:604: ConvergenceWarning: Maximum Likelihood optimization failed to converge. Check mle_retvals\n",
      "  warnings.warn(\"Maximum Likelihood optimization failed to \"\n",
      "C:\\Users\\User\\anaconda3\\lib\\site-packages\\statsmodels\\tsa\\base\\tsa_model.py:471: ValueWarning: No frequency information was provided, so inferred frequency MS will be used.\n",
      "  self._init_dates(dates, freq)\n",
      "C:\\Users\\User\\anaconda3\\lib\\site-packages\\statsmodels\\tsa\\base\\tsa_model.py:471: ValueWarning: No frequency information was provided, so inferred frequency MS will be used.\n",
      "  self._init_dates(dates, freq)\n",
      "C:\\Users\\User\\anaconda3\\lib\\site-packages\\statsmodels\\tsa\\base\\tsa_model.py:471: ValueWarning: No frequency information was provided, so inferred frequency MS will be used.\n",
      "  self._init_dates(dates, freq)\n"
     ]
    },
    {
     "name": "stdout",
     "output_type": "stream",
     "text": [
      "(2, 4, 4) 1772.7338016646709\n",
      "(3, 0, 0) 1717.6652302309753\n",
      "(3, 0, 1) 1720.7062892091785\n"
     ]
    },
    {
     "name": "stderr",
     "output_type": "stream",
     "text": [
      "C:\\Users\\User\\anaconda3\\lib\\site-packages\\statsmodels\\base\\model.py:604: ConvergenceWarning: Maximum Likelihood optimization failed to converge. Check mle_retvals\n",
      "  warnings.warn(\"Maximum Likelihood optimization failed to \"\n",
      "C:\\Users\\User\\anaconda3\\lib\\site-packages\\statsmodels\\tsa\\base\\tsa_model.py:471: ValueWarning: No frequency information was provided, so inferred frequency MS will be used.\n",
      "  self._init_dates(dates, freq)\n"
     ]
    },
    {
     "name": "stdout",
     "output_type": "stream",
     "text": [
      "(3, 0, 2) 1692.5968623311637\n"
     ]
    },
    {
     "name": "stderr",
     "output_type": "stream",
     "text": [
      "C:\\Users\\User\\anaconda3\\lib\\site-packages\\statsmodels\\base\\model.py:604: ConvergenceWarning: Maximum Likelihood optimization failed to converge. Check mle_retvals\n",
      "  warnings.warn(\"Maximum Likelihood optimization failed to \"\n",
      "C:\\Users\\User\\anaconda3\\lib\\site-packages\\statsmodels\\tsa\\base\\tsa_model.py:471: ValueWarning: No frequency information was provided, so inferred frequency MS will be used.\n",
      "  self._init_dates(dates, freq)\n"
     ]
    },
    {
     "name": "stdout",
     "output_type": "stream",
     "text": [
      "(3, 0, 3) 1665.5577312613493\n"
     ]
    },
    {
     "name": "stderr",
     "output_type": "stream",
     "text": [
      "C:\\Users\\User\\anaconda3\\lib\\site-packages\\statsmodels\\base\\model.py:604: ConvergenceWarning: Maximum Likelihood optimization failed to converge. Check mle_retvals\n",
      "  warnings.warn(\"Maximum Likelihood optimization failed to \"\n",
      "C:\\Users\\User\\anaconda3\\lib\\site-packages\\statsmodels\\tsa\\base\\tsa_model.py:471: ValueWarning: No frequency information was provided, so inferred frequency MS will be used.\n",
      "  self._init_dates(dates, freq)\n",
      "C:\\Users\\User\\anaconda3\\lib\\site-packages\\statsmodels\\tsa\\base\\tsa_model.py:471: ValueWarning: No frequency information was provided, so inferred frequency MS will be used.\n",
      "  self._init_dates(dates, freq)\n",
      "C:\\Users\\User\\anaconda3\\lib\\site-packages\\statsmodels\\tsa\\base\\tsa_model.py:471: ValueWarning: No frequency information was provided, so inferred frequency MS will be used.\n",
      "  self._init_dates(dates, freq)\n"
     ]
    },
    {
     "name": "stdout",
     "output_type": "stream",
     "text": [
      "(3, 0, 4) 1669.3671843006086\n",
      "(3, 1, 0) 1688.6392695933446\n",
      "(3, 1, 1) 1672.3964335632054\n",
      "(3, 1, 2) 1674.3558230049684\n"
     ]
    },
    {
     "name": "stderr",
     "output_type": "stream",
     "text": [
      "C:\\Users\\User\\anaconda3\\lib\\site-packages\\statsmodels\\tsa\\base\\tsa_model.py:471: ValueWarning: No frequency information was provided, so inferred frequency MS will be used.\n",
      "  self._init_dates(dates, freq)\n",
      "C:\\Users\\User\\anaconda3\\lib\\site-packages\\statsmodels\\base\\model.py:604: ConvergenceWarning: Maximum Likelihood optimization failed to converge. Check mle_retvals\n",
      "  warnings.warn(\"Maximum Likelihood optimization failed to \"\n",
      "C:\\Users\\User\\anaconda3\\lib\\site-packages\\statsmodels\\tsa\\base\\tsa_model.py:471: ValueWarning: No frequency information was provided, so inferred frequency MS will be used.\n",
      "  self._init_dates(dates, freq)\n"
     ]
    },
    {
     "name": "stdout",
     "output_type": "stream",
     "text": [
      "(3, 1, 3) 1651.7125090612344\n"
     ]
    },
    {
     "name": "stderr",
     "output_type": "stream",
     "text": [
      "C:\\Users\\User\\anaconda3\\lib\\site-packages\\statsmodels\\base\\model.py:604: ConvergenceWarning: Maximum Likelihood optimization failed to converge. Check mle_retvals\n",
      "  warnings.warn(\"Maximum Likelihood optimization failed to \"\n",
      "C:\\Users\\User\\anaconda3\\lib\\site-packages\\statsmodels\\tsa\\base\\tsa_model.py:471: ValueWarning: No frequency information was provided, so inferred frequency MS will be used.\n",
      "  self._init_dates(dates, freq)\n",
      "C:\\Users\\User\\anaconda3\\lib\\site-packages\\statsmodels\\tsa\\base\\tsa_model.py:471: ValueWarning: No frequency information was provided, so inferred frequency MS will be used.\n",
      "  self._init_dates(dates, freq)\n",
      "C:\\Users\\User\\anaconda3\\lib\\site-packages\\statsmodels\\tsa\\base\\tsa_model.py:471: ValueWarning: No frequency information was provided, so inferred frequency MS will be used.\n",
      "  self._init_dates(dates, freq)\n"
     ]
    },
    {
     "name": "stdout",
     "output_type": "stream",
     "text": [
      "(3, 1, 4) 1654.9450725932802\n",
      "(3, 2, 0) 1750.9106813319218\n",
      "(3, 2, 1) 1686.9087069009083\n",
      "(3, 2, 2) 1667.9252277394921\n"
     ]
    },
    {
     "name": "stderr",
     "output_type": "stream",
     "text": [
      "C:\\Users\\User\\anaconda3\\lib\\site-packages\\statsmodels\\tsa\\base\\tsa_model.py:471: ValueWarning: No frequency information was provided, so inferred frequency MS will be used.\n",
      "  self._init_dates(dates, freq)\n",
      "C:\\Users\\User\\anaconda3\\lib\\site-packages\\statsmodels\\base\\model.py:604: ConvergenceWarning: Maximum Likelihood optimization failed to converge. Check mle_retvals\n",
      "  warnings.warn(\"Maximum Likelihood optimization failed to \"\n",
      "C:\\Users\\User\\anaconda3\\lib\\site-packages\\statsmodels\\tsa\\base\\tsa_model.py:471: ValueWarning: No frequency information was provided, so inferred frequency MS will be used.\n",
      "  self._init_dates(dates, freq)\n"
     ]
    },
    {
     "name": "stdout",
     "output_type": "stream",
     "text": [
      "(3, 2, 3) 1667.162089232078\n"
     ]
    },
    {
     "name": "stderr",
     "output_type": "stream",
     "text": [
      "C:\\Users\\User\\anaconda3\\lib\\site-packages\\statsmodels\\base\\model.py:604: ConvergenceWarning: Maximum Likelihood optimization failed to converge. Check mle_retvals\n",
      "  warnings.warn(\"Maximum Likelihood optimization failed to \"\n",
      "C:\\Users\\User\\anaconda3\\lib\\site-packages\\statsmodels\\tsa\\base\\tsa_model.py:471: ValueWarning: No frequency information was provided, so inferred frequency MS will be used.\n",
      "  self._init_dates(dates, freq)\n",
      "C:\\Users\\User\\anaconda3\\lib\\site-packages\\statsmodels\\tsa\\base\\tsa_model.py:471: ValueWarning: No frequency information was provided, so inferred frequency MS will be used.\n",
      "  self._init_dates(dates, freq)\n",
      "C:\\Users\\User\\anaconda3\\lib\\site-packages\\statsmodels\\tsa\\base\\tsa_model.py:471: ValueWarning: No frequency information was provided, so inferred frequency MS will be used.\n",
      "  self._init_dates(dates, freq)\n"
     ]
    },
    {
     "name": "stdout",
     "output_type": "stream",
     "text": [
      "(3, 2, 4) 1666.3286066905139\n",
      "(3, 3, 0) 1817.235486764351\n",
      "(3, 3, 1) 1750.2227645118014\n",
      "(3, 3, 2) 1691.5436843775608\n"
     ]
    },
    {
     "name": "stderr",
     "output_type": "stream",
     "text": [
      "C:\\Users\\User\\anaconda3\\lib\\site-packages\\statsmodels\\tsa\\base\\tsa_model.py:471: ValueWarning: No frequency information was provided, so inferred frequency MS will be used.\n",
      "  self._init_dates(dates, freq)\n"
     ]
    },
    {
     "name": "stdout",
     "output_type": "stream",
     "text": [
      "(3, 3, 3) 1771.344113823718\n"
     ]
    },
    {
     "name": "stderr",
     "output_type": "stream",
     "text": [
      "C:\\Users\\User\\anaconda3\\lib\\site-packages\\statsmodels\\tsa\\base\\tsa_model.py:471: ValueWarning: No frequency information was provided, so inferred frequency MS will be used.\n",
      "  self._init_dates(dates, freq)\n",
      "C:\\Users\\User\\anaconda3\\lib\\site-packages\\statsmodels\\base\\model.py:604: ConvergenceWarning: Maximum Likelihood optimization failed to converge. Check mle_retvals\n",
      "  warnings.warn(\"Maximum Likelihood optimization failed to \"\n",
      "C:\\Users\\User\\anaconda3\\lib\\site-packages\\statsmodels\\tsa\\base\\tsa_model.py:471: ValueWarning: No frequency information was provided, so inferred frequency MS will be used.\n",
      "  self._init_dates(dates, freq)\n",
      "C:\\Users\\User\\anaconda3\\lib\\site-packages\\statsmodels\\tsa\\base\\tsa_model.py:471: ValueWarning: No frequency information was provided, so inferred frequency MS will be used.\n",
      "  self._init_dates(dates, freq)\n",
      "C:\\Users\\User\\anaconda3\\lib\\site-packages\\statsmodels\\tsa\\base\\tsa_model.py:471: ValueWarning: No frequency information was provided, so inferred frequency MS will be used.\n",
      "  self._init_dates(dates, freq)\n"
     ]
    },
    {
     "name": "stdout",
     "output_type": "stream",
     "text": [
      "(3, 3, 4) 1726.2029895104147\n",
      "(3, 4, 0) 1874.8838896743632\n",
      "(3, 4, 1) 1807.953825648502\n"
     ]
    },
    {
     "name": "stderr",
     "output_type": "stream",
     "text": [
      "C:\\Users\\User\\anaconda3\\lib\\site-packages\\statsmodels\\base\\model.py:604: ConvergenceWarning: Maximum Likelihood optimization failed to converge. Check mle_retvals\n",
      "  warnings.warn(\"Maximum Likelihood optimization failed to \"\n",
      "C:\\Users\\User\\anaconda3\\lib\\site-packages\\statsmodels\\tsa\\base\\tsa_model.py:471: ValueWarning: No frequency information was provided, so inferred frequency MS will be used.\n",
      "  self._init_dates(dates, freq)\n"
     ]
    },
    {
     "name": "stdout",
     "output_type": "stream",
     "text": [
      "(3, 4, 2) 1745.87270180223\n"
     ]
    },
    {
     "name": "stderr",
     "output_type": "stream",
     "text": [
      "C:\\Users\\User\\anaconda3\\lib\\site-packages\\statsmodels\\base\\model.py:604: ConvergenceWarning: Maximum Likelihood optimization failed to converge. Check mle_retvals\n",
      "  warnings.warn(\"Maximum Likelihood optimization failed to \"\n",
      "C:\\Users\\User\\anaconda3\\lib\\site-packages\\statsmodels\\tsa\\base\\tsa_model.py:471: ValueWarning: No frequency information was provided, so inferred frequency MS will be used.\n",
      "  self._init_dates(dates, freq)\n"
     ]
    },
    {
     "name": "stdout",
     "output_type": "stream",
     "text": [
      "(3, 4, 3) 1868.9868826499708\n"
     ]
    },
    {
     "name": "stderr",
     "output_type": "stream",
     "text": [
      "C:\\Users\\User\\anaconda3\\lib\\site-packages\\statsmodels\\base\\model.py:604: ConvergenceWarning: Maximum Likelihood optimization failed to converge. Check mle_retvals\n",
      "  warnings.warn(\"Maximum Likelihood optimization failed to \"\n",
      "C:\\Users\\User\\anaconda3\\lib\\site-packages\\statsmodels\\tsa\\base\\tsa_model.py:471: ValueWarning: No frequency information was provided, so inferred frequency MS will be used.\n",
      "  self._init_dates(dates, freq)\n",
      "C:\\Users\\User\\anaconda3\\lib\\site-packages\\statsmodels\\tsa\\base\\tsa_model.py:471: ValueWarning: No frequency information was provided, so inferred frequency MS will be used.\n",
      "  self._init_dates(dates, freq)\n"
     ]
    },
    {
     "name": "stdout",
     "output_type": "stream",
     "text": [
      "(3, 4, 4) 1769.4765569657532\n",
      "(4, 0, 0) 1702.6486310374617\n",
      "(4, 0, 1) 1688.7713131409953\n"
     ]
    },
    {
     "name": "stderr",
     "output_type": "stream",
     "text": [
      "C:\\Users\\User\\anaconda3\\lib\\site-packages\\statsmodels\\tsa\\base\\tsa_model.py:471: ValueWarning: No frequency information was provided, so inferred frequency MS will be used.\n",
      "  self._init_dates(dates, freq)\n",
      "C:\\Users\\User\\anaconda3\\lib\\site-packages\\statsmodels\\base\\model.py:604: ConvergenceWarning: Maximum Likelihood optimization failed to converge. Check mle_retvals\n",
      "  warnings.warn(\"Maximum Likelihood optimization failed to \"\n",
      "C:\\Users\\User\\anaconda3\\lib\\site-packages\\statsmodels\\tsa\\base\\tsa_model.py:471: ValueWarning: No frequency information was provided, so inferred frequency MS will be used.\n",
      "  self._init_dates(dates, freq)\n"
     ]
    },
    {
     "name": "stdout",
     "output_type": "stream",
     "text": [
      "(4, 0, 2) 1674.5498548165783\n"
     ]
    },
    {
     "name": "stderr",
     "output_type": "stream",
     "text": [
      "C:\\Users\\User\\anaconda3\\lib\\site-packages\\statsmodels\\base\\model.py:604: ConvergenceWarning: Maximum Likelihood optimization failed to converge. Check mle_retvals\n",
      "  warnings.warn(\"Maximum Likelihood optimization failed to \"\n",
      "C:\\Users\\User\\anaconda3\\lib\\site-packages\\statsmodels\\tsa\\base\\tsa_model.py:471: ValueWarning: No frequency information was provided, so inferred frequency MS will be used.\n",
      "  self._init_dates(dates, freq)\n"
     ]
    },
    {
     "name": "stdout",
     "output_type": "stream",
     "text": [
      "(4, 0, 3) 1666.2632523729244\n"
     ]
    },
    {
     "name": "stderr",
     "output_type": "stream",
     "text": [
      "C:\\Users\\User\\anaconda3\\lib\\site-packages\\statsmodels\\base\\model.py:604: ConvergenceWarning: Maximum Likelihood optimization failed to converge. Check mle_retvals\n",
      "  warnings.warn(\"Maximum Likelihood optimization failed to \"\n",
      "C:\\Users\\User\\anaconda3\\lib\\site-packages\\statsmodels\\tsa\\base\\tsa_model.py:471: ValueWarning: No frequency information was provided, so inferred frequency MS will be used.\n",
      "  self._init_dates(dates, freq)\n",
      "C:\\Users\\User\\anaconda3\\lib\\site-packages\\statsmodels\\tsa\\base\\tsa_model.py:471: ValueWarning: No frequency information was provided, so inferred frequency MS will be used.\n",
      "  self._init_dates(dates, freq)\n",
      "C:\\Users\\User\\anaconda3\\lib\\site-packages\\statsmodels\\tsa\\base\\tsa_model.py:471: ValueWarning: No frequency information was provided, so inferred frequency MS will be used.\n",
      "  self._init_dates(dates, freq)\n"
     ]
    },
    {
     "name": "stdout",
     "output_type": "stream",
     "text": [
      "(4, 0, 4) 1668.3612037746652\n",
      "(4, 1, 0) 1674.5937673869205\n",
      "(4, 1, 1) 1674.21377772333\n",
      "(4, 1, 2) 1675.2529359785347\n"
     ]
    },
    {
     "name": "stderr",
     "output_type": "stream",
     "text": [
      "C:\\Users\\User\\anaconda3\\lib\\site-packages\\statsmodels\\tsa\\base\\tsa_model.py:471: ValueWarning: No frequency information was provided, so inferred frequency MS will be used.\n",
      "  self._init_dates(dates, freq)\n",
      "C:\\Users\\User\\anaconda3\\lib\\site-packages\\statsmodels\\base\\model.py:604: ConvergenceWarning: Maximum Likelihood optimization failed to converge. Check mle_retvals\n",
      "  warnings.warn(\"Maximum Likelihood optimization failed to \"\n",
      "C:\\Users\\User\\anaconda3\\lib\\site-packages\\statsmodels\\tsa\\base\\tsa_model.py:471: ValueWarning: No frequency information was provided, so inferred frequency MS will be used.\n",
      "  self._init_dates(dates, freq)\n"
     ]
    },
    {
     "name": "stdout",
     "output_type": "stream",
     "text": [
      "(4, 1, 3) 1657.2260437106136\n"
     ]
    },
    {
     "name": "stderr",
     "output_type": "stream",
     "text": [
      "C:\\Users\\User\\anaconda3\\lib\\site-packages\\statsmodels\\base\\model.py:604: ConvergenceWarning: Maximum Likelihood optimization failed to converge. Check mle_retvals\n",
      "  warnings.warn(\"Maximum Likelihood optimization failed to \"\n",
      "C:\\Users\\User\\anaconda3\\lib\\site-packages\\statsmodels\\tsa\\base\\tsa_model.py:471: ValueWarning: No frequency information was provided, so inferred frequency MS will be used.\n",
      "  self._init_dates(dates, freq)\n",
      "C:\\Users\\User\\anaconda3\\lib\\site-packages\\statsmodels\\tsa\\base\\tsa_model.py:471: ValueWarning: No frequency information was provided, so inferred frequency MS will be used.\n",
      "  self._init_dates(dates, freq)\n",
      "C:\\Users\\User\\anaconda3\\lib\\site-packages\\statsmodels\\tsa\\base\\tsa_model.py:471: ValueWarning: No frequency information was provided, so inferred frequency MS will be used.\n",
      "  self._init_dates(dates, freq)\n"
     ]
    },
    {
     "name": "stdout",
     "output_type": "stream",
     "text": [
      "(4, 1, 4) 1652.8431528002725\n",
      "(4, 2, 0) 1723.5911426779858\n",
      "(4, 2, 1) 1673.3276978055515\n",
      "(4, 2, 2) 1672.8999110216441\n"
     ]
    },
    {
     "name": "stderr",
     "output_type": "stream",
     "text": [
      "C:\\Users\\User\\anaconda3\\lib\\site-packages\\statsmodels\\tsa\\base\\tsa_model.py:471: ValueWarning: No frequency information was provided, so inferred frequency MS will be used.\n",
      "  self._init_dates(dates, freq)\n",
      "C:\\Users\\User\\anaconda3\\lib\\site-packages\\statsmodels\\base\\model.py:604: ConvergenceWarning: Maximum Likelihood optimization failed to converge. Check mle_retvals\n",
      "  warnings.warn(\"Maximum Likelihood optimization failed to \"\n",
      "C:\\Users\\User\\anaconda3\\lib\\site-packages\\statsmodels\\tsa\\base\\tsa_model.py:471: ValueWarning: No frequency information was provided, so inferred frequency MS will be used.\n",
      "  self._init_dates(dates, freq)\n"
     ]
    },
    {
     "name": "stdout",
     "output_type": "stream",
     "text": [
      "(4, 2, 3) 1677.826552981519\n"
     ]
    },
    {
     "name": "stderr",
     "output_type": "stream",
     "text": [
      "C:\\Users\\User\\anaconda3\\lib\\site-packages\\statsmodels\\base\\model.py:604: ConvergenceWarning: Maximum Likelihood optimization failed to converge. Check mle_retvals\n",
      "  warnings.warn(\"Maximum Likelihood optimization failed to \"\n",
      "C:\\Users\\User\\anaconda3\\lib\\site-packages\\statsmodels\\tsa\\base\\tsa_model.py:471: ValueWarning: No frequency information was provided, so inferred frequency MS will be used.\n",
      "  self._init_dates(dates, freq)\n",
      "C:\\Users\\User\\anaconda3\\lib\\site-packages\\statsmodels\\tsa\\base\\tsa_model.py:471: ValueWarning: No frequency information was provided, so inferred frequency MS will be used.\n",
      "  self._init_dates(dates, freq)\n"
     ]
    },
    {
     "name": "stdout",
     "output_type": "stream",
     "text": [
      "(4, 2, 4) 1662.376191025757\n",
      "(4, 3, 0) 1794.3761339959583\n",
      "(4, 3, 1) 1723.873800095509\n",
      "(4, 3, 2) 1753.7884535866453\n"
     ]
    },
    {
     "name": "stderr",
     "output_type": "stream",
     "text": [
      "C:\\Users\\User\\anaconda3\\lib\\site-packages\\statsmodels\\tsa\\base\\tsa_model.py:471: ValueWarning: No frequency information was provided, so inferred frequency MS will be used.\n",
      "  self._init_dates(dates, freq)\n",
      "C:\\Users\\User\\anaconda3\\lib\\site-packages\\statsmodels\\tsa\\base\\tsa_model.py:471: ValueWarning: No frequency information was provided, so inferred frequency MS will be used.\n",
      "  self._init_dates(dates, freq)\n",
      "C:\\Users\\User\\anaconda3\\lib\\site-packages\\statsmodels\\base\\model.py:604: ConvergenceWarning: Maximum Likelihood optimization failed to converge. Check mle_retvals\n",
      "  warnings.warn(\"Maximum Likelihood optimization failed to \"\n",
      "C:\\Users\\User\\anaconda3\\lib\\site-packages\\statsmodels\\tsa\\base\\tsa_model.py:471: ValueWarning: No frequency information was provided, so inferred frequency MS will be used.\n",
      "  self._init_dates(dates, freq)\n"
     ]
    },
    {
     "name": "stdout",
     "output_type": "stream",
     "text": [
      "(4, 3, 3) 1696.1066518520483\n"
     ]
    },
    {
     "name": "stderr",
     "output_type": "stream",
     "text": [
      "C:\\Users\\User\\anaconda3\\lib\\site-packages\\statsmodels\\base\\model.py:604: ConvergenceWarning: Maximum Likelihood optimization failed to converge. Check mle_retvals\n",
      "  warnings.warn(\"Maximum Likelihood optimization failed to \"\n",
      "C:\\Users\\User\\anaconda3\\lib\\site-packages\\statsmodels\\tsa\\base\\tsa_model.py:471: ValueWarning: No frequency information was provided, so inferred frequency MS will be used.\n",
      "  self._init_dates(dates, freq)\n",
      "C:\\Users\\User\\anaconda3\\lib\\site-packages\\statsmodels\\tsa\\base\\tsa_model.py:471: ValueWarning: No frequency information was provided, so inferred frequency MS will be used.\n",
      "  self._init_dates(dates, freq)\n"
     ]
    },
    {
     "name": "stdout",
     "output_type": "stream",
     "text": [
      "(4, 3, 4) 1695.552988157255\n",
      "(4, 4, 0) 1855.6362252419606\n",
      "(4, 4, 1) 1786.033371009005\n"
     ]
    },
    {
     "name": "stderr",
     "output_type": "stream",
     "text": [
      "C:\\Users\\User\\anaconda3\\lib\\site-packages\\statsmodels\\tsa\\base\\tsa_model.py:471: ValueWarning: No frequency information was provided, so inferred frequency MS will be used.\n",
      "  self._init_dates(dates, freq)\n",
      "C:\\Users\\User\\anaconda3\\lib\\site-packages\\statsmodels\\base\\model.py:604: ConvergenceWarning: Maximum Likelihood optimization failed to converge. Check mle_retvals\n",
      "  warnings.warn(\"Maximum Likelihood optimization failed to \"\n",
      "C:\\Users\\User\\anaconda3\\lib\\site-packages\\statsmodels\\tsa\\base\\tsa_model.py:471: ValueWarning: No frequency information was provided, so inferred frequency MS will be used.\n",
      "  self._init_dates(dates, freq)\n"
     ]
    },
    {
     "name": "stdout",
     "output_type": "stream",
     "text": [
      "(4, 4, 2) 1722.8265571818374\n"
     ]
    },
    {
     "name": "stderr",
     "output_type": "stream",
     "text": [
      "C:\\Users\\User\\anaconda3\\lib\\site-packages\\statsmodels\\base\\model.py:604: ConvergenceWarning: Maximum Likelihood optimization failed to converge. Check mle_retvals\n",
      "  warnings.warn(\"Maximum Likelihood optimization failed to \"\n",
      "C:\\Users\\User\\anaconda3\\lib\\site-packages\\statsmodels\\tsa\\base\\tsa_model.py:471: ValueWarning: No frequency information was provided, so inferred frequency MS will be used.\n",
      "  self._init_dates(dates, freq)\n"
     ]
    },
    {
     "name": "stdout",
     "output_type": "stream",
     "text": [
      "(4, 4, 3) 1701.523853882914\n",
      "(4, 4, 4) 1759.7993720670388\n"
     ]
    },
    {
     "name": "stderr",
     "output_type": "stream",
     "text": [
      "C:\\Users\\User\\anaconda3\\lib\\site-packages\\statsmodels\\base\\model.py:604: ConvergenceWarning: Maximum Likelihood optimization failed to converge. Check mle_retvals\n",
      "  warnings.warn(\"Maximum Likelihood optimization failed to \"\n"
     ]
    }
   ],
   "source": [
    "import itertools\n",
    "p=d=q=range(0,5)\n",
    "pdq = list(itertools.product(p,d,q))\n",
    "for param in pdq:\n",
    "    try:\n",
    "        mod_arima = ARIMA(X_train, order=param, freq=\"MS\")\n",
    "        mod_arima_fit = mod_arima.fit()\n",
    "        print(param, mod_arima_fit.aic)\n",
    "    except:\n",
    "        continue"
   ]
  },
  {
   "cell_type": "code",
   "execution_count": 107,
   "id": "16be7d21",
   "metadata": {},
   "outputs": [
    {
     "name": "stderr",
     "output_type": "stream",
     "text": [
      "C:\\Users\\User\\anaconda3\\lib\\site-packages\\statsmodels\\tsa\\base\\tsa_model.py:471: ValueWarning: No frequency information was provided, so inferred frequency MS will be used.\n",
      "  self._init_dates(dates, freq)\n",
      "C:\\Users\\User\\anaconda3\\lib\\site-packages\\statsmodels\\tsa\\base\\tsa_model.py:471: ValueWarning: No frequency information was provided, so inferred frequency MS will be used.\n",
      "  self._init_dates(dates, freq)\n",
      "C:\\Users\\User\\anaconda3\\lib\\site-packages\\statsmodels\\tsa\\base\\tsa_model.py:471: ValueWarning: No frequency information was provided, so inferred frequency MS will be used.\n",
      "  self._init_dates(dates, freq)\n"
     ]
    },
    {
     "name": "stdout",
     "output_type": "stream",
     "text": [
      "                               SARIMAX Results                                \n",
      "==============================================================================\n",
      "Dep. Variable:            demand_mean   No. Observations:                  120\n",
      "Model:                 ARIMA(2, 1, 3)   Log Likelihood                -818.093\n",
      "Date:                Sun, 07 Apr 2024   AIC                           1648.186\n",
      "Time:                        14:59:29   BIC                           1664.861\n",
      "Sample:                    01-01-2010   HQIC                          1654.957\n",
      "                         - 12-01-2019                                         \n",
      "Covariance Type:                  opg                                         \n",
      "==============================================================================\n",
      "                 coef    std err          z      P>|z|      [0.025      0.975]\n",
      "------------------------------------------------------------------------------\n",
      "ar.L1          0.9982      0.011     87.674      0.000       0.976       1.020\n",
      "ar.L2         -0.9987      0.004   -260.280      0.000      -1.006      -0.991\n",
      "ma.L1         -1.4625      0.106    -13.790      0.000      -1.670      -1.255\n",
      "ma.L2          1.4266      0.127     11.272      0.000       1.179       1.675\n",
      "ma.L3         -0.4448      0.107     -4.171      0.000      -0.654      -0.236\n",
      "sigma2      5.182e+04   6298.364      8.227      0.000    3.95e+04    6.42e+04\n",
      "===================================================================================\n",
      "Ljung-Box (L1) (Q):                   0.25   Jarque-Bera (JB):                 3.20\n",
      "Prob(Q):                              0.62   Prob(JB):                         0.20\n",
      "Heteroskedasticity (H):               0.95   Skew:                             0.14\n",
      "Prob(H) (two-sided):                  0.86   Kurtosis:                         3.75\n",
      "===================================================================================\n",
      "\n",
      "Warnings:\n",
      "[1] Covariance matrix calculated using the outer product of gradients (complex-step).\n"
     ]
    },
    {
     "name": "stderr",
     "output_type": "stream",
     "text": [
      "C:\\Users\\User\\anaconda3\\lib\\site-packages\\statsmodels\\base\\model.py:604: ConvergenceWarning: Maximum Likelihood optimization failed to converge. Check mle_retvals\n",
      "  warnings.warn(\"Maximum Likelihood optimization failed to \"\n"
     ]
    }
   ],
   "source": [
    "\n",
    "mod_arima = ARIMA(X_train, order=(2,1,3))#tarting 2-1-3 finding the best\n",
    "mod_arima_fit = mod_arima.fit()\n",
    "print(mod_arima_fit.summary())"
   ]
  },
  {
   "cell_type": "code",
   "execution_count": 108,
   "id": "a41af707",
   "metadata": {},
   "outputs": [],
   "source": [
    "#ARIMA Predictions\n",
    "forecast = mod_arima_fit.forecast(12)\n",
    "\n",
    "#passing the index\n",
    "forecast = pd.Series(forecast)\n",
    "forecast = forecast.rename(\"Arima\")\n"
   ]
  },
  {
   "cell_type": "code",
   "execution_count": 109,
   "id": "d9cc8bb2",
   "metadata": {},
   "outputs": [
    {
     "data": {
      "text/plain": [
       "<AxesSubplot:title={'center':'NSW'}, xlabel='datetime', ylabel='demand_mean'>"
      ]
     },
     "execution_count": 109,
     "metadata": {},
     "output_type": "execute_result"
    },
    {
     "data": {
      "image/png": "[encoded data removed]",
      "text/plain": [
       "<Figure size 1080x360 with 1 Axes>"
      ]
     },
     "metadata": {
      "needs_background": "light"
     },
     "output_type": "display_data"
    }
   ],
   "source": [
    "#Plotting predictions\n",
    "\n",
    "fig, ax = plt.subplots(figsize=(15,5))\n",
    "chart = sns.lineplot(x='datetime', y=\"demand_mean\", data=NSW)\n",
    "chart.set_title('NSW')\n",
    "forecast.plot(ax=ax, color='red', marker=\"o\", legend=True)\n",
    "X_valid.plot(ax=ax, color='blue', marker=\"o\", legend=True)"
   ]
  },
  {
   "cell_type": "code",
   "execution_count": 110,
   "id": "3af50fac",
   "metadata": {},
   "outputs": [
    {
     "name": "stdout",
     "output_type": "stream",
     "text": [
      "The MSE of ARIMA is: 243.9006727104416\n"
     ]
    }
   ],
   "source": [
    "print('The MSE of ARIMA is:', mean_squared_error(X_valid[\"demand_mean\"].values, forecast.values, squared=False))"
   ]
  },
  {
   "cell_type": "code",
   "execution_count": 104,
   "id": "20fd42fa",
   "metadata": {},
   "outputs": [],
   "source": [
    "#ARIMA Predictions\n",
    "forecast = mod_arima_fit.forecast(24)\n",
    "\n",
    "#passing the index\n",
    "forecast = pd.Series(forecast)\n",
    "forecast = forecast.rename(\"Arima\")"
   ]
  },
  {
   "cell_type": "code",
   "execution_count": 105,
   "id": "8d4d3aa8",
   "metadata": {},
   "outputs": [
    {
     "data": {
      "text/plain": [
       "2020-01-01    8027.919089\n",
       "2020-02-01    7780.339222\n",
       "2020-03-01    7456.398509\n",
       "2020-04-01    7380.308244\n",
       "2020-05-01    7627.872247\n",
       "2020-06-01    7950.970373\n",
       "2020-07-01    8026.235444\n",
       "2020-08-01    7778.689245\n",
       "2020-09-01    7456.432998\n",
       "2020-10-01    7381.990474\n",
       "2020-11-01    7629.516936\n",
       "2020-12-01    7950.932017\n",
       "2021-01-01    8024.554636\n",
       "2021-02-01    7777.049838\n",
       "2021-03-01    7456.475205\n",
       "2021-04-01    7383.669852\n",
       "2021-05-01    7631.151069\n",
       "2021-06-01    7950.885975\n",
       "2021-07-01    8022.876698\n",
       "2021-08-01    7775.420971\n",
       "2021-09-01    7456.525067\n",
       "2021-10-01    7385.346344\n",
       "2021-11-01    7632.774677\n",
       "2021-12-01    7950.832308\n",
       "Freq: MS, Name: Arima, dtype: float64"
      ]
     },
     "execution_count": 105,
     "metadata": {},
     "output_type": "execute_result"
    }
   ],
   "source": [
    "forecast"
   ]
  },
  {
   "cell_type": "code",
   "execution_count": 111,
   "id": "f02db56f",
   "metadata": {},
   "outputs": [],
   "source": [
    "##Auto ARIMA\n",
    "\n",
    "auto_arima_mod = pm.auto_arima(X_train, seaasonal=False, m=12)\n",
    "\n",
    "#Forecast\n",
    "frecast_auto = auto_arima_mod.predict(12)\n",
    "frecast_auto = pd.Series(frecast_auto)\n",
    "frecast_auto = frecast_auto.rename(\"Auto-Arima\")"
   ]
  },
  {
   "cell_type": "code",
   "execution_count": 112,
   "id": "f0dbc2fc",
   "metadata": {},
   "outputs": [
    {
     "data": {
      "text/plain": [
       "<AxesSubplot:title={'center':'NSW'}, xlabel='datetime', ylabel='demand_mean'>"
      ]
     },
     "execution_count": 112,
     "metadata": {},
     "output_type": "execute_result"
    },
    {
     "data": {
      "image/png": "[encoded data removed]",
      "text/plain": [
       "<Figure size 1080x360 with 1 Axes>"
      ]
     },
     "metadata": {
      "needs_background": "light"
     },
     "output_type": "display_data"
    }
   ],
   "source": [
    "fig, ax = plt.subplots(figsize=(15,5))\n",
    "chart = sns.lineplot(x='datetime', y=\"demand_mean\", data=NSW)\n",
    "chart.set_title('NSW')\n",
    "frecast_auto.plot(ax=ax, color='red', marker=\"o\", legend=True)\n",
    "X_valid.plot(ax=ax, color='blue', marker=\"o\", legend=True)"
   ]
  },
  {
   "cell_type": "code",
   "execution_count": 821,
   "id": "ca276a4d",
   "metadata": {},
   "outputs": [
    {
     "name": "stdout",
     "output_type": "stream",
     "text": [
      "The MSE of ARIMA is: 221.06840338633793\n"
     ]
    }
   ],
   "source": [
    "print('The MSE of ARIMA is:', mean_squared_error(X_valid[\"demand_mean\"].values, frecast_auto.values, squared=False))"
   ]
  },
  {
   "cell_type": "code",
   "execution_count": 113,
   "id": "1b6d8e64",
   "metadata": {},
   "outputs": [
    {
     "data": {
      "text/plain": [
       "2020-01-01    8245.347289\n",
       "2020-02-01    7929.835332\n",
       "2020-03-01    7715.324724\n",
       "2020-04-01    7511.026329\n",
       "2020-05-01    7903.081523\n",
       "2020-06-01    8281.747040\n",
       "2020-07-01    8181.500587\n",
       "2020-08-01    8054.724909\n",
       "2020-09-01    7572.488249\n",
       "2020-10-01    7478.125797\n",
       "2020-11-01    7638.264157\n",
       "2020-12-01    7791.521690\n",
       "Freq: MS, Name: Auto-Arima, dtype: float64"
      ]
     },
     "execution_count": 113,
     "metadata": {},
     "output_type": "execute_result"
    }
   ],
   "source": [
    "frecast_auto"
   ]
  },
  {
   "cell_type": "code",
   "execution_count": 2,
   "id": "58783d5b",
   "metadata": {},
   "outputs": [
    {
     "ename": "ModuleNotFoundError",
     "evalue": "No module named 'fbprophet'",
     "output_type": "error",
     "traceback": [
      "\u001b[1;31m---------------------------------------------------------------------------\u001b[0m",
      "\u001b[1;31mModuleNotFoundError\u001b[0m                       Traceback (most recent call last)",
      "\u001b[1;32m~\\AppData\\Local\\Temp/ipykernel_14332/3537153963.py\u001b[0m in \u001b[0;36m<module>\u001b[1;34m\u001b[0m\n\u001b[1;32m----> 1\u001b[1;33m \u001b[1;32mfrom\u001b[0m \u001b[0mfbprophet\u001b[0m \u001b[1;32mimport\u001b[0m \u001b[0mProphet\u001b[0m\u001b[1;33m\u001b[0m\u001b[1;33m\u001b[0m\u001b[0m\n\u001b[0m\u001b[0;32m      2\u001b[0m \u001b[0mm\u001b[0m \u001b[1;33m=\u001b[0m \u001b[0mProphet\u001b[0m\u001b[1;33m(\u001b[0m\u001b[1;33m)\u001b[0m\u001b[1;33m\u001b[0m\u001b[1;33m\u001b[0m\u001b[0m\n\u001b[0;32m      3\u001b[0m \u001b[0mm\u001b[0m\u001b[1;33m.\u001b[0m\u001b[0mfit\u001b[0m\u001b[1;33m(\u001b[0m\u001b[0mX_train\u001b[0m\u001b[1;33m)\u001b[0m\u001b[1;33m\u001b[0m\u001b[1;33m\u001b[0m\u001b[0m\n\u001b[0;32m      4\u001b[0m \u001b[0mfuture\u001b[0m \u001b[1;33m=\u001b[0m \u001b[0mm\u001b[0m\u001b[1;33m.\u001b[0m\u001b[0mmake_future_dataframe\u001b[0m\u001b[1;33m(\u001b[0m\u001b[0mperiods\u001b[0m\u001b[1;33m=\u001b[0m\u001b[1;36m12\u001b[0m\u001b[1;33m)\u001b[0m\u001b[1;33m\u001b[0m\u001b[1;33m\u001b[0m\u001b[0m\n\u001b[0;32m      5\u001b[0m \u001b[0mm\u001b[0m\u001b[1;33m.\u001b[0m\u001b[0mpredict\u001b[0m\u001b[1;33m(\u001b[0m\u001b[0mfuture\u001b[0m\u001b[1;33m)\u001b[0m\u001b[1;33m\u001b[0m\u001b[1;33m\u001b[0m\u001b[0m\n",
      "\u001b[1;31mModuleNotFoundError\u001b[0m: No module named 'fbprophet'"
     ]
    }
   ],
   "source": [
    "from fbprophet import Prophet\n",
    "m = Prophet()\n",
    "m.fit(X_train) \n",
    "future = m.make_future_dataframe(periods=12)\n",
    "m.predict(future)"
   ]
  },
  {
   "cell_type": "code",
   "execution_count": null,
   "id": "8ee0f7f8",
   "metadata": {},
   "outputs": [],
   "source": []
  }
 ],
 "metadata": {
  "kernelspec": {
   "display_name": "Python 3 (ipykernel)",
   "language": "python",
   "name": "python3"
  },
  "language_info": {
   "codemirror_mode": {
    "name": "ipython",
    "version": 3
   },
   "file_extension": ".py",
   "mimetype": "text/x-python",
   "name": "python",
   "nbconvert_exporter": "python",
   "pygments_lexer": "ipython3",
   "version": "3.9.7"
  }
 },
 "nbformat": 4,
 "nbformat_minor": 5
}
