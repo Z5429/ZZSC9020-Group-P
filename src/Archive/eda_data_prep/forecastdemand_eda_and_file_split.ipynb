{
 "cells": [
  {
   "cell_type": "markdown",
   "metadata": {},
   "source": [
    "## EDA and file splitting of Forecast Demand datasets\n",
    "### Modified: 2024-03-25"
   ]
  },
  {
   "cell_type": "markdown",
   "metadata": {},
   "source": [
    "#### Import libraries"
   ]
  },
  {
   "cell_type": "code",
   "execution_count": 1,
   "metadata": {},
   "outputs": [],
   "source": [
    "import zipfile # In case we wish to read the compressed file\n",
    "import pandas as pd\n",
    "from ydata_profiling import ProfileReport  # One-stop-shop for initial profile of a dataset"
   ]
  },
  {
   "cell_type": "markdown",
   "metadata": {},
   "source": [
    "#### Set filepath variables for unzipped csv files"
   ]
  },
  {
   "cell_type": "code",
   "execution_count": 2,
   "metadata": {},
   "outputs": [],
   "source": [
    "fpath_n = \"C:\\\\Users\\\\JohnD'Souza\\\\OneDrive - Ignite Data Solutions\\\\Documents\\\\UNSW\\\\ZZSC9020 - Data Science Project\\\\forecastdemand_nsw.csv\"\n",
    "fname_nsw_fdemand = \"forecastdemand_nsw.csv\"\n",
    "fpath_v = \"C:\\\\Users\\\\JohnD'Souza\\\\OneDrive - Ignite Data Solutions\\\\Documents\\\\UNSW\\\\ZZSC9020 - Data Science Project\\\\data\\\\Australia\\\\a\"\n",
    "fname_vic_fdemand = \"forecastdemand_vic.csv\"\n",
    "fpath_s = \"C:\\\\Users\\\\JohnD'Souza\\\\OneDrive - Ignite Data Solutions\\\\Documents\\\\UNSW\\\\ZZSC9020 - Data Science Project\\\\data\\\\Australia\\\\b\"\n",
    "fname_sa_fdemand = \"forecastdemand_sa.csv\"\n",
    "fpath_q = \"C:\\\\Users\\\\JohnD'Souza\\\\OneDrive - Ignite Data Solutions\\\\Documents\\\\UNSW\\\\ZZSC9020 - Data Science Project\\\\data\\\\Australia\\\\c\"\n",
    "fname_qld_fdemand = \"forecastdemand_qld.csv\""
   ]
  },
  {
   "cell_type": "markdown",
   "metadata": {},
   "source": [
    "#### Read state forecast demand into pandas dataframes"
   ]
  },
  {
   "cell_type": "code",
   "execution_count": 4,
   "metadata": {},
   "outputs": [],
   "source": [
    "df_nsw_fdemand = pd.read_csv(f'{fpath_n}\\{fname_nsw_fdemand}')\n",
    "df_vic_fdemand = pd.read_csv(f'{fpath_v}\\{fname_vic_fdemand}')\n",
    "df_sa_fdemand = pd.read_csv(f'{fpath_s}\\{fname_sa_fdemand}')\n",
    "df_qld_fdemand = pd.read_csv(f'{fpath_q}\\{fname_qld_fdemand}')"
   ]
  },
  {
   "cell_type": "markdown",
   "metadata": {},
   "source": [
    "#### Generate detailed profile reports on each dataframe"
   ]
  },
  {
   "cell_type": "markdown",
   "metadata": {},
   "source": [
    "NSW Profile Report"
   ]
  },
  {
   "cell_type": "code",
   "execution_count": null,
   "metadata": {},
   "outputs": [],
   "source": [
    "profile_nsw_fdemand = ProfileReport(df_nsw_fdemand, title=\"NSW Forecast Demand Data Profile\")\n",
    "profile_nsw_fdemand.to_file(\"nsw_fdemand_profile.html\")"
   ]
  },
  {
   "cell_type": "markdown",
   "metadata": {},
   "source": [
    "VIC Profile Report"
   ]
  },
  {
   "cell_type": "code",
   "execution_count": null,
   "metadata": {},
   "outputs": [],
   "source": [
    "profile_vic_fdemand = ProfileReport(df_vic_fdemand, title=\"VIC Forecast Demand Data Profile\")\n",
    "profile_vic_fdemand.to_file(\"vic_fdemand_profile.html\")"
   ]
  },
  {
   "cell_type": "markdown",
   "metadata": {},
   "source": [
    "SA Profile Report"
   ]
  },
  {
   "cell_type": "code",
   "execution_count": null,
   "metadata": {},
   "outputs": [],
   "source": [
    "profile_sa_fdemand = ProfileReport(df_sa_fdemand, title=\"SA Forecast Demand Data Profile\")\n",
    "profile_sa_fdemand.to_file(\"sa_fdemand_profile.html\")"
   ]
  },
  {
   "cell_type": "markdown",
   "metadata": {},
   "source": [
    "QLD Profile Report"
   ]
  },
  {
   "cell_type": "code",
   "execution_count": null,
   "metadata": {},
   "outputs": [],
   "source": [
    "profile_qld_fdemand = ProfileReport(df_qld_fdemand, title=\"QLD Forecast Demand Data Profile\")\n",
    "profile_qld_fdemand.to_file(\"qld_fdemand_profile.html\")"
   ]
  },
  {
   "cell_type": "markdown",
   "metadata": {},
   "source": [
    "#### Split each dataframe into parts pertaining to a 1 year's data < 100MB size for GitHub"
   ]
  },
  {
   "cell_type": "markdown",
   "metadata": {},
   "source": [
    "NSW - 12 dataframes"
   ]
  },
  {
   "cell_type": "code",
   "execution_count": null,
   "metadata": {},
   "outputs": [],
   "source": [
    "df_nsw2010 = df_nsw_fdemand.loc[(pd.to_datetime(df_nsw_fdemand['DATETIME']) < pd.to_datetime('2011-01-01 00:00:00'))]\n",
    "df_nsw2011 = df_nsw_fdemand.loc[(pd.to_datetime(df_nsw_fdemand['DATETIME']) >= pd.to_datetime('2011-01-01 00:00:00')) & (pd.to_datetime(df_nsw_fdemand['DATETIME']) < pd.to_datetime('2012-01-01 00:00:00'))]\n",
    "df_nsw2012 = df_nsw_fdemand.loc[(pd.to_datetime(df_nsw_fdemand['DATETIME']) >= pd.to_datetime('2012-01-01 00:00:00')) & (pd.to_datetime(df_nsw_fdemand['DATETIME']) < pd.to_datetime('2013-01-01 00:00:00'))]\n",
    "df_nsw2013 = df_nsw_fdemand.loc[(pd.to_datetime(df_nsw_fdemand['DATETIME']) >= pd.to_datetime('2013-01-01 00:00:00')) & (pd.to_datetime(df_nsw_fdemand['DATETIME']) < pd.to_datetime('2014-01-01 00:00:00'))]\n",
    "df_nsw2014 = df_nsw_fdemand.loc[(pd.to_datetime(df_nsw_fdemand['DATETIME']) >= pd.to_datetime('2014-01-01 00:00:00')) & (pd.to_datetime(df_nsw_fdemand['DATETIME']) < pd.to_datetime('2015-01-01 00:00:00'))]\n",
    "df_nsw2015 = df_nsw_fdemand.loc[(pd.to_datetime(df_nsw_fdemand['DATETIME']) >= pd.to_datetime('2015-01-01 00:00:00')) & (pd.to_datetime(df_nsw_fdemand['DATETIME']) < pd.to_datetime('2016-01-01 00:00:00'))]\n",
    "df_nsw2016 = df_nsw_fdemand.loc[(pd.to_datetime(df_nsw_fdemand['DATETIME']) >= pd.to_datetime('2016-01-01 00:00:00')) & (pd.to_datetime(df_nsw_fdemand['DATETIME']) < pd.to_datetime('2017-01-01 00:00:00'))]\n",
    "df_nsw2017 = df_nsw_fdemand.loc[(pd.to_datetime(df_nsw_fdemand['DATETIME']) >= pd.to_datetime('2017-01-01 00:00:00')) & (pd.to_datetime(df_nsw_fdemand['DATETIME']) < pd.to_datetime('2018-01-01 00:00:00'))]\n",
    "df_nsw2018 = df_nsw_fdemand.loc[(pd.to_datetime(df_nsw_fdemand['DATETIME']) >= pd.to_datetime('2018-01-01 00:00:00')) & (pd.to_datetime(df_nsw_fdemand['DATETIME']) < pd.to_datetime('2019-01-01 00:00:00'))]\n",
    "df_nsw2019 = df_nsw_fdemand.loc[(pd.to_datetime(df_nsw_fdemand['DATETIME']) >= pd.to_datetime('2019-01-01 00:00:00')) & (pd.to_datetime(df_nsw_fdemand['DATETIME']) < pd.to_datetime('2020-01-01 00:00:00'))]\n",
    "df_nsw2020 = df_nsw_fdemand.loc[(pd.to_datetime(df_nsw_fdemand['DATETIME']) >= pd.to_datetime('2020-01-01 00:00:00')) & (pd.to_datetime(df_nsw_fdemand['DATETIME']) < pd.to_datetime('2021-01-01 00:00:00'))]\n",
    "df_nsw2021 = df_nsw_fdemand.loc[(pd.to_datetime(df_nsw_fdemand['DATETIME']) >= pd.to_datetime('2021-01-01 00:00:00'))]"
   ]
  },
  {
   "cell_type": "markdown",
   "metadata": {},
   "source": [
    "VIC - 5 dataframes"
   ]
  },
  {
   "cell_type": "code",
   "execution_count": 8,
   "metadata": {},
   "outputs": [],
   "source": [
    "df_vic2017 = df_vic_fdemand.loc[(pd.to_datetime(df_vic_fdemand['DATETIME']) < pd.to_datetime('2018-01-01 00:00:00'))]\n",
    "df_vic2018 = df_vic_fdemand.loc[(pd.to_datetime(df_vic_fdemand['DATETIME']) >= pd.to_datetime('2018-01-01 00:00:00')) & (pd.to_datetime(df_vic_fdemand['DATETIME']) < pd.to_datetime('2019-01-01 00:00:00'))]\n",
    "df_vic2019 = df_vic_fdemand.loc[(pd.to_datetime(df_vic_fdemand['DATETIME']) >= pd.to_datetime('2019-01-01 00:00:00')) & (pd.to_datetime(df_vic_fdemand['DATETIME']) < pd.to_datetime('2020-01-01 00:00:00'))]\n",
    "df_vic2020 = df_vic_fdemand.loc[(pd.to_datetime(df_vic_fdemand['DATETIME']) >= pd.to_datetime('2020-01-01 00:00:00')) & (pd.to_datetime(df_vic_fdemand['DATETIME']) < pd.to_datetime('2021-01-01 00:00:00'))]\n",
    "df_vic2021 = df_vic_fdemand.loc[(pd.to_datetime(df_vic_fdemand['DATETIME']) >= pd.to_datetime('2021-01-01 00:00:00'))]"
   ]
  },
  {
   "cell_type": "markdown",
   "metadata": {},
   "source": [
    "SA - 5 dataframes"
   ]
  },
  {
   "cell_type": "code",
   "execution_count": 9,
   "metadata": {},
   "outputs": [],
   "source": [
    "df_sa2017 = df_sa_fdemand.loc[(pd.to_datetime(df_sa_fdemand['DATETIME']) < pd.to_datetime('2018-01-01 00:00:00'))]\n",
    "df_sa2018 = df_sa_fdemand.loc[(pd.to_datetime(df_sa_fdemand['DATETIME']) >= pd.to_datetime('2018-01-01 00:00:00')) & (pd.to_datetime(df_sa_fdemand['DATETIME']) < pd.to_datetime('2019-01-01 00:00:00'))]\n",
    "df_sa2019 = df_sa_fdemand.loc[(pd.to_datetime(df_sa_fdemand['DATETIME']) >= pd.to_datetime('2019-01-01 00:00:00')) & (pd.to_datetime(df_sa_fdemand['DATETIME']) < pd.to_datetime('2020-01-01 00:00:00'))]\n",
    "df_sa2020 = df_sa_fdemand.loc[(pd.to_datetime(df_sa_fdemand['DATETIME']) >= pd.to_datetime('2020-01-01 00:00:00')) & (pd.to_datetime(df_sa_fdemand['DATETIME']) < pd.to_datetime('2021-01-01 00:00:00'))]\n",
    "df_sa2021 = df_sa_fdemand.loc[(pd.to_datetime(df_sa_fdemand['DATETIME']) >= pd.to_datetime('2021-01-01 00:00:00'))]"
   ]
  },
  {
   "cell_type": "markdown",
   "metadata": {},
   "source": [
    "QLD - 5 dataframes"
   ]
  },
  {
   "cell_type": "code",
   "execution_count": 10,
   "metadata": {},
   "outputs": [],
   "source": [
    "df_qld2017 = df_qld_fdemand.loc[(pd.to_datetime(df_qld_fdemand['DATETIME']) < pd.to_datetime('2018-01-01 00:00:00'))]\n",
    "df_qld2018 = df_qld_fdemand.loc[(pd.to_datetime(df_qld_fdemand['DATETIME']) >= pd.to_datetime('2018-01-01 00:00:00')) & (pd.to_datetime(df_qld_fdemand['DATETIME']) < pd.to_datetime('2019-01-01 00:00:00'))]\n",
    "df_qld2019 = df_qld_fdemand.loc[(pd.to_datetime(df_qld_fdemand['DATETIME']) >= pd.to_datetime('2019-01-01 00:00:00')) & (pd.to_datetime(df_qld_fdemand['DATETIME']) < pd.to_datetime('2020-01-01 00:00:00'))]\n",
    "df_qld2020 = df_qld_fdemand.loc[(pd.to_datetime(df_qld_fdemand['DATETIME']) >= pd.to_datetime('2020-01-01 00:00:00')) & (pd.to_datetime(df_qld_fdemand['DATETIME']) < pd.to_datetime('2021-01-01 00:00:00'))]\n",
    "df_qld2021 = df_qld_fdemand.loc[(pd.to_datetime(df_qld_fdemand['DATETIME']) >= pd.to_datetime('2021-01-01 00:00:00'))]"
   ]
  },
  {
   "cell_type": "markdown",
   "metadata": {},
   "source": [
    "#### Data Quality Check: SUM of rows of part dataframes = Row count of Whole dataframe"
   ]
  },
  {
   "cell_type": "markdown",
   "metadata": {},
   "source": [
    "Data Quality Check - NSW"
   ]
  },
  {
   "cell_type": "code",
   "execution_count": null,
   "metadata": {},
   "outputs": [],
   "source": [
    "len(df_nsw2010.index) + len(df_nsw2011.index) + len(df_nsw2012.index) + len(df_nsw2013.index) + len(df_nsw2014.index) + len(df_nsw2015.index) + \\\n",
    "len(df_nsw2016.index) + len(df_nsw2017.index) + len(df_nsw2018.index) + len(df_nsw2019.index) + len(df_nsw2020.index) + len(df_nsw2021.index) == len(df_nsw_fdemand.index)"
   ]
  },
  {
   "cell_type": "markdown",
   "metadata": {},
   "source": [
    "Data Quality Check - VIC"
   ]
  },
  {
   "cell_type": "code",
   "execution_count": 12,
   "metadata": {},
   "outputs": [
    {
     "data": {
      "text/plain": [
       "True"
      ]
     },
     "execution_count": 12,
     "metadata": {},
     "output_type": "execute_result"
    }
   ],
   "source": [
    "len(df_vic2017.index) + len(df_vic2018.index) + len(df_vic2019.index) + len(df_vic2020.index) + len(df_vic2021.index) == len(df_vic_fdemand.index)"
   ]
  },
  {
   "cell_type": "markdown",
   "metadata": {},
   "source": [
    "Data Quality Check - SA"
   ]
  },
  {
   "cell_type": "code",
   "execution_count": 13,
   "metadata": {},
   "outputs": [
    {
     "data": {
      "text/plain": [
       "True"
      ]
     },
     "execution_count": 13,
     "metadata": {},
     "output_type": "execute_result"
    }
   ],
   "source": [
    "len(df_sa2017.index) + len(df_sa2018.index) + len(df_sa2019.index) + len(df_sa2020.index) + len(df_sa2021.index) == len(df_sa_fdemand.index)"
   ]
  },
  {
   "cell_type": "markdown",
   "metadata": {},
   "source": [
    "Data Quality Check - QLD"
   ]
  },
  {
   "cell_type": "code",
   "execution_count": 14,
   "metadata": {},
   "outputs": [
    {
     "data": {
      "text/plain": [
       "True"
      ]
     },
     "execution_count": 14,
     "metadata": {},
     "output_type": "execute_result"
    }
   ],
   "source": [
    "len(df_qld2017.index) + len(df_qld2018.index) + len(df_qld2019.index) + len(df_qld2020.index) + len(df_qld2021.index) == len(df_qld_fdemand.index)"
   ]
  },
  {
   "cell_type": "markdown",
   "metadata": {},
   "source": [
    "#### Write each part to individual files"
   ]
  },
  {
   "cell_type": "markdown",
   "metadata": {},
   "source": [
    "NSW split files"
   ]
  },
  {
   "cell_type": "code",
   "execution_count": null,
   "metadata": {},
   "outputs": [],
   "source": [
    "df_nsw2010.to_csv('forecastdemand_nsw_2010.csv')\n",
    "df_nsw2011.to_csv('forecastdemand_nsw_2011.csv')\n",
    "df_nsw2012.to_csv('forecastdemand_nsw_2012.csv')\n",
    "df_nsw2013.to_csv('forecastdemand_nsw_2013.csv')\n",
    "df_nsw2014.to_csv('forecastdemand_nsw_2014.csv')\n",
    "df_nsw2015.to_csv('forecastdemand_nsw_2015.csv')\n",
    "df_nsw2016.to_csv('forecastdemand_nsw_2016.csv')\n",
    "df_nsw2017.to_csv('forecastdemand_nsw_2017.csv')\n",
    "df_nsw2018.to_csv('forecastdemand_nsw_2018.csv')\n",
    "df_nsw2019.to_csv('forecastdemand_nsw_2019.csv')\n",
    "df_nsw2020.to_csv('forecastdemand_nsw_2020.csv')\n",
    "df_nsw2021.to_csv('forecastdemand_nsw_2021.csv')"
   ]
  },
  {
   "cell_type": "markdown",
   "metadata": {},
   "source": [
    "VIC split files"
   ]
  },
  {
   "cell_type": "code",
   "execution_count": 15,
   "metadata": {},
   "outputs": [],
   "source": [
    "df_vic2017.to_csv('forecastdemand_vic_2017.csv')\n",
    "df_vic2018.to_csv('forecastdemand_vic_2018.csv')\n",
    "df_vic2019.to_csv('forecastdemand_vic_2019.csv')\n",
    "df_vic2020.to_csv('forecastdemand_vic_2020.csv')\n",
    "df_vic2021.to_csv('forecastdemand_vic_2021.csv')"
   ]
  },
  {
   "cell_type": "markdown",
   "metadata": {},
   "source": [
    "SA split files"
   ]
  },
  {
   "cell_type": "code",
   "execution_count": 16,
   "metadata": {},
   "outputs": [],
   "source": [
    "df_sa2017.to_csv('forecastdemand_sa_2017.csv')\n",
    "df_sa2018.to_csv('forecastdemand_sa_2018.csv')\n",
    "df_sa2019.to_csv('forecastdemand_sa_2019.csv')\n",
    "df_sa2020.to_csv('forecastdemand_sa_2020.csv')\n",
    "df_sa2021.to_csv('forecastdemand_sa_2021.csv')"
   ]
  },
  {
   "cell_type": "markdown",
   "metadata": {},
   "source": [
    "QLD split files"
   ]
  },
  {
   "cell_type": "code",
   "execution_count": 17,
   "metadata": {},
   "outputs": [],
   "source": [
    "df_qld2017.to_csv('forecastdemand_qld_2017.csv')\n",
    "df_qld2018.to_csv('forecastdemand_qld_2018.csv')\n",
    "df_qld2019.to_csv('forecastdemand_qld_2019.csv')\n",
    "df_qld2020.to_csv('forecastdemand_qld_2020.csv')\n",
    "df_qld2021.to_csv('forecastdemand_qld_2021.csv')"
   ]
  },
  {
   "cell_type": "markdown",
   "metadata": {},
   "source": [
    "** THE END **"
   ]
  }
 ],
 "metadata": {
  "kernelspec": {
   "display_name": "Python 3",
   "language": "python",
   "name": "python3"
  },
  "language_info": {
   "codemirror_mode": {
    "name": "ipython",
    "version": 3
   },
   "file_extension": ".py",
   "mimetype": "text/x-python",
   "name": "python",
   "nbconvert_exporter": "python",
   "pygments_lexer": "ipython3",
   "version": "3.10.11"
  }
 },
 "nbformat": 4,
 "nbformat_minor": 2
}
